{
 "cells": [
  {
   "cell_type": "markdown",
   "id": "fd6b15e8",
   "metadata": {},
   "source": [
    "## Distribution des naissances dans le temps\n",
    "\n",
    "Dans ce carnet est proposée une analyse de la distribution dans le temps des années de naissance de la population retenue, et la mise en évidence de générations.\n",
    "\n",
    "On met aussi en évidence l'évolution dans le temps des genres"
   ]
  },
  {
   "cell_type": "code",
   "execution_count": 1,
   "id": "b952730b",
   "metadata": {},
   "outputs": [],
   "source": [
    "### Librairie à installer dans l'environnement conda (si on exécute en local)\n",
    "# qui sera choisi pour exécuter le carnet\n",
    "\n",
    "from SPARQLWrapper import SPARQLWrapper, JSON, TURTLE, XML, RDFXML\n",
    "import pandas as pd\n",
    "\n",
    "import matplotlib.pyplot as plt\n",
    "import numpy as np"
   ]
  },
  {
   "cell_type": "code",
   "execution_count": 2,
   "id": "0cb8cfc2",
   "metadata": {},
   "outputs": [],
   "source": [
    "### Librairies déjà installées avec Python\n",
    "import pprint\n",
    "import csv\n",
    "import sys\n",
    "\n",
    "import sqlite3 as sql\n",
    "\n",
    "import time\n",
    "import datetime\n",
    "from dateutil import parser\n",
    "\n",
    "from importlib import reload\n",
    "from shutil import copyfile"
   ]
  },
  {
   "cell_type": "code",
   "execution_count": 3,
   "id": "4714460e",
   "metadata": {},
   "outputs": [],
   "source": [
    "### Importer un module de fonctions crées ad hoc\n",
    "##  ATTENTION : le fichier 'sparql_functions.py' doit se trouver \n",
    "#   dans un dossier qui se situe dans le chemin ('path') de recherche\n",
    "#   vu par le présent carnet Jupyter afin que\n",
    "#   l'importation fonctionne correctement\n",
    "\n",
    "# Add parent directory to the path\n",
    "sys.path.insert(0, \"sparql_functions.py\")\n",
    "\n",
    "### If you want to add the parent-parent directory,\n",
    "#sys.path.insert(0, '../..')\n",
    "\n",
    "\n",
    "import sparql_functions as spqf"
   ]
  },
  {
   "cell_type": "markdown",
   "id": "bd61a6a4",
   "metadata": {},
   "source": [
    "## SPARQL Query qui récupère les données\n",
    "\n",
    "On exécute la requête grâce à une fonction de la librairie locale qui réalise la mise en forme"
   ]
  },
  {
   "cell_type": "code",
   "execution_count": 4,
   "id": "92ddfb26",
   "metadata": {},
   "outputs": [],
   "source": [
    "## define SPARQL enpoint\n",
    "endpoint = \"https://ag1efpn0ahc5nur8.allegrograph.cloud/repositories/French_CEOs\""
   ]
  },
  {
   "cell_type": "code",
   "execution_count": 5,
   "id": "eb880705",
   "metadata": {},
   "outputs": [],
   "source": [
    "query = \"\"\"\n",
    "PREFIX wd: <http://www.wikidata.org/entity/>\n",
    "PREFIX wdt: <http://www.wikidata.org/prop/direct/>\n",
    "PREFIX rdfs: <http://www.w3.org/2000/01/rdf-schema#>\n",
    "\n",
    "\n",
    "SELECT  ?s (MAX(?label) as ?label) (xsd:integer(MAX(?birthDate)) as ?birthDate) (MAX(?gen) as ?gen)\n",
    "WHERE {\n",
    "    GRAPH <https://github.com/Laillaa/French_CEOs/blob/main/graphs/wikidata-imported-data.md>\n",
    "        {?s wdt:P21 ?gen;\n",
    "            rdfs:label ?label;\n",
    "            wdt:P569 ?birthDate.\n",
    "          }\n",
    "}\n",
    "GROUP BY ?s\n",
    "\"\"\""
   ]
  },
  {
   "cell_type": "code",
   "execution_count": 6,
   "id": "e2a915ba",
   "metadata": {},
   "outputs": [],
   "source": [
    "### Executer la requête avec les fonctions de la librairie locale\n",
    "qr = spqf.get_json_sparql_result(endpoint,query)"
   ]
  },
  {
   "cell_type": "code",
   "execution_count": 7,
   "id": "c4405587",
   "metadata": {},
   "outputs": [
    {
     "name": "stdout",
     "output_type": "stream",
     "text": [
      "413\n"
     ]
    },
    {
     "data": {
      "text/plain": [
       "[['http://www.wikidata.org/entity/Q125501035',\n",
       "  'Christophe Pinard-Legry',\n",
       "  '1971',\n",
       "  'http://www.wikidata.org/entity/Q6581097'],\n",
       " ['http://www.wikidata.org/entity/Q131461885',\n",
       "  'Jean-Guillaume Kleis',\n",
       "  '1988',\n",
       "  'http://www.wikidata.org/entity/Q6581097'],\n",
       " ['http://www.wikidata.org/entity/Q2966211',\n",
       "  'Christophe Ducasse',\n",
       "  '1956',\n",
       "  'http://www.wikidata.org/entity/Q6581097']]"
      ]
     },
     "execution_count": 7,
     "metadata": {},
     "output_type": "execute_result"
    }
   ],
   "source": [
    "r = [l for l in spqf.sparql_result_to_list(qr)]\n",
    "print(len(r))\n",
    "r[:3]"
   ]
  },
  {
   "cell_type": "code",
   "execution_count": 8,
   "id": "44030af4",
   "metadata": {},
   "outputs": [
    {
     "data": {
      "application/vnd.microsoft.datawrangler.viewer.v0+json": {
       "columns": [
        {
         "name": "index",
         "rawType": "int64",
         "type": "integer"
        },
        {
         "name": "personUri",
         "rawType": "object",
         "type": "string"
        },
        {
         "name": "personLabel",
         "rawType": "object",
         "type": "string"
        },
        {
         "name": "birthYear",
         "rawType": "object",
         "type": "string"
        },
        {
         "name": "genderUri",
         "rawType": "object",
         "type": "string"
        }
       ],
       "ref": "a0e7c553-c01e-4cd3-9855-805dfa603bf5",
       "rows": [
        [
         "0",
         "http://www.wikidata.org/entity/Q125501035",
         "Christophe Pinard-Legry",
         "1971",
         "http://www.wikidata.org/entity/Q6581097"
        ],
        [
         "1",
         "http://www.wikidata.org/entity/Q131461885",
         "Jean-Guillaume Kleis",
         "1988",
         "http://www.wikidata.org/entity/Q6581097"
        ],
        [
         "2",
         "http://www.wikidata.org/entity/Q2966211",
         "Christophe Ducasse",
         "1956",
         "http://www.wikidata.org/entity/Q6581097"
        ],
        [
         "3",
         "http://www.wikidata.org/entity/Q104417656",
         "Emmanuel Levacher",
         "1962",
         "http://www.wikidata.org/entity/Q6581097"
        ],
        [
         "4",
         "http://www.wikidata.org/entity/Q3434635",
         "Robert Bouvard",
         "1901",
         "http://www.wikidata.org/entity/Q6581097"
        ]
       ],
       "shape": {
        "columns": 4,
        "rows": 5
       }
      },
      "text/html": [
       "<div>\n",
       "<style scoped>\n",
       "    .dataframe tbody tr th:only-of-type {\n",
       "        vertical-align: middle;\n",
       "    }\n",
       "\n",
       "    .dataframe tbody tr th {\n",
       "        vertical-align: top;\n",
       "    }\n",
       "\n",
       "    .dataframe thead th {\n",
       "        text-align: right;\n",
       "    }\n",
       "</style>\n",
       "<table border=\"1\" class=\"dataframe\">\n",
       "  <thead>\n",
       "    <tr style=\"text-align: right;\">\n",
       "      <th></th>\n",
       "      <th>personUri</th>\n",
       "      <th>personLabel</th>\n",
       "      <th>birthYear</th>\n",
       "      <th>genderUri</th>\n",
       "    </tr>\n",
       "  </thead>\n",
       "  <tbody>\n",
       "    <tr>\n",
       "      <th>0</th>\n",
       "      <td>http://www.wikidata.org/entity/Q125501035</td>\n",
       "      <td>Christophe Pinard-Legry</td>\n",
       "      <td>1971</td>\n",
       "      <td>http://www.wikidata.org/entity/Q6581097</td>\n",
       "    </tr>\n",
       "    <tr>\n",
       "      <th>1</th>\n",
       "      <td>http://www.wikidata.org/entity/Q131461885</td>\n",
       "      <td>Jean-Guillaume Kleis</td>\n",
       "      <td>1988</td>\n",
       "      <td>http://www.wikidata.org/entity/Q6581097</td>\n",
       "    </tr>\n",
       "    <tr>\n",
       "      <th>2</th>\n",
       "      <td>http://www.wikidata.org/entity/Q2966211</td>\n",
       "      <td>Christophe Ducasse</td>\n",
       "      <td>1956</td>\n",
       "      <td>http://www.wikidata.org/entity/Q6581097</td>\n",
       "    </tr>\n",
       "    <tr>\n",
       "      <th>3</th>\n",
       "      <td>http://www.wikidata.org/entity/Q104417656</td>\n",
       "      <td>Emmanuel Levacher</td>\n",
       "      <td>1962</td>\n",
       "      <td>http://www.wikidata.org/entity/Q6581097</td>\n",
       "    </tr>\n",
       "    <tr>\n",
       "      <th>4</th>\n",
       "      <td>http://www.wikidata.org/entity/Q3434635</td>\n",
       "      <td>Robert Bouvard</td>\n",
       "      <td>1901</td>\n",
       "      <td>http://www.wikidata.org/entity/Q6581097</td>\n",
       "    </tr>\n",
       "  </tbody>\n",
       "</table>\n",
       "</div>"
      ],
      "text/plain": [
       "                                   personUri              personLabel  \\\n",
       "0  http://www.wikidata.org/entity/Q125501035  Christophe Pinard-Legry   \n",
       "1  http://www.wikidata.org/entity/Q131461885     Jean-Guillaume Kleis   \n",
       "2    http://www.wikidata.org/entity/Q2966211       Christophe Ducasse   \n",
       "3  http://www.wikidata.org/entity/Q104417656        Emmanuel Levacher   \n",
       "4    http://www.wikidata.org/entity/Q3434635           Robert Bouvard   \n",
       "\n",
       "  birthYear                                genderUri  \n",
       "0      1971  http://www.wikidata.org/entity/Q6581097  \n",
       "1      1988  http://www.wikidata.org/entity/Q6581097  \n",
       "2      1956  http://www.wikidata.org/entity/Q6581097  \n",
       "3      1962  http://www.wikidata.org/entity/Q6581097  \n",
       "4      1901  http://www.wikidata.org/entity/Q6581097  "
      ]
     },
     "execution_count": 8,
     "metadata": {},
     "output_type": "execute_result"
    }
   ],
   "source": [
    "### Créer un DataFrame à partir du résultat\n",
    "df_p = pd.DataFrame(r)\n",
    "df_p.columns = ['personUri', 'personLabel', 'birthYear', 'genderUri']\n",
    "df_p.head()"
   ]
  },
  {
   "cell_type": "code",
   "execution_count": 9,
   "id": "eca50c2e",
   "metadata": {},
   "outputs": [
    {
     "name": "stdout",
     "output_type": "stream",
     "text": [
      "<class 'pandas.core.frame.DataFrame'>\n",
      "RangeIndex: 413 entries, 0 to 412\n",
      "Data columns (total 4 columns):\n",
      " #   Column       Non-Null Count  Dtype \n",
      "---  ------       --------------  ----- \n",
      " 0   personUri    413 non-null    object\n",
      " 1   personLabel  413 non-null    object\n",
      " 2   birthYear    413 non-null    object\n",
      " 3   genderUri    413 non-null    object\n",
      "dtypes: object(4)\n",
      "memory usage: 13.0+ KB\n"
     ]
    }
   ],
   "source": [
    "df_p.info()"
   ]
  },
  {
   "cell_type": "markdown",
   "id": "b30b8ae9",
   "metadata": {},
   "source": [
    "### Vérifier les genres présents directement sur la base de données\n",
    "\n",
    "Voir les requêtes correspondantes dans le SPARQL notebook qui créé la population\n",
    "\n",
    "#### Ajouter une colonne au DataFrame avec le code du genre"
   ]
  },
  {
   "cell_type": "code",
   "execution_count": 10,
   "id": "9f061357",
   "metadata": {},
   "outputs": [],
   "source": [
    "### On créé d'abord une fonction qui effectue le travail\n",
    "\n",
    "## l'argument de la fonction 'g_uri' est un nom choisi librement\n",
    "# il est ensuite appelé dans la fonction comme variable\n",
    "# et contient la valeur introduite lors de l'utilisation de la fonction \n",
    "def code_gender(g_uri):\n",
    "    if g_uri == 'http://www.wikidata.org/entity/Q6581097':\n",
    "        # genre masculin\n",
    "        a = 'M'\n",
    "    elif g_uri =='http://www.wikidata.org/entity/Q6581072':\n",
    "        # genre féminin\n",
    "        a = 'F'\n",
    "    else:\n",
    "        # genre autre\n",
    "        a = 'A'\n",
    "    return a    "
   ]
  },
  {
   "cell_type": "code",
   "execution_count": 11,
   "id": "4d4aacb2",
   "metadata": {},
   "outputs": [
    {
     "name": "stdout",
     "output_type": "stream",
     "text": [
      "A\n"
     ]
    }
   ],
   "source": [
    "### On teste la fonction\n",
    "print(code_gender('http://www.wikidata.org/entity/Q48270'))"
   ]
  },
  {
   "cell_type": "code",
   "execution_count": 12,
   "id": "abf761b5",
   "metadata": {},
   "outputs": [],
   "source": [
    "### On ajoute une nouvelle colonne et y on met pour chaque ligne le résultat de la fonction\n",
    "df_p['genCode'] = df_p.apply(lambda x: code_gender(x['genderUri']), axis=1)"
   ]
  },
  {
   "cell_type": "code",
   "execution_count": 13,
   "id": "519f7fd5",
   "metadata": {},
   "outputs": [
    {
     "data": {
      "application/vnd.microsoft.datawrangler.viewer.v0+json": {
       "columns": [
        {
         "name": "index",
         "rawType": "int64",
         "type": "integer"
        },
        {
         "name": "personUri",
         "rawType": "object",
         "type": "string"
        },
        {
         "name": "personLabel",
         "rawType": "object",
         "type": "string"
        },
        {
         "name": "birthYear",
         "rawType": "object",
         "type": "string"
        },
        {
         "name": "genderUri",
         "rawType": "object",
         "type": "string"
        },
        {
         "name": "genCode",
         "rawType": "object",
         "type": "string"
        }
       ],
       "ref": "8cf10e2b-d95b-4816-a6f1-dc203e00699a",
       "rows": [],
       "shape": {
        "columns": 5,
        "rows": 0
       }
      },
      "text/html": [
       "<div>\n",
       "<style scoped>\n",
       "    .dataframe tbody tr th:only-of-type {\n",
       "        vertical-align: middle;\n",
       "    }\n",
       "\n",
       "    .dataframe tbody tr th {\n",
       "        vertical-align: top;\n",
       "    }\n",
       "\n",
       "    .dataframe thead th {\n",
       "        text-align: right;\n",
       "    }\n",
       "</style>\n",
       "<table border=\"1\" class=\"dataframe\">\n",
       "  <thead>\n",
       "    <tr style=\"text-align: right;\">\n",
       "      <th></th>\n",
       "      <th>personUri</th>\n",
       "      <th>personLabel</th>\n",
       "      <th>birthYear</th>\n",
       "      <th>genderUri</th>\n",
       "      <th>genCode</th>\n",
       "    </tr>\n",
       "  </thead>\n",
       "  <tbody>\n",
       "  </tbody>\n",
       "</table>\n",
       "</div>"
      ],
      "text/plain": [
       "Empty DataFrame\n",
       "Columns: [personUri, personLabel, birthYear, genderUri, genCode]\n",
       "Index: []"
      ]
     },
     "execution_count": 13,
     "metadata": {},
     "output_type": "execute_result"
    }
   ],
   "source": [
    "### On inspecte les cinq premières lignes qui ont la valeur 'A' = autre\n",
    "df_p[df_p['genCode']=='A'][:5]\n",
    "\n",
    "# Il y en a pas"
   ]
  },
  {
   "cell_type": "markdown",
   "id": "53d32da4",
   "metadata": {},
   "source": [
    "### Effectifs par année"
   ]
  },
  {
   "cell_type": "code",
   "execution_count": 14,
   "id": "3a0e426e",
   "metadata": {},
   "outputs": [
    {
     "name": "stdout",
     "output_type": "stream",
     "text": [
      "<class 'pandas.core.series.Series'>\n",
      "RangeIndex: 413 entries, 0 to 412\n",
      "Series name: birthYear\n",
      "Non-Null Count  Dtype \n",
      "--------------  ----- \n",
      "413 non-null    object\n",
      "dtypes: object(1)\n",
      "memory usage: 3.4+ KB\n"
     ]
    }
   ],
   "source": [
    "### On inspecte les valeurs de la colonne 'birthYear' \n",
    "# et on observe que le type de données est 'object', ici texte\n",
    "df_p['birthYear'].info()"
   ]
  },
  {
   "cell_type": "code",
   "execution_count": 15,
   "id": "c4e5765e",
   "metadata": {},
   "outputs": [],
   "source": [
    "### On transforme le type de valeur de la colonne BirthYear\n",
    "# de objet à entier\n",
    "df_p['birthYear'] = df_p['birthYear'].astype(int)"
   ]
  },
  {
   "cell_type": "code",
   "execution_count": 16,
   "id": "a3cdfd8d",
   "metadata": {},
   "outputs": [
    {
     "data": {
      "application/vnd.microsoft.datawrangler.viewer.v0+json": {
       "columns": [
        {
         "name": "index",
         "rawType": "int64",
         "type": "integer"
        },
        {
         "name": "year",
         "rawType": "int64",
         "type": "integer"
        },
        {
         "name": "effectif",
         "rawType": "int64",
         "type": "integer"
        }
       ],
       "ref": "1079f238-225b-4353-aebe-389d2c5dd4e2",
       "rows": [
        [
         "0",
         "1801",
         "1"
        ],
        [
         "1",
         "1822",
         "1"
        ],
        [
         "2",
         "1826",
         "1"
        ],
        [
         "3",
         "1839",
         "1"
        ],
        [
         "4",
         "1841",
         "1"
        ],
        [
         "5",
         "1853",
         "1"
        ],
        [
         "6",
         "1863",
         "1"
        ],
        [
         "7",
         "1865",
         "1"
        ],
        [
         "8",
         "1866",
         "1"
        ],
        [
         "9",
         "1868",
         "2"
        ],
        [
         "10",
         "1871",
         "1"
        ],
        [
         "11",
         "1872",
         "1"
        ],
        [
         "12",
         "1882",
         "3"
        ],
        [
         "13",
         "1883",
         "1"
        ],
        [
         "14",
         "1884",
         "2"
        ],
        [
         "15",
         "1885",
         "1"
        ],
        [
         "16",
         "1886",
         "3"
        ],
        [
         "17",
         "1887",
         "2"
        ],
        [
         "18",
         "1891",
         "1"
        ],
        [
         "19",
         "1892",
         "1"
        ],
        [
         "20",
         "1893",
         "1"
        ],
        [
         "21",
         "1898",
         "1"
        ],
        [
         "22",
         "1899",
         "1"
        ],
        [
         "23",
         "1900",
         "1"
        ],
        [
         "24",
         "1901",
         "2"
        ],
        [
         "25",
         "1902",
         "1"
        ],
        [
         "26",
         "1903",
         "1"
        ],
        [
         "27",
         "1904",
         "1"
        ],
        [
         "28",
         "1905",
         "1"
        ],
        [
         "29",
         "1906",
         "1"
        ],
        [
         "30",
         "1909",
         "1"
        ],
        [
         "31",
         "1910",
         "2"
        ],
        [
         "32",
         "1911",
         "1"
        ],
        [
         "33",
         "1912",
         "2"
        ],
        [
         "34",
         "1913",
         "1"
        ],
        [
         "35",
         "1918",
         "1"
        ],
        [
         "36",
         "1920",
         "3"
        ],
        [
         "37",
         "1921",
         "1"
        ],
        [
         "38",
         "1922",
         "2"
        ],
        [
         "39",
         "1924",
         "1"
        ],
        [
         "40",
         "1925",
         "1"
        ],
        [
         "41",
         "1926",
         "1"
        ],
        [
         "42",
         "1927",
         "1"
        ],
        [
         "43",
         "1929",
         "3"
        ],
        [
         "44",
         "1932",
         "1"
        ],
        [
         "45",
         "1933",
         "1"
        ],
        [
         "46",
         "1937",
         "3"
        ],
        [
         "47",
         "1938",
         "2"
        ],
        [
         "48",
         "1939",
         "1"
        ],
        [
         "49",
         "1940",
         "1"
        ]
       ],
       "shape": {
        "columns": 2,
        "rows": 107
       }
      },
      "text/html": [
       "<div>\n",
       "<style scoped>\n",
       "    .dataframe tbody tr th:only-of-type {\n",
       "        vertical-align: middle;\n",
       "    }\n",
       "\n",
       "    .dataframe tbody tr th {\n",
       "        vertical-align: top;\n",
       "    }\n",
       "\n",
       "    .dataframe thead th {\n",
       "        text-align: right;\n",
       "    }\n",
       "</style>\n",
       "<table border=\"1\" class=\"dataframe\">\n",
       "  <thead>\n",
       "    <tr style=\"text-align: right;\">\n",
       "      <th></th>\n",
       "      <th>year</th>\n",
       "      <th>effectif</th>\n",
       "    </tr>\n",
       "  </thead>\n",
       "  <tbody>\n",
       "    <tr>\n",
       "      <th>0</th>\n",
       "      <td>1801</td>\n",
       "      <td>1</td>\n",
       "    </tr>\n",
       "    <tr>\n",
       "      <th>1</th>\n",
       "      <td>1822</td>\n",
       "      <td>1</td>\n",
       "    </tr>\n",
       "    <tr>\n",
       "      <th>2</th>\n",
       "      <td>1826</td>\n",
       "      <td>1</td>\n",
       "    </tr>\n",
       "    <tr>\n",
       "      <th>3</th>\n",
       "      <td>1839</td>\n",
       "      <td>1</td>\n",
       "    </tr>\n",
       "    <tr>\n",
       "      <th>4</th>\n",
       "      <td>1841</td>\n",
       "      <td>1</td>\n",
       "    </tr>\n",
       "    <tr>\n",
       "      <th>...</th>\n",
       "      <td>...</td>\n",
       "      <td>...</td>\n",
       "    </tr>\n",
       "    <tr>\n",
       "      <th>102</th>\n",
       "      <td>1993</td>\n",
       "      <td>2</td>\n",
       "    </tr>\n",
       "    <tr>\n",
       "      <th>103</th>\n",
       "      <td>1995</td>\n",
       "      <td>2</td>\n",
       "    </tr>\n",
       "    <tr>\n",
       "      <th>104</th>\n",
       "      <td>1996</td>\n",
       "      <td>1</td>\n",
       "    </tr>\n",
       "    <tr>\n",
       "      <th>105</th>\n",
       "      <td>1997</td>\n",
       "      <td>1</td>\n",
       "    </tr>\n",
       "    <tr>\n",
       "      <th>106</th>\n",
       "      <td>1998</td>\n",
       "      <td>2</td>\n",
       "    </tr>\n",
       "  </tbody>\n",
       "</table>\n",
       "<p>107 rows × 2 columns</p>\n",
       "</div>"
      ],
      "text/plain": [
       "     year  effectif\n",
       "0    1801         1\n",
       "1    1822         1\n",
       "2    1826         1\n",
       "3    1839         1\n",
       "4    1841         1\n",
       "..    ...       ...\n",
       "102  1993         2\n",
       "103  1995         2\n",
       "104  1996         1\n",
       "105  1997         1\n",
       "106  1998         2\n",
       "\n",
       "[107 rows x 2 columns]"
      ]
     },
     "execution_count": 16,
     "metadata": {},
     "output_type": "execute_result"
    }
   ],
   "source": [
    "### On transforme en DataFrame le résultat du regroupement par année\n",
    "# noter qu'un ajoute un filtre pour que l'année maximale de naissance soit 2000\n",
    "years_count = pd.DataFrame(df_p[df_p['birthYear'] < 2001].groupby('birthYear').size())\\\n",
    "                .reset_index(drop=False)\n",
    "years_count.columns=['year','effectif']\n",
    "years_count"
   ]
  },
  {
   "cell_type": "code",
   "execution_count": 17,
   "id": "a82e2024",
   "metadata": {},
   "outputs": [
    {
     "data": {
      "image/png": "[encoded data removed]",
      "text/plain": [
       "<Figure size 1600x800 with 1 Axes>"
      ]
     },
     "metadata": {},
     "output_type": "display_data"
    }
   ],
   "source": [
    "### Représentation graphique des effectifs par année\n",
    "\n",
    "ax = years_count.plot(x='year', y='effectif', kind='bar',rot=60, fontsize=8, figsize=(16,8))\n",
    "\n",
    "\n",
    "max_xticks = 20\n",
    "xloc = plt.MaxNLocator(max_xticks)\n",
    "ax.xaxis.set_major_locator(xloc)\n",
    "\n",
    "plt.ylabel('Effectif')\n",
    "plt.xlabel('Années')\n",
    "plt.title('Nombre de naissances par année')\n",
    "plt.show()"
   ]
  },
  {
   "cell_type": "markdown",
   "id": "87dde7b7",
   "metadata": {},
   "source": [
    "### Regrouper les effectifs par périodes de 25 ans"
   ]
  },
  {
   "cell_type": "code",
   "execution_count": 18,
   "id": "2a5afa3a",
   "metadata": {},
   "outputs": [],
   "source": [
    "### Créer une copie indépendante du DataFrame (attention aux copies de variables qui sont seulement des alias) \n",
    "cdf_p = df_p[df_p['birthYear'] < 2001].copy(deep=True)"
   ]
  },
  {
   "cell_type": "code",
   "execution_count": 19,
   "id": "0d164634",
   "metadata": {},
   "outputs": [
    {
     "data": {
      "application/vnd.microsoft.datawrangler.viewer.v0+json": {
       "columns": [
        {
         "name": "index",
         "rawType": "int64",
         "type": "integer"
        },
        {
         "name": "personUri",
         "rawType": "object",
         "type": "string"
        },
        {
         "name": "personLabel",
         "rawType": "object",
         "type": "string"
        },
        {
         "name": "birthYear",
         "rawType": "int64",
         "type": "integer"
        },
        {
         "name": "genderUri",
         "rawType": "object",
         "type": "string"
        },
        {
         "name": "genCode",
         "rawType": "object",
         "type": "string"
        }
       ],
       "ref": "34a427bd-645b-4a60-bc1e-4cded9794768",
       "rows": [
        [
         "0",
         "http://www.wikidata.org/entity/Q125501035",
         "Christophe Pinard-Legry",
         "1971",
         "http://www.wikidata.org/entity/Q6581097",
         "M"
        ],
        [
         "1",
         "http://www.wikidata.org/entity/Q131461885",
         "Jean-Guillaume Kleis",
         "1988",
         "http://www.wikidata.org/entity/Q6581097",
         "M"
        ],
        [
         "2",
         "http://www.wikidata.org/entity/Q2966211",
         "Christophe Ducasse",
         "1956",
         "http://www.wikidata.org/entity/Q6581097",
         "M"
        ]
       ],
       "shape": {
        "columns": 5,
        "rows": 3
       }
      },
      "text/html": [
       "<div>\n",
       "<style scoped>\n",
       "    .dataframe tbody tr th:only-of-type {\n",
       "        vertical-align: middle;\n",
       "    }\n",
       "\n",
       "    .dataframe tbody tr th {\n",
       "        vertical-align: top;\n",
       "    }\n",
       "\n",
       "    .dataframe thead th {\n",
       "        text-align: right;\n",
       "    }\n",
       "</style>\n",
       "<table border=\"1\" class=\"dataframe\">\n",
       "  <thead>\n",
       "    <tr style=\"text-align: right;\">\n",
       "      <th></th>\n",
       "      <th>personUri</th>\n",
       "      <th>personLabel</th>\n",
       "      <th>birthYear</th>\n",
       "      <th>genderUri</th>\n",
       "      <th>genCode</th>\n",
       "    </tr>\n",
       "  </thead>\n",
       "  <tbody>\n",
       "    <tr>\n",
       "      <th>0</th>\n",
       "      <td>http://www.wikidata.org/entity/Q125501035</td>\n",
       "      <td>Christophe Pinard-Legry</td>\n",
       "      <td>1971</td>\n",
       "      <td>http://www.wikidata.org/entity/Q6581097</td>\n",
       "      <td>M</td>\n",
       "    </tr>\n",
       "    <tr>\n",
       "      <th>1</th>\n",
       "      <td>http://www.wikidata.org/entity/Q131461885</td>\n",
       "      <td>Jean-Guillaume Kleis</td>\n",
       "      <td>1988</td>\n",
       "      <td>http://www.wikidata.org/entity/Q6581097</td>\n",
       "      <td>M</td>\n",
       "    </tr>\n",
       "    <tr>\n",
       "      <th>2</th>\n",
       "      <td>http://www.wikidata.org/entity/Q2966211</td>\n",
       "      <td>Christophe Ducasse</td>\n",
       "      <td>1956</td>\n",
       "      <td>http://www.wikidata.org/entity/Q6581097</td>\n",
       "      <td>M</td>\n",
       "    </tr>\n",
       "  </tbody>\n",
       "</table>\n",
       "</div>"
      ],
      "text/plain": [
       "                                   personUri              personLabel  \\\n",
       "0  http://www.wikidata.org/entity/Q125501035  Christophe Pinard-Legry   \n",
       "1  http://www.wikidata.org/entity/Q131461885     Jean-Guillaume Kleis   \n",
       "2    http://www.wikidata.org/entity/Q2966211       Christophe Ducasse   \n",
       "\n",
       "   birthYear                                genderUri genCode  \n",
       "0       1971  http://www.wikidata.org/entity/Q6581097       M  \n",
       "1       1988  http://www.wikidata.org/entity/Q6581097       M  \n",
       "2       1956  http://www.wikidata.org/entity/Q6581097       M  "
      ]
     },
     "execution_count": 19,
     "metadata": {},
     "output_type": "execute_result"
    }
   ],
   "source": [
    "cdf_p.head(3)"
   ]
  },
  {
   "cell_type": "code",
   "execution_count": 20,
   "id": "7e54cc44",
   "metadata": {},
   "outputs": [
    {
     "name": "stdout",
     "output_type": "stream",
     "text": [
      "1801 1998\n"
     ]
    }
   ],
   "source": [
    "### Année minimale et maximale dans la population\n",
    "print(min(cdf_p['birthYear']), max(cdf_p['birthYear']))"
   ]
  },
  {
   "cell_type": "markdown",
   "id": "46b2bf2c",
   "metadata": {},
   "source": [
    "#### Codage par période de vingt-cinq ans"
   ]
  },
  {
   "cell_type": "code",
   "execution_count": 24,
   "id": "2f78323a",
   "metadata": {},
   "outputs": [
    {
     "name": "stdout",
     "output_type": "stream",
     "text": [
      "[1800, 1825, 1850, 1875, 1900] [1900, 1925, 1950, 1975, 2000]\n"
     ]
    }
   ],
   "source": [
    "### Créer une liste d'années pour séparer en périodes de 25 ans\n",
    "# noter que la dernière année sera exclue, \n",
    "# elle donc doit être supérieure à la valeur maximale \n",
    "l_25 = list(range(1800, 2025, 25))\n",
    "print(l_25[:5],l_25[-5:])"
   ]
  },
  {
   "cell_type": "code",
   "execution_count": 25,
   "id": "035acc05",
   "metadata": {},
   "outputs": [
    {
     "data": {
      "application/vnd.microsoft.datawrangler.viewer.v0+json": {
       "columns": [
        {
         "name": "index",
         "rawType": "int64",
         "type": "integer"
        },
        {
         "name": "personUri",
         "rawType": "object",
         "type": "string"
        },
        {
         "name": "personLabel",
         "rawType": "object",
         "type": "string"
        },
        {
         "name": "birthYear",
         "rawType": "int64",
         "type": "integer"
        },
        {
         "name": "genderUri",
         "rawType": "object",
         "type": "string"
        },
        {
         "name": "genCode",
         "rawType": "object",
         "type": "string"
        },
        {
         "name": "periodes",
         "rawType": "category",
         "type": "unknown"
        }
       ],
       "ref": "c30e8c7d-e744-4043-b83e-ffb5187f47d4",
       "rows": [
        [
         "0",
         "http://www.wikidata.org/entity/Q125501035",
         "Christophe Pinard-Legry",
         "1971",
         "http://www.wikidata.org/entity/Q6581097",
         "M",
         "1950-1974"
        ],
        [
         "1",
         "http://www.wikidata.org/entity/Q131461885",
         "Jean-Guillaume Kleis",
         "1988",
         "http://www.wikidata.org/entity/Q6581097",
         "M",
         "1975-1999"
        ],
        [
         "2",
         "http://www.wikidata.org/entity/Q2966211",
         "Christophe Ducasse",
         "1956",
         "http://www.wikidata.org/entity/Q6581097",
         "M",
         "1950-1974"
        ]
       ],
       "shape": {
        "columns": 6,
        "rows": 3
       }
      },
      "text/html": [
       "<div>\n",
       "<style scoped>\n",
       "    .dataframe tbody tr th:only-of-type {\n",
       "        vertical-align: middle;\n",
       "    }\n",
       "\n",
       "    .dataframe tbody tr th {\n",
       "        vertical-align: top;\n",
       "    }\n",
       "\n",
       "    .dataframe thead th {\n",
       "        text-align: right;\n",
       "    }\n",
       "</style>\n",
       "<table border=\"1\" class=\"dataframe\">\n",
       "  <thead>\n",
       "    <tr style=\"text-align: right;\">\n",
       "      <th></th>\n",
       "      <th>personUri</th>\n",
       "      <th>personLabel</th>\n",
       "      <th>birthYear</th>\n",
       "      <th>genderUri</th>\n",
       "      <th>genCode</th>\n",
       "      <th>periodes</th>\n",
       "    </tr>\n",
       "  </thead>\n",
       "  <tbody>\n",
       "    <tr>\n",
       "      <th>0</th>\n",
       "      <td>http://www.wikidata.org/entity/Q125501035</td>\n",
       "      <td>Christophe Pinard-Legry</td>\n",
       "      <td>1971</td>\n",
       "      <td>http://www.wikidata.org/entity/Q6581097</td>\n",
       "      <td>M</td>\n",
       "      <td>1950-1974</td>\n",
       "    </tr>\n",
       "    <tr>\n",
       "      <th>1</th>\n",
       "      <td>http://www.wikidata.org/entity/Q131461885</td>\n",
       "      <td>Jean-Guillaume Kleis</td>\n",
       "      <td>1988</td>\n",
       "      <td>http://www.wikidata.org/entity/Q6581097</td>\n",
       "      <td>M</td>\n",
       "      <td>1975-1999</td>\n",
       "    </tr>\n",
       "    <tr>\n",
       "      <th>2</th>\n",
       "      <td>http://www.wikidata.org/entity/Q2966211</td>\n",
       "      <td>Christophe Ducasse</td>\n",
       "      <td>1956</td>\n",
       "      <td>http://www.wikidata.org/entity/Q6581097</td>\n",
       "      <td>M</td>\n",
       "      <td>1950-1974</td>\n",
       "    </tr>\n",
       "  </tbody>\n",
       "</table>\n",
       "</div>"
      ],
      "text/plain": [
       "                                   personUri              personLabel  \\\n",
       "0  http://www.wikidata.org/entity/Q125501035  Christophe Pinard-Legry   \n",
       "1  http://www.wikidata.org/entity/Q131461885     Jean-Guillaume Kleis   \n",
       "2    http://www.wikidata.org/entity/Q2966211       Christophe Ducasse   \n",
       "\n",
       "   birthYear                                genderUri genCode   periodes  \n",
       "0       1971  http://www.wikidata.org/entity/Q6581097       M  1950-1974  \n",
       "1       1988  http://www.wikidata.org/entity/Q6581097       M  1975-1999  \n",
       "2       1956  http://www.wikidata.org/entity/Q6581097       M  1950-1974  "
      ]
     },
     "execution_count": 25,
     "metadata": {},
     "output_type": "execute_result"
    }
   ],
   "source": [
    "### fonction pd.cut : https://pandas.pydata.org/pandas-docs/stable/reference/api/pandas.cut.html\n",
    "# On ajoute une nouvelle colonne qui contient la période sur la base de la liste précédente\n",
    "# et de la valeur de l'année\n",
    "\n",
    "cdf_p['periodes'] = pd.cut(cdf_p['birthYear'], l_25, right=False)\n",
    "\n",
    "### Transformer le code ajouté pour qu'il soit plus lisible\n",
    "# noter qu'on a arrondi les valeurs\n",
    "cdf_p['periodes'] = cdf_p['periodes'].apply(lambda x : str(int(x.left))+'-'+ str(int(x.right)-1))\n",
    "\n",
    "# Inspection\n",
    "cdf_p.head(3)"
   ]
  },
  {
   "cell_type": "code",
   "execution_count": 26,
   "id": "7bb14003",
   "metadata": {},
   "outputs": [
    {
     "name": "stderr",
     "output_type": "stream",
     "text": [
      "C:\\Users\\laila\\AppData\\Local\\Temp\\ipykernel_3640\\3799892700.py:2: FutureWarning: The default of observed=False is deprecated and will be changed to True in a future version of pandas. Pass observed=False to retain current behavior or observed=True to adopt the future default and silence this warning.\n",
      "  cdf_p.groupby(by='periodes').size()\n"
     ]
    },
    {
     "data": {
      "application/vnd.microsoft.datawrangler.viewer.v0+json": {
       "columns": [
        {
         "name": "periodes",
         "rawType": "category",
         "type": "unknown"
        },
        {
         "name": "0",
         "rawType": "int64",
         "type": "integer"
        }
       ],
       "ref": "8f397e9b-0166-4413-8ed6-fa08b0b04c98",
       "rows": [
        [
         "1800-1824",
         "2"
        ],
        [
         "1825-1849",
         "3"
        ],
        [
         "1850-1874",
         "8"
        ],
        [
         "1875-1899",
         "17"
        ],
        [
         "1900-1924",
         "23"
        ],
        [
         "1925-1949",
         "43"
        ],
        [
         "1950-1974",
         "222"
        ],
        [
         "1975-1999",
         "95"
        ]
       ],
       "shape": {
        "columns": 1,
        "rows": 8
       }
      },
      "text/plain": [
       "periodes\n",
       "1800-1824      2\n",
       "1825-1849      3\n",
       "1850-1874      8\n",
       "1875-1899     17\n",
       "1900-1924     23\n",
       "1925-1949     43\n",
       "1950-1974    222\n",
       "1975-1999     95\n",
       "dtype: int64"
      ]
     },
     "execution_count": 26,
     "metadata": {},
     "output_type": "execute_result"
    }
   ],
   "source": [
    "### compter les naissances par périodes de 25 ans\n",
    "cdf_p.groupby(by='periodes').size()"
   ]
  },
  {
   "cell_type": "code",
   "execution_count": 27,
   "id": "f031fc66",
   "metadata": {},
   "outputs": [
    {
     "name": "stderr",
     "output_type": "stream",
     "text": [
      "C:\\Users\\laila\\AppData\\Local\\Temp\\ipykernel_3640\\948136776.py:1: FutureWarning: The default of observed=False is deprecated and will be changed to True in a future version of pandas. Pass observed=False to retain current behavior or observed=True to adopt the future default and silence this warning.\n",
      "  ax = cdf_p.groupby(by='periodes').size().plot(kind='bar',rot=60, fontsize=8, figsize=(16,8))\n"
     ]
    },
    {
     "data": {
      "image/png": "[encoded data removed]",
      "text/plain": [
       "<Figure size 1600x800 with 1 Axes>"
      ]
     },
     "metadata": {},
     "output_type": "display_data"
    }
   ],
   "source": [
    "ax = cdf_p.groupby(by='periodes').size().plot(kind='bar',rot=60, fontsize=8, figsize=(16,8))\n",
    "plt.ylabel('Effectif')\n",
    "plt.xlabel('Périodes')\n",
    "plt.title('Naissances par périodes de ving-cinq ans')\n",
    "plt.show()"
   ]
  },
  {
   "cell_type": "markdown",
   "id": "a9a9a757",
   "metadata": {},
   "source": [
    "#### Ajouter la représentation des genres"
   ]
  },
  {
   "cell_type": "code",
   "execution_count": 28,
   "id": "3059ca65",
   "metadata": {},
   "outputs": [
    {
     "name": "stderr",
     "output_type": "stream",
     "text": [
      "C:\\Users\\laila\\AppData\\Local\\Temp\\ipykernel_3640\\3329293717.py:2: FutureWarning: The default of observed=False is deprecated and will be changed to True in a future version of pandas. Pass observed=False to retain current behavior or observed=True to adopt the future default and silence this warning.\n",
      "  gender_m = pd.DataFrame(cdf_p[cdf_p.genCode == 'M'].groupby('periodes').size())\n"
     ]
    },
    {
     "data": {
      "application/vnd.microsoft.datawrangler.viewer.v0+json": {
       "columns": [
        {
         "name": "periodes",
         "rawType": "category",
         "type": "unknown"
        },
        {
         "name": "gen_m",
         "rawType": "int64",
         "type": "integer"
        }
       ],
       "ref": "53c6cdfe-3bb8-4e14-9220-854759cdc4dc",
       "rows": [
        [
         "1875-1899",
         "15"
        ],
        [
         "1900-1924",
         "23"
        ],
        [
         "1925-1949",
         "37"
        ],
        [
         "1950-1974",
         "179"
        ],
        [
         "1975-1999",
         "72"
        ]
       ],
       "shape": {
        "columns": 1,
        "rows": 5
       }
      },
      "text/html": [
       "<div>\n",
       "<style scoped>\n",
       "    .dataframe tbody tr th:only-of-type {\n",
       "        vertical-align: middle;\n",
       "    }\n",
       "\n",
       "    .dataframe tbody tr th {\n",
       "        vertical-align: top;\n",
       "    }\n",
       "\n",
       "    .dataframe thead th {\n",
       "        text-align: right;\n",
       "    }\n",
       "</style>\n",
       "<table border=\"1\" class=\"dataframe\">\n",
       "  <thead>\n",
       "    <tr style=\"text-align: right;\">\n",
       "      <th></th>\n",
       "      <th>gen_m</th>\n",
       "    </tr>\n",
       "    <tr>\n",
       "      <th>periodes</th>\n",
       "      <th></th>\n",
       "    </tr>\n",
       "  </thead>\n",
       "  <tbody>\n",
       "    <tr>\n",
       "      <th>1875-1899</th>\n",
       "      <td>15</td>\n",
       "    </tr>\n",
       "    <tr>\n",
       "      <th>1900-1924</th>\n",
       "      <td>23</td>\n",
       "    </tr>\n",
       "    <tr>\n",
       "      <th>1925-1949</th>\n",
       "      <td>37</td>\n",
       "    </tr>\n",
       "    <tr>\n",
       "      <th>1950-1974</th>\n",
       "      <td>179</td>\n",
       "    </tr>\n",
       "    <tr>\n",
       "      <th>1975-1999</th>\n",
       "      <td>72</td>\n",
       "    </tr>\n",
       "  </tbody>\n",
       "</table>\n",
       "</div>"
      ],
      "text/plain": [
       "           gen_m\n",
       "periodes        \n",
       "1875-1899     15\n",
       "1900-1924     23\n",
       "1925-1949     37\n",
       "1950-1974    179\n",
       "1975-1999     72"
      ]
     },
     "execution_count": 28,
     "metadata": {},
     "output_type": "execute_result"
    }
   ],
   "source": [
    "### Regrouper et compter avec un fitre sur le genre masculin\n",
    "gender_m = pd.DataFrame(cdf_p[cdf_p.genCode == 'M'].groupby('periodes').size())\n",
    "gender_m.columns = ['gen_m']\n",
    "gender_m.tail()"
   ]
  },
  {
   "cell_type": "code",
   "execution_count": 29,
   "id": "8d5a34a9",
   "metadata": {},
   "outputs": [
    {
     "name": "stderr",
     "output_type": "stream",
     "text": [
      "C:\\Users\\laila\\AppData\\Local\\Temp\\ipykernel_3640\\3469739458.py:2: FutureWarning: The default of observed=False is deprecated and will be changed to True in a future version of pandas. Pass observed=False to retain current behavior or observed=True to adopt the future default and silence this warning.\n",
      "  gender_f = pd.DataFrame(cdf_p[cdf_p.genCode == 'F'].groupby('periodes').size())\n"
     ]
    },
    {
     "data": {
      "application/vnd.microsoft.datawrangler.viewer.v0+json": {
       "columns": [
        {
         "name": "periodes",
         "rawType": "category",
         "type": "unknown"
        },
        {
         "name": "gen_f",
         "rawType": "int64",
         "type": "integer"
        }
       ],
       "ref": "e18efa01-25b0-40d8-9e1d-3b2453fa39d1",
       "rows": [
        [
         "1875-1899",
         "2"
        ],
        [
         "1900-1924",
         "0"
        ],
        [
         "1925-1949",
         "6"
        ],
        [
         "1950-1974",
         "43"
        ],
        [
         "1975-1999",
         "23"
        ]
       ],
       "shape": {
        "columns": 1,
        "rows": 5
       }
      },
      "text/html": [
       "<div>\n",
       "<style scoped>\n",
       "    .dataframe tbody tr th:only-of-type {\n",
       "        vertical-align: middle;\n",
       "    }\n",
       "\n",
       "    .dataframe tbody tr th {\n",
       "        vertical-align: top;\n",
       "    }\n",
       "\n",
       "    .dataframe thead th {\n",
       "        text-align: right;\n",
       "    }\n",
       "</style>\n",
       "<table border=\"1\" class=\"dataframe\">\n",
       "  <thead>\n",
       "    <tr style=\"text-align: right;\">\n",
       "      <th></th>\n",
       "      <th>gen_f</th>\n",
       "    </tr>\n",
       "    <tr>\n",
       "      <th>periodes</th>\n",
       "      <th></th>\n",
       "    </tr>\n",
       "  </thead>\n",
       "  <tbody>\n",
       "    <tr>\n",
       "      <th>1875-1899</th>\n",
       "      <td>2</td>\n",
       "    </tr>\n",
       "    <tr>\n",
       "      <th>1900-1924</th>\n",
       "      <td>0</td>\n",
       "    </tr>\n",
       "    <tr>\n",
       "      <th>1925-1949</th>\n",
       "      <td>6</td>\n",
       "    </tr>\n",
       "    <tr>\n",
       "      <th>1950-1974</th>\n",
       "      <td>43</td>\n",
       "    </tr>\n",
       "    <tr>\n",
       "      <th>1975-1999</th>\n",
       "      <td>23</td>\n",
       "    </tr>\n",
       "  </tbody>\n",
       "</table>\n",
       "</div>"
      ],
      "text/plain": [
       "           gen_f\n",
       "periodes        \n",
       "1875-1899      2\n",
       "1900-1924      0\n",
       "1925-1949      6\n",
       "1950-1974     43\n",
       "1975-1999     23"
      ]
     },
     "execution_count": 29,
     "metadata": {},
     "output_type": "execute_result"
    }
   ],
   "source": [
    "### Regrouper et compter avec un fitre sur le genre féminin\n",
    "gender_f = pd.DataFrame(cdf_p[cdf_p.genCode == 'F'].groupby('periodes').size())\n",
    "gender_f.columns = ['gen_f']\n",
    "gender_f.tail()"
   ]
  },
  {
   "cell_type": "code",
   "execution_count": 30,
   "id": "1f0b38f6",
   "metadata": {},
   "outputs": [
    {
     "data": {
      "application/vnd.microsoft.datawrangler.viewer.v0+json": {
       "columns": [
        {
         "name": "periodes",
         "rawType": "category",
         "type": "unknown"
        },
        {
         "name": "gen_m",
         "rawType": "int64",
         "type": "integer"
        },
        {
         "name": "gen_f",
         "rawType": "int64",
         "type": "integer"
        }
       ],
       "ref": "deb65ced-1fff-4363-bbce-395f45ec6bce",
       "rows": [
        [
         "1875-1899",
         "15",
         "2"
        ],
        [
         "1900-1924",
         "23",
         "0"
        ],
        [
         "1925-1949",
         "37",
         "6"
        ],
        [
         "1950-1974",
         "179",
         "43"
        ],
        [
         "1975-1999",
         "72",
         "23"
        ]
       ],
       "shape": {
        "columns": 2,
        "rows": 5
       }
      },
      "text/html": [
       "<div>\n",
       "<style scoped>\n",
       "    .dataframe tbody tr th:only-of-type {\n",
       "        vertical-align: middle;\n",
       "    }\n",
       "\n",
       "    .dataframe tbody tr th {\n",
       "        vertical-align: top;\n",
       "    }\n",
       "\n",
       "    .dataframe thead th {\n",
       "        text-align: right;\n",
       "    }\n",
       "</style>\n",
       "<table border=\"1\" class=\"dataframe\">\n",
       "  <thead>\n",
       "    <tr style=\"text-align: right;\">\n",
       "      <th></th>\n",
       "      <th>gen_m</th>\n",
       "      <th>gen_f</th>\n",
       "    </tr>\n",
       "    <tr>\n",
       "      <th>periodes</th>\n",
       "      <th></th>\n",
       "      <th></th>\n",
       "    </tr>\n",
       "  </thead>\n",
       "  <tbody>\n",
       "    <tr>\n",
       "      <th>1875-1899</th>\n",
       "      <td>15</td>\n",
       "      <td>2</td>\n",
       "    </tr>\n",
       "    <tr>\n",
       "      <th>1900-1924</th>\n",
       "      <td>23</td>\n",
       "      <td>0</td>\n",
       "    </tr>\n",
       "    <tr>\n",
       "      <th>1925-1949</th>\n",
       "      <td>37</td>\n",
       "      <td>6</td>\n",
       "    </tr>\n",
       "    <tr>\n",
       "      <th>1950-1974</th>\n",
       "      <td>179</td>\n",
       "      <td>43</td>\n",
       "    </tr>\n",
       "    <tr>\n",
       "      <th>1975-1999</th>\n",
       "      <td>72</td>\n",
       "      <td>23</td>\n",
       "    </tr>\n",
       "  </tbody>\n",
       "</table>\n",
       "</div>"
      ],
      "text/plain": [
       "           gen_m  gen_f\n",
       "periodes               \n",
       "1875-1899     15      2\n",
       "1900-1924     23      0\n",
       "1925-1949     37      6\n",
       "1950-1974    179     43\n",
       "1975-1999     72     23"
      ]
     },
     "execution_count": 30,
     "metadata": {},
     "output_type": "execute_result"
    }
   ],
   "source": [
    "### Fusionner les deux tableaux en utilisant l'index comme clé de jointure\n",
    "merged = pd.merge(gender_m, gender_f, left_index=True, right_index=True)\n",
    "merged.tail()"
   ]
  },
  {
   "cell_type": "code",
   "execution_count": 31,
   "id": "547efa04",
   "metadata": {},
   "outputs": [
    {
     "data": {
      "application/vnd.microsoft.datawrangler.viewer.v0+json": {
       "columns": [
        {
         "name": "periodes",
         "rawType": "category",
         "type": "unknown"
        },
        {
         "name": "gen_m",
         "rawType": "int64",
         "type": "integer"
        },
        {
         "name": "gen_f",
         "rawType": "int64",
         "type": "integer"
        }
       ],
       "ref": "ce039c2a-30fd-4c28-a6ae-ebf6179e1c51",
       "rows": [
        [
         "1875-1899",
         "15",
         "2"
        ],
        [
         "1900-1924",
         "23",
         "0"
        ],
        [
         "1925-1949",
         "37",
         "6"
        ],
        [
         "1950-1974",
         "179",
         "43"
        ],
        [
         "1975-1999",
         "72",
         "23"
        ]
       ],
       "shape": {
        "columns": 2,
        "rows": 5
       }
      },
      "text/html": [
       "<div>\n",
       "<style scoped>\n",
       "    .dataframe tbody tr th:only-of-type {\n",
       "        vertical-align: middle;\n",
       "    }\n",
       "\n",
       "    .dataframe tbody tr th {\n",
       "        vertical-align: top;\n",
       "    }\n",
       "\n",
       "    .dataframe thead th {\n",
       "        text-align: right;\n",
       "    }\n",
       "</style>\n",
       "<table border=\"1\" class=\"dataframe\">\n",
       "  <thead>\n",
       "    <tr style=\"text-align: right;\">\n",
       "      <th></th>\n",
       "      <th>gen_m</th>\n",
       "      <th>gen_f</th>\n",
       "    </tr>\n",
       "    <tr>\n",
       "      <th>periodes</th>\n",
       "      <th></th>\n",
       "      <th></th>\n",
       "    </tr>\n",
       "  </thead>\n",
       "  <tbody>\n",
       "    <tr>\n",
       "      <th>1875-1899</th>\n",
       "      <td>15</td>\n",
       "      <td>2</td>\n",
       "    </tr>\n",
       "    <tr>\n",
       "      <th>1900-1924</th>\n",
       "      <td>23</td>\n",
       "      <td>0</td>\n",
       "    </tr>\n",
       "    <tr>\n",
       "      <th>1925-1949</th>\n",
       "      <td>37</td>\n",
       "      <td>6</td>\n",
       "    </tr>\n",
       "    <tr>\n",
       "      <th>1950-1974</th>\n",
       "      <td>179</td>\n",
       "      <td>43</td>\n",
       "    </tr>\n",
       "    <tr>\n",
       "      <th>1975-1999</th>\n",
       "      <td>72</td>\n",
       "      <td>23</td>\n",
       "    </tr>\n",
       "  </tbody>\n",
       "</table>\n",
       "</div>"
      ],
      "text/plain": [
       "           gen_m  gen_f\n",
       "periodes               \n",
       "1875-1899     15      2\n",
       "1900-1924     23      0\n",
       "1925-1949     37      6\n",
       "1950-1974    179     43\n",
       "1975-1999     72     23"
      ]
     },
     "execution_count": 31,
     "metadata": {},
     "output_type": "execute_result"
    }
   ],
   "source": [
    "### Transformer l'index de séquence à chaîne de caractères\n",
    "# ce qui est indispensable pour l'affichage dans un graphique\n",
    "merged.index = merged.index.map(str)\n",
    "merged.tail()"
   ]
  },
  {
   "cell_type": "code",
   "execution_count": 32,
   "id": "fbcebab9",
   "metadata": {},
   "outputs": [
    {
     "data": {
      "image/png": "[encoded data removed]",
      "text/plain": [
       "<Figure size 2000x600 with 1 Axes>"
      ]
     },
     "metadata": {},
     "output_type": "display_data"
    }
   ],
   "source": [
    "### Documentation\n",
    "# https://pandas.pydata.org/pandas-docs/stable/reference/api/pandas.DataFrame.plot.bar.html\n",
    "ax = merged.plot.bar(stacked=True, rot=70, fontsize=9, figsize=(20,6), color=['LightSteelBlue', 'LightCoral'])\n",
    "plt.show()"
   ]
  },
  {
   "cell_type": "markdown",
   "id": "f7364470",
   "metadata": {},
   "source": [
    "#### Codage par période de dix ans\n",
    "\n",
    "Comme on voit bien dans le graphique précédent qu'il y a deux périodes avec des effectifs radicalements différents, on restraint la période analysée à l'époque contemporaine et on affine avec un découpage par périodes de dix ans"
   ]
  },
  {
   "cell_type": "code",
   "execution_count": 42,
   "id": "4e4b00fa",
   "metadata": {},
   "outputs": [
    {
     "name": "stdout",
     "output_type": "stream",
     "text": [
      "[1851, 1861, 1871, 1881, 1891] [1961, 1971, 1981, 1991, 2001]\n"
     ]
    }
   ],
   "source": [
    "l_10 = list(range(1851, 2010, 10))\n",
    "print(l_10[:5],l_10[-5:])"
   ]
  },
  {
   "cell_type": "code",
   "execution_count": 43,
   "id": "88b1877e",
   "metadata": {},
   "outputs": [
    {
     "data": {
      "application/vnd.microsoft.datawrangler.viewer.v0+json": {
       "columns": [
        {
         "name": "index",
         "rawType": "int64",
         "type": "integer"
        },
        {
         "name": "personUri",
         "rawType": "object",
         "type": "string"
        },
        {
         "name": "personLabel",
         "rawType": "object",
         "type": "string"
        },
        {
         "name": "birthYear",
         "rawType": "int64",
         "type": "integer"
        },
        {
         "name": "genderUri",
         "rawType": "object",
         "type": "string"
        },
        {
         "name": "genCode",
         "rawType": "object",
         "type": "string"
        },
        {
         "name": "periodes",
         "rawType": "category",
         "type": "unknown"
        },
        {
         "name": "per_10",
         "rawType": "category",
         "type": "unknown"
        }
       ],
       "ref": "81f8a43f-dcb0-45d2-8248-24ea8e2b53cb",
       "rows": [
        [
         "0",
         "http://www.wikidata.org/entity/Q125501035",
         "Christophe Pinard-Legry",
         "1971",
         "http://www.wikidata.org/entity/Q6581097",
         "M",
         "1950-1974",
         "1971-1980"
        ],
        [
         "1",
         "http://www.wikidata.org/entity/Q131461885",
         "Jean-Guillaume Kleis",
         "1988",
         "http://www.wikidata.org/entity/Q6581097",
         "M",
         "1975-1999",
         "1981-1990"
        ],
        [
         "2",
         "http://www.wikidata.org/entity/Q2966211",
         "Christophe Ducasse",
         "1956",
         "http://www.wikidata.org/entity/Q6581097",
         "M",
         "1950-1974",
         "1951-1960"
        ]
       ],
       "shape": {
        "columns": 7,
        "rows": 3
       }
      },
      "text/html": [
       "<div>\n",
       "<style scoped>\n",
       "    .dataframe tbody tr th:only-of-type {\n",
       "        vertical-align: middle;\n",
       "    }\n",
       "\n",
       "    .dataframe tbody tr th {\n",
       "        vertical-align: top;\n",
       "    }\n",
       "\n",
       "    .dataframe thead th {\n",
       "        text-align: right;\n",
       "    }\n",
       "</style>\n",
       "<table border=\"1\" class=\"dataframe\">\n",
       "  <thead>\n",
       "    <tr style=\"text-align: right;\">\n",
       "      <th></th>\n",
       "      <th>personUri</th>\n",
       "      <th>personLabel</th>\n",
       "      <th>birthYear</th>\n",
       "      <th>genderUri</th>\n",
       "      <th>genCode</th>\n",
       "      <th>periodes</th>\n",
       "      <th>per_10</th>\n",
       "    </tr>\n",
       "  </thead>\n",
       "  <tbody>\n",
       "    <tr>\n",
       "      <th>0</th>\n",
       "      <td>http://www.wikidata.org/entity/Q125501035</td>\n",
       "      <td>Christophe Pinard-Legry</td>\n",
       "      <td>1971</td>\n",
       "      <td>http://www.wikidata.org/entity/Q6581097</td>\n",
       "      <td>M</td>\n",
       "      <td>1950-1974</td>\n",
       "      <td>1971-1980</td>\n",
       "    </tr>\n",
       "    <tr>\n",
       "      <th>1</th>\n",
       "      <td>http://www.wikidata.org/entity/Q131461885</td>\n",
       "      <td>Jean-Guillaume Kleis</td>\n",
       "      <td>1988</td>\n",
       "      <td>http://www.wikidata.org/entity/Q6581097</td>\n",
       "      <td>M</td>\n",
       "      <td>1975-1999</td>\n",
       "      <td>1981-1990</td>\n",
       "    </tr>\n",
       "    <tr>\n",
       "      <th>2</th>\n",
       "      <td>http://www.wikidata.org/entity/Q2966211</td>\n",
       "      <td>Christophe Ducasse</td>\n",
       "      <td>1956</td>\n",
       "      <td>http://www.wikidata.org/entity/Q6581097</td>\n",
       "      <td>M</td>\n",
       "      <td>1950-1974</td>\n",
       "      <td>1951-1960</td>\n",
       "    </tr>\n",
       "  </tbody>\n",
       "</table>\n",
       "</div>"
      ],
      "text/plain": [
       "                                   personUri              personLabel  \\\n",
       "0  http://www.wikidata.org/entity/Q125501035  Christophe Pinard-Legry   \n",
       "1  http://www.wikidata.org/entity/Q131461885     Jean-Guillaume Kleis   \n",
       "2    http://www.wikidata.org/entity/Q2966211       Christophe Ducasse   \n",
       "\n",
       "   birthYear                                genderUri genCode   periodes  \\\n",
       "0       1971  http://www.wikidata.org/entity/Q6581097       M  1950-1974   \n",
       "1       1988  http://www.wikidata.org/entity/Q6581097       M  1975-1999   \n",
       "2       1956  http://www.wikidata.org/entity/Q6581097       M  1950-1974   \n",
       "\n",
       "      per_10  \n",
       "0  1971-1980  \n",
       "1  1981-1990  \n",
       "2  1951-1960  "
      ]
     },
     "execution_count": 43,
     "metadata": {},
     "output_type": "execute_result"
    }
   ],
   "source": [
    "### Découpage par décennies\n",
    "## fonction pd.cut : https://pandas.pydata.org/pandas-docs/stable/reference/api/pandas.cut.html\n",
    "\n",
    "cdf_p['per_10'] = pd.cut(cdf_p['birthYear'], l_10, right=False)\n",
    "\n",
    "### Transformer le code ajouté pour qu'il soit plus lisible\n",
    "# noter qu'on a arrondi les valeurs\n",
    "cdf_p['per_10'] = cdf_p['per_10'].apply(lambda x : str(int(x.left))+'-'+ str(int(x.right)-1))\n",
    "\n",
    "# Inspection\n",
    "cdf_p.head(3)"
   ]
  },
  {
   "cell_type": "code",
   "execution_count": 44,
   "id": "f536f408",
   "metadata": {},
   "outputs": [
    {
     "name": "stderr",
     "output_type": "stream",
     "text": [
      "C:\\Users\\laila\\AppData\\Local\\Temp\\ipykernel_3640\\3681042421.py:2: FutureWarning: The default of observed=False is deprecated and will be changed to True in a future version of pandas. Pass observed=False to retain current behavior or observed=True to adopt the future default and silence this warning.\n",
      "  gender_m_10 = pd.DataFrame(cdf_p[(cdf_p.genCode == 'M') & (cdf_p.birthYear > 1850)].groupby('per_10').size())\n"
     ]
    },
    {
     "data": {
      "application/vnd.microsoft.datawrangler.viewer.v0+json": {
       "columns": [
        {
         "name": "per_10",
         "rawType": "category",
         "type": "unknown"
        },
        {
         "name": "gen_m",
         "rawType": "int64",
         "type": "integer"
        }
       ],
       "ref": "923b35ed-222e-4edf-94d1-0e30fbbd0d16",
       "rows": [
        [
         "1951-1960",
         "55"
        ],
        [
         "1961-1970",
         "90"
        ],
        [
         "1971-1980",
         "62"
        ],
        [
         "1981-1990",
         "28"
        ],
        [
         "1991-2000",
         "12"
        ]
       ],
       "shape": {
        "columns": 1,
        "rows": 5
       }
      },
      "text/html": [
       "<div>\n",
       "<style scoped>\n",
       "    .dataframe tbody tr th:only-of-type {\n",
       "        vertical-align: middle;\n",
       "    }\n",
       "\n",
       "    .dataframe tbody tr th {\n",
       "        vertical-align: top;\n",
       "    }\n",
       "\n",
       "    .dataframe thead th {\n",
       "        text-align: right;\n",
       "    }\n",
       "</style>\n",
       "<table border=\"1\" class=\"dataframe\">\n",
       "  <thead>\n",
       "    <tr style=\"text-align: right;\">\n",
       "      <th></th>\n",
       "      <th>gen_m</th>\n",
       "    </tr>\n",
       "    <tr>\n",
       "      <th>per_10</th>\n",
       "      <th></th>\n",
       "    </tr>\n",
       "  </thead>\n",
       "  <tbody>\n",
       "    <tr>\n",
       "      <th>1951-1960</th>\n",
       "      <td>55</td>\n",
       "    </tr>\n",
       "    <tr>\n",
       "      <th>1961-1970</th>\n",
       "      <td>90</td>\n",
       "    </tr>\n",
       "    <tr>\n",
       "      <th>1971-1980</th>\n",
       "      <td>62</td>\n",
       "    </tr>\n",
       "    <tr>\n",
       "      <th>1981-1990</th>\n",
       "      <td>28</td>\n",
       "    </tr>\n",
       "    <tr>\n",
       "      <th>1991-2000</th>\n",
       "      <td>12</td>\n",
       "    </tr>\n",
       "  </tbody>\n",
       "</table>\n",
       "</div>"
      ],
      "text/plain": [
       "           gen_m\n",
       "per_10          \n",
       "1951-1960     55\n",
       "1961-1970     90\n",
       "1971-1980     62\n",
       "1981-1990     28\n",
       "1991-2000     12"
      ]
     },
     "execution_count": 44,
     "metadata": {},
     "output_type": "execute_result"
    }
   ],
   "source": [
    "### On regroupe par genre comme ci-dessus\n",
    "gender_m_10 = pd.DataFrame(cdf_p[(cdf_p.genCode == 'M') & (cdf_p.birthYear > 1850)].groupby('per_10').size())\n",
    "gender_m_10.columns = ['gen_m']\n",
    "gender_m_10.tail()"
   ]
  },
  {
   "cell_type": "code",
   "execution_count": 45,
   "id": "1207ff1d",
   "metadata": {},
   "outputs": [
    {
     "name": "stderr",
     "output_type": "stream",
     "text": [
      "C:\\Users\\laila\\AppData\\Local\\Temp\\ipykernel_3640\\393431033.py:2: FutureWarning: The default of observed=False is deprecated and will be changed to True in a future version of pandas. Pass observed=False to retain current behavior or observed=True to adopt the future default and silence this warning.\n",
      "  gender_f_10 = pd.DataFrame(cdf_p[(cdf_p.genCode == 'F')& (cdf_p.birthYear > 1850)].groupby('per_10').size())\n"
     ]
    },
    {
     "data": {
      "application/vnd.microsoft.datawrangler.viewer.v0+json": {
       "columns": [
        {
         "name": "per_10",
         "rawType": "category",
         "type": "unknown"
        },
        {
         "name": "gen_f",
         "rawType": "int64",
         "type": "integer"
        }
       ],
       "ref": "a79c7c87-94a4-4706-b661-126e21ce87a5",
       "rows": [
        [
         "1951-1960",
         "9"
        ],
        [
         "1961-1970",
         "23"
        ],
        [
         "1971-1980",
         "21"
        ],
        [
         "1981-1990",
         "10"
        ],
        [
         "1991-2000",
         "2"
        ]
       ],
       "shape": {
        "columns": 1,
        "rows": 5
       }
      },
      "text/html": [
       "<div>\n",
       "<style scoped>\n",
       "    .dataframe tbody tr th:only-of-type {\n",
       "        vertical-align: middle;\n",
       "    }\n",
       "\n",
       "    .dataframe tbody tr th {\n",
       "        vertical-align: top;\n",
       "    }\n",
       "\n",
       "    .dataframe thead th {\n",
       "        text-align: right;\n",
       "    }\n",
       "</style>\n",
       "<table border=\"1\" class=\"dataframe\">\n",
       "  <thead>\n",
       "    <tr style=\"text-align: right;\">\n",
       "      <th></th>\n",
       "      <th>gen_f</th>\n",
       "    </tr>\n",
       "    <tr>\n",
       "      <th>per_10</th>\n",
       "      <th></th>\n",
       "    </tr>\n",
       "  </thead>\n",
       "  <tbody>\n",
       "    <tr>\n",
       "      <th>1951-1960</th>\n",
       "      <td>9</td>\n",
       "    </tr>\n",
       "    <tr>\n",
       "      <th>1961-1970</th>\n",
       "      <td>23</td>\n",
       "    </tr>\n",
       "    <tr>\n",
       "      <th>1971-1980</th>\n",
       "      <td>21</td>\n",
       "    </tr>\n",
       "    <tr>\n",
       "      <th>1981-1990</th>\n",
       "      <td>10</td>\n",
       "    </tr>\n",
       "    <tr>\n",
       "      <th>1991-2000</th>\n",
       "      <td>2</td>\n",
       "    </tr>\n",
       "  </tbody>\n",
       "</table>\n",
       "</div>"
      ],
      "text/plain": [
       "           gen_f\n",
       "per_10          \n",
       "1951-1960      9\n",
       "1961-1970     23\n",
       "1971-1980     21\n",
       "1981-1990     10\n",
       "1991-2000      2"
      ]
     },
     "execution_count": 45,
     "metadata": {},
     "output_type": "execute_result"
    }
   ],
   "source": [
    "### Idem\n",
    "gender_f_10 = pd.DataFrame(cdf_p[(cdf_p.genCode == 'F')& (cdf_p.birthYear > 1850)].groupby('per_10').size())\n",
    "gender_f_10.columns = ['gen_f']\n",
    "gender_f_10.tail()"
   ]
  },
  {
   "cell_type": "code",
   "execution_count": 46,
   "id": "68ff49b8",
   "metadata": {},
   "outputs": [
    {
     "data": {
      "application/vnd.microsoft.datawrangler.viewer.v0+json": {
       "columns": [
        {
         "name": "per_10",
         "rawType": "category",
         "type": "unknown"
        },
        {
         "name": "gen_m",
         "rawType": "int64",
         "type": "integer"
        },
        {
         "name": "gen_f",
         "rawType": "int64",
         "type": "integer"
        }
       ],
       "ref": "6e6489df-d21c-4e76-aad4-5cbd4d2e06cc",
       "rows": [
        [
         "1951-1960",
         "55",
         "9"
        ],
        [
         "1961-1970",
         "90",
         "23"
        ],
        [
         "1971-1980",
         "62",
         "21"
        ],
        [
         "1981-1990",
         "28",
         "10"
        ],
        [
         "1991-2000",
         "12",
         "2"
        ]
       ],
       "shape": {
        "columns": 2,
        "rows": 5
       }
      },
      "text/html": [
       "<div>\n",
       "<style scoped>\n",
       "    .dataframe tbody tr th:only-of-type {\n",
       "        vertical-align: middle;\n",
       "    }\n",
       "\n",
       "    .dataframe tbody tr th {\n",
       "        vertical-align: top;\n",
       "    }\n",
       "\n",
       "    .dataframe thead th {\n",
       "        text-align: right;\n",
       "    }\n",
       "</style>\n",
       "<table border=\"1\" class=\"dataframe\">\n",
       "  <thead>\n",
       "    <tr style=\"text-align: right;\">\n",
       "      <th></th>\n",
       "      <th>gen_m</th>\n",
       "      <th>gen_f</th>\n",
       "    </tr>\n",
       "    <tr>\n",
       "      <th>per_10</th>\n",
       "      <th></th>\n",
       "      <th></th>\n",
       "    </tr>\n",
       "  </thead>\n",
       "  <tbody>\n",
       "    <tr>\n",
       "      <th>1951-1960</th>\n",
       "      <td>55</td>\n",
       "      <td>9</td>\n",
       "    </tr>\n",
       "    <tr>\n",
       "      <th>1961-1970</th>\n",
       "      <td>90</td>\n",
       "      <td>23</td>\n",
       "    </tr>\n",
       "    <tr>\n",
       "      <th>1971-1980</th>\n",
       "      <td>62</td>\n",
       "      <td>21</td>\n",
       "    </tr>\n",
       "    <tr>\n",
       "      <th>1981-1990</th>\n",
       "      <td>28</td>\n",
       "      <td>10</td>\n",
       "    </tr>\n",
       "    <tr>\n",
       "      <th>1991-2000</th>\n",
       "      <td>12</td>\n",
       "      <td>2</td>\n",
       "    </tr>\n",
       "  </tbody>\n",
       "</table>\n",
       "</div>"
      ],
      "text/plain": [
       "           gen_m  gen_f\n",
       "per_10                 \n",
       "1951-1960     55      9\n",
       "1961-1970     90     23\n",
       "1971-1980     62     21\n",
       "1981-1990     28     10\n",
       "1991-2000     12      2"
      ]
     },
     "execution_count": 46,
     "metadata": {},
     "output_type": "execute_result"
    }
   ],
   "source": [
    "merged_10 = pd.merge(gender_m_10, gender_f_10, left_index=True, right_index=True)\n",
    "merged_10.tail()"
   ]
  },
  {
   "cell_type": "code",
   "execution_count": 47,
   "id": "7ed59934",
   "metadata": {},
   "outputs": [
    {
     "data": {
      "application/vnd.microsoft.datawrangler.viewer.v0+json": {
       "columns": [
        {
         "name": "per_10",
         "rawType": "category",
         "type": "unknown"
        },
        {
         "name": "gen_m",
         "rawType": "int64",
         "type": "integer"
        },
        {
         "name": "gen_f",
         "rawType": "int64",
         "type": "integer"
        },
        {
         "name": "tot",
         "rawType": "int64",
         "type": "integer"
        }
       ],
       "ref": "dc35b5df-2335-4ef8-8056-7d13e5296f50",
       "rows": [
        [
         "1951-1960",
         "55",
         "9",
         "64"
        ],
        [
         "1961-1970",
         "90",
         "23",
         "113"
        ],
        [
         "1971-1980",
         "62",
         "21",
         "83"
        ],
        [
         "1981-1990",
         "28",
         "10",
         "38"
        ],
        [
         "1991-2000",
         "12",
         "2",
         "14"
        ]
       ],
       "shape": {
        "columns": 3,
        "rows": 5
       }
      },
      "text/html": [
       "<div>\n",
       "<style scoped>\n",
       "    .dataframe tbody tr th:only-of-type {\n",
       "        vertical-align: middle;\n",
       "    }\n",
       "\n",
       "    .dataframe tbody tr th {\n",
       "        vertical-align: top;\n",
       "    }\n",
       "\n",
       "    .dataframe thead th {\n",
       "        text-align: right;\n",
       "    }\n",
       "</style>\n",
       "<table border=\"1\" class=\"dataframe\">\n",
       "  <thead>\n",
       "    <tr style=\"text-align: right;\">\n",
       "      <th></th>\n",
       "      <th>gen_m</th>\n",
       "      <th>gen_f</th>\n",
       "      <th>tot</th>\n",
       "    </tr>\n",
       "    <tr>\n",
       "      <th>per_10</th>\n",
       "      <th></th>\n",
       "      <th></th>\n",
       "      <th></th>\n",
       "    </tr>\n",
       "  </thead>\n",
       "  <tbody>\n",
       "    <tr>\n",
       "      <th>1951-1960</th>\n",
       "      <td>55</td>\n",
       "      <td>9</td>\n",
       "      <td>64</td>\n",
       "    </tr>\n",
       "    <tr>\n",
       "      <th>1961-1970</th>\n",
       "      <td>90</td>\n",
       "      <td>23</td>\n",
       "      <td>113</td>\n",
       "    </tr>\n",
       "    <tr>\n",
       "      <th>1971-1980</th>\n",
       "      <td>62</td>\n",
       "      <td>21</td>\n",
       "      <td>83</td>\n",
       "    </tr>\n",
       "    <tr>\n",
       "      <th>1981-1990</th>\n",
       "      <td>28</td>\n",
       "      <td>10</td>\n",
       "      <td>38</td>\n",
       "    </tr>\n",
       "    <tr>\n",
       "      <th>1991-2000</th>\n",
       "      <td>12</td>\n",
       "      <td>2</td>\n",
       "      <td>14</td>\n",
       "    </tr>\n",
       "  </tbody>\n",
       "</table>\n",
       "</div>"
      ],
      "text/plain": [
       "           gen_m  gen_f  tot\n",
       "per_10                      \n",
       "1951-1960     55      9   64\n",
       "1961-1970     90     23  113\n",
       "1971-1980     62     21   83\n",
       "1981-1990     28     10   38\n",
       "1991-2000     12      2   14"
      ]
     },
     "execution_count": 47,
     "metadata": {},
     "output_type": "execute_result"
    }
   ],
   "source": [
    "### On transforme le type de valeur de l'index\n",
    "# et on ajoute une colonne avec le total\n",
    "merged_10.index = merged_10.index.map(str)\n",
    "merged_10['tot']=merged_10['gen_m']+merged_10['gen_f']\n",
    "merged_10.tail()"
   ]
  },
  {
   "cell_type": "code",
   "execution_count": 48,
   "id": "6a6ac7ea",
   "metadata": {},
   "outputs": [
    {
     "data": {
      "text/plain": [
       "[1.0, 1.0, 0.5]"
      ]
     },
     "execution_count": 48,
     "metadata": {},
     "output_type": "execute_result"
    }
   ],
   "source": [
    "### On prépare les valeurs pour l'affichage des fréquences (proportion par rapport au total)\n",
    "\n",
    "# liste qui contient toutes les valeurs à la suite\n",
    "m_f = merged_10.gen_m.to_list()+merged_10.gen_f.to_list()\n",
    "\n",
    "# liste d'égale longueur que la précédente qui contient \n",
    "# les valeurs de l'index, i.e. les périodes\n",
    "tot = merged_10.tot.to_list()*2\n",
    "\n",
    "# liste qui contient les valeurs des fréquences\n",
    "lp = [round(v/t, 2) for v,t in zip(m_f, tot)]\n",
    "lp[:3]"
   ]
  },
  {
   "cell_type": "code",
   "execution_count": 49,
   "id": "28fbb27b",
   "metadata": {},
   "outputs": [
    {
     "data": {
      "image/png": "[encoded data removed]",
      "text/plain": [
       "<Figure size 2000x800 with 1 Axes>"
      ]
     },
     "metadata": {},
     "output_type": "display_data"
    }
   ],
   "source": [
    "### Graphique avec la distribution par période et genre (M,F)\n",
    "# Noter que les effectifs du genre 'Autres' étant très faibles,\n",
    "# on ne les analyse pas de manière sérielle mais on peut les analyser qualitatiement\n",
    "\n",
    "ax = merged_10.plot.bar(stacked=True, y=['gen_m', 'gen_f'], \\\n",
    "                        rot=70, fontsize=9, figsize=(20,8), color=['LightSteelBlue', 'LightCoral'])\n",
    "\n",
    "\n",
    "### https://www.pythoncharts.com/matplotlib/stacked-bar-charts-labels/\n",
    "\n",
    "\n",
    "## On ajoute une étiquette concernant la valeur de fréquence\n",
    "# à chaque rectangle dans le graphe, en utilisant la list 'lp' préparée précédemment\n",
    "# Il y a autant de triangles que les valeurs d'index x le nombre de variables\n",
    "\n",
    "for bar,v in zip(ax.patches,lp): \n",
    "\n",
    "    ax.text(\n",
    "      # Met les étiquette aux centre des rectangles\n",
    "      bar.get_x() + bar.get_width() / 2,\n",
    "        \n",
    "      # Ajoute les coordonnées verticales\n",
    "      bar.get_height()/2 + bar.get_y(), \n",
    "      \n",
    "      # Ajoute les valeurs\n",
    "      v,\n",
    "\n",
    "      # centre et met du style aux étiquettes\n",
    "      ha='center',\n",
    "      color='black',\n",
    "      weight='bold',\n",
    "      size=10\n",
    "  )\n",
    "\n",
    "plt.ylabel('Effectifs par période avec proportion des genres')\n",
    "plt.xlabel('Périodes')\n",
    "plt.title('Distribution des naissances par périodes de dix ans, proportion des genres par période')\n",
    "\n",
    "## On peut enregistrer l'image dans un fichier (noter le dossier créé préalablement)\n",
    "# qu'on pourra ensuite introduire dans un travail et commenter\n",
    "\n",
    "# Doc.: https://matplotlib.org/stable/api/_as_gen/matplotlib.pyplot.savefig.html\n",
    "plt.savefig('naissances_distribution_10ans_genre.jpg', bbox_inches='tight',\n",
    "                       pad_inches=0.2)\n",
    "plt.show()"
   ]
  }
 ],
 "metadata": {
  "kernelspec": {
   "display_name": "Python 3",
   "language": "python",
   "name": "python3"
  },
  "language_info": {
   "codemirror_mode": {
    "name": "ipython",
    "version": 3
   },
   "file_extension": ".py",
   "mimetype": "text/x-python",
   "name": "python",
   "nbconvert_exporter": "python",
   "pygments_lexer": "ipython3",
   "version": "3.13.3"
  }
 },
 "nbformat": 4,
 "nbformat_minor": 5
}
