{
 "cells": [
  {
   "cell_type": "markdown",
   "metadata": {},
   "source": [
    "# Networks of organisations\n",
    "\n",
    "\n",
    "  \n",
    "* *Exploratory SNA* book's chapter 5 about 'Affiliations'\n",
    "* Cf. [this notebook](https://github.com/Sciences-historiques-numeriques/histoire_numerique_methodes/blob/main/analyse_reseaux/pajek_book/chapter5_affiliations.ipynb) \n",
    "\n"
   ]
  },
  {
   "cell_type": "code",
   "execution_count": 1,
   "metadata": {},
   "outputs": [],
   "source": [
    "### Librairie à installer dans l'environnement conda (si on exécute en local)\n",
    "# qui sera choisi pour exécuter le carnet\n",
    "\n",
    "%matplotlib inline\n",
    "\n",
    "from SPARQLWrapper import SPARQLWrapper, JSON, TURTLE, XML, RDFXML\n",
    "import pandas as pd\n",
    "\n",
    "import scipy.stats as stats\n",
    "\n",
    "import networkx as nx\n",
    "from networkx.algorithms import bipartite\n",
    "\n",
    "import matplotlib.pyplot as plt\n",
    "import matplotlib.patches as patches\n",
    "\n",
    "import numpy as np\n",
    "import seaborn as sns\n",
    "import math\n",
    "import os"
   ]
  },
  {
   "cell_type": "code",
   "execution_count": 2,
   "metadata": {},
   "outputs": [],
   "source": [
    "### Librairies déjà installées avec Python\n",
    "import pprint\n",
    "import csv\n",
    "\n",
    "import sqlite3 as sql\n",
    "\n",
    "import time\n",
    "import datetime\n",
    "from dateutil import parser\n",
    "\n",
    "\n",
    "from shutil import copyfile\n"
   ]
  },
  {
   "cell_type": "code",
   "execution_count": 3,
   "metadata": {},
   "outputs": [],
   "source": [
    "### Importer un module de fonctions crées ad hoc\n",
    "##  ATTENTION : le fichier 'sparql_functions.py' doit se trouver \n",
    "#   dans un dossier qui se situe dans le chemin ('path') de recherche\n",
    "#   vu par le présent carnet Jupyter afin que\n",
    "#   l'importation fonctionne correctement\n",
    "\n",
    "import sys\n",
    "from importlib import reload\n",
    "\n",
    "# Add parent directory to the path\n",
    "sys.path.insert(0, '..')\n",
    "\n",
    "### If you want to add the parent-parent directory,\n",
    "sys.path.insert(0, '../..')\n",
    "\n",
    "\n",
    "import sparql_functions as spqf\n",
    "import network_analysis_functions as naf"
   ]
  },
  {
   "cell_type": "code",
   "execution_count": 4,
   "metadata": {},
   "outputs": [
    {
     "name": "stdout",
     "output_type": "stream",
     "text": [
      "<module 'network_analysis_functions' from 'c:\\\\Users\\\\laila\\\\OneDrive\\\\Documents\\\\Uni\\\\2e année\\\\Semestre 4\\\\Application de méthodes numériques pour les sciences humaines et historiques\\\\French_CEOs\\\\notebooks_jupyter\\\\network_analysis_functions.py'>\n"
     ]
    }
   ],
   "source": [
    "print(reload(naf))  "
   ]
  },
  {
   "cell_type": "markdown",
   "metadata": {},
   "source": [
    "## Get the data from the triplestore\n",
    "\n",
    "This notebook is based on the same relationships (and therefore data) as [the one about persons' relationships](wdt_persons_organisations_networks.ipynb), namely the relationship between persons and organisations as original information.\n",
    "\n",
    "Here, however, we will focus on relationships between institutions, so the treatment is different.\n"
   ]
  },
  {
   "cell_type": "code",
   "execution_count": 5,
   "metadata": {},
   "outputs": [],
   "source": [
    "## define SPARQL enpoint\n",
    "endpoint = \"https://ag15yee0az6rmk64.allegrograph.cloud/repositories/ceos\""
   ]
  },
  {
   "cell_type": "code",
   "execution_count": 6,
   "metadata": {},
   "outputs": [],
   "source": [
    "query = \"\"\"\n",
    "\n",
    "PREFIX franzOption_defaultDatasetBehavior: <franz:rdf>\n",
    "PREFIX wd: <http://www.wikidata.org/entity/>\n",
    "PREFIX wdt: <http://www.wikidata.org/prop/direct/>\n",
    "PREFIX rdf: <http://www.w3.org/1999/02/22-rdf-syntax-ns#>\n",
    "PREFIX rdfs: <http://www.w3.org/2000/01/rdf-schema#>\n",
    "PREFIX crm: <http://www.cidoc-crm.org/cidoc-crm/>\n",
    "PREFIX wikibase: <http://wikiba.se/ontology#>\n",
    "PREFIX bd: <http://www.bigdata.com/rdf#>\n",
    "\n",
    "\n",
    "SELECT ?person (MIN(?pLabel) AS ?personLabel)\n",
    "        (MIN(?birthYear) AS ?birthYear)\n",
    "        ?relationship \n",
    "        ?organisation (MIN(?oLabel) AS ?organisationLabel)\n",
    "        (COUNT(*) as ?n) \n",
    "        (GROUP_CONCAT(DISTINCT ?groupTypeLabel; separator=\" | \") AS ?groupTypes) \n",
    "        #(GROUP_CONCAT(DISTINCT ?countryLabel; separator=\" | \") AS ?countries) \n",
    "\n",
    "WHERE {\n",
    "        GRAPH <https://github.com/Laillaa/French_CEOs/blob/main/graphs/Wikidata-imported-data.md>\n",
    "        {\n",
    "        {?person a wd:Q5;\n",
    "           rdfs:label ?pLabel;\n",
    "           wdt:P569 ?birthYear.\n",
    "        }\n",
    "\n",
    "\n",
    "        {?person wdt:P108 ?organisation.\n",
    "        BIND('employment' AS ?relationship)\n",
    "        }   \n",
    "        UNION\n",
    "        {?person wdt:P463 ?organisation.\n",
    "        BIND('membership' AS ?relationship)\n",
    "        }   \n",
    "        UNION\n",
    "        {?person wdt:P69 ?organisation.\n",
    "        BIND('education' AS ?relationship)\n",
    "        }  \n",
    "        ?organisation rdfs:label ?oLabel;\n",
    "                # instance of\n",
    "                wdt:P31 ?groupType.\n",
    "        ?groupType rdfs:label ?groupTypeLabel         \n",
    "        \n",
    "        # OPTIONAL {\n",
    "        #    ?organisation wdt:P17 ?country.\n",
    "        #    ?country rdfs:label ?countryLabel.\n",
    "        # }\n",
    "\n",
    "         }        \n",
    "\n",
    "\n",
    "\n",
    "    }\n",
    "\n",
    "GROUP BY ?person ?relationship ?organisation   \n",
    "ORDER by ?person \n",
    "\"\"\""
   ]
  },
  {
   "cell_type": "code",
   "execution_count": 7,
   "metadata": {},
   "outputs": [
    {
     "name": "stdout",
     "output_type": "stream",
     "text": [
      "3839\n",
      "[['http://www.wikidata.org/entity/Q105693319',\n",
      "  'Laurent Prud’homme',\n",
      "  '1974',\n",
      "  'membership',\n",
      "  'http://www.wikidata.org/entity/Q131137989',\n",
      "  'emlyon alumni',\n",
      "  '2',\n",
      "  'alumni association | organization'],\n",
      " ['http://www.wikidata.org/entity/Q105693319',\n",
      "  'Laurent Prud’homme',\n",
      "  '1974',\n",
      "  'education',\n",
      "  'http://www.wikidata.org/entity/Q1795504',\n",
      "  'Emlyon Business School',\n",
      "  '1',\n",
      "  'grande école'],\n",
      " ['http://www.wikidata.org/entity/Q105693319',\n",
      "  'Laurent Prud’homme',\n",
      "  '1974',\n",
      "  'education',\n",
      "  'http://www.wikidata.org/entity/Q662976',\n",
      "  'Panthéon-Assas University Paris',\n",
      "  '1',\n",
      "  'university in France']]\n"
     ]
    }
   ],
   "source": [
    "### Executer la requête avec les fonctions de la librairie locale\n",
    "try:\n",
    "    qr = spqf.get_json_sparql_result(endpoint,query)\n",
    "    out = [l for l in spqf.sparql_result_to_list(qr)]\n",
    "    print(len(out))\n",
    "    pprint.pprint(out[100:103])\n",
    "except Exception as e:\n",
    "    print(e)    \n"
   ]
  },
  {
   "cell_type": "markdown",
   "metadata": {},
   "source": [
    "## Inspect the data\n"
   ]
  },
  {
   "cell_type": "code",
   "execution_count": 8,
   "metadata": {},
   "outputs": [
    {
     "name": "stdout",
     "output_type": "stream",
     "text": [
      "Number:  3839\n"
     ]
    },
    {
     "data": {
      "application/vnd.microsoft.datawrangler.viewer.v0+json": {
       "columns": [
        {
         "name": "index",
         "rawType": "int64",
         "type": "integer"
        },
        {
         "name": "uriPer",
         "rawType": "object",
         "type": "string"
        },
        {
         "name": "labelPer",
         "rawType": "object",
         "type": "string"
        },
        {
         "name": "birthYear",
         "rawType": "object",
         "type": "string"
        },
        {
         "name": "relaType",
         "rawType": "object",
         "type": "string"
        },
        {
         "name": "uriOrg",
         "rawType": "object",
         "type": "string"
        },
        {
         "name": "labelOrg",
         "rawType": "object",
         "type": "string"
        },
        {
         "name": "nTypes",
         "rawType": "object",
         "type": "string"
        },
        {
         "name": "typesOrg",
         "rawType": "object",
         "type": "string"
        }
       ],
       "ref": "c9177a3e-513d-45ff-9c91-ada93b879d66",
       "rows": [
        [
         "10",
         "http://www.wikidata.org/entity/Q100997694",
         "Jean-Luc Chetrit",
         "1965",
         "education",
         "http://www.wikidata.org/entity/Q1795504",
         "Emlyon Business School",
         "1",
         "grande école"
        ],
        [
         "11",
         "http://www.wikidata.org/entity/Q101112672",
         "Markus Krah",
         "1968",
         "education",
         "http://www.wikidata.org/entity/Q1688743",
         "Jewish Theological Seminary of America",
         "2",
         "Jewish seminary | private not-for-profit educational institution"
        ],
        [
         "12",
         "http://www.wikidata.org/entity/Q101112672",
         "Markus Krah",
         "1968",
         "education",
         "http://www.wikidata.org/entity/Q168000",
         "American University",
         "3",
         "private not-for-profit educational institution | research university | private university"
        ]
       ],
       "shape": {
        "columns": 8,
        "rows": 3
       }
      },
      "text/html": [
       "<div>\n",
       "<style scoped>\n",
       "    .dataframe tbody tr th:only-of-type {\n",
       "        vertical-align: middle;\n",
       "    }\n",
       "\n",
       "    .dataframe tbody tr th {\n",
       "        vertical-align: top;\n",
       "    }\n",
       "\n",
       "    .dataframe thead th {\n",
       "        text-align: right;\n",
       "    }\n",
       "</style>\n",
       "<table border=\"1\" class=\"dataframe\">\n",
       "  <thead>\n",
       "    <tr style=\"text-align: right;\">\n",
       "      <th></th>\n",
       "      <th>uriPer</th>\n",
       "      <th>labelPer</th>\n",
       "      <th>birthYear</th>\n",
       "      <th>relaType</th>\n",
       "      <th>uriOrg</th>\n",
       "      <th>labelOrg</th>\n",
       "      <th>nTypes</th>\n",
       "      <th>typesOrg</th>\n",
       "    </tr>\n",
       "  </thead>\n",
       "  <tbody>\n",
       "    <tr>\n",
       "      <th>10</th>\n",
       "      <td>http://www.wikidata.org/entity/Q100997694</td>\n",
       "      <td>Jean-Luc Chetrit</td>\n",
       "      <td>1965</td>\n",
       "      <td>education</td>\n",
       "      <td>http://www.wikidata.org/entity/Q1795504</td>\n",
       "      <td>Emlyon Business School</td>\n",
       "      <td>1</td>\n",
       "      <td>grande école</td>\n",
       "    </tr>\n",
       "    <tr>\n",
       "      <th>11</th>\n",
       "      <td>http://www.wikidata.org/entity/Q101112672</td>\n",
       "      <td>Markus Krah</td>\n",
       "      <td>1968</td>\n",
       "      <td>education</td>\n",
       "      <td>http://www.wikidata.org/entity/Q1688743</td>\n",
       "      <td>Jewish Theological Seminary of America</td>\n",
       "      <td>2</td>\n",
       "      <td>Jewish seminary | private not-for-profit educa...</td>\n",
       "    </tr>\n",
       "    <tr>\n",
       "      <th>12</th>\n",
       "      <td>http://www.wikidata.org/entity/Q101112672</td>\n",
       "      <td>Markus Krah</td>\n",
       "      <td>1968</td>\n",
       "      <td>education</td>\n",
       "      <td>http://www.wikidata.org/entity/Q168000</td>\n",
       "      <td>American University</td>\n",
       "      <td>3</td>\n",
       "      <td>private not-for-profit educational institution...</td>\n",
       "    </tr>\n",
       "  </tbody>\n",
       "</table>\n",
       "</div>"
      ],
      "text/plain": [
       "                                       uriPer          labelPer birthYear  \\\n",
       "10  http://www.wikidata.org/entity/Q100997694  Jean-Luc Chetrit      1965   \n",
       "11  http://www.wikidata.org/entity/Q101112672       Markus Krah      1968   \n",
       "12  http://www.wikidata.org/entity/Q101112672       Markus Krah      1968   \n",
       "\n",
       "     relaType                                   uriOrg  \\\n",
       "10  education  http://www.wikidata.org/entity/Q1795504   \n",
       "11  education  http://www.wikidata.org/entity/Q1688743   \n",
       "12  education   http://www.wikidata.org/entity/Q168000   \n",
       "\n",
       "                                  labelOrg nTypes  \\\n",
       "10                  Emlyon Business School      1   \n",
       "11  Jewish Theological Seminary of America      2   \n",
       "12                     American University      3   \n",
       "\n",
       "                                             typesOrg  \n",
       "10                                       grande école  \n",
       "11  Jewish seminary | private not-for-profit educa...  \n",
       "12  private not-for-profit educational institution...  "
      ]
     },
     "execution_count": 8,
     "metadata": {},
     "output_type": "execute_result"
    }
   ],
   "source": [
    "### Créer un DataFrame à partir du résultat\n",
    "df_p = pd.DataFrame(out)\n",
    "df_p.columns = ['uriPer', 'labelPer', 'birthYear', 'relaType', 'uriOrg', 'labelOrg', 'nTypes',\n",
    "                'typesOrg']\n",
    "print('Number: ',len(df_p))\n",
    "df_p.iloc[10:13,:]\n"
   ]
  },
  {
   "cell_type": "markdown",
   "metadata": {},
   "source": [
    "### Distribution of relationships in relation to birthYears of organisations members"
   ]
  },
  {
   "cell_type": "code",
   "execution_count": 9,
   "metadata": {},
   "outputs": [
    {
     "name": "stdout",
     "output_type": "stream",
     "text": [
      "[1761, 1791, 1821, 1851, 1881, 1911, 1941, 1971, 2001, 2031]\n"
     ]
    }
   ],
   "source": [
    "l_50 = list(range(1761, 2051, 30))\n",
    "print(l_50)"
   ]
  },
  {
   "cell_type": "code",
   "execution_count": 10,
   "metadata": {},
   "outputs": [],
   "source": [
    "### We adapt the periods manually,\n",
    "# we would like to have eight periods\n",
    "# making sense from an historical point of view \n",
    "lc = [1751, 1801, 1851, 1901, 1921, 1941, 1961, 1981, 2001]"
   ]
  },
  {
   "cell_type": "code",
   "execution_count": 11,
   "metadata": {},
   "outputs": [],
   "source": [
    "### 30 years periods, but some customisations\n",
    "lc = [1751, 1811, 1851, 1881, 1911, 1941, 1971, 2001]"
   ]
  },
  {
   "cell_type": "code",
   "execution_count": 12,
   "metadata": {},
   "outputs": [],
   "source": [
    "### convert birthYear to integer\n",
    "df_p.birthYear = df_p.birthYear.apply(lambda x : int(x))"
   ]
  },
  {
   "cell_type": "code",
   "execution_count": 13,
   "metadata": {},
   "outputs": [
    {
     "data": {
      "application/vnd.microsoft.datawrangler.viewer.v0+json": {
       "columns": [
        {
         "name": "index",
         "rawType": "int64",
         "type": "integer"
        },
        {
         "name": "uriPer",
         "rawType": "object",
         "type": "string"
        },
        {
         "name": "labelPer",
         "rawType": "object",
         "type": "string"
        },
        {
         "name": "birthYear",
         "rawType": "int64",
         "type": "integer"
        },
        {
         "name": "relaType",
         "rawType": "object",
         "type": "string"
        },
        {
         "name": "uriOrg",
         "rawType": "object",
         "type": "string"
        },
        {
         "name": "labelOrg",
         "rawType": "object",
         "type": "string"
        },
        {
         "name": "nTypes",
         "rawType": "object",
         "type": "string"
        },
        {
         "name": "typesOrg",
         "rawType": "object",
         "type": "string"
        },
        {
         "name": "periods",
         "rawType": "category",
         "type": "unknown"
        }
       ],
       "ref": "c077cc0f-1094-4d39-8692-8d5b8e0c7bd1",
       "rows": [
        [
         "1",
         "http://www.wikidata.org/entity/Q100158636",
         "Amanda Pritchard",
         "1976",
         "education",
         "http://www.wikidata.org/entity/Q5316528",
         "Durham Johnston Comprehensive School",
         "2",
         "secondary school | community school",
         "1971-2000"
        ],
        [
         "5",
         "http://www.wikidata.org/entity/Q100705519",
         "Ponce",
         "1991",
         "education",
         "http://www.wikidata.org/entity/Q3578313",
         "École polytechnique universitaire de Montpellier",
         "2",
         "engineering college | grande école",
         "1971-2000"
        ],
        [
         "10",
         "http://www.wikidata.org/entity/Q100997694",
         "Jean-Luc Chetrit",
         "1965",
         "education",
         "http://www.wikidata.org/entity/Q1795504",
         "Emlyon Business School",
         "1",
         "grande école",
         "1941-1970"
        ]
       ],
       "shape": {
        "columns": 9,
        "rows": 3
       }
      },
      "text/html": [
       "<div>\n",
       "<style scoped>\n",
       "    .dataframe tbody tr th:only-of-type {\n",
       "        vertical-align: middle;\n",
       "    }\n",
       "\n",
       "    .dataframe tbody tr th {\n",
       "        vertical-align: top;\n",
       "    }\n",
       "\n",
       "    .dataframe thead th {\n",
       "        text-align: right;\n",
       "    }\n",
       "</style>\n",
       "<table border=\"1\" class=\"dataframe\">\n",
       "  <thead>\n",
       "    <tr style=\"text-align: right;\">\n",
       "      <th></th>\n",
       "      <th>uriPer</th>\n",
       "      <th>labelPer</th>\n",
       "      <th>birthYear</th>\n",
       "      <th>relaType</th>\n",
       "      <th>uriOrg</th>\n",
       "      <th>labelOrg</th>\n",
       "      <th>nTypes</th>\n",
       "      <th>typesOrg</th>\n",
       "      <th>periods</th>\n",
       "    </tr>\n",
       "  </thead>\n",
       "  <tbody>\n",
       "    <tr>\n",
       "      <th>1</th>\n",
       "      <td>http://www.wikidata.org/entity/Q100158636</td>\n",
       "      <td>Amanda Pritchard</td>\n",
       "      <td>1976</td>\n",
       "      <td>education</td>\n",
       "      <td>http://www.wikidata.org/entity/Q5316528</td>\n",
       "      <td>Durham Johnston Comprehensive School</td>\n",
       "      <td>2</td>\n",
       "      <td>secondary school | community school</td>\n",
       "      <td>1971-2000</td>\n",
       "    </tr>\n",
       "    <tr>\n",
       "      <th>5</th>\n",
       "      <td>http://www.wikidata.org/entity/Q100705519</td>\n",
       "      <td>Ponce</td>\n",
       "      <td>1991</td>\n",
       "      <td>education</td>\n",
       "      <td>http://www.wikidata.org/entity/Q3578313</td>\n",
       "      <td>École polytechnique universitaire de Montpellier</td>\n",
       "      <td>2</td>\n",
       "      <td>engineering college | grande école</td>\n",
       "      <td>1971-2000</td>\n",
       "    </tr>\n",
       "    <tr>\n",
       "      <th>10</th>\n",
       "      <td>http://www.wikidata.org/entity/Q100997694</td>\n",
       "      <td>Jean-Luc Chetrit</td>\n",
       "      <td>1965</td>\n",
       "      <td>education</td>\n",
       "      <td>http://www.wikidata.org/entity/Q1795504</td>\n",
       "      <td>Emlyon Business School</td>\n",
       "      <td>1</td>\n",
       "      <td>grande école</td>\n",
       "      <td>1941-1970</td>\n",
       "    </tr>\n",
       "  </tbody>\n",
       "</table>\n",
       "</div>"
      ],
      "text/plain": [
       "                                       uriPer          labelPer  birthYear  \\\n",
       "1   http://www.wikidata.org/entity/Q100158636  Amanda Pritchard       1976   \n",
       "5   http://www.wikidata.org/entity/Q100705519             Ponce       1991   \n",
       "10  http://www.wikidata.org/entity/Q100997694  Jean-Luc Chetrit       1965   \n",
       "\n",
       "     relaType                                   uriOrg  \\\n",
       "1   education  http://www.wikidata.org/entity/Q5316528   \n",
       "5   education  http://www.wikidata.org/entity/Q3578313   \n",
       "10  education  http://www.wikidata.org/entity/Q1795504   \n",
       "\n",
       "                                            labelOrg nTypes  \\\n",
       "1               Durham Johnston Comprehensive School      2   \n",
       "5   École polytechnique universitaire de Montpellier      2   \n",
       "10                            Emlyon Business School      1   \n",
       "\n",
       "                               typesOrg    periods  \n",
       "1   secondary school | community school  1971-2000  \n",
       "5    engineering college | grande école  1971-2000  \n",
       "10                         grande école  1941-1970  "
      ]
     },
     "execution_count": 13,
     "metadata": {},
     "output_type": "execute_result"
    }
   ],
   "source": [
    "### fonction pd.cut : https://pandas.pydata.org/pandas-docs/stable/reference/api/pandas.cut.html\n",
    "# On ajoute une nouvelle colonne qui contient la période sur la base de la liste précédente\n",
    "# et de la valeur de l'année\n",
    "df_p['periods'] = pd.cut(df_p['birthYear'], lc, right=False)\n",
    "\n",
    "### Transformer le code ajouté pour qu'il soit plus lisible\n",
    "# noter qu'on a arrondi les valeurs\n",
    "df_p['periods'] = df_p['periods'].apply(lambda x : str(int(x.left))+'-'+ str(int(x.right)-1))\n",
    "\n",
    "# Inspection\n",
    "df_p.iloc[[1,5,10]]"
   ]
  },
  {
   "cell_type": "markdown",
   "metadata": {},
   "source": [
    "#### Reload from CSV\n",
    "\n",
    "This is only possible if you already stored the data into a CSV, cf. below"
   ]
  },
  {
   "cell_type": "code",
   "execution_count": 14,
   "metadata": {},
   "outputs": [
    {
     "data": {
      "text/plain": [
       "\"\\nfile_add = 'data/persons_organisations_from_organisations.csv'\\ndf_p=pd.read_csv(file_add)\\nprint(len(df_p))\\ndf_p.head(2)\\n\""
      ]
     },
     "execution_count": 14,
     "metadata": {},
     "output_type": "execute_result"
    }
   ],
   "source": [
    "### load from CSV\n",
    "'''\n",
    "file_add = 'data/persons_organisations_from_organisations.csv'\n",
    "df_p=pd.read_csv(file_add)\n",
    "print(len(df_p))\n",
    "df_p.head(2)\n",
    "'''"
   ]
  },
  {
   "cell_type": "code",
   "execution_count": 15,
   "metadata": {},
   "outputs": [
    {
     "name": "stdout",
     "output_type": "stream",
     "text": [
      "periods\n",
      "1811-1850       7\n",
      "1851-1880      17\n",
      "1881-1910      89\n",
      "1911-1940     291\n",
      "1941-1970    2271\n",
      "1971-2000    1164\n",
      "dtype: int64\n"
     ]
    }
   ],
   "source": [
    "### Group by periods\n",
    "df_period = df_p.groupby(by='periods', observed=True).size()\n",
    "print(df_period)"
   ]
  },
  {
   "cell_type": "code",
   "execution_count": 16,
   "metadata": {},
   "outputs": [
    {
     "data": {
      "image/png": "[encoded data removed]",
      "text/plain": [
       "<Figure size 800x600 with 1 Axes>"
      ]
     },
     "metadata": {},
     "output_type": "display_data"
    }
   ],
   "source": [
    "ax = df_period.plot(kind='bar',rot=50, fontsize=10, figsize=(8,6))\n",
    "ax.bar_label(ax.containers[-1], size=10)\n",
    "plt.ylabel('Number')\n",
    "plt.xlabel('Periods')\n",
    "plt.title('Distribution of relationships in relation to generations')\n",
    "plt.show()"
   ]
  },
  {
   "cell_type": "markdown",
   "metadata": {},
   "source": [
    "### Inspect available relationships"
   ]
  },
  {
   "cell_type": "code",
   "execution_count": 17,
   "metadata": {},
   "outputs": [
    {
     "name": "stdout",
     "output_type": "stream",
     "text": [
      "relaType\n",
      "education     3288\n",
      "employment     127\n",
      "membership     424\n",
      "dtype: int64\n"
     ]
    }
   ],
   "source": [
    "### Available relationships\n",
    "print(df_p.groupby(by='relaType').size())"
   ]
  },
  {
   "cell_type": "code",
   "execution_count": 18,
   "metadata": {},
   "outputs": [
    {
     "name": "stdout",
     "output_type": "stream",
     "text": [
      "      periods    relaType  size\n",
      "0   1811-1850   education     3\n",
      "1   1811-1850  employment     2\n",
      "2   1811-1850  membership     2\n",
      "3   1851-1880   education    13\n",
      "4   1851-1880  employment     1\n",
      "5   1851-1880  membership     3\n",
      "6   1881-1910   education    61\n",
      "7   1881-1910  employment     6\n",
      "8   1881-1910  membership    22\n",
      "9   1911-1940   education   246\n",
      "10  1911-1940  employment    19\n",
      "11  1911-1940  membership    26\n",
      "12  1941-1970   education  1982\n",
      "13  1941-1970  employment    65\n",
      "14  1941-1970  membership   224\n",
      "15  1971-2000   education   983\n",
      "16  1971-2000  employment    34\n",
      "17  1971-2000  membership   147\n"
     ]
    }
   ],
   "source": [
    "dfg_pr=df_p.groupby(by=['periods','relaType'], observed=True, as_index=False).size()\n",
    "print(dfg_pr)"
   ]
  },
  {
   "cell_type": "code",
   "execution_count": 19,
   "metadata": {},
   "outputs": [
    {
     "data": {
      "image/png": "[encoded data removed]",
      "text/plain": [
       "<Figure size 800x600 with 1 Axes>"
      ]
     },
     "metadata": {},
     "output_type": "display_data"
    }
   ],
   "source": [
    "%matplotlib inline\n",
    "plt.figure(figsize=(8, 6)) \n",
    "ax = sns.barplot(data=dfg_pr, x='periods', y='size', hue='relaType', palette='Blues')\n",
    "ax.tick_params(axis='x', labelrotation=45)\n"
   ]
  },
  {
   "cell_type": "markdown",
   "metadata": {},
   "source": [
    "### Clean up organisations type"
   ]
  },
  {
   "cell_type": "code",
   "execution_count": 20,
   "metadata": {},
   "outputs": [
    {
     "name": "stdout",
     "output_type": "stream",
     "text": [
      "3839\n",
      "[['collegiate university',\n",
      "  'educational organization',\n",
      "  'exempt charity',\n",
      "  'higher education institution',\n",
      "  'organization',\n",
      "  'public university'],\n",
      " ['community school', 'secondary school'],\n",
      " ['open-access publisher',\n",
      "  'private not-for-profit educational institution',\n",
      "  'private university',\n",
      "  'research university']]\n"
     ]
    }
   ],
   "source": [
    "### Transform types' strings to alphabetically sorted lists and delete additional white spaces\n",
    "df_p['listTypesOrg'] = df_p.typesOrg.apply(lambda x : sorted([e.strip().lower() for e in x.split('|')]))\n",
    "\n",
    "ll = df_p.listTypesOrg.to_list()\n",
    "print(len(ll))\n",
    "pprint.pprint(ll[:3])\n"
   ]
  },
  {
   "cell_type": "code",
   "execution_count": 21,
   "metadata": {},
   "outputs": [
    {
     "data": {
      "application/vnd.microsoft.datawrangler.viewer.v0+json": {
       "columns": [
        {
         "name": "index",
         "rawType": "int64",
         "type": "integer"
        },
        {
         "name": "uriPer",
         "rawType": "object",
         "type": "string"
        },
        {
         "name": "labelPer",
         "rawType": "object",
         "type": "string"
        },
        {
         "name": "birthYear",
         "rawType": "int64",
         "type": "integer"
        },
        {
         "name": "relaType",
         "rawType": "object",
         "type": "string"
        },
        {
         "name": "uriOrg",
         "rawType": "object",
         "type": "string"
        },
        {
         "name": "labelOrg",
         "rawType": "object",
         "type": "string"
        },
        {
         "name": "nTypes",
         "rawType": "object",
         "type": "string"
        },
        {
         "name": "typesOrg",
         "rawType": "object",
         "type": "string"
        },
        {
         "name": "periods",
         "rawType": "category",
         "type": "unknown"
        },
        {
         "name": "listTypesOrg",
         "rawType": "object",
         "type": "unknown"
        }
       ],
       "ref": "a675e36c-723a-4f23-b338-06e70716293c",
       "rows": [
        [
         "1",
         "http://www.wikidata.org/entity/Q100158636",
         "Amanda Pritchard",
         "1976",
         "education",
         "http://www.wikidata.org/entity/Q5316528",
         "Durham Johnston Comprehensive School",
         "2",
         "community school | secondary school",
         "1971-2000",
         "['community school', 'secondary school']"
        ],
        [
         "5",
         "http://www.wikidata.org/entity/Q100705519",
         "Ponce",
         "1991",
         "education",
         "http://www.wikidata.org/entity/Q3578313",
         "École polytechnique universitaire de Montpellier",
         "2",
         "engineering college | grande école",
         "1971-2000",
         "['engineering college', 'grande école']"
        ],
        [
         "10",
         "http://www.wikidata.org/entity/Q100997694",
         "Jean-Luc Chetrit",
         "1965",
         "education",
         "http://www.wikidata.org/entity/Q1795504",
         "Emlyon Business School",
         "1",
         "grande école",
         "1941-1970",
         "['grande école']"
        ]
       ],
       "shape": {
        "columns": 10,
        "rows": 3
       }
      },
      "text/html": [
       "<div>\n",
       "<style scoped>\n",
       "    .dataframe tbody tr th:only-of-type {\n",
       "        vertical-align: middle;\n",
       "    }\n",
       "\n",
       "    .dataframe tbody tr th {\n",
       "        vertical-align: top;\n",
       "    }\n",
       "\n",
       "    .dataframe thead th {\n",
       "        text-align: right;\n",
       "    }\n",
       "</style>\n",
       "<table border=\"1\" class=\"dataframe\">\n",
       "  <thead>\n",
       "    <tr style=\"text-align: right;\">\n",
       "      <th></th>\n",
       "      <th>uriPer</th>\n",
       "      <th>labelPer</th>\n",
       "      <th>birthYear</th>\n",
       "      <th>relaType</th>\n",
       "      <th>uriOrg</th>\n",
       "      <th>labelOrg</th>\n",
       "      <th>nTypes</th>\n",
       "      <th>typesOrg</th>\n",
       "      <th>periods</th>\n",
       "      <th>listTypesOrg</th>\n",
       "    </tr>\n",
       "  </thead>\n",
       "  <tbody>\n",
       "    <tr>\n",
       "      <th>1</th>\n",
       "      <td>http://www.wikidata.org/entity/Q100158636</td>\n",
       "      <td>Amanda Pritchard</td>\n",
       "      <td>1976</td>\n",
       "      <td>education</td>\n",
       "      <td>http://www.wikidata.org/entity/Q5316528</td>\n",
       "      <td>Durham Johnston Comprehensive School</td>\n",
       "      <td>2</td>\n",
       "      <td>community school | secondary school</td>\n",
       "      <td>1971-2000</td>\n",
       "      <td>[community school, secondary school]</td>\n",
       "    </tr>\n",
       "    <tr>\n",
       "      <th>5</th>\n",
       "      <td>http://www.wikidata.org/entity/Q100705519</td>\n",
       "      <td>Ponce</td>\n",
       "      <td>1991</td>\n",
       "      <td>education</td>\n",
       "      <td>http://www.wikidata.org/entity/Q3578313</td>\n",
       "      <td>École polytechnique universitaire de Montpellier</td>\n",
       "      <td>2</td>\n",
       "      <td>engineering college | grande école</td>\n",
       "      <td>1971-2000</td>\n",
       "      <td>[engineering college, grande école]</td>\n",
       "    </tr>\n",
       "    <tr>\n",
       "      <th>10</th>\n",
       "      <td>http://www.wikidata.org/entity/Q100997694</td>\n",
       "      <td>Jean-Luc Chetrit</td>\n",
       "      <td>1965</td>\n",
       "      <td>education</td>\n",
       "      <td>http://www.wikidata.org/entity/Q1795504</td>\n",
       "      <td>Emlyon Business School</td>\n",
       "      <td>1</td>\n",
       "      <td>grande école</td>\n",
       "      <td>1941-1970</td>\n",
       "      <td>[grande école]</td>\n",
       "    </tr>\n",
       "  </tbody>\n",
       "</table>\n",
       "</div>"
      ],
      "text/plain": [
       "                                       uriPer          labelPer  birthYear  \\\n",
       "1   http://www.wikidata.org/entity/Q100158636  Amanda Pritchard       1976   \n",
       "5   http://www.wikidata.org/entity/Q100705519             Ponce       1991   \n",
       "10  http://www.wikidata.org/entity/Q100997694  Jean-Luc Chetrit       1965   \n",
       "\n",
       "     relaType                                   uriOrg  \\\n",
       "1   education  http://www.wikidata.org/entity/Q5316528   \n",
       "5   education  http://www.wikidata.org/entity/Q3578313   \n",
       "10  education  http://www.wikidata.org/entity/Q1795504   \n",
       "\n",
       "                                            labelOrg nTypes  \\\n",
       "1               Durham Johnston Comprehensive School      2   \n",
       "5   École polytechnique universitaire de Montpellier      2   \n",
       "10                            Emlyon Business School      1   \n",
       "\n",
       "                               typesOrg    periods  \\\n",
       "1   community school | secondary school  1971-2000   \n",
       "5    engineering college | grande école  1971-2000   \n",
       "10                         grande école  1941-1970   \n",
       "\n",
       "                            listTypesOrg  \n",
       "1   [community school, secondary school]  \n",
       "5    [engineering college, grande école]  \n",
       "10                        [grande école]  "
      ]
     },
     "execution_count": 21,
     "metadata": {},
     "output_type": "execute_result"
    }
   ],
   "source": [
    "## Rebuild the sorted original texts after sorting\n",
    "df_p['typesOrg'] = df_p.listTypesOrg.apply(lambda x : ' | '.join(x))\n",
    "df_p.iloc[[1,5,10]]\n"
   ]
  },
  {
   "cell_type": "markdown",
   "metadata": {},
   "source": [
    "#### Organisations' types distribution"
   ]
  },
  {
   "cell_type": "code",
   "execution_count": 22,
   "metadata": {},
   "outputs": [
    {
     "name": "stdout",
     "output_type": "stream",
     "text": [
      "typesOrg\n",
      "grande école                                                                                                     201\n",
      "alumni association | organization                                                                                182\n",
      "business school                                                                                                  175\n",
      "high school                                                                                                      125\n",
      "university                                                                                                       125\n",
      "geographic location | university                                                                                  80\n",
      "public university                                                                                                 72\n",
      "colonial colleges | private not-for-profit educational institution | private university | research university     71\n",
      "open-access publisher | ottoman association | university                                                          68\n",
      "school                                                                                                            61\n",
      "dtype: int64\n"
     ]
    }
   ],
   "source": [
    "print(df_p.groupby('typesOrg').size().sort_values(ascending=False).iloc[:10])"
   ]
  },
  {
   "cell_type": "markdown",
   "metadata": {},
   "source": [
    "#### Save dataframe to CSV"
   ]
  },
  {
   "cell_type": "code",
   "execution_count": 23,
   "metadata": {},
   "outputs": [],
   "source": [
    "file_add = '../persons_organisations_from_organisations.csv'\n",
    "df_p.to_csv(file_add, index=False, sep=',', quotechar='\"')"
   ]
  },
  {
   "cell_type": "markdown",
   "metadata": {},
   "source": [
    "## Types of organisations\n",
    "\n",
    "Property **wdt:P31 instance of**\n",
    "\n",
    "\n",
    "We are trying to figure out if we can use these types to distinguish and categorise organisations. We will introduce high-level, research-driven classes that primarily serve a heuristic function and express no objective point of view."
   ]
  },
  {
   "cell_type": "code",
   "execution_count": 24,
   "metadata": {},
   "outputs": [
    {
     "data": {
      "application/vnd.microsoft.datawrangler.viewer.v0+json": {
       "columns": [
        {
         "name": "index",
         "rawType": "int64",
         "type": "integer"
        },
        {
         "name": "typesOrg",
         "rawType": "object",
         "type": "string"
        },
        {
         "name": "number",
         "rawType": "int64",
         "type": "integer"
        },
        {
         "name": "numberOrg",
         "rawType": "int64",
         "type": "integer"
        }
       ],
       "ref": "e104e90c-cd98-4a7d-bae0-24353514054f",
       "rows": [
        [
         "0",
         "grande école",
         "201",
         "1"
        ],
        [
         "1",
         "alumni association | organization",
         "182",
         "2"
        ],
        [
         "2",
         "business school",
         "175",
         "1"
        ],
        [
         "3",
         "high school",
         "125",
         "1"
        ],
        [
         "4",
         "university",
         "125",
         "1"
        ],
        [
         "5",
         "geographic location | university",
         "80",
         "2"
        ],
        [
         "6",
         "public university",
         "72",
         "1"
        ],
        [
         "7",
         "colonial colleges | private not-for-profit educational institution | private university | research university",
         "71",
         "4"
        ],
        [
         "8",
         "open-access publisher | ottoman association | university",
         "68",
         "3"
        ],
        [
         "9",
         "school",
         "61",
         "1"
        ]
       ],
       "shape": {
        "columns": 3,
        "rows": 10
       }
      },
      "text/html": [
       "<div>\n",
       "<style scoped>\n",
       "    .dataframe tbody tr th:only-of-type {\n",
       "        vertical-align: middle;\n",
       "    }\n",
       "\n",
       "    .dataframe tbody tr th {\n",
       "        vertical-align: top;\n",
       "    }\n",
       "\n",
       "    .dataframe thead th {\n",
       "        text-align: right;\n",
       "    }\n",
       "</style>\n",
       "<table border=\"1\" class=\"dataframe\">\n",
       "  <thead>\n",
       "    <tr style=\"text-align: right;\">\n",
       "      <th></th>\n",
       "      <th>typesOrg</th>\n",
       "      <th>number</th>\n",
       "      <th>numberOrg</th>\n",
       "    </tr>\n",
       "  </thead>\n",
       "  <tbody>\n",
       "    <tr>\n",
       "      <th>0</th>\n",
       "      <td>grande école</td>\n",
       "      <td>201</td>\n",
       "      <td>1</td>\n",
       "    </tr>\n",
       "    <tr>\n",
       "      <th>1</th>\n",
       "      <td>alumni association | organization</td>\n",
       "      <td>182</td>\n",
       "      <td>2</td>\n",
       "    </tr>\n",
       "    <tr>\n",
       "      <th>2</th>\n",
       "      <td>business school</td>\n",
       "      <td>175</td>\n",
       "      <td>1</td>\n",
       "    </tr>\n",
       "    <tr>\n",
       "      <th>3</th>\n",
       "      <td>high school</td>\n",
       "      <td>125</td>\n",
       "      <td>1</td>\n",
       "    </tr>\n",
       "    <tr>\n",
       "      <th>4</th>\n",
       "      <td>university</td>\n",
       "      <td>125</td>\n",
       "      <td>1</td>\n",
       "    </tr>\n",
       "    <tr>\n",
       "      <th>5</th>\n",
       "      <td>geographic location | university</td>\n",
       "      <td>80</td>\n",
       "      <td>2</td>\n",
       "    </tr>\n",
       "    <tr>\n",
       "      <th>6</th>\n",
       "      <td>public university</td>\n",
       "      <td>72</td>\n",
       "      <td>1</td>\n",
       "    </tr>\n",
       "    <tr>\n",
       "      <th>7</th>\n",
       "      <td>colonial colleges | private not-for-profit edu...</td>\n",
       "      <td>71</td>\n",
       "      <td>4</td>\n",
       "    </tr>\n",
       "    <tr>\n",
       "      <th>8</th>\n",
       "      <td>open-access publisher | ottoman association | ...</td>\n",
       "      <td>68</td>\n",
       "      <td>3</td>\n",
       "    </tr>\n",
       "    <tr>\n",
       "      <th>9</th>\n",
       "      <td>school</td>\n",
       "      <td>61</td>\n",
       "      <td>1</td>\n",
       "    </tr>\n",
       "  </tbody>\n",
       "</table>\n",
       "</div>"
      ],
      "text/plain": [
       "                                            typesOrg  number  numberOrg\n",
       "0                                       grande école     201          1\n",
       "1                  alumni association | organization     182          2\n",
       "2                                    business school     175          1\n",
       "3                                        high school     125          1\n",
       "4                                         university     125          1\n",
       "5                   geographic location | university      80          2\n",
       "6                                  public university      72          1\n",
       "7  colonial colleges | private not-for-profit edu...      71          4\n",
       "8  open-access publisher | ottoman association | ...      68          3\n",
       "9                                             school      61          1"
      ]
     },
     "execution_count": 24,
     "metadata": {},
     "output_type": "execute_result"
    }
   ],
   "source": [
    "### Inspect the available composed types\n",
    "df_types = pd.DataFrame(df_p.groupby('typesOrg').size().sort_values(ascending=False))\n",
    "df_types.reset_index(inplace=True)\n",
    "df_types.columns=['typesOrg', 'number']\n",
    "df_types['numberOrg'] = df_types.typesOrg.apply( lambda x: len(x.split('|')))\n",
    "df_types.iloc[:10]"
   ]
  },
  {
   "cell_type": "code",
   "execution_count": 25,
   "metadata": {},
   "outputs": [],
   "source": [
    "### Print to CSV in order to inspect the data\n",
    "csv_file='../network_organisations_types_groups.csv'\n",
    "df_types.to_csv(csv_file)"
   ]
  },
  {
   "cell_type": "markdown",
   "metadata": {},
   "source": [
    "### Add organisation main type"
   ]
  },
  {
   "cell_type": "code",
   "execution_count": 26,
   "metadata": {},
   "outputs": [
    {
     "data": {
      "application/vnd.microsoft.datawrangler.viewer.v0+json": {
       "columns": [
        {
         "name": "index",
         "rawType": "int64",
         "type": "integer"
        },
        {
         "name": "uriPer",
         "rawType": "object",
         "type": "string"
        },
        {
         "name": "labelPer",
         "rawType": "object",
         "type": "string"
        },
        {
         "name": "birthYear",
         "rawType": "int64",
         "type": "integer"
        },
        {
         "name": "relaType",
         "rawType": "object",
         "type": "string"
        },
        {
         "name": "uriOrg",
         "rawType": "object",
         "type": "string"
        },
        {
         "name": "labelOrg",
         "rawType": "object",
         "type": "string"
        },
        {
         "name": "nTypes",
         "rawType": "object",
         "type": "string"
        },
        {
         "name": "typesOrg",
         "rawType": "object",
         "type": "string"
        },
        {
         "name": "periods",
         "rawType": "category",
         "type": "unknown"
        },
        {
         "name": "listTypesOrg",
         "rawType": "object",
         "type": "unknown"
        }
       ],
       "ref": "fab3cd5b-37af-439b-8f53-396eacbce061",
       "rows": [
        [
         "0",
         "http://www.wikidata.org/entity/Q100158636",
         "Amanda Pritchard",
         "1976",
         "education",
         "http://www.wikidata.org/entity/Q34433",
         "University of Oxford",
         "6",
         "collegiate university | educational organization | exempt charity | higher education institution | organization | public university",
         "1971-2000",
         "['collegiate university', 'educational organization', 'exempt charity', 'higher education institution', 'organization', 'public university']"
        ]
       ],
       "shape": {
        "columns": 10,
        "rows": 1
       }
      },
      "text/html": [
       "<div>\n",
       "<style scoped>\n",
       "    .dataframe tbody tr th:only-of-type {\n",
       "        vertical-align: middle;\n",
       "    }\n",
       "\n",
       "    .dataframe tbody tr th {\n",
       "        vertical-align: top;\n",
       "    }\n",
       "\n",
       "    .dataframe thead th {\n",
       "        text-align: right;\n",
       "    }\n",
       "</style>\n",
       "<table border=\"1\" class=\"dataframe\">\n",
       "  <thead>\n",
       "    <tr style=\"text-align: right;\">\n",
       "      <th></th>\n",
       "      <th>uriPer</th>\n",
       "      <th>labelPer</th>\n",
       "      <th>birthYear</th>\n",
       "      <th>relaType</th>\n",
       "      <th>uriOrg</th>\n",
       "      <th>labelOrg</th>\n",
       "      <th>nTypes</th>\n",
       "      <th>typesOrg</th>\n",
       "      <th>periods</th>\n",
       "      <th>listTypesOrg</th>\n",
       "    </tr>\n",
       "  </thead>\n",
       "  <tbody>\n",
       "    <tr>\n",
       "      <th>0</th>\n",
       "      <td>http://www.wikidata.org/entity/Q100158636</td>\n",
       "      <td>Amanda Pritchard</td>\n",
       "      <td>1976</td>\n",
       "      <td>education</td>\n",
       "      <td>http://www.wikidata.org/entity/Q34433</td>\n",
       "      <td>University of Oxford</td>\n",
       "      <td>6</td>\n",
       "      <td>collegiate university | educational organizati...</td>\n",
       "      <td>1971-2000</td>\n",
       "      <td>[collegiate university, educational organizati...</td>\n",
       "    </tr>\n",
       "  </tbody>\n",
       "</table>\n",
       "</div>"
      ],
      "text/plain": [
       "                                      uriPer          labelPer  birthYear  \\\n",
       "0  http://www.wikidata.org/entity/Q100158636  Amanda Pritchard       1976   \n",
       "\n",
       "    relaType                                 uriOrg              labelOrg  \\\n",
       "0  education  http://www.wikidata.org/entity/Q34433  University of Oxford   \n",
       "\n",
       "  nTypes                                           typesOrg    periods  \\\n",
       "0      6  collegiate university | educational organizati...  1971-2000   \n",
       "\n",
       "                                        listTypesOrg  \n",
       "0  [collegiate university, educational organizati...  "
      ]
     },
     "execution_count": 26,
     "metadata": {},
     "output_type": "execute_result"
    }
   ],
   "source": [
    "### Inspect the data\n",
    "df_p.head(1)"
   ]
  },
  {
   "cell_type": "code",
   "execution_count": 27,
   "metadata": {},
   "outputs": [],
   "source": [
    "def code_organisation_main_type(x):\n",
    "    val = ''\n",
    "    if 'institute of technol' in x:\n",
    "        val = 'institute of technology'\n",
    "    elif 'polyt' in x:\n",
    "        val = 'institute of technology'    \n",
    "    elif 'observato' in x:\n",
    "        val = 'astronomical observatory'  \n",
    "    elif 'public university' in x:\n",
    "        val = 'public university'\n",
    "    elif 'école normale sup' in x:\n",
    "        val = 'public university'    \n",
    "    elif 'grande école' in x:\n",
    "        val = 'public university'\n",
    "    elif 'grand établissement' in x:\n",
    "        val = 'public university'\n",
    "    elif 'private university' in x:\n",
    "        val = 'private university'\n",
    "    elif 'university' in x:\n",
    "        val = 'university'   \n",
    "    elif 'educational inst' in x:\n",
    "        val = 'educational institution'    \n",
    "    elif 'military academy' in x:\n",
    "        val = 'educational institution' \n",
    "    elif 'naval academy' in x:\n",
    "        val = 'educational institution'        \n",
    "    elif 'art academy' in x:\n",
    "        val = 'educational institution' \n",
    "    elif 'faculty' in x:\n",
    "        val = 'university'  # could also be 'faculty'\n",
    "    elif 'academic dep' in x:\n",
    "        val =  'university'  # could also be 'faculty'    \n",
    "    elif 'college' in x:\n",
    "        val = 'educational institution'   # could also be 'college'             \n",
    "    elif 'gymnas' in x:\n",
    "        val = 'educational institution'   # could also be 'college'\n",
    "    elif 'learned society' in x:\n",
    "        val = 'learned society'     \n",
    "    elif 'academy of sciences' in x:\n",
    "        val = 'academy of sciences'\n",
    "    elif 'research institute' in x:\n",
    "        val = 'research organisation'\n",
    "    elif 'max planck' in x:\n",
    "        val = 'research organisation'\n",
    "    elif 'institute' in x:\n",
    "        val = 'research organisation' \n",
    "    elif 'research' in x:\n",
    "        val = 'research organisation'\n",
    "    elif 'laboratory' in x:\n",
    "        val = 'research facility'  \n",
    "    elif 'facility' in x:\n",
    "        val = 'research facility'   \n",
    "    elif 'scientific society' in x:\n",
    "        val = 'scientific organisation'\n",
    "    elif 'scientific society' in x:\n",
    "        val = 'scientific organisation'\n",
    "    elif 'museum' in x:\n",
    "        val = 'scientific organisation'\n",
    "    elif 'nonprofit organization' in x:\n",
    "        val = 'scientific organisation'    \n",
    "    elif 'national academy' in x:\n",
    "        val = 'scientific organisation'\n",
    "    elif 'scientific organization' in x:\n",
    "        val = 'scientific organisation'\n",
    "    elif 'higher education' in x:\n",
    "        val = 'educational institution'\n",
    "    elif 'school' in x:\n",
    "        val = 'educational institution'   # could also be 'high school or similar'\n",
    "    elif 'academic institution' in x:\n",
    "        val = 'educational institution'   # could also be 'high school or similar'\n",
    "    elif 'academy' in x:\n",
    "        val = 'learned society'\n",
    "    elif 'society' in x:\n",
    "        val = 'learned society'      \n",
    "    elif 'company' in x \\\n",
    "                or 'business'  in x \\\n",
    "                or 'entrepr' in x:\n",
    "        val = 'company or gov. agency' # could also be 'company'\n",
    "    elif 'government' in x :\n",
    "        val = 'company or gov. agency' # could also be 'government agency'         \n",
    "    elif 'publish' in x :\n",
    "        val = 'company or gov. agency' # could also be 'publisher_edition'     \n",
    "    elif 'journal' in x :\n",
    "        val = 'company or gov. agency' # could also be 'publisher_edition'\n",
    "    elif 'periodical' in x :\n",
    "        val = 'company or gov. agency' # could also be 'publisher_edition'    \n",
    "    else:\n",
    "        val = 'not classified organisation'\n",
    "\n",
    "    return val        "
   ]
  },
  {
   "cell_type": "code",
   "execution_count": 28,
   "metadata": {},
   "outputs": [
    {
     "data": {
      "application/vnd.microsoft.datawrangler.viewer.v0+json": {
       "columns": [
        {
         "name": "index",
         "rawType": "int64",
         "type": "integer"
        },
        {
         "name": "uriPer",
         "rawType": "object",
         "type": "string"
        },
        {
         "name": "labelPer",
         "rawType": "object",
         "type": "string"
        },
        {
         "name": "birthYear",
         "rawType": "int64",
         "type": "integer"
        },
        {
         "name": "relaType",
         "rawType": "object",
         "type": "string"
        },
        {
         "name": "uriOrg",
         "rawType": "object",
         "type": "string"
        },
        {
         "name": "labelOrg",
         "rawType": "object",
         "type": "string"
        },
        {
         "name": "nTypes",
         "rawType": "object",
         "type": "string"
        },
        {
         "name": "typesOrg",
         "rawType": "object",
         "type": "string"
        },
        {
         "name": "periods",
         "rawType": "category",
         "type": "unknown"
        },
        {
         "name": "listTypesOrg",
         "rawType": "object",
         "type": "unknown"
        },
        {
         "name": "orgMainType",
         "rawType": "object",
         "type": "string"
        }
       ],
       "ref": "1203c556-b6c3-41b2-b2a8-cab04182920b",
       "rows": [
        [
         "7",
         "http://www.wikidata.org/entity/Q100705519",
         "Ponce",
         "1991",
         "education",
         "http://www.wikidata.org/entity/Q916444",
         "Cours Florent",
         "2",
         "drama school | educational institution",
         "1971-2000",
         "['drama school', 'educational institution']",
         "educational institution"
        ],
        [
         "8",
         "http://www.wikidata.org/entity/Q100989426",
         "Thomas Schäfer",
         "1970",
         "education",
         "http://www.wikidata.org/entity/Q317070",
         "University of Mannheim",
         "2",
         "organization | public university",
         "1941-1970",
         "['organization', 'public university']",
         "public university"
        ],
        [
         "9",
         "http://www.wikidata.org/entity/Q100997694",
         "Jean-Luc Chetrit",
         "1965",
         "membership",
         "http://www.wikidata.org/entity/Q131137989",
         "emlyon alumni",
         "2",
         "alumni association | organization",
         "1941-1970",
         "['alumni association', 'organization']",
         "not classified organisation"
        ]
       ],
       "shape": {
        "columns": 11,
        "rows": 3
       }
      },
      "text/html": [
       "<div>\n",
       "<style scoped>\n",
       "    .dataframe tbody tr th:only-of-type {\n",
       "        vertical-align: middle;\n",
       "    }\n",
       "\n",
       "    .dataframe tbody tr th {\n",
       "        vertical-align: top;\n",
       "    }\n",
       "\n",
       "    .dataframe thead th {\n",
       "        text-align: right;\n",
       "    }\n",
       "</style>\n",
       "<table border=\"1\" class=\"dataframe\">\n",
       "  <thead>\n",
       "    <tr style=\"text-align: right;\">\n",
       "      <th></th>\n",
       "      <th>uriPer</th>\n",
       "      <th>labelPer</th>\n",
       "      <th>birthYear</th>\n",
       "      <th>relaType</th>\n",
       "      <th>uriOrg</th>\n",
       "      <th>labelOrg</th>\n",
       "      <th>nTypes</th>\n",
       "      <th>typesOrg</th>\n",
       "      <th>periods</th>\n",
       "      <th>listTypesOrg</th>\n",
       "      <th>orgMainType</th>\n",
       "    </tr>\n",
       "  </thead>\n",
       "  <tbody>\n",
       "    <tr>\n",
       "      <th>7</th>\n",
       "      <td>http://www.wikidata.org/entity/Q100705519</td>\n",
       "      <td>Ponce</td>\n",
       "      <td>1991</td>\n",
       "      <td>education</td>\n",
       "      <td>http://www.wikidata.org/entity/Q916444</td>\n",
       "      <td>Cours Florent</td>\n",
       "      <td>2</td>\n",
       "      <td>drama school | educational institution</td>\n",
       "      <td>1971-2000</td>\n",
       "      <td>[drama school, educational institution]</td>\n",
       "      <td>educational institution</td>\n",
       "    </tr>\n",
       "    <tr>\n",
       "      <th>8</th>\n",
       "      <td>http://www.wikidata.org/entity/Q100989426</td>\n",
       "      <td>Thomas Schäfer</td>\n",
       "      <td>1970</td>\n",
       "      <td>education</td>\n",
       "      <td>http://www.wikidata.org/entity/Q317070</td>\n",
       "      <td>University of Mannheim</td>\n",
       "      <td>2</td>\n",
       "      <td>organization | public university</td>\n",
       "      <td>1941-1970</td>\n",
       "      <td>[organization, public university]</td>\n",
       "      <td>public university</td>\n",
       "    </tr>\n",
       "    <tr>\n",
       "      <th>9</th>\n",
       "      <td>http://www.wikidata.org/entity/Q100997694</td>\n",
       "      <td>Jean-Luc Chetrit</td>\n",
       "      <td>1965</td>\n",
       "      <td>membership</td>\n",
       "      <td>http://www.wikidata.org/entity/Q131137989</td>\n",
       "      <td>emlyon alumni</td>\n",
       "      <td>2</td>\n",
       "      <td>alumni association | organization</td>\n",
       "      <td>1941-1970</td>\n",
       "      <td>[alumni association, organization]</td>\n",
       "      <td>not classified organisation</td>\n",
       "    </tr>\n",
       "  </tbody>\n",
       "</table>\n",
       "</div>"
      ],
      "text/plain": [
       "                                      uriPer          labelPer  birthYear  \\\n",
       "7  http://www.wikidata.org/entity/Q100705519             Ponce       1991   \n",
       "8  http://www.wikidata.org/entity/Q100989426    Thomas Schäfer       1970   \n",
       "9  http://www.wikidata.org/entity/Q100997694  Jean-Luc Chetrit       1965   \n",
       "\n",
       "     relaType                                     uriOrg  \\\n",
       "7   education     http://www.wikidata.org/entity/Q916444   \n",
       "8   education     http://www.wikidata.org/entity/Q317070   \n",
       "9  membership  http://www.wikidata.org/entity/Q131137989   \n",
       "\n",
       "                 labelOrg nTypes                                typesOrg  \\\n",
       "7           Cours Florent      2  drama school | educational institution   \n",
       "8  University of Mannheim      2        organization | public university   \n",
       "9           emlyon alumni      2       alumni association | organization   \n",
       "\n",
       "     periods                             listTypesOrg  \\\n",
       "7  1971-2000  [drama school, educational institution]   \n",
       "8  1941-1970        [organization, public university]   \n",
       "9  1941-1970       [alumni association, organization]   \n",
       "\n",
       "                   orgMainType  \n",
       "7      educational institution  \n",
       "8            public university  \n",
       "9  not classified organisation  "
      ]
     },
     "execution_count": 28,
     "metadata": {},
     "output_type": "execute_result"
    }
   ],
   "source": [
    "df_p['orgMainType'] = df_p['typesOrg'].apply(lambda x : code_organisation_main_type(x))\n",
    "df_p.iloc[7:10]"
   ]
  },
  {
   "cell_type": "code",
   "execution_count": 29,
   "metadata": {},
   "outputs": [
    {
     "data": {
      "application/vnd.microsoft.datawrangler.viewer.v0+json": {
       "columns": [
        {
         "name": "index",
         "rawType": "int64",
         "type": "integer"
        },
        {
         "name": "mainType",
         "rawType": "object",
         "type": "string"
        },
        {
         "name": "number",
         "rawType": "int64",
         "type": "integer"
        }
       ],
       "ref": "728df29f-4561-4a7e-9ef1-fcd766905cbf",
       "rows": [
        [
         "11",
         "university",
         "1216"
        ],
        [
         "2",
         "educational institution",
         "998"
        ],
        [
         "7",
         "public university",
         "647"
        ],
        [
         "6",
         "private university",
         "385"
        ],
        [
         "5",
         "not classified organisation",
         "353"
        ],
        [
         "3",
         "institute of technology",
         "72"
        ],
        [
         "10",
         "scientific organisation",
         "55"
        ],
        [
         "4",
         "learned society",
         "40"
        ],
        [
         "8",
         "research facility",
         "26"
        ],
        [
         "1",
         "company or gov. agency",
         "24"
        ],
        [
         "0",
         "academy of sciences",
         "14"
        ],
        [
         "9",
         "research organisation",
         "9"
        ]
       ],
       "shape": {
        "columns": 2,
        "rows": 12
       }
      },
      "text/html": [
       "<div>\n",
       "<style scoped>\n",
       "    .dataframe tbody tr th:only-of-type {\n",
       "        vertical-align: middle;\n",
       "    }\n",
       "\n",
       "    .dataframe tbody tr th {\n",
       "        vertical-align: top;\n",
       "    }\n",
       "\n",
       "    .dataframe thead th {\n",
       "        text-align: right;\n",
       "    }\n",
       "</style>\n",
       "<table border=\"1\" class=\"dataframe\">\n",
       "  <thead>\n",
       "    <tr style=\"text-align: right;\">\n",
       "      <th></th>\n",
       "      <th>mainType</th>\n",
       "      <th>number</th>\n",
       "    </tr>\n",
       "  </thead>\n",
       "  <tbody>\n",
       "    <tr>\n",
       "      <th>11</th>\n",
       "      <td>university</td>\n",
       "      <td>1216</td>\n",
       "    </tr>\n",
       "    <tr>\n",
       "      <th>2</th>\n",
       "      <td>educational institution</td>\n",
       "      <td>998</td>\n",
       "    </tr>\n",
       "    <tr>\n",
       "      <th>7</th>\n",
       "      <td>public university</td>\n",
       "      <td>647</td>\n",
       "    </tr>\n",
       "    <tr>\n",
       "      <th>6</th>\n",
       "      <td>private university</td>\n",
       "      <td>385</td>\n",
       "    </tr>\n",
       "    <tr>\n",
       "      <th>5</th>\n",
       "      <td>not classified organisation</td>\n",
       "      <td>353</td>\n",
       "    </tr>\n",
       "    <tr>\n",
       "      <th>3</th>\n",
       "      <td>institute of technology</td>\n",
       "      <td>72</td>\n",
       "    </tr>\n",
       "    <tr>\n",
       "      <th>10</th>\n",
       "      <td>scientific organisation</td>\n",
       "      <td>55</td>\n",
       "    </tr>\n",
       "    <tr>\n",
       "      <th>4</th>\n",
       "      <td>learned society</td>\n",
       "      <td>40</td>\n",
       "    </tr>\n",
       "    <tr>\n",
       "      <th>8</th>\n",
       "      <td>research facility</td>\n",
       "      <td>26</td>\n",
       "    </tr>\n",
       "    <tr>\n",
       "      <th>1</th>\n",
       "      <td>company or gov. agency</td>\n",
       "      <td>24</td>\n",
       "    </tr>\n",
       "    <tr>\n",
       "      <th>0</th>\n",
       "      <td>academy of sciences</td>\n",
       "      <td>14</td>\n",
       "    </tr>\n",
       "    <tr>\n",
       "      <th>9</th>\n",
       "      <td>research organisation</td>\n",
       "      <td>9</td>\n",
       "    </tr>\n",
       "  </tbody>\n",
       "</table>\n",
       "</div>"
      ],
      "text/plain": [
       "                       mainType  number\n",
       "11                   university    1216\n",
       "2       educational institution     998\n",
       "7             public university     647\n",
       "6            private university     385\n",
       "5   not classified organisation     353\n",
       "3       institute of technology      72\n",
       "10      scientific organisation      55\n",
       "4               learned society      40\n",
       "8             research facility      26\n",
       "1        company or gov. agency      24\n",
       "0           academy of sciences      14\n",
       "9         research organisation       9"
      ]
     },
     "execution_count": 29,
     "metadata": {},
     "output_type": "execute_result"
    }
   ],
   "source": [
    "df_mainTypes = pd.DataFrame(df_p.groupby(by='orgMainType', as_index=False).size().sort_values(by='size',ascending=False))\n",
    "df_mainTypes.columns=['mainType', 'number']\n",
    "df_mainTypes"
   ]
  },
  {
   "cell_type": "code",
   "execution_count": 30,
   "metadata": {},
   "outputs": [
    {
     "data": {
      "application/vnd.microsoft.datawrangler.viewer.v0+json": {
       "columns": [
        {
         "name": "index",
         "rawType": "int64",
         "type": "integer"
        },
        {
         "name": "typesOrg",
         "rawType": "object",
         "type": "string"
        },
        {
         "name": "orgMainType",
         "rawType": "object",
         "type": "string"
        },
        {
         "name": "number",
         "rawType": "int64",
         "type": "integer"
        },
        {
         "name": "numberOrg",
         "rawType": "int64",
         "type": "integer"
        }
       ],
       "ref": "779950d9-c2f5-4819-866c-7e9d6fc26a80",
       "rows": [
        [
         "277",
         "colonial colleges | private not-for-profit educational institution | private university | research university",
         "private university",
         "71",
         "4"
        ],
        [
         "622",
         "open-access publisher | ottoman association | university",
         "university",
         "68",
         "3"
        ],
        [
         "740",
         "school",
         "educational institution",
         "61",
         "1"
        ]
       ],
       "shape": {
        "columns": 4,
        "rows": 3
       }
      },
      "text/html": [
       "<div>\n",
       "<style scoped>\n",
       "    .dataframe tbody tr th:only-of-type {\n",
       "        vertical-align: middle;\n",
       "    }\n",
       "\n",
       "    .dataframe tbody tr th {\n",
       "        vertical-align: top;\n",
       "    }\n",
       "\n",
       "    .dataframe thead th {\n",
       "        text-align: right;\n",
       "    }\n",
       "</style>\n",
       "<table border=\"1\" class=\"dataframe\">\n",
       "  <thead>\n",
       "    <tr style=\"text-align: right;\">\n",
       "      <th></th>\n",
       "      <th>typesOrg</th>\n",
       "      <th>orgMainType</th>\n",
       "      <th>number</th>\n",
       "      <th>numberOrg</th>\n",
       "    </tr>\n",
       "  </thead>\n",
       "  <tbody>\n",
       "    <tr>\n",
       "      <th>277</th>\n",
       "      <td>colonial colleges | private not-for-profit edu...</td>\n",
       "      <td>private university</td>\n",
       "      <td>71</td>\n",
       "      <td>4</td>\n",
       "    </tr>\n",
       "    <tr>\n",
       "      <th>622</th>\n",
       "      <td>open-access publisher | ottoman association | ...</td>\n",
       "      <td>university</td>\n",
       "      <td>68</td>\n",
       "      <td>3</td>\n",
       "    </tr>\n",
       "    <tr>\n",
       "      <th>740</th>\n",
       "      <td>school</td>\n",
       "      <td>educational institution</td>\n",
       "      <td>61</td>\n",
       "      <td>1</td>\n",
       "    </tr>\n",
       "  </tbody>\n",
       "</table>\n",
       "</div>"
      ],
      "text/plain": [
       "                                              typesOrg  \\\n",
       "277  colonial colleges | private not-for-profit edu...   \n",
       "622  open-access publisher | ottoman association | ...   \n",
       "740                                             school   \n",
       "\n",
       "                 orgMainType  number  numberOrg  \n",
       "277       private university      71          4  \n",
       "622               university      68          3  \n",
       "740  educational institution      61          1  "
      ]
     },
     "execution_count": 30,
     "metadata": {},
     "output_type": "execute_result"
    }
   ],
   "source": [
    "### Inspect the available composed types\n",
    "df_types = pd.DataFrame(df_p.groupby(['typesOrg', 'orgMainType'], as_index=False).\\\n",
    "                        size().sort_values(by='size',ascending=False))\n",
    "df_types.columns=['typesOrg', 'orgMainType', 'number']\n",
    "df_types['numberOrg'] = df_types.typesOrg.apply( lambda x: len(x.split('|')))\n",
    "### Print to CSV in order to inspect the data\n",
    "csv_file='../network_organisations_with_main_types_groups.csv'\n",
    "df_types.to_csv(csv_file)\n",
    "\n",
    "df_types.iloc[7:10]"
   ]
  },
  {
   "cell_type": "markdown",
   "metadata": {},
   "source": [
    "#### 'Manual' corrections and classification improvements\n",
    "\n",
    "In some cases, instpecting the organisations shows that the provided classification is not suitable and should be replaced:\n",
    "\n",
    "Academia Europaea, ...\n",
    "\n",
    "We provide this example merely to illustrate the point; further work would be required, but this is beyond the scope of this exercise."
   ]
  },
  {
   "cell_type": "code",
   "execution_count": 31,
   "metadata": {},
   "outputs": [
    {
     "data": {
      "application/vnd.microsoft.datawrangler.viewer.v0+json": {
       "columns": [
        {
         "name": "index",
         "rawType": "int64",
         "type": "integer"
        },
        {
         "name": "uriPer",
         "rawType": "object",
         "type": "string"
        },
        {
         "name": "labelPer",
         "rawType": "object",
         "type": "string"
        },
        {
         "name": "birthYear",
         "rawType": "int64",
         "type": "integer"
        },
        {
         "name": "relaType",
         "rawType": "object",
         "type": "string"
        },
        {
         "name": "uriOrg",
         "rawType": "object",
         "type": "string"
        },
        {
         "name": "labelOrg",
         "rawType": "object",
         "type": "string"
        },
        {
         "name": "nTypes",
         "rawType": "object",
         "type": "string"
        },
        {
         "name": "typesOrg",
         "rawType": "object",
         "type": "string"
        },
        {
         "name": "periods",
         "rawType": "category",
         "type": "unknown"
        },
        {
         "name": "listTypesOrg",
         "rawType": "object",
         "type": "unknown"
        },
        {
         "name": "orgMainType",
         "rawType": "object",
         "type": "string"
        }
       ],
       "ref": "859e008c-695a-4c3e-8f84-a03a29b5e7db",
       "rows": [
        [
         "2726",
         "http://www.wikidata.org/entity/Q5451129",
         "Fiona Watt",
         "1956",
         "membership",
         "http://www.wikidata.org/entity/Q337234",
         "Academia Europaea",
         "3",
         "academy | charitable organization | organization",
         "1941-1970",
         "['academy', 'charitable organization', 'organization']",
         "research organisation"
        ]
       ],
       "shape": {
        "columns": 11,
        "rows": 1
       }
      },
      "text/html": [
       "<div>\n",
       "<style scoped>\n",
       "    .dataframe tbody tr th:only-of-type {\n",
       "        vertical-align: middle;\n",
       "    }\n",
       "\n",
       "    .dataframe tbody tr th {\n",
       "        vertical-align: top;\n",
       "    }\n",
       "\n",
       "    .dataframe thead th {\n",
       "        text-align: right;\n",
       "    }\n",
       "</style>\n",
       "<table border=\"1\" class=\"dataframe\">\n",
       "  <thead>\n",
       "    <tr style=\"text-align: right;\">\n",
       "      <th></th>\n",
       "      <th>uriPer</th>\n",
       "      <th>labelPer</th>\n",
       "      <th>birthYear</th>\n",
       "      <th>relaType</th>\n",
       "      <th>uriOrg</th>\n",
       "      <th>labelOrg</th>\n",
       "      <th>nTypes</th>\n",
       "      <th>typesOrg</th>\n",
       "      <th>periods</th>\n",
       "      <th>listTypesOrg</th>\n",
       "      <th>orgMainType</th>\n",
       "    </tr>\n",
       "  </thead>\n",
       "  <tbody>\n",
       "    <tr>\n",
       "      <th>2726</th>\n",
       "      <td>http://www.wikidata.org/entity/Q5451129</td>\n",
       "      <td>Fiona Watt</td>\n",
       "      <td>1956</td>\n",
       "      <td>membership</td>\n",
       "      <td>http://www.wikidata.org/entity/Q337234</td>\n",
       "      <td>Academia Europaea</td>\n",
       "      <td>3</td>\n",
       "      <td>academy | charitable organization | organization</td>\n",
       "      <td>1941-1970</td>\n",
       "      <td>[academy, charitable organization, organization]</td>\n",
       "      <td>research organisation</td>\n",
       "    </tr>\n",
       "  </tbody>\n",
       "</table>\n",
       "</div>"
      ],
      "text/plain": [
       "                                       uriPer    labelPer  birthYear  \\\n",
       "2726  http://www.wikidata.org/entity/Q5451129  Fiona Watt       1956   \n",
       "\n",
       "        relaType                                  uriOrg           labelOrg  \\\n",
       "2726  membership  http://www.wikidata.org/entity/Q337234  Academia Europaea   \n",
       "\n",
       "     nTypes                                          typesOrg    periods  \\\n",
       "2726      3  academy | charitable organization | organization  1941-1970   \n",
       "\n",
       "                                          listTypesOrg            orgMainType  \n",
       "2726  [academy, charitable organization, organization]  research organisation  "
      ]
     },
     "execution_count": 31,
     "metadata": {},
     "output_type": "execute_result"
    }
   ],
   "source": [
    "### Please note the warning and the orders fo the filter, after (!) the column \n",
    "\"\"\"\n",
    "Do not use:\n",
    "df[\"col\"][row_indexer] = value\n",
    "\n",
    "Use `df.loc[row_indexer, \"col\"] = values` instead, to perform the assignment in a single step and ensure this keeps updating the original `df`.\n",
    "See the caveats in the documentation: https://pandas.pydata.org/pandas-docs/stable/user_guide/indexing.html#returning-a-view-versus-a-copy\n",
    "\"\"\"\n",
    "\n",
    "df_p.loc[df_p.uriOrg == 'http://www.wikidata.org/entity/Q337234', 'orgMainType'] = 'research organisation'\n",
    "df_p[df_p.labelOrg.str.contains('Europaea')].head(2)\n",
    "\n"
   ]
  },
  {
   "cell_type": "markdown",
   "metadata": {},
   "source": [
    "# Create graphs"
   ]
  },
  {
   "cell_type": "code",
   "execution_count": 32,
   "metadata": {},
   "outputs": [
    {
     "name": "stdout",
     "output_type": "stream",
     "text": [
      "relaType\n",
      "education     3288\n",
      "employment     127\n",
      "membership     424\n",
      "dtype: int64\n"
     ]
    }
   ],
   "source": [
    "### Available relationships\n",
    "print(df_p.groupby(by='relaType').size())"
   ]
  },
  {
   "cell_type": "markdown",
   "metadata": {},
   "source": [
    "### Prepare the dataframe"
   ]
  },
  {
   "cell_type": "code",
   "execution_count": 33,
   "metadata": {},
   "outputs": [
    {
     "name": "stdout",
     "output_type": "stream",
     "text": [
      "3839\n"
     ]
    }
   ],
   "source": [
    "### Select the columns that will be used\n",
    "df_prep = df_p[['uriPer','labelPer','birthYear','uriOrg', 'labelOrg', 'typesOrg', 'orgMainType', 'relaType', 'periods']].copy(deep=True)\n",
    "print(len(df_prep))"
   ]
  },
  {
   "cell_type": "markdown",
   "metadata": {},
   "source": [
    "### Features of organisations"
   ]
  },
  {
   "cell_type": "markdown",
   "metadata": {},
   "source": [
    "#### General grouping\n",
    "\n",
    "\n",
    "We first group by organisations, counting all relationships of persons which provides the total degree or number of members over the whole time "
   ]
  },
  {
   "cell_type": "code",
   "execution_count": 34,
   "metadata": {},
   "outputs": [
    {
     "data": {
      "application/vnd.microsoft.datawrangler.viewer.v0+json": {
       "columns": [
        {
         "name": "index",
         "rawType": "int64",
         "type": "integer"
        },
        {
         "name": "uriOrg",
         "rawType": "object",
         "type": "string"
        },
        {
         "name": "labelOrg",
         "rawType": "object",
         "type": "string"
        },
        {
         "name": "typesOrg",
         "rawType": "object",
         "type": "string"
        },
        {
         "name": "orgMainType",
         "rawType": "object",
         "type": "string"
        },
        {
         "name": "tot_members_number",
         "rawType": "int64",
         "type": "integer"
        }
       ],
       "ref": "d5ef2883-39d3-4639-b75a-78f19507acda",
       "rows": [
        [
         "495",
         "http://www.wikidata.org/entity/Q1795504",
         "Emlyon Business School",
         "grande école",
         "public university",
         "191"
        ],
        [
         "235",
         "http://www.wikidata.org/entity/Q131137989",
         "emlyon alumni",
         "alumni association | organization",
         "not classified organisation",
         "182"
        ],
        [
         "471",
         "http://www.wikidata.org/entity/Q174158",
         "Hebrew University of Jerusalem",
         "geographic location | university",
         "university",
         "80"
        ],
        [
         "794",
         "http://www.wikidata.org/entity/Q319239",
         "Tel Aviv University",
         "open-access publisher | ottoman association | university",
         "university",
         "68"
        ],
        [
         "253",
         "http://www.wikidata.org/entity/Q13371",
         "Harvard University",
         "colonial colleges | private not-for-profit educational institution | private university | research university",
         "private university",
         "64"
        ],
        [
         "1050",
         "http://www.wikidata.org/entity/Q49126",
         "Harvard Business School",
         "business school | organization",
         "educational institution",
         "49"
        ],
        [
         "919",
         "http://www.wikidata.org/entity/Q41506",
         "Stanford University",
         "open-access publisher | private not-for-profit educational institution | private university | research university",
         "private university",
         "44"
        ],
        [
         "828",
         "http://www.wikidata.org/entity/Q333705",
         "Technion – Israel Institute of Technology",
         "publishing company | university",
         "university",
         "35"
        ],
        [
         "90",
         "http://www.wikidata.org/entity/Q1124657",
         "Bar-Ilan University",
         "academic publisher | public research university",
         "university",
         "30"
        ],
        [
         "1236",
         "http://www.wikidata.org/entity/Q591115",
         "University of Haifa",
         "public research university",
         "university",
         "25"
        ]
       ],
       "shape": {
        "columns": 5,
        "rows": 10
       }
      },
      "text/html": [
       "<div>\n",
       "<style scoped>\n",
       "    .dataframe tbody tr th:only-of-type {\n",
       "        vertical-align: middle;\n",
       "    }\n",
       "\n",
       "    .dataframe tbody tr th {\n",
       "        vertical-align: top;\n",
       "    }\n",
       "\n",
       "    .dataframe thead th {\n",
       "        text-align: right;\n",
       "    }\n",
       "</style>\n",
       "<table border=\"1\" class=\"dataframe\">\n",
       "  <thead>\n",
       "    <tr style=\"text-align: right;\">\n",
       "      <th></th>\n",
       "      <th>uriOrg</th>\n",
       "      <th>labelOrg</th>\n",
       "      <th>typesOrg</th>\n",
       "      <th>orgMainType</th>\n",
       "      <th>tot_members_number</th>\n",
       "    </tr>\n",
       "  </thead>\n",
       "  <tbody>\n",
       "    <tr>\n",
       "      <th>495</th>\n",
       "      <td>http://www.wikidata.org/entity/Q1795504</td>\n",
       "      <td>Emlyon Business School</td>\n",
       "      <td>grande école</td>\n",
       "      <td>public university</td>\n",
       "      <td>191</td>\n",
       "    </tr>\n",
       "    <tr>\n",
       "      <th>235</th>\n",
       "      <td>http://www.wikidata.org/entity/Q131137989</td>\n",
       "      <td>emlyon alumni</td>\n",
       "      <td>alumni association | organization</td>\n",
       "      <td>not classified organisation</td>\n",
       "      <td>182</td>\n",
       "    </tr>\n",
       "    <tr>\n",
       "      <th>471</th>\n",
       "      <td>http://www.wikidata.org/entity/Q174158</td>\n",
       "      <td>Hebrew University of Jerusalem</td>\n",
       "      <td>geographic location | university</td>\n",
       "      <td>university</td>\n",
       "      <td>80</td>\n",
       "    </tr>\n",
       "    <tr>\n",
       "      <th>794</th>\n",
       "      <td>http://www.wikidata.org/entity/Q319239</td>\n",
       "      <td>Tel Aviv University</td>\n",
       "      <td>open-access publisher | ottoman association | ...</td>\n",
       "      <td>university</td>\n",
       "      <td>68</td>\n",
       "    </tr>\n",
       "    <tr>\n",
       "      <th>253</th>\n",
       "      <td>http://www.wikidata.org/entity/Q13371</td>\n",
       "      <td>Harvard University</td>\n",
       "      <td>colonial colleges | private not-for-profit edu...</td>\n",
       "      <td>private university</td>\n",
       "      <td>64</td>\n",
       "    </tr>\n",
       "    <tr>\n",
       "      <th>1050</th>\n",
       "      <td>http://www.wikidata.org/entity/Q49126</td>\n",
       "      <td>Harvard Business School</td>\n",
       "      <td>business school | organization</td>\n",
       "      <td>educational institution</td>\n",
       "      <td>49</td>\n",
       "    </tr>\n",
       "    <tr>\n",
       "      <th>919</th>\n",
       "      <td>http://www.wikidata.org/entity/Q41506</td>\n",
       "      <td>Stanford University</td>\n",
       "      <td>open-access publisher | private not-for-profit...</td>\n",
       "      <td>private university</td>\n",
       "      <td>44</td>\n",
       "    </tr>\n",
       "    <tr>\n",
       "      <th>828</th>\n",
       "      <td>http://www.wikidata.org/entity/Q333705</td>\n",
       "      <td>Technion – Israel Institute of Technology</td>\n",
       "      <td>publishing company | university</td>\n",
       "      <td>university</td>\n",
       "      <td>35</td>\n",
       "    </tr>\n",
       "    <tr>\n",
       "      <th>90</th>\n",
       "      <td>http://www.wikidata.org/entity/Q1124657</td>\n",
       "      <td>Bar-Ilan University</td>\n",
       "      <td>academic publisher | public research university</td>\n",
       "      <td>university</td>\n",
       "      <td>30</td>\n",
       "    </tr>\n",
       "    <tr>\n",
       "      <th>1236</th>\n",
       "      <td>http://www.wikidata.org/entity/Q591115</td>\n",
       "      <td>University of Haifa</td>\n",
       "      <td>public research university</td>\n",
       "      <td>university</td>\n",
       "      <td>25</td>\n",
       "    </tr>\n",
       "  </tbody>\n",
       "</table>\n",
       "</div>"
      ],
      "text/plain": [
       "                                         uriOrg  \\\n",
       "495     http://www.wikidata.org/entity/Q1795504   \n",
       "235   http://www.wikidata.org/entity/Q131137989   \n",
       "471      http://www.wikidata.org/entity/Q174158   \n",
       "794      http://www.wikidata.org/entity/Q319239   \n",
       "253       http://www.wikidata.org/entity/Q13371   \n",
       "1050      http://www.wikidata.org/entity/Q49126   \n",
       "919       http://www.wikidata.org/entity/Q41506   \n",
       "828      http://www.wikidata.org/entity/Q333705   \n",
       "90      http://www.wikidata.org/entity/Q1124657   \n",
       "1236     http://www.wikidata.org/entity/Q591115   \n",
       "\n",
       "                                       labelOrg  \\\n",
       "495                      Emlyon Business School   \n",
       "235                               emlyon alumni   \n",
       "471              Hebrew University of Jerusalem   \n",
       "794                         Tel Aviv University   \n",
       "253                          Harvard University   \n",
       "1050                    Harvard Business School   \n",
       "919                         Stanford University   \n",
       "828   Technion – Israel Institute of Technology   \n",
       "90                          Bar-Ilan University   \n",
       "1236                        University of Haifa   \n",
       "\n",
       "                                               typesOrg  \\\n",
       "495                                        grande école   \n",
       "235                   alumni association | organization   \n",
       "471                    geographic location | university   \n",
       "794   open-access publisher | ottoman association | ...   \n",
       "253   colonial colleges | private not-for-profit edu...   \n",
       "1050                     business school | organization   \n",
       "919   open-access publisher | private not-for-profit...   \n",
       "828                     publishing company | university   \n",
       "90      academic publisher | public research university   \n",
       "1236                         public research university   \n",
       "\n",
       "                      orgMainType  tot_members_number  \n",
       "495             public university                 191  \n",
       "235   not classified organisation                 182  \n",
       "471                    university                  80  \n",
       "794                    university                  68  \n",
       "253            private university                  64  \n",
       "1050      educational institution                  49  \n",
       "919            private university                  44  \n",
       "828                    university                  35  \n",
       "90                     university                  30  \n",
       "1236                   university                  25  "
      ]
     },
     "execution_count": 34,
     "metadata": {},
     "output_type": "execute_result"
    }
   ],
   "source": [
    "### Memberships by organisations\n",
    "df_org = pd.DataFrame(df_prep.groupby(['uriOrg', 'labelOrg', 'typesOrg','orgMainType'],as_index=False).size())\n",
    "df_org.columns=['uriOrg', 'labelOrg', 'typesOrg', 'orgMainType','tot_members_number']\n",
    "df_org.sort_values('tot_members_number',ascending=False).iloc[:10]"
   ]
  },
  {
   "cell_type": "code",
   "execution_count": 35,
   "metadata": {},
   "outputs": [],
   "source": [
    "### Save list of organisations as CSV\n",
    "csv_file='../network_organisations_with_main_type_and_number.csv'\n",
    "df_org.sort_values('tot_members_number',ascending=False).to_csv(csv_file)"
   ]
  },
  {
   "cell_type": "markdown",
   "metadata": {},
   "source": [
    "#### Group by period\n",
    "\n",
    "We then group by heuristic period (or generation)"
   ]
  },
  {
   "cell_type": "code",
   "execution_count": 36,
   "metadata": {},
   "outputs": [
    {
     "name": "stderr",
     "output_type": "stream",
     "text": [
      "C:\\Users\\laila\\AppData\\Local\\Temp\\ipykernel_14472\\2242987556.py:1: FutureWarning: The default of observed=False is deprecated and will be changed to True in a future version of pandas. Pass observed=False to retain current behavior or observed=True to adopt the future default and silence this warning.\n",
      "  df_orgPeriod = pd.DataFrame(df_prep.groupby(['uriOrg', 'labelOrg', 'periods']).size(), columns=['period_members_number'])\n"
     ]
    },
    {
     "data": {
      "application/vnd.microsoft.datawrangler.viewer.v0+json": {
       "columns": [
        {
         "name": "index",
         "rawType": "int64",
         "type": "integer"
        },
        {
         "name": "uriOrg",
         "rawType": "object",
         "type": "string"
        },
        {
         "name": "labelOrg",
         "rawType": "object",
         "type": "string"
        },
        {
         "name": "periods",
         "rawType": "category",
         "type": "unknown"
        },
        {
         "name": "period_members_number",
         "rawType": "int64",
         "type": "integer"
        }
       ],
       "ref": "404ef338-e5e8-42bf-a39f-0eb152676822",
       "rows": [
        [
         "0",
         "http://www.wikidata.org/entity/Q1006251",
         "14th High School in Wrocław",
         "1751-1810",
         "0"
        ],
        [
         "13227620",
         "http://www.wikidata.org/entity/Q498526",
         "International House, The University of Sydney",
         "1751-1810",
         "0"
        ],
        [
         "13227613",
         "http://www.wikidata.org/entity/Q498526",
         "Instituto Tecnológico Autónomo de México",
         "1751-1810",
         "0"
        ],
        [
         "4139093",
         "http://www.wikidata.org/entity/Q1506510",
         "Catholic University of Central Africa",
         "1751-1810",
         "0"
        ],
        [
         "13227606",
         "http://www.wikidata.org/entity/Q498526",
         "Instituto Mauá de Tecnologia",
         "1751-1810",
         "0"
        ]
       ],
       "shape": {
        "columns": 4,
        "rows": 5
       }
      },
      "text/html": [
       "<div>\n",
       "<style scoped>\n",
       "    .dataframe tbody tr th:only-of-type {\n",
       "        vertical-align: middle;\n",
       "    }\n",
       "\n",
       "    .dataframe tbody tr th {\n",
       "        vertical-align: top;\n",
       "    }\n",
       "\n",
       "    .dataframe thead th {\n",
       "        text-align: right;\n",
       "    }\n",
       "</style>\n",
       "<table border=\"1\" class=\"dataframe\">\n",
       "  <thead>\n",
       "    <tr style=\"text-align: right;\">\n",
       "      <th></th>\n",
       "      <th>uriOrg</th>\n",
       "      <th>labelOrg</th>\n",
       "      <th>periods</th>\n",
       "      <th>period_members_number</th>\n",
       "    </tr>\n",
       "  </thead>\n",
       "  <tbody>\n",
       "    <tr>\n",
       "      <th>0</th>\n",
       "      <td>http://www.wikidata.org/entity/Q1006251</td>\n",
       "      <td>14th High School in Wrocław</td>\n",
       "      <td>1751-1810</td>\n",
       "      <td>0</td>\n",
       "    </tr>\n",
       "    <tr>\n",
       "      <th>13227620</th>\n",
       "      <td>http://www.wikidata.org/entity/Q498526</td>\n",
       "      <td>International House, The University of Sydney</td>\n",
       "      <td>1751-1810</td>\n",
       "      <td>0</td>\n",
       "    </tr>\n",
       "    <tr>\n",
       "      <th>13227613</th>\n",
       "      <td>http://www.wikidata.org/entity/Q498526</td>\n",
       "      <td>Instituto Tecnológico Autónomo de México</td>\n",
       "      <td>1751-1810</td>\n",
       "      <td>0</td>\n",
       "    </tr>\n",
       "    <tr>\n",
       "      <th>4139093</th>\n",
       "      <td>http://www.wikidata.org/entity/Q1506510</td>\n",
       "      <td>Catholic University of Central Africa</td>\n",
       "      <td>1751-1810</td>\n",
       "      <td>0</td>\n",
       "    </tr>\n",
       "    <tr>\n",
       "      <th>13227606</th>\n",
       "      <td>http://www.wikidata.org/entity/Q498526</td>\n",
       "      <td>Instituto Mauá de Tecnologia</td>\n",
       "      <td>1751-1810</td>\n",
       "      <td>0</td>\n",
       "    </tr>\n",
       "  </tbody>\n",
       "</table>\n",
       "</div>"
      ],
      "text/plain": [
       "                                           uriOrg  \\\n",
       "0         http://www.wikidata.org/entity/Q1006251   \n",
       "13227620   http://www.wikidata.org/entity/Q498526   \n",
       "13227613   http://www.wikidata.org/entity/Q498526   \n",
       "4139093   http://www.wikidata.org/entity/Q1506510   \n",
       "13227606   http://www.wikidata.org/entity/Q498526   \n",
       "\n",
       "                                               labelOrg    periods  \\\n",
       "0                           14th High School in Wrocław  1751-1810   \n",
       "13227620  International House, The University of Sydney  1751-1810   \n",
       "13227613       Instituto Tecnológico Autónomo de México  1751-1810   \n",
       "4139093           Catholic University of Central Africa  1751-1810   \n",
       "13227606                   Instituto Mauá de Tecnologia  1751-1810   \n",
       "\n",
       "          period_members_number  \n",
       "0                             0  \n",
       "13227620                      0  \n",
       "13227613                      0  \n",
       "4139093                       0  \n",
       "13227606                      0  "
      ]
     },
     "execution_count": 36,
     "metadata": {},
     "output_type": "execute_result"
    }
   ],
   "source": [
    "df_orgPeriod = pd.DataFrame(df_prep.groupby(['uriOrg', 'labelOrg', 'periods']).size(), columns=['period_members_number'])\n",
    "df_orgPeriod.reset_index(inplace=True)\n",
    "df_orgPeriod.sort_values(by='periods', ascending=True).head()"
   ]
  },
  {
   "cell_type": "markdown",
   "metadata": {},
   "source": [
    "#### Group by period and relationship type\n",
    "\n",
    "We then group by heuristic period (or generation) AND relationship type, i.e. which kind of relationship associates a person to an organisation in the bipartite network"
   ]
  },
  {
   "cell_type": "code",
   "execution_count": 37,
   "metadata": {},
   "outputs": [
    {
     "name": "stderr",
     "output_type": "stream",
     "text": [
      "C:\\Users\\laila\\AppData\\Local\\Temp\\ipykernel_14472\\2031965097.py:1: FutureWarning: The default of observed=False is deprecated and will be changed to True in a future version of pandas. Pass observed=False to retain current behavior or observed=True to adopt the future default and silence this warning.\n",
      "  df_orgPeriodRelType = pd.DataFrame(df_prep.groupby(['uriOrg', 'labelOrg', 'relaType', 'periods']).size(), columns=['period_members_number'])\n"
     ]
    },
    {
     "data": {
      "application/vnd.microsoft.datawrangler.viewer.v0+json": {
       "columns": [
        {
         "name": "index",
         "rawType": "int64",
         "type": "integer"
        },
        {
         "name": "uriOrg",
         "rawType": "object",
         "type": "string"
        },
        {
         "name": "labelOrg",
         "rawType": "object",
         "type": "string"
        },
        {
         "name": "relaType",
         "rawType": "object",
         "type": "string"
        },
        {
         "name": "periods",
         "rawType": "category",
         "type": "unknown"
        },
        {
         "name": "period_members_number",
         "rawType": "int64",
         "type": "integer"
        }
       ],
       "ref": "a131f5b3-6e96-460e-8c1c-92670d5e1c05",
       "rows": [
        [
         "8692234",
         "http://www.wikidata.org/entity/Q131137989",
         "emlyon alumni",
         "membership",
         "1941-1970",
         "95"
        ],
        [
         "18240437",
         "http://www.wikidata.org/entity/Q1795504",
         "Emlyon Business School",
         "education",
         "1941-1970",
         "95"
        ],
        [
         "8692235",
         "http://www.wikidata.org/entity/Q131137989",
         "emlyon alumni",
         "membership",
         "1971-2000",
         "85"
        ],
        [
         "18240438",
         "http://www.wikidata.org/entity/Q1795504",
         "Emlyon Business School",
         "education",
         "1971-2000",
         "85"
        ],
        [
         "29272955",
         "http://www.wikidata.org/entity/Q319239",
         "Tel Aviv University",
         "education",
         "1941-1970",
         "50"
        ]
       ],
       "shape": {
        "columns": 5,
        "rows": 5
       }
      },
      "text/html": [
       "<div>\n",
       "<style scoped>\n",
       "    .dataframe tbody tr th:only-of-type {\n",
       "        vertical-align: middle;\n",
       "    }\n",
       "\n",
       "    .dataframe tbody tr th {\n",
       "        vertical-align: top;\n",
       "    }\n",
       "\n",
       "    .dataframe thead th {\n",
       "        text-align: right;\n",
       "    }\n",
       "</style>\n",
       "<table border=\"1\" class=\"dataframe\">\n",
       "  <thead>\n",
       "    <tr style=\"text-align: right;\">\n",
       "      <th></th>\n",
       "      <th>uriOrg</th>\n",
       "      <th>labelOrg</th>\n",
       "      <th>relaType</th>\n",
       "      <th>periods</th>\n",
       "      <th>period_members_number</th>\n",
       "    </tr>\n",
       "  </thead>\n",
       "  <tbody>\n",
       "    <tr>\n",
       "      <th>8692234</th>\n",
       "      <td>http://www.wikidata.org/entity/Q131137989</td>\n",
       "      <td>emlyon alumni</td>\n",
       "      <td>membership</td>\n",
       "      <td>1941-1970</td>\n",
       "      <td>95</td>\n",
       "    </tr>\n",
       "    <tr>\n",
       "      <th>18240437</th>\n",
       "      <td>http://www.wikidata.org/entity/Q1795504</td>\n",
       "      <td>Emlyon Business School</td>\n",
       "      <td>education</td>\n",
       "      <td>1941-1970</td>\n",
       "      <td>95</td>\n",
       "    </tr>\n",
       "    <tr>\n",
       "      <th>8692235</th>\n",
       "      <td>http://www.wikidata.org/entity/Q131137989</td>\n",
       "      <td>emlyon alumni</td>\n",
       "      <td>membership</td>\n",
       "      <td>1971-2000</td>\n",
       "      <td>85</td>\n",
       "    </tr>\n",
       "    <tr>\n",
       "      <th>18240438</th>\n",
       "      <td>http://www.wikidata.org/entity/Q1795504</td>\n",
       "      <td>Emlyon Business School</td>\n",
       "      <td>education</td>\n",
       "      <td>1971-2000</td>\n",
       "      <td>85</td>\n",
       "    </tr>\n",
       "    <tr>\n",
       "      <th>29272955</th>\n",
       "      <td>http://www.wikidata.org/entity/Q319239</td>\n",
       "      <td>Tel Aviv University</td>\n",
       "      <td>education</td>\n",
       "      <td>1941-1970</td>\n",
       "      <td>50</td>\n",
       "    </tr>\n",
       "  </tbody>\n",
       "</table>\n",
       "</div>"
      ],
      "text/plain": [
       "                                             uriOrg                labelOrg  \\\n",
       "8692234   http://www.wikidata.org/entity/Q131137989           emlyon alumni   \n",
       "18240437    http://www.wikidata.org/entity/Q1795504  Emlyon Business School   \n",
       "8692235   http://www.wikidata.org/entity/Q131137989           emlyon alumni   \n",
       "18240438    http://www.wikidata.org/entity/Q1795504  Emlyon Business School   \n",
       "29272955     http://www.wikidata.org/entity/Q319239     Tel Aviv University   \n",
       "\n",
       "            relaType    periods  period_members_number  \n",
       "8692234   membership  1941-1970                     95  \n",
       "18240437   education  1941-1970                     95  \n",
       "8692235   membership  1971-2000                     85  \n",
       "18240438   education  1971-2000                     85  \n",
       "29272955   education  1941-1970                     50  "
      ]
     },
     "execution_count": 37,
     "metadata": {},
     "output_type": "execute_result"
    }
   ],
   "source": [
    "df_orgPeriodRelType = pd.DataFrame(df_prep.groupby(['uriOrg', 'labelOrg', 'relaType', 'periods']).size(), columns=['period_members_number'])\n",
    "df_orgPeriodRelType.reset_index(inplace=True)\n",
    "df_orgPeriodRelType.sort_values(by='period_members_number', ascending=False).head()"
   ]
  },
  {
   "cell_type": "code",
   "execution_count": 38,
   "metadata": {},
   "outputs": [
    {
     "name": "stderr",
     "output_type": "stream",
     "text": [
      "C:\\Users\\laila\\AppData\\Local\\Temp\\ipykernel_14472\\1694649844.py:2: FutureWarning: The default of observed=False is deprecated and will be changed to True in a future version of pandas. Pass observed=False to retain current behavior or observed=True to adopt the future default and silence this warning.\n",
      "  dfgt = df_orgPeriodRelType.groupby(['periods', 'relaType'], as_index=False)\\\n"
     ]
    },
    {
     "name": "stdout",
     "output_type": "stream",
     "text": [
      "21\n"
     ]
    },
    {
     "data": {
      "application/vnd.microsoft.datawrangler.viewer.v0+json": {
       "columns": [
        {
         "name": "index",
         "rawType": "int64",
         "type": "integer"
        },
        {
         "name": "periods",
         "rawType": "category",
         "type": "unknown"
        },
        {
         "name": "relaType",
         "rawType": "object",
         "type": "string"
        },
        {
         "name": "period_members_number",
         "rawType": "int64",
         "type": "integer"
        }
       ],
       "ref": "4be07063-2851-40ef-b6a5-83f50f99e73e",
       "rows": [
        [
         "0",
         "1751-1810",
         "education",
         "0"
        ],
        [
         "3",
         "1811-1850",
         "education",
         "3"
        ],
        [
         "6",
         "1851-1880",
         "education",
         "13"
        ],
        [
         "9",
         "1881-1910",
         "education",
         "61"
        ],
        [
         "12",
         "1911-1940",
         "education",
         "246"
        ],
        [
         "15",
         "1941-1970",
         "education",
         "1982"
        ],
        [
         "18",
         "1971-2000",
         "education",
         "983"
        ],
        [
         "1",
         "1751-1810",
         "employment",
         "0"
        ],
        [
         "4",
         "1811-1850",
         "employment",
         "2"
        ],
        [
         "7",
         "1851-1880",
         "employment",
         "1"
        ]
       ],
       "shape": {
        "columns": 3,
        "rows": 10
       }
      },
      "text/html": [
       "<div>\n",
       "<style scoped>\n",
       "    .dataframe tbody tr th:only-of-type {\n",
       "        vertical-align: middle;\n",
       "    }\n",
       "\n",
       "    .dataframe tbody tr th {\n",
       "        vertical-align: top;\n",
       "    }\n",
       "\n",
       "    .dataframe thead th {\n",
       "        text-align: right;\n",
       "    }\n",
       "</style>\n",
       "<table border=\"1\" class=\"dataframe\">\n",
       "  <thead>\n",
       "    <tr style=\"text-align: right;\">\n",
       "      <th></th>\n",
       "      <th>periods</th>\n",
       "      <th>relaType</th>\n",
       "      <th>period_members_number</th>\n",
       "    </tr>\n",
       "  </thead>\n",
       "  <tbody>\n",
       "    <tr>\n",
       "      <th>0</th>\n",
       "      <td>1751-1810</td>\n",
       "      <td>education</td>\n",
       "      <td>0</td>\n",
       "    </tr>\n",
       "    <tr>\n",
       "      <th>3</th>\n",
       "      <td>1811-1850</td>\n",
       "      <td>education</td>\n",
       "      <td>3</td>\n",
       "    </tr>\n",
       "    <tr>\n",
       "      <th>6</th>\n",
       "      <td>1851-1880</td>\n",
       "      <td>education</td>\n",
       "      <td>13</td>\n",
       "    </tr>\n",
       "    <tr>\n",
       "      <th>9</th>\n",
       "      <td>1881-1910</td>\n",
       "      <td>education</td>\n",
       "      <td>61</td>\n",
       "    </tr>\n",
       "    <tr>\n",
       "      <th>12</th>\n",
       "      <td>1911-1940</td>\n",
       "      <td>education</td>\n",
       "      <td>246</td>\n",
       "    </tr>\n",
       "    <tr>\n",
       "      <th>15</th>\n",
       "      <td>1941-1970</td>\n",
       "      <td>education</td>\n",
       "      <td>1982</td>\n",
       "    </tr>\n",
       "    <tr>\n",
       "      <th>18</th>\n",
       "      <td>1971-2000</td>\n",
       "      <td>education</td>\n",
       "      <td>983</td>\n",
       "    </tr>\n",
       "    <tr>\n",
       "      <th>1</th>\n",
       "      <td>1751-1810</td>\n",
       "      <td>employment</td>\n",
       "      <td>0</td>\n",
       "    </tr>\n",
       "    <tr>\n",
       "      <th>4</th>\n",
       "      <td>1811-1850</td>\n",
       "      <td>employment</td>\n",
       "      <td>2</td>\n",
       "    </tr>\n",
       "    <tr>\n",
       "      <th>7</th>\n",
       "      <td>1851-1880</td>\n",
       "      <td>employment</td>\n",
       "      <td>1</td>\n",
       "    </tr>\n",
       "  </tbody>\n",
       "</table>\n",
       "</div>"
      ],
      "text/plain": [
       "      periods    relaType  period_members_number\n",
       "0   1751-1810   education                      0\n",
       "3   1811-1850   education                      3\n",
       "6   1851-1880   education                     13\n",
       "9   1881-1910   education                     61\n",
       "12  1911-1940   education                    246\n",
       "15  1941-1970   education                   1982\n",
       "18  1971-2000   education                    983\n",
       "1   1751-1810  employment                      0\n",
       "4   1811-1850  employment                      2\n",
       "7   1851-1880  employment                      1"
      ]
     },
     "execution_count": 38,
     "metadata": {},
     "output_type": "execute_result"
    }
   ],
   "source": [
    "### Number of relationships by period with type\n",
    "dfgt = df_orgPeriodRelType.groupby(['periods', 'relaType'], as_index=False)\\\n",
    "    .sum('members').sort_values(['relaType', 'periods'])\n",
    "file_addr='../organisations_types_periods_distribution.csv'\n",
    "dfgt.sort_values(['relaType', 'periods']).to_csv(file_addr)\n",
    "print(len(dfgt))\n",
    "dfgt.iloc[:10]"
   ]
  },
  {
   "cell_type": "code",
   "execution_count": 39,
   "metadata": {},
   "outputs": [
    {
     "name": "stdout",
     "output_type": "stream",
     "text": [
      "3\n"
     ]
    }
   ],
   "source": [
    "### Number of relationships without period\n",
    "dfgw = df_orgPeriodRelType.groupby(['relaType' ], as_index=False)\\\n",
    "    .sum('members').sort_values([ 'relaType'])\n",
    "print(len(dfgw))"
   ]
  },
  {
   "cell_type": "markdown",
   "metadata": {},
   "source": [
    "## Bivariate analysis: relationship, organisation type"
   ]
  },
  {
   "cell_type": "markdown",
   "metadata": {},
   "source": [
    "### Create the needed functions"
   ]
  },
  {
   "cell_type": "code",
   "execution_count": 40,
   "metadata": {},
   "outputs": [],
   "source": [
    "### ct_m : contingency table without totals in margins\n",
    "def bivariee_stats(ct_wm):\n",
    "    \n",
    "    \n",
    "    n = ct_wm.sum().sum()\n",
    "\n",
    "    ### Valeurs produites par la fonction de la librairie 'stats'\n",
    "    statistic, p, dof, expected = stats.chi2_contingency(ct_wm)\n",
    "\n",
    "    print('Chi2 :', statistic.round(2), ', dof :',dof)\n",
    "    print('p-value :', p)\n",
    "\n",
    "    \n",
    "\n",
    "    print('phi2 = inertie (variance totale) :', statistic/n)\n",
    "\n",
    "\n",
    "    ### Tableau à l'indépendance\n",
    "    dfe = round(pd.DataFrame(expected),4)\n",
    "\n",
    "    ### Coéfficient de Cramer\n",
    "    # https://docs.scipy.org/doc/scipy/reference/generated/scipy.stats.contingency.association.html\n",
    "\n",
    "    vc = stats.contingency.association(ct_wm, method='cramer')\n",
    "    print('Cramer: ', vc)\n",
    "\n",
    "    return None\n",
    "\n",
    "\n",
    "\n"
   ]
  },
  {
   "cell_type": "code",
   "execution_count": 41,
   "metadata": {},
   "outputs": [],
   "source": [
    "### ct_m : contingency tables with totals in margins\n",
    "def plot_chi2_residuals(ct_wm, figsize=(9,3)):\n",
    "    \n",
    "    D = ct_wm\n",
    "\n",
    "    \n",
    "    ### Valeurs produites par la fonction de la librairie 'stats'\n",
    "    statistic, p, dof, expected = stats.chi2_contingency(D)\n",
    "\n",
    "    ### Situation à l'indépendance\n",
    "    indep = pd.DataFrame(expected)\n",
    "    indep.columns = D.columns\n",
    "    indep.index = D.index\n",
    "\n",
    "    ### Résidus pondérés (avec le signe)\n",
    "    ### Doc. :\n",
    "    #   Rakotomalala, p.240\n",
    "    residus_ponderes = (round((D-indep)/np.sqrt(indep),2))\n",
    "    ### Résidus pondérés\n",
    "    tableau = residus_ponderes\n",
    "   \n",
    "\n",
    "    fig, ax = plt.subplots(figsize=figsize)         \n",
    "    # Sample figsize in inches\n",
    "    g = sns.heatmap(tableau, annot=tableau, cmap=\"coolwarm\", linewidths=.5, ax=ax)\n",
    "    xlabels = tableau.columns\n",
    "    px = g.set_xticklabels(xlabels, rotation=60, size=8, \n",
    "                           ha='right', rotation_mode='anchor')\n",
    "    ylabels = tableau.index\n",
    "    py = g.set_yticklabels(ylabels, rotation=20, size=8)\n",
    "    \n",
    "    plt.show()\n",
    "\n",
    "    return residus_ponderes"
   ]
  },
  {
   "cell_type": "markdown",
   "metadata": {},
   "source": [
    "### Explore contingency table : types of relationships, types of organisations"
   ]
  },
  {
   "cell_type": "code",
   "execution_count": 42,
   "metadata": {},
   "outputs": [
    {
     "data": {
      "application/vnd.microsoft.datawrangler.viewer.v0+json": {
       "columns": [
        {
         "name": "orgMainType",
         "rawType": "object",
         "type": "string"
        },
        {
         "name": "education",
         "rawType": "int64",
         "type": "integer"
        },
        {
         "name": "employment",
         "rawType": "int64",
         "type": "integer"
        },
        {
         "name": "membership",
         "rawType": "int64",
         "type": "integer"
        },
        {
         "name": "Total",
         "rawType": "int64",
         "type": "integer"
        }
       ],
       "ref": "4e817d12-2ae3-432d-8e25-adc38ba6df58",
       "rows": [
        [
         "academy of sciences",
         "0",
         "1",
         "13",
         "14"
        ],
        [
         "company or gov. agency",
         "3",
         "7",
         "14",
         "24"
        ],
        [
         "educational institution",
         "983",
         "9",
         "6",
         "998"
        ],
        [
         "institute of technology",
         "66",
         "6",
         "0",
         "72"
        ],
        [
         "learned society",
         "2",
         "0",
         "37",
         "39"
        ],
        [
         "not classified organisation",
         "39",
         "9",
         "305",
         "353"
        ],
        [
         "private university",
         "372",
         "13",
         "0",
         "385"
        ],
        [
         "public university",
         "615",
         "31",
         "1",
         "647"
        ],
        [
         "research facility",
         "26",
         "0",
         "0",
         "26"
        ],
        [
         "research organisation",
         "6",
         "0",
         "4",
         "10"
        ],
        [
         "scientific organisation",
         "11",
         "0",
         "44",
         "55"
        ],
        [
         "university",
         "1165",
         "51",
         "0",
         "1216"
        ],
        [
         "Total",
         "3288",
         "127",
         "424",
         "3839"
        ]
       ],
       "shape": {
        "columns": 4,
        "rows": 13
       }
      },
      "text/html": [
       "<div>\n",
       "<style scoped>\n",
       "    .dataframe tbody tr th:only-of-type {\n",
       "        vertical-align: middle;\n",
       "    }\n",
       "\n",
       "    .dataframe tbody tr th {\n",
       "        vertical-align: top;\n",
       "    }\n",
       "\n",
       "    .dataframe thead th {\n",
       "        text-align: right;\n",
       "    }\n",
       "</style>\n",
       "<table border=\"1\" class=\"dataframe\">\n",
       "  <thead>\n",
       "    <tr style=\"text-align: right;\">\n",
       "      <th>relaType</th>\n",
       "      <th>education</th>\n",
       "      <th>employment</th>\n",
       "      <th>membership</th>\n",
       "      <th>Total</th>\n",
       "    </tr>\n",
       "    <tr>\n",
       "      <th>orgMainType</th>\n",
       "      <th></th>\n",
       "      <th></th>\n",
       "      <th></th>\n",
       "      <th></th>\n",
       "    </tr>\n",
       "  </thead>\n",
       "  <tbody>\n",
       "    <tr>\n",
       "      <th>academy of sciences</th>\n",
       "      <td>0</td>\n",
       "      <td>1</td>\n",
       "      <td>13</td>\n",
       "      <td>14</td>\n",
       "    </tr>\n",
       "    <tr>\n",
       "      <th>company or gov. agency</th>\n",
       "      <td>3</td>\n",
       "      <td>7</td>\n",
       "      <td>14</td>\n",
       "      <td>24</td>\n",
       "    </tr>\n",
       "    <tr>\n",
       "      <th>educational institution</th>\n",
       "      <td>983</td>\n",
       "      <td>9</td>\n",
       "      <td>6</td>\n",
       "      <td>998</td>\n",
       "    </tr>\n",
       "    <tr>\n",
       "      <th>institute of technology</th>\n",
       "      <td>66</td>\n",
       "      <td>6</td>\n",
       "      <td>0</td>\n",
       "      <td>72</td>\n",
       "    </tr>\n",
       "    <tr>\n",
       "      <th>learned society</th>\n",
       "      <td>2</td>\n",
       "      <td>0</td>\n",
       "      <td>37</td>\n",
       "      <td>39</td>\n",
       "    </tr>\n",
       "    <tr>\n",
       "      <th>not classified organisation</th>\n",
       "      <td>39</td>\n",
       "      <td>9</td>\n",
       "      <td>305</td>\n",
       "      <td>353</td>\n",
       "    </tr>\n",
       "    <tr>\n",
       "      <th>private university</th>\n",
       "      <td>372</td>\n",
       "      <td>13</td>\n",
       "      <td>0</td>\n",
       "      <td>385</td>\n",
       "    </tr>\n",
       "    <tr>\n",
       "      <th>public university</th>\n",
       "      <td>615</td>\n",
       "      <td>31</td>\n",
       "      <td>1</td>\n",
       "      <td>647</td>\n",
       "    </tr>\n",
       "    <tr>\n",
       "      <th>research facility</th>\n",
       "      <td>26</td>\n",
       "      <td>0</td>\n",
       "      <td>0</td>\n",
       "      <td>26</td>\n",
       "    </tr>\n",
       "    <tr>\n",
       "      <th>research organisation</th>\n",
       "      <td>6</td>\n",
       "      <td>0</td>\n",
       "      <td>4</td>\n",
       "      <td>10</td>\n",
       "    </tr>\n",
       "    <tr>\n",
       "      <th>scientific organisation</th>\n",
       "      <td>11</td>\n",
       "      <td>0</td>\n",
       "      <td>44</td>\n",
       "      <td>55</td>\n",
       "    </tr>\n",
       "    <tr>\n",
       "      <th>university</th>\n",
       "      <td>1165</td>\n",
       "      <td>51</td>\n",
       "      <td>0</td>\n",
       "      <td>1216</td>\n",
       "    </tr>\n",
       "    <tr>\n",
       "      <th>Total</th>\n",
       "      <td>3288</td>\n",
       "      <td>127</td>\n",
       "      <td>424</td>\n",
       "      <td>3839</td>\n",
       "    </tr>\n",
       "  </tbody>\n",
       "</table>\n",
       "</div>"
      ],
      "text/plain": [
       "relaType                     education  employment  membership  Total\n",
       "orgMainType                                                          \n",
       "academy of sciences                  0           1          13     14\n",
       "company or gov. agency               3           7          14     24\n",
       "educational institution            983           9           6    998\n",
       "institute of technology             66           6           0     72\n",
       "learned society                      2           0          37     39\n",
       "not classified organisation         39           9         305    353\n",
       "private university                 372          13           0    385\n",
       "public university                  615          31           1    647\n",
       "research facility                   26           0           0     26\n",
       "research organisation                6           0           4     10\n",
       "scientific organisation             11           0          44     55\n",
       "university                        1165          51           0   1216\n",
       "Total                             3288         127         424   3839"
      ]
     },
     "execution_count": 42,
     "metadata": {},
     "output_type": "execute_result"
    }
   ],
   "source": [
    "\n",
    "\n",
    "### Contingency table\n",
    "X = 'relaType'\n",
    "Y = 'orgMainType'  \n",
    "\n",
    "ddf = df_prep[[X,Y]].pivot_table(index=Y,columns=X,observed=True, aggfunc=len,margins=True,margins_name=\"Total\").fillna(0).astype(int)\n",
    "ddf\n",
    "\n"
   ]
  },
  {
   "cell_type": "code",
   "execution_count": 43,
   "metadata": {},
   "outputs": [
    {
     "data": {
      "application/vnd.microsoft.datawrangler.viewer.v0+json": {
       "columns": [
        {
         "name": "orgMainType",
         "rawType": "object",
         "type": "string"
        },
        {
         "name": "education",
         "rawType": "int64",
         "type": "integer"
        },
        {
         "name": "employment",
         "rawType": "int64",
         "type": "integer"
        },
        {
         "name": "membership",
         "rawType": "int64",
         "type": "integer"
        }
       ],
       "ref": "294e6102-d0c9-4cea-ac89-11477c86d095",
       "rows": [
        [
         "academy of sciences",
         "0",
         "1",
         "13"
        ],
        [
         "company or gov. agency",
         "3",
         "7",
         "14"
        ],
        [
         "educational institution",
         "983",
         "9",
         "6"
        ],
        [
         "institute of technology",
         "66",
         "6",
         "0"
        ],
        [
         "learned society",
         "2",
         "0",
         "37"
        ],
        [
         "not classified organisation",
         "39",
         "9",
         "305"
        ],
        [
         "private university",
         "372",
         "13",
         "0"
        ],
        [
         "public university",
         "615",
         "31",
         "1"
        ],
        [
         "research facility",
         "26",
         "0",
         "0"
        ],
        [
         "research organisation",
         "6",
         "0",
         "4"
        ],
        [
         "scientific organisation",
         "11",
         "0",
         "44"
        ],
        [
         "university",
         "1165",
         "51",
         "0"
        ]
       ],
       "shape": {
        "columns": 3,
        "rows": 12
       }
      },
      "text/html": [
       "<div>\n",
       "<style scoped>\n",
       "    .dataframe tbody tr th:only-of-type {\n",
       "        vertical-align: middle;\n",
       "    }\n",
       "\n",
       "    .dataframe tbody tr th {\n",
       "        vertical-align: top;\n",
       "    }\n",
       "\n",
       "    .dataframe thead th {\n",
       "        text-align: right;\n",
       "    }\n",
       "</style>\n",
       "<table border=\"1\" class=\"dataframe\">\n",
       "  <thead>\n",
       "    <tr style=\"text-align: right;\">\n",
       "      <th>relaType</th>\n",
       "      <th>education</th>\n",
       "      <th>employment</th>\n",
       "      <th>membership</th>\n",
       "    </tr>\n",
       "    <tr>\n",
       "      <th>orgMainType</th>\n",
       "      <th></th>\n",
       "      <th></th>\n",
       "      <th></th>\n",
       "    </tr>\n",
       "  </thead>\n",
       "  <tbody>\n",
       "    <tr>\n",
       "      <th>academy of sciences</th>\n",
       "      <td>0</td>\n",
       "      <td>1</td>\n",
       "      <td>13</td>\n",
       "    </tr>\n",
       "    <tr>\n",
       "      <th>company or gov. agency</th>\n",
       "      <td>3</td>\n",
       "      <td>7</td>\n",
       "      <td>14</td>\n",
       "    </tr>\n",
       "    <tr>\n",
       "      <th>educational institution</th>\n",
       "      <td>983</td>\n",
       "      <td>9</td>\n",
       "      <td>6</td>\n",
       "    </tr>\n",
       "    <tr>\n",
       "      <th>institute of technology</th>\n",
       "      <td>66</td>\n",
       "      <td>6</td>\n",
       "      <td>0</td>\n",
       "    </tr>\n",
       "    <tr>\n",
       "      <th>learned society</th>\n",
       "      <td>2</td>\n",
       "      <td>0</td>\n",
       "      <td>37</td>\n",
       "    </tr>\n",
       "    <tr>\n",
       "      <th>not classified organisation</th>\n",
       "      <td>39</td>\n",
       "      <td>9</td>\n",
       "      <td>305</td>\n",
       "    </tr>\n",
       "    <tr>\n",
       "      <th>private university</th>\n",
       "      <td>372</td>\n",
       "      <td>13</td>\n",
       "      <td>0</td>\n",
       "    </tr>\n",
       "    <tr>\n",
       "      <th>public university</th>\n",
       "      <td>615</td>\n",
       "      <td>31</td>\n",
       "      <td>1</td>\n",
       "    </tr>\n",
       "    <tr>\n",
       "      <th>research facility</th>\n",
       "      <td>26</td>\n",
       "      <td>0</td>\n",
       "      <td>0</td>\n",
       "    </tr>\n",
       "    <tr>\n",
       "      <th>research organisation</th>\n",
       "      <td>6</td>\n",
       "      <td>0</td>\n",
       "      <td>4</td>\n",
       "    </tr>\n",
       "    <tr>\n",
       "      <th>scientific organisation</th>\n",
       "      <td>11</td>\n",
       "      <td>0</td>\n",
       "      <td>44</td>\n",
       "    </tr>\n",
       "    <tr>\n",
       "      <th>university</th>\n",
       "      <td>1165</td>\n",
       "      <td>51</td>\n",
       "      <td>0</td>\n",
       "    </tr>\n",
       "  </tbody>\n",
       "</table>\n",
       "</div>"
      ],
      "text/plain": [
       "relaType                     education  employment  membership\n",
       "orgMainType                                                   \n",
       "academy of sciences                  0           1          13\n",
       "company or gov. agency               3           7          14\n",
       "educational institution            983           9           6\n",
       "institute of technology             66           6           0\n",
       "learned society                      2           0          37\n",
       "not classified organisation         39           9         305\n",
       "private university                 372          13           0\n",
       "public university                  615          31           1\n",
       "research facility                   26           0           0\n",
       "research organisation                6           0           4\n",
       "scientific organisation             11           0          44\n",
       "university                        1165          51           0"
      ]
     },
     "execution_count": 43,
     "metadata": {},
     "output_type": "execute_result"
    }
   ],
   "source": [
    "ct_wm = ddf.iloc[:-1,:-1].copy(deep=True)\n",
    "ct_wm"
   ]
  },
  {
   "cell_type": "code",
   "execution_count": 44,
   "metadata": {},
   "outputs": [
    {
     "name": "stdout",
     "output_type": "stream",
     "text": [
      "Chi2 : 3242.08 , dof : 22\n",
      "p-value : 0.0\n",
      "phi2 = inertie (variance totale) : 0.8445123768668488\n",
      "Cramer:  0.6498124255763539\n"
     ]
    }
   ],
   "source": [
    "### We observe a strong relationship between these two variables\n",
    "\n",
    "bivariee_stats(ct_wm)"
   ]
  },
  {
   "cell_type": "code",
   "execution_count": 45,
   "metadata": {},
   "outputs": [
    {
     "data": {
      "image/png": "[encoded data removed]",
      "text/plain": [
       "<Figure size 500x800 with 2 Axes>"
      ]
     },
     "metadata": {},
     "output_type": "display_data"
    }
   ],
   "source": [
    "pp = plot_chi2_residuals(ct_wm, figsize=(5, 8))"
   ]
  },
  {
   "cell_type": "markdown",
   "metadata": {},
   "source": [
    "#### Comment\n",
    "\n",
    "We observe a strong relationship between these two variables which is explained by the fact that not all organisations types are concerned by the same relationship types\n",
    "\n",
    "We also observe that some values should be corrected, like memberships in technical organisations that should be employments.\n",
    "\n",
    "See the following example"
   ]
  },
  {
   "cell_type": "code",
   "execution_count": 46,
   "metadata": {},
   "outputs": [
    {
     "name": "stdout",
     "output_type": "stream",
     "text": [
      "[('uriPer', Series([], Name: uriPer, dtype: object)),\n",
      " ('labelPer', Series([], Name: labelPer, dtype: object)),\n",
      " ('birthYear', Series([], Name: birthYear, dtype: int64)),\n",
      " ('relaType', Series([], Name: relaType, dtype: object)),\n",
      " ('uriOrg', Series([], Name: uriOrg, dtype: object)),\n",
      " ('labelOrg', Series([], Name: labelOrg, dtype: object))]\n"
     ]
    }
   ],
   "source": [
    "pprint.pprint(list(df_p.loc[df_p.orgMainType.str.contains('techno') & df_p.relaType.str.contains('memb') ].items())[:6])"
   ]
  },
  {
   "cell_type": "markdown",
   "metadata": {},
   "source": [
    "### Explore contingency table of relationships to organisations : periods, types of organisations"
   ]
  },
  {
   "cell_type": "code",
   "execution_count": 47,
   "metadata": {},
   "outputs": [
    {
     "data": {
      "application/vnd.microsoft.datawrangler.viewer.v0+json": {
       "columns": [
        {
         "name": "orgMainType",
         "rawType": "object",
         "type": "string"
        },
        {
         "name": "1811-1850",
         "rawType": "int64",
         "type": "integer"
        },
        {
         "name": "1851-1880",
         "rawType": "int64",
         "type": "integer"
        },
        {
         "name": "1881-1910",
         "rawType": "int64",
         "type": "integer"
        },
        {
         "name": "1911-1940",
         "rawType": "int64",
         "type": "integer"
        },
        {
         "name": "1941-1970",
         "rawType": "int64",
         "type": "integer"
        },
        {
         "name": "1971-2000",
         "rawType": "int64",
         "type": "integer"
        },
        {
         "name": "Total",
         "rawType": "int64",
         "type": "integer"
        }
       ],
       "ref": "540eb166-91e9-43a8-872d-ff630709bcfa",
       "rows": [
        [
         "academy of sciences",
         "0",
         "0",
         "2",
         "3",
         "7",
         "2",
         "14"
        ],
        [
         "company or gov. agency",
         "0",
         "1",
         "2",
         "2",
         "12",
         "7",
         "24"
        ],
        [
         "educational institution",
         "1",
         "5",
         "20",
         "74",
         "625",
         "273",
         "998"
        ],
        [
         "institute of technology",
         "0",
         "1",
         "3",
         "8",
         "41",
         "19",
         "72"
        ],
        [
         "learned society",
         "1",
         "1",
         "5",
         "5",
         "26",
         "1",
         "39"
        ],
        [
         "not classified organisation",
         "1",
         "2",
         "7",
         "19",
         "177",
         "147",
         "353"
        ],
        [
         "private university",
         "0",
         "2",
         "4",
         "39",
         "234",
         "106",
         "385"
        ],
        [
         "public university",
         "4",
         "2",
         "17",
         "22",
         "355",
         "247",
         "647"
        ],
        [
         "research facility",
         "0",
         "0",
         "0",
         "0",
         "9",
         "17",
         "26"
        ],
        [
         "research organisation",
         "0",
         "0",
         "0",
         "0",
         "9",
         "1",
         "10"
        ],
        [
         "scientific organisation",
         "0",
         "0",
         "5",
         "2",
         "35",
         "13",
         "55"
        ],
        [
         "university",
         "0",
         "3",
         "24",
         "117",
         "741",
         "331",
         "1216"
        ],
        [
         "Total",
         "7",
         "17",
         "89",
         "291",
         "2271",
         "1164",
         "3839"
        ]
       ],
       "shape": {
        "columns": 7,
        "rows": 13
       }
      },
      "text/html": [
       "<div>\n",
       "<style scoped>\n",
       "    .dataframe tbody tr th:only-of-type {\n",
       "        vertical-align: middle;\n",
       "    }\n",
       "\n",
       "    .dataframe tbody tr th {\n",
       "        vertical-align: top;\n",
       "    }\n",
       "\n",
       "    .dataframe thead th {\n",
       "        text-align: right;\n",
       "    }\n",
       "</style>\n",
       "<table border=\"1\" class=\"dataframe\">\n",
       "  <thead>\n",
       "    <tr style=\"text-align: right;\">\n",
       "      <th>periods</th>\n",
       "      <th>1811-1850</th>\n",
       "      <th>1851-1880</th>\n",
       "      <th>1881-1910</th>\n",
       "      <th>1911-1940</th>\n",
       "      <th>1941-1970</th>\n",
       "      <th>1971-2000</th>\n",
       "      <th>Total</th>\n",
       "    </tr>\n",
       "    <tr>\n",
       "      <th>orgMainType</th>\n",
       "      <th></th>\n",
       "      <th></th>\n",
       "      <th></th>\n",
       "      <th></th>\n",
       "      <th></th>\n",
       "      <th></th>\n",
       "      <th></th>\n",
       "    </tr>\n",
       "  </thead>\n",
       "  <tbody>\n",
       "    <tr>\n",
       "      <th>academy of sciences</th>\n",
       "      <td>0</td>\n",
       "      <td>0</td>\n",
       "      <td>2</td>\n",
       "      <td>3</td>\n",
       "      <td>7</td>\n",
       "      <td>2</td>\n",
       "      <td>14</td>\n",
       "    </tr>\n",
       "    <tr>\n",
       "      <th>company or gov. agency</th>\n",
       "      <td>0</td>\n",
       "      <td>1</td>\n",
       "      <td>2</td>\n",
       "      <td>2</td>\n",
       "      <td>12</td>\n",
       "      <td>7</td>\n",
       "      <td>24</td>\n",
       "    </tr>\n",
       "    <tr>\n",
       "      <th>educational institution</th>\n",
       "      <td>1</td>\n",
       "      <td>5</td>\n",
       "      <td>20</td>\n",
       "      <td>74</td>\n",
       "      <td>625</td>\n",
       "      <td>273</td>\n",
       "      <td>998</td>\n",
       "    </tr>\n",
       "    <tr>\n",
       "      <th>institute of technology</th>\n",
       "      <td>0</td>\n",
       "      <td>1</td>\n",
       "      <td>3</td>\n",
       "      <td>8</td>\n",
       "      <td>41</td>\n",
       "      <td>19</td>\n",
       "      <td>72</td>\n",
       "    </tr>\n",
       "    <tr>\n",
       "      <th>learned society</th>\n",
       "      <td>1</td>\n",
       "      <td>1</td>\n",
       "      <td>5</td>\n",
       "      <td>5</td>\n",
       "      <td>26</td>\n",
       "      <td>1</td>\n",
       "      <td>39</td>\n",
       "    </tr>\n",
       "    <tr>\n",
       "      <th>not classified organisation</th>\n",
       "      <td>1</td>\n",
       "      <td>2</td>\n",
       "      <td>7</td>\n",
       "      <td>19</td>\n",
       "      <td>177</td>\n",
       "      <td>147</td>\n",
       "      <td>353</td>\n",
       "    </tr>\n",
       "    <tr>\n",
       "      <th>private university</th>\n",
       "      <td>0</td>\n",
       "      <td>2</td>\n",
       "      <td>4</td>\n",
       "      <td>39</td>\n",
       "      <td>234</td>\n",
       "      <td>106</td>\n",
       "      <td>385</td>\n",
       "    </tr>\n",
       "    <tr>\n",
       "      <th>public university</th>\n",
       "      <td>4</td>\n",
       "      <td>2</td>\n",
       "      <td>17</td>\n",
       "      <td>22</td>\n",
       "      <td>355</td>\n",
       "      <td>247</td>\n",
       "      <td>647</td>\n",
       "    </tr>\n",
       "    <tr>\n",
       "      <th>research facility</th>\n",
       "      <td>0</td>\n",
       "      <td>0</td>\n",
       "      <td>0</td>\n",
       "      <td>0</td>\n",
       "      <td>9</td>\n",
       "      <td>17</td>\n",
       "      <td>26</td>\n",
       "    </tr>\n",
       "    <tr>\n",
       "      <th>research organisation</th>\n",
       "      <td>0</td>\n",
       "      <td>0</td>\n",
       "      <td>0</td>\n",
       "      <td>0</td>\n",
       "      <td>9</td>\n",
       "      <td>1</td>\n",
       "      <td>10</td>\n",
       "    </tr>\n",
       "    <tr>\n",
       "      <th>scientific organisation</th>\n",
       "      <td>0</td>\n",
       "      <td>0</td>\n",
       "      <td>5</td>\n",
       "      <td>2</td>\n",
       "      <td>35</td>\n",
       "      <td>13</td>\n",
       "      <td>55</td>\n",
       "    </tr>\n",
       "    <tr>\n",
       "      <th>university</th>\n",
       "      <td>0</td>\n",
       "      <td>3</td>\n",
       "      <td>24</td>\n",
       "      <td>117</td>\n",
       "      <td>741</td>\n",
       "      <td>331</td>\n",
       "      <td>1216</td>\n",
       "    </tr>\n",
       "    <tr>\n",
       "      <th>Total</th>\n",
       "      <td>7</td>\n",
       "      <td>17</td>\n",
       "      <td>89</td>\n",
       "      <td>291</td>\n",
       "      <td>2271</td>\n",
       "      <td>1164</td>\n",
       "      <td>3839</td>\n",
       "    </tr>\n",
       "  </tbody>\n",
       "</table>\n",
       "</div>"
      ],
      "text/plain": [
       "periods                      1811-1850  1851-1880  1881-1910  1911-1940  \\\n",
       "orgMainType                                                               \n",
       "academy of sciences                  0          0          2          3   \n",
       "company or gov. agency               0          1          2          2   \n",
       "educational institution              1          5         20         74   \n",
       "institute of technology              0          1          3          8   \n",
       "learned society                      1          1          5          5   \n",
       "not classified organisation          1          2          7         19   \n",
       "private university                   0          2          4         39   \n",
       "public university                    4          2         17         22   \n",
       "research facility                    0          0          0          0   \n",
       "research organisation                0          0          0          0   \n",
       "scientific organisation              0          0          5          2   \n",
       "university                           0          3         24        117   \n",
       "Total                                7         17         89        291   \n",
       "\n",
       "periods                      1941-1970  1971-2000  Total  \n",
       "orgMainType                                               \n",
       "academy of sciences                  7          2     14  \n",
       "company or gov. agency              12          7     24  \n",
       "educational institution            625        273    998  \n",
       "institute of technology             41         19     72  \n",
       "learned society                     26          1     39  \n",
       "not classified organisation        177        147    353  \n",
       "private university                 234        106    385  \n",
       "public university                  355        247    647  \n",
       "research facility                    9         17     26  \n",
       "research organisation                9          1     10  \n",
       "scientific organisation             35         13     55  \n",
       "university                         741        331   1216  \n",
       "Total                             2271       1164   3839  "
      ]
     },
     "execution_count": 47,
     "metadata": {},
     "output_type": "execute_result"
    }
   ],
   "source": [
    "### Contingency table\n",
    "X = 'periods'\n",
    "Y = 'orgMainType'  \n",
    "\n",
    "ddf = df_prep[[X,Y]].pivot_table(index=Y,columns=X,observed=True, aggfunc=len,margins=True,margins_name=\"Total\").fillna(0).astype(int)\n",
    "ddf\n",
    "\n"
   ]
  },
  {
   "cell_type": "code",
   "execution_count": 48,
   "metadata": {},
   "outputs": [],
   "source": [
    "ct_wm = ddf.iloc[:-1,:-1].copy(deep=True)"
   ]
  },
  {
   "cell_type": "code",
   "execution_count": 49,
   "metadata": {},
   "outputs": [
    {
     "name": "stdout",
     "output_type": "stream",
     "text": [
      "Chi2 : 197.97 , dof : 55\n",
      "p-value : 5.102620795634102e-18\n",
      "phi2 = inertie (variance totale) : 0.051568245808937624\n",
      "Cramer:  0.10155613798184493\n"
     ]
    }
   ],
   "source": [
    "### We observe some not so strong relationship between these two variables\n",
    "bivariee_stats(ct_wm)"
   ]
  },
  {
   "cell_type": "code",
   "execution_count": 50,
   "metadata": {},
   "outputs": [
    {
     "data": {
      "image/png": "[encoded data removed]",
      "text/plain": [
       "<Figure size 800x800 with 2 Axes>"
      ]
     },
     "metadata": {},
     "output_type": "display_data"
    }
   ],
   "source": [
    "pp = plot_chi2_residuals(ct_wm, figsize=(8, 8))"
   ]
  },
  {
   "cell_type": "markdown",
   "metadata": {},
   "source": [
    "### Explore contingency table of relationships to organisations : periods, types of relationships"
   ]
  },
  {
   "cell_type": "code",
   "execution_count": 51,
   "metadata": {},
   "outputs": [
    {
     "data": {
      "application/vnd.microsoft.datawrangler.viewer.v0+json": {
       "columns": [
        {
         "name": "relaType",
         "rawType": "object",
         "type": "string"
        },
        {
         "name": "1811-1850",
         "rawType": "int64",
         "type": "integer"
        },
        {
         "name": "1851-1880",
         "rawType": "int64",
         "type": "integer"
        },
        {
         "name": "1881-1910",
         "rawType": "int64",
         "type": "integer"
        },
        {
         "name": "1911-1940",
         "rawType": "int64",
         "type": "integer"
        },
        {
         "name": "1941-1970",
         "rawType": "int64",
         "type": "integer"
        },
        {
         "name": "1971-2000",
         "rawType": "int64",
         "type": "integer"
        },
        {
         "name": "Total",
         "rawType": "int64",
         "type": "integer"
        }
       ],
       "ref": "605560cf-b249-4733-a435-59dfde813070",
       "rows": [
        [
         "education",
         "3",
         "13",
         "61",
         "246",
         "1982",
         "983",
         "3288"
        ],
        [
         "employment",
         "2",
         "1",
         "6",
         "19",
         "65",
         "34",
         "127"
        ],
        [
         "membership",
         "2",
         "3",
         "22",
         "26",
         "224",
         "147",
         "424"
        ],
        [
         "Total",
         "7",
         "17",
         "89",
         "291",
         "2271",
         "1164",
         "3839"
        ]
       ],
       "shape": {
        "columns": 7,
        "rows": 4
       }
      },
      "text/html": [
       "<div>\n",
       "<style scoped>\n",
       "    .dataframe tbody tr th:only-of-type {\n",
       "        vertical-align: middle;\n",
       "    }\n",
       "\n",
       "    .dataframe tbody tr th {\n",
       "        vertical-align: top;\n",
       "    }\n",
       "\n",
       "    .dataframe thead th {\n",
       "        text-align: right;\n",
       "    }\n",
       "</style>\n",
       "<table border=\"1\" class=\"dataframe\">\n",
       "  <thead>\n",
       "    <tr style=\"text-align: right;\">\n",
       "      <th>periods</th>\n",
       "      <th>1811-1850</th>\n",
       "      <th>1851-1880</th>\n",
       "      <th>1881-1910</th>\n",
       "      <th>1911-1940</th>\n",
       "      <th>1941-1970</th>\n",
       "      <th>1971-2000</th>\n",
       "      <th>Total</th>\n",
       "    </tr>\n",
       "    <tr>\n",
       "      <th>relaType</th>\n",
       "      <th></th>\n",
       "      <th></th>\n",
       "      <th></th>\n",
       "      <th></th>\n",
       "      <th></th>\n",
       "      <th></th>\n",
       "      <th></th>\n",
       "    </tr>\n",
       "  </thead>\n",
       "  <tbody>\n",
       "    <tr>\n",
       "      <th>education</th>\n",
       "      <td>3</td>\n",
       "      <td>13</td>\n",
       "      <td>61</td>\n",
       "      <td>246</td>\n",
       "      <td>1982</td>\n",
       "      <td>983</td>\n",
       "      <td>3288</td>\n",
       "    </tr>\n",
       "    <tr>\n",
       "      <th>employment</th>\n",
       "      <td>2</td>\n",
       "      <td>1</td>\n",
       "      <td>6</td>\n",
       "      <td>19</td>\n",
       "      <td>65</td>\n",
       "      <td>34</td>\n",
       "      <td>127</td>\n",
       "    </tr>\n",
       "    <tr>\n",
       "      <th>membership</th>\n",
       "      <td>2</td>\n",
       "      <td>3</td>\n",
       "      <td>22</td>\n",
       "      <td>26</td>\n",
       "      <td>224</td>\n",
       "      <td>147</td>\n",
       "      <td>424</td>\n",
       "    </tr>\n",
       "    <tr>\n",
       "      <th>Total</th>\n",
       "      <td>7</td>\n",
       "      <td>17</td>\n",
       "      <td>89</td>\n",
       "      <td>291</td>\n",
       "      <td>2271</td>\n",
       "      <td>1164</td>\n",
       "      <td>3839</td>\n",
       "    </tr>\n",
       "  </tbody>\n",
       "</table>\n",
       "</div>"
      ],
      "text/plain": [
       "periods     1811-1850  1851-1880  1881-1910  1911-1940  1941-1970  1971-2000  \\\n",
       "relaType                                                                       \n",
       "education           3         13         61        246       1982        983   \n",
       "employment          2          1          6         19         65         34   \n",
       "membership          2          3         22         26        224        147   \n",
       "Total               7         17         89        291       2271       1164   \n",
       "\n",
       "periods     Total  \n",
       "relaType           \n",
       "education    3288  \n",
       "employment    127  \n",
       "membership    424  \n",
       "Total        3839  "
      ]
     },
     "execution_count": 51,
     "metadata": {},
     "output_type": "execute_result"
    }
   ],
   "source": [
    "### Contingency table\n",
    "X = 'periods'\n",
    "Y = 'relaType'  \n",
    "\n",
    "ddf = df_prep[[X,Y]].pivot_table(index=Y,columns=X,observed=True, aggfunc=len,margins=True,margins_name=\"Total\").fillna(0).astype(int)\n",
    "ddf\n",
    "\n"
   ]
  },
  {
   "cell_type": "code",
   "execution_count": 52,
   "metadata": {},
   "outputs": [],
   "source": [
    "ct_wm = ddf.iloc[:-1,:-1].copy(deep=True)"
   ]
  },
  {
   "cell_type": "code",
   "execution_count": 53,
   "metadata": {},
   "outputs": [
    {
     "name": "stdout",
     "output_type": "stream",
     "text": [
      "Chi2 : 58.05 , dof : 10\n",
      "p-value : 8.449046397660199e-09\n",
      "phi2 = inertie (variance totale) : 0.015121856944014123\n",
      "Cramer:  0.08695359953450496\n"
     ]
    }
   ],
   "source": [
    "### We observe a relationship between these two variables, \n",
    "# not so strong \n",
    "bivariee_stats(ct_wm)"
   ]
  },
  {
   "cell_type": "code",
   "execution_count": 54,
   "metadata": {},
   "outputs": [
    {
     "data": {
      "image/png": "[encoded data removed]",
      "text/plain": [
       "<Figure size 800x300 with 2 Axes>"
      ]
     },
     "metadata": {},
     "output_type": "display_data"
    }
   ],
   "source": [
    "pp = plot_chi2_residuals(ct_wm, figsize=(8, 3))"
   ]
  },
  {
   "cell_type": "markdown",
   "metadata": {},
   "source": [
    "### Explore contingency table of relationships to organisations : periods+types of relationships vs organisations types"
   ]
  },
  {
   "cell_type": "code",
   "execution_count": 55,
   "metadata": {},
   "outputs": [
    {
     "data": {
      "application/vnd.microsoft.datawrangler.viewer.v0+json": {
       "columns": [
        {
         "name": "index",
         "rawType": "int64",
         "type": "integer"
        },
        {
         "name": "uriPer",
         "rawType": "object",
         "type": "string"
        },
        {
         "name": "labelPer",
         "rawType": "object",
         "type": "string"
        },
        {
         "name": "birthYear",
         "rawType": "int64",
         "type": "integer"
        },
        {
         "name": "uriOrg",
         "rawType": "object",
         "type": "string"
        },
        {
         "name": "labelOrg",
         "rawType": "object",
         "type": "string"
        },
        {
         "name": "typesOrg",
         "rawType": "object",
         "type": "string"
        },
        {
         "name": "orgMainType",
         "rawType": "object",
         "type": "string"
        },
        {
         "name": "relaType",
         "rawType": "object",
         "type": "string"
        },
        {
         "name": "periods",
         "rawType": "category",
         "type": "unknown"
        },
        {
         "name": "periods_relaType",
         "rawType": "object",
         "type": "string"
        }
       ],
       "ref": "5ce19c5f-bdc1-4447-ad3e-b0347bd50a77",
       "rows": [
        [
         "0",
         "http://www.wikidata.org/entity/Q100158636",
         "Amanda Pritchard",
         "1976",
         "http://www.wikidata.org/entity/Q34433",
         "University of Oxford",
         "collegiate university | educational organization | exempt charity | higher education institution | organization | public university",
         "public university",
         "education",
         "1971-2000",
         "1971-2000_education"
        ]
       ],
       "shape": {
        "columns": 10,
        "rows": 1
       }
      },
      "text/html": [
       "<div>\n",
       "<style scoped>\n",
       "    .dataframe tbody tr th:only-of-type {\n",
       "        vertical-align: middle;\n",
       "    }\n",
       "\n",
       "    .dataframe tbody tr th {\n",
       "        vertical-align: top;\n",
       "    }\n",
       "\n",
       "    .dataframe thead th {\n",
       "        text-align: right;\n",
       "    }\n",
       "</style>\n",
       "<table border=\"1\" class=\"dataframe\">\n",
       "  <thead>\n",
       "    <tr style=\"text-align: right;\">\n",
       "      <th></th>\n",
       "      <th>uriPer</th>\n",
       "      <th>labelPer</th>\n",
       "      <th>birthYear</th>\n",
       "      <th>uriOrg</th>\n",
       "      <th>labelOrg</th>\n",
       "      <th>typesOrg</th>\n",
       "      <th>orgMainType</th>\n",
       "      <th>relaType</th>\n",
       "      <th>periods</th>\n",
       "      <th>periods_relaType</th>\n",
       "    </tr>\n",
       "  </thead>\n",
       "  <tbody>\n",
       "    <tr>\n",
       "      <th>0</th>\n",
       "      <td>http://www.wikidata.org/entity/Q100158636</td>\n",
       "      <td>Amanda Pritchard</td>\n",
       "      <td>1976</td>\n",
       "      <td>http://www.wikidata.org/entity/Q34433</td>\n",
       "      <td>University of Oxford</td>\n",
       "      <td>collegiate university | educational organizati...</td>\n",
       "      <td>public university</td>\n",
       "      <td>education</td>\n",
       "      <td>1971-2000</td>\n",
       "      <td>1971-2000_education</td>\n",
       "    </tr>\n",
       "  </tbody>\n",
       "</table>\n",
       "</div>"
      ],
      "text/plain": [
       "                                      uriPer          labelPer  birthYear  \\\n",
       "0  http://www.wikidata.org/entity/Q100158636  Amanda Pritchard       1976   \n",
       "\n",
       "                                  uriOrg              labelOrg  \\\n",
       "0  http://www.wikidata.org/entity/Q34433  University of Oxford   \n",
       "\n",
       "                                            typesOrg        orgMainType  \\\n",
       "0  collegiate university | educational organizati...  public university   \n",
       "\n",
       "    relaType    periods     periods_relaType  \n",
       "0  education  1971-2000  1971-2000_education  "
      ]
     },
     "execution_count": 55,
     "metadata": {},
     "output_type": "execute_result"
    }
   ],
   "source": [
    "df_prep['periods_relaType'] = df_prep.apply(lambda x : x.periods+'_'+x.relaType, axis=1)\n",
    "df_prep.head(1)"
   ]
  },
  {
   "cell_type": "code",
   "execution_count": 56,
   "metadata": {},
   "outputs": [
    {
     "data": {
      "application/vnd.microsoft.datawrangler.viewer.v0+json": {
       "columns": [
        {
         "name": "orgMainType",
         "rawType": "object",
         "type": "string"
        },
        {
         "name": "1811-1850_education",
         "rawType": "int64",
         "type": "integer"
        },
        {
         "name": "1811-1850_employment",
         "rawType": "int64",
         "type": "integer"
        },
        {
         "name": "1811-1850_membership",
         "rawType": "int64",
         "type": "integer"
        },
        {
         "name": "1851-1880_education",
         "rawType": "int64",
         "type": "integer"
        },
        {
         "name": "1851-1880_employment",
         "rawType": "int64",
         "type": "integer"
        },
        {
         "name": "1851-1880_membership",
         "rawType": "int64",
         "type": "integer"
        },
        {
         "name": "1881-1910_education",
         "rawType": "int64",
         "type": "integer"
        },
        {
         "name": "1881-1910_employment",
         "rawType": "int64",
         "type": "integer"
        },
        {
         "name": "1881-1910_membership",
         "rawType": "int64",
         "type": "integer"
        },
        {
         "name": "1911-1940_education",
         "rawType": "int64",
         "type": "integer"
        },
        {
         "name": "1911-1940_employment",
         "rawType": "int64",
         "type": "integer"
        },
        {
         "name": "1911-1940_membership",
         "rawType": "int64",
         "type": "integer"
        },
        {
         "name": "1941-1970_education",
         "rawType": "int64",
         "type": "integer"
        },
        {
         "name": "1941-1970_employment",
         "rawType": "int64",
         "type": "integer"
        },
        {
         "name": "1941-1970_membership",
         "rawType": "int64",
         "type": "integer"
        },
        {
         "name": "1971-2000_education",
         "rawType": "int64",
         "type": "integer"
        },
        {
         "name": "1971-2000_employment",
         "rawType": "int64",
         "type": "integer"
        },
        {
         "name": "1971-2000_membership",
         "rawType": "int64",
         "type": "integer"
        },
        {
         "name": "Total",
         "rawType": "int64",
         "type": "integer"
        }
       ],
       "ref": "5b9c7684-1453-4341-9ea6-e7b2e09bbe72",
       "rows": [
        [
         "academy of sciences",
         "0",
         "0",
         "0",
         "0",
         "0",
         "0",
         "0",
         "0",
         "2",
         "0",
         "0",
         "3",
         "0",
         "0",
         "7",
         "0",
         "1",
         "1",
         "14"
        ],
        [
         "company or gov. agency",
         "0",
         "0",
         "0",
         "1",
         "0",
         "0",
         "0",
         "1",
         "1",
         "0",
         "1",
         "1",
         "1",
         "3",
         "8",
         "1",
         "2",
         "4",
         "24"
        ],
        [
         "educational institution",
         "1",
         "0",
         "0",
         "4",
         "0",
         "1",
         "17",
         "1",
         "2",
         "74",
         "0",
         "0",
         "621",
         "2",
         "2",
         "266",
         "6",
         "1",
         "998"
        ],
        [
         "institute of technology",
         "0",
         "0",
         "0",
         "1",
         "0",
         "0",
         "3",
         "0",
         "0",
         "7",
         "1",
         "0",
         "37",
         "4",
         "0",
         "18",
         "1",
         "0",
         "72"
        ],
        [
         "learned society",
         "0",
         "0",
         "1",
         "0",
         "0",
         "1",
         "0",
         "0",
         "5",
         "0",
         "0",
         "5",
         "2",
         "0",
         "24",
         "0",
         "0",
         "1",
         "39"
        ],
        [
         "not classified organisation",
         "0",
         "0",
         "1",
         "0",
         "1",
         "1",
         "0",
         "0",
         "7",
         "3",
         "0",
         "16",
         "19",
         "6",
         "152",
         "17",
         "2",
         "128",
         "353"
        ],
        [
         "private university",
         "0",
         "0",
         "0",
         "2",
         "0",
         "0",
         "4",
         "0",
         "0",
         "36",
         "3",
         "0",
         "227",
         "7",
         "0",
         "103",
         "3",
         "0",
         "385"
        ],
        [
         "public university",
         "2",
         "2",
         "0",
         "2",
         "0",
         "0",
         "15",
         "2",
         "0",
         "19",
         "3",
         "0",
         "336",
         "19",
         "0",
         "241",
         "5",
         "1",
         "647"
        ],
        [
         "research facility",
         "0",
         "0",
         "0",
         "0",
         "0",
         "0",
         "0",
         "0",
         "0",
         "0",
         "0",
         "0",
         "9",
         "0",
         "0",
         "17",
         "0",
         "0",
         "26"
        ],
        [
         "research organisation",
         "0",
         "0",
         "0",
         "0",
         "0",
         "0",
         "0",
         "0",
         "0",
         "0",
         "0",
         "0",
         "5",
         "0",
         "4",
         "1",
         "0",
         "0",
         "10"
        ],
        [
         "scientific organisation",
         "0",
         "0",
         "0",
         "0",
         "0",
         "0",
         "0",
         "0",
         "5",
         "1",
         "0",
         "1",
         "8",
         "0",
         "27",
         "2",
         "0",
         "11",
         "55"
        ],
        [
         "university",
         "0",
         "0",
         "0",
         "3",
         "0",
         "0",
         "22",
         "2",
         "0",
         "106",
         "11",
         "0",
         "717",
         "24",
         "0",
         "317",
         "14",
         "0",
         "1216"
        ],
        [
         "Total",
         "3",
         "2",
         "2",
         "13",
         "1",
         "3",
         "61",
         "6",
         "22",
         "246",
         "19",
         "26",
         "1982",
         "65",
         "224",
         "983",
         "34",
         "147",
         "3839"
        ]
       ],
       "shape": {
        "columns": 19,
        "rows": 13
       }
      },
      "text/html": [
       "<div>\n",
       "<style scoped>\n",
       "    .dataframe tbody tr th:only-of-type {\n",
       "        vertical-align: middle;\n",
       "    }\n",
       "\n",
       "    .dataframe tbody tr th {\n",
       "        vertical-align: top;\n",
       "    }\n",
       "\n",
       "    .dataframe thead th {\n",
       "        text-align: right;\n",
       "    }\n",
       "</style>\n",
       "<table border=\"1\" class=\"dataframe\">\n",
       "  <thead>\n",
       "    <tr style=\"text-align: right;\">\n",
       "      <th>periods_relaType</th>\n",
       "      <th>1811-1850_education</th>\n",
       "      <th>1811-1850_employment</th>\n",
       "      <th>1811-1850_membership</th>\n",
       "      <th>1851-1880_education</th>\n",
       "      <th>1851-1880_employment</th>\n",
       "      <th>1851-1880_membership</th>\n",
       "      <th>1881-1910_education</th>\n",
       "      <th>1881-1910_employment</th>\n",
       "      <th>1881-1910_membership</th>\n",
       "      <th>1911-1940_education</th>\n",
       "      <th>1911-1940_employment</th>\n",
       "      <th>1911-1940_membership</th>\n",
       "      <th>1941-1970_education</th>\n",
       "      <th>1941-1970_employment</th>\n",
       "      <th>1941-1970_membership</th>\n",
       "      <th>1971-2000_education</th>\n",
       "      <th>1971-2000_employment</th>\n",
       "      <th>1971-2000_membership</th>\n",
       "      <th>Total</th>\n",
       "    </tr>\n",
       "    <tr>\n",
       "      <th>orgMainType</th>\n",
       "      <th></th>\n",
       "      <th></th>\n",
       "      <th></th>\n",
       "      <th></th>\n",
       "      <th></th>\n",
       "      <th></th>\n",
       "      <th></th>\n",
       "      <th></th>\n",
       "      <th></th>\n",
       "      <th></th>\n",
       "      <th></th>\n",
       "      <th></th>\n",
       "      <th></th>\n",
       "      <th></th>\n",
       "      <th></th>\n",
       "      <th></th>\n",
       "      <th></th>\n",
       "      <th></th>\n",
       "      <th></th>\n",
       "    </tr>\n",
       "  </thead>\n",
       "  <tbody>\n",
       "    <tr>\n",
       "      <th>academy of sciences</th>\n",
       "      <td>0</td>\n",
       "      <td>0</td>\n",
       "      <td>0</td>\n",
       "      <td>0</td>\n",
       "      <td>0</td>\n",
       "      <td>0</td>\n",
       "      <td>0</td>\n",
       "      <td>0</td>\n",
       "      <td>2</td>\n",
       "      <td>0</td>\n",
       "      <td>0</td>\n",
       "      <td>3</td>\n",
       "      <td>0</td>\n",
       "      <td>0</td>\n",
       "      <td>7</td>\n",
       "      <td>0</td>\n",
       "      <td>1</td>\n",
       "      <td>1</td>\n",
       "      <td>14</td>\n",
       "    </tr>\n",
       "    <tr>\n",
       "      <th>company or gov. agency</th>\n",
       "      <td>0</td>\n",
       "      <td>0</td>\n",
       "      <td>0</td>\n",
       "      <td>1</td>\n",
       "      <td>0</td>\n",
       "      <td>0</td>\n",
       "      <td>0</td>\n",
       "      <td>1</td>\n",
       "      <td>1</td>\n",
       "      <td>0</td>\n",
       "      <td>1</td>\n",
       "      <td>1</td>\n",
       "      <td>1</td>\n",
       "      <td>3</td>\n",
       "      <td>8</td>\n",
       "      <td>1</td>\n",
       "      <td>2</td>\n",
       "      <td>4</td>\n",
       "      <td>24</td>\n",
       "    </tr>\n",
       "    <tr>\n",
       "      <th>educational institution</th>\n",
       "      <td>1</td>\n",
       "      <td>0</td>\n",
       "      <td>0</td>\n",
       "      <td>4</td>\n",
       "      <td>0</td>\n",
       "      <td>1</td>\n",
       "      <td>17</td>\n",
       "      <td>1</td>\n",
       "      <td>2</td>\n",
       "      <td>74</td>\n",
       "      <td>0</td>\n",
       "      <td>0</td>\n",
       "      <td>621</td>\n",
       "      <td>2</td>\n",
       "      <td>2</td>\n",
       "      <td>266</td>\n",
       "      <td>6</td>\n",
       "      <td>1</td>\n",
       "      <td>998</td>\n",
       "    </tr>\n",
       "    <tr>\n",
       "      <th>institute of technology</th>\n",
       "      <td>0</td>\n",
       "      <td>0</td>\n",
       "      <td>0</td>\n",
       "      <td>1</td>\n",
       "      <td>0</td>\n",
       "      <td>0</td>\n",
       "      <td>3</td>\n",
       "      <td>0</td>\n",
       "      <td>0</td>\n",
       "      <td>7</td>\n",
       "      <td>1</td>\n",
       "      <td>0</td>\n",
       "      <td>37</td>\n",
       "      <td>4</td>\n",
       "      <td>0</td>\n",
       "      <td>18</td>\n",
       "      <td>1</td>\n",
       "      <td>0</td>\n",
       "      <td>72</td>\n",
       "    </tr>\n",
       "    <tr>\n",
       "      <th>learned society</th>\n",
       "      <td>0</td>\n",
       "      <td>0</td>\n",
       "      <td>1</td>\n",
       "      <td>0</td>\n",
       "      <td>0</td>\n",
       "      <td>1</td>\n",
       "      <td>0</td>\n",
       "      <td>0</td>\n",
       "      <td>5</td>\n",
       "      <td>0</td>\n",
       "      <td>0</td>\n",
       "      <td>5</td>\n",
       "      <td>2</td>\n",
       "      <td>0</td>\n",
       "      <td>24</td>\n",
       "      <td>0</td>\n",
       "      <td>0</td>\n",
       "      <td>1</td>\n",
       "      <td>39</td>\n",
       "    </tr>\n",
       "    <tr>\n",
       "      <th>not classified organisation</th>\n",
       "      <td>0</td>\n",
       "      <td>0</td>\n",
       "      <td>1</td>\n",
       "      <td>0</td>\n",
       "      <td>1</td>\n",
       "      <td>1</td>\n",
       "      <td>0</td>\n",
       "      <td>0</td>\n",
       "      <td>7</td>\n",
       "      <td>3</td>\n",
       "      <td>0</td>\n",
       "      <td>16</td>\n",
       "      <td>19</td>\n",
       "      <td>6</td>\n",
       "      <td>152</td>\n",
       "      <td>17</td>\n",
       "      <td>2</td>\n",
       "      <td>128</td>\n",
       "      <td>353</td>\n",
       "    </tr>\n",
       "    <tr>\n",
       "      <th>private university</th>\n",
       "      <td>0</td>\n",
       "      <td>0</td>\n",
       "      <td>0</td>\n",
       "      <td>2</td>\n",
       "      <td>0</td>\n",
       "      <td>0</td>\n",
       "      <td>4</td>\n",
       "      <td>0</td>\n",
       "      <td>0</td>\n",
       "      <td>36</td>\n",
       "      <td>3</td>\n",
       "      <td>0</td>\n",
       "      <td>227</td>\n",
       "      <td>7</td>\n",
       "      <td>0</td>\n",
       "      <td>103</td>\n",
       "      <td>3</td>\n",
       "      <td>0</td>\n",
       "      <td>385</td>\n",
       "    </tr>\n",
       "    <tr>\n",
       "      <th>public university</th>\n",
       "      <td>2</td>\n",
       "      <td>2</td>\n",
       "      <td>0</td>\n",
       "      <td>2</td>\n",
       "      <td>0</td>\n",
       "      <td>0</td>\n",
       "      <td>15</td>\n",
       "      <td>2</td>\n",
       "      <td>0</td>\n",
       "      <td>19</td>\n",
       "      <td>3</td>\n",
       "      <td>0</td>\n",
       "      <td>336</td>\n",
       "      <td>19</td>\n",
       "      <td>0</td>\n",
       "      <td>241</td>\n",
       "      <td>5</td>\n",
       "      <td>1</td>\n",
       "      <td>647</td>\n",
       "    </tr>\n",
       "    <tr>\n",
       "      <th>research facility</th>\n",
       "      <td>0</td>\n",
       "      <td>0</td>\n",
       "      <td>0</td>\n",
       "      <td>0</td>\n",
       "      <td>0</td>\n",
       "      <td>0</td>\n",
       "      <td>0</td>\n",
       "      <td>0</td>\n",
       "      <td>0</td>\n",
       "      <td>0</td>\n",
       "      <td>0</td>\n",
       "      <td>0</td>\n",
       "      <td>9</td>\n",
       "      <td>0</td>\n",
       "      <td>0</td>\n",
       "      <td>17</td>\n",
       "      <td>0</td>\n",
       "      <td>0</td>\n",
       "      <td>26</td>\n",
       "    </tr>\n",
       "    <tr>\n",
       "      <th>research organisation</th>\n",
       "      <td>0</td>\n",
       "      <td>0</td>\n",
       "      <td>0</td>\n",
       "      <td>0</td>\n",
       "      <td>0</td>\n",
       "      <td>0</td>\n",
       "      <td>0</td>\n",
       "      <td>0</td>\n",
       "      <td>0</td>\n",
       "      <td>0</td>\n",
       "      <td>0</td>\n",
       "      <td>0</td>\n",
       "      <td>5</td>\n",
       "      <td>0</td>\n",
       "      <td>4</td>\n",
       "      <td>1</td>\n",
       "      <td>0</td>\n",
       "      <td>0</td>\n",
       "      <td>10</td>\n",
       "    </tr>\n",
       "    <tr>\n",
       "      <th>scientific organisation</th>\n",
       "      <td>0</td>\n",
       "      <td>0</td>\n",
       "      <td>0</td>\n",
       "      <td>0</td>\n",
       "      <td>0</td>\n",
       "      <td>0</td>\n",
       "      <td>0</td>\n",
       "      <td>0</td>\n",
       "      <td>5</td>\n",
       "      <td>1</td>\n",
       "      <td>0</td>\n",
       "      <td>1</td>\n",
       "      <td>8</td>\n",
       "      <td>0</td>\n",
       "      <td>27</td>\n",
       "      <td>2</td>\n",
       "      <td>0</td>\n",
       "      <td>11</td>\n",
       "      <td>55</td>\n",
       "    </tr>\n",
       "    <tr>\n",
       "      <th>university</th>\n",
       "      <td>0</td>\n",
       "      <td>0</td>\n",
       "      <td>0</td>\n",
       "      <td>3</td>\n",
       "      <td>0</td>\n",
       "      <td>0</td>\n",
       "      <td>22</td>\n",
       "      <td>2</td>\n",
       "      <td>0</td>\n",
       "      <td>106</td>\n",
       "      <td>11</td>\n",
       "      <td>0</td>\n",
       "      <td>717</td>\n",
       "      <td>24</td>\n",
       "      <td>0</td>\n",
       "      <td>317</td>\n",
       "      <td>14</td>\n",
       "      <td>0</td>\n",
       "      <td>1216</td>\n",
       "    </tr>\n",
       "    <tr>\n",
       "      <th>Total</th>\n",
       "      <td>3</td>\n",
       "      <td>2</td>\n",
       "      <td>2</td>\n",
       "      <td>13</td>\n",
       "      <td>1</td>\n",
       "      <td>3</td>\n",
       "      <td>61</td>\n",
       "      <td>6</td>\n",
       "      <td>22</td>\n",
       "      <td>246</td>\n",
       "      <td>19</td>\n",
       "      <td>26</td>\n",
       "      <td>1982</td>\n",
       "      <td>65</td>\n",
       "      <td>224</td>\n",
       "      <td>983</td>\n",
       "      <td>34</td>\n",
       "      <td>147</td>\n",
       "      <td>3839</td>\n",
       "    </tr>\n",
       "  </tbody>\n",
       "</table>\n",
       "</div>"
      ],
      "text/plain": [
       "periods_relaType             1811-1850_education  1811-1850_employment  \\\n",
       "orgMainType                                                              \n",
       "academy of sciences                            0                     0   \n",
       "company or gov. agency                         0                     0   \n",
       "educational institution                        1                     0   \n",
       "institute of technology                        0                     0   \n",
       "learned society                                0                     0   \n",
       "not classified organisation                    0                     0   \n",
       "private university                             0                     0   \n",
       "public university                              2                     2   \n",
       "research facility                              0                     0   \n",
       "research organisation                          0                     0   \n",
       "scientific organisation                        0                     0   \n",
       "university                                     0                     0   \n",
       "Total                                          3                     2   \n",
       "\n",
       "periods_relaType             1811-1850_membership  1851-1880_education  \\\n",
       "orgMainType                                                              \n",
       "academy of sciences                             0                    0   \n",
       "company or gov. agency                          0                    1   \n",
       "educational institution                         0                    4   \n",
       "institute of technology                         0                    1   \n",
       "learned society                                 1                    0   \n",
       "not classified organisation                     1                    0   \n",
       "private university                              0                    2   \n",
       "public university                               0                    2   \n",
       "research facility                               0                    0   \n",
       "research organisation                           0                    0   \n",
       "scientific organisation                         0                    0   \n",
       "university                                      0                    3   \n",
       "Total                                           2                   13   \n",
       "\n",
       "periods_relaType             1851-1880_employment  1851-1880_membership  \\\n",
       "orgMainType                                                               \n",
       "academy of sciences                             0                     0   \n",
       "company or gov. agency                          0                     0   \n",
       "educational institution                         0                     1   \n",
       "institute of technology                         0                     0   \n",
       "learned society                                 0                     1   \n",
       "not classified organisation                     1                     1   \n",
       "private university                              0                     0   \n",
       "public university                               0                     0   \n",
       "research facility                               0                     0   \n",
       "research organisation                           0                     0   \n",
       "scientific organisation                         0                     0   \n",
       "university                                      0                     0   \n",
       "Total                                           1                     3   \n",
       "\n",
       "periods_relaType             1881-1910_education  1881-1910_employment  \\\n",
       "orgMainType                                                              \n",
       "academy of sciences                            0                     0   \n",
       "company or gov. agency                         0                     1   \n",
       "educational institution                       17                     1   \n",
       "institute of technology                        3                     0   \n",
       "learned society                                0                     0   \n",
       "not classified organisation                    0                     0   \n",
       "private university                             4                     0   \n",
       "public university                             15                     2   \n",
       "research facility                              0                     0   \n",
       "research organisation                          0                     0   \n",
       "scientific organisation                        0                     0   \n",
       "university                                    22                     2   \n",
       "Total                                         61                     6   \n",
       "\n",
       "periods_relaType             1881-1910_membership  1911-1940_education  \\\n",
       "orgMainType                                                              \n",
       "academy of sciences                             2                    0   \n",
       "company or gov. agency                          1                    0   \n",
       "educational institution                         2                   74   \n",
       "institute of technology                         0                    7   \n",
       "learned society                                 5                    0   \n",
       "not classified organisation                     7                    3   \n",
       "private university                              0                   36   \n",
       "public university                               0                   19   \n",
       "research facility                               0                    0   \n",
       "research organisation                           0                    0   \n",
       "scientific organisation                         5                    1   \n",
       "university                                      0                  106   \n",
       "Total                                          22                  246   \n",
       "\n",
       "periods_relaType             1911-1940_employment  1911-1940_membership  \\\n",
       "orgMainType                                                               \n",
       "academy of sciences                             0                     3   \n",
       "company or gov. agency                          1                     1   \n",
       "educational institution                         0                     0   \n",
       "institute of technology                         1                     0   \n",
       "learned society                                 0                     5   \n",
       "not classified organisation                     0                    16   \n",
       "private university                              3                     0   \n",
       "public university                               3                     0   \n",
       "research facility                               0                     0   \n",
       "research organisation                           0                     0   \n",
       "scientific organisation                         0                     1   \n",
       "university                                     11                     0   \n",
       "Total                                          19                    26   \n",
       "\n",
       "periods_relaType             1941-1970_education  1941-1970_employment  \\\n",
       "orgMainType                                                              \n",
       "academy of sciences                            0                     0   \n",
       "company or gov. agency                         1                     3   \n",
       "educational institution                      621                     2   \n",
       "institute of technology                       37                     4   \n",
       "learned society                                2                     0   \n",
       "not classified organisation                   19                     6   \n",
       "private university                           227                     7   \n",
       "public university                            336                    19   \n",
       "research facility                              9                     0   \n",
       "research organisation                          5                     0   \n",
       "scientific organisation                        8                     0   \n",
       "university                                   717                    24   \n",
       "Total                                       1982                    65   \n",
       "\n",
       "periods_relaType             1941-1970_membership  1971-2000_education  \\\n",
       "orgMainType                                                              \n",
       "academy of sciences                             7                    0   \n",
       "company or gov. agency                          8                    1   \n",
       "educational institution                         2                  266   \n",
       "institute of technology                         0                   18   \n",
       "learned society                                24                    0   \n",
       "not classified organisation                   152                   17   \n",
       "private university                              0                  103   \n",
       "public university                               0                  241   \n",
       "research facility                               0                   17   \n",
       "research organisation                           4                    1   \n",
       "scientific organisation                        27                    2   \n",
       "university                                      0                  317   \n",
       "Total                                         224                  983   \n",
       "\n",
       "periods_relaType             1971-2000_employment  1971-2000_membership  Total  \n",
       "orgMainType                                                                     \n",
       "academy of sciences                             1                     1     14  \n",
       "company or gov. agency                          2                     4     24  \n",
       "educational institution                         6                     1    998  \n",
       "institute of technology                         1                     0     72  \n",
       "learned society                                 0                     1     39  \n",
       "not classified organisation                     2                   128    353  \n",
       "private university                              3                     0    385  \n",
       "public university                               5                     1    647  \n",
       "research facility                               0                     0     26  \n",
       "research organisation                           0                     0     10  \n",
       "scientific organisation                         0                    11     55  \n",
       "university                                     14                     0   1216  \n",
       "Total                                          34                   147   3839  "
      ]
     },
     "execution_count": 56,
     "metadata": {},
     "output_type": "execute_result"
    }
   ],
   "source": [
    "### Contingency table\n",
    "X = 'periods_relaType'\n",
    "Y = 'orgMainType'  \n",
    "\n",
    "ddf = df_prep[[X,Y]].pivot_table(index=Y,columns=X,observed=True, aggfunc=len,margins=True,margins_name=\"Total\").fillna(0).astype(int)\n",
    "ddf\n",
    "\n"
   ]
  },
  {
   "cell_type": "code",
   "execution_count": 57,
   "metadata": {},
   "outputs": [],
   "source": [
    "ct_wm = ddf.iloc[:-1,:-1].copy(deep=True)"
   ]
  },
  {
   "cell_type": "code",
   "execution_count": 58,
   "metadata": {},
   "outputs": [
    {
     "name": "stdout",
     "output_type": "stream",
     "text": [
      "Chi2 : 3875.85 , dof : 187\n",
      "p-value : 0.0\n",
      "phi2 = inertie (variance totale) : 1.0095983382563212\n",
      "Cramer:  0.30295489287055755\n"
     ]
    }
   ],
   "source": [
    "### We observe a relationship between these two variables, \n",
    "# not so strong \n",
    "bivariee_stats(ct_wm)"
   ]
  },
  {
   "cell_type": "code",
   "execution_count": 59,
   "metadata": {},
   "outputs": [
    {
     "data": {
      "image/png": "[encoded data removed]",
      "text/plain": [
       "<Figure size 2000x1200 with 2 Axes>"
      ]
     },
     "metadata": {},
     "output_type": "display_data"
    }
   ],
   "source": [
    "pp = plot_chi2_residuals(ct_wm, figsize=(20, 12))"
   ]
  },
  {
   "cell_type": "markdown",
   "metadata": {},
   "source": [
    "## Prepare graph\n",
    "\n",
    "\n",
    "In a heuristic perspective we take the persons as representing relationships among organisations.\n",
    "\n",
    "Of course these relations are limited in time and with different meaning but in this general inspection of the field, we consider all the relationship. Filters are introduced later on.\n",
    "\n",
    "We will create a projection of the graph on organisations and keep in a first stage all relationships, with types and periods, one per relationship, where the joining elements are those concerning uniquely the person"
   ]
  },
  {
   "cell_type": "code",
   "execution_count": 60,
   "metadata": {},
   "outputs": [
    {
     "name": "stdout",
     "output_type": "stream",
     "text": [
      "11103\n"
     ]
    }
   ],
   "source": [
    "### Join on common organisation: Cartesian product -> produces a lot of rows !\n",
    "merged = pd.merge(df_prep, df_prep, on=['uriPer','labelPer','birthYear', 'periods'])\n",
    "print(len(merged))\n"
   ]
  },
  {
   "cell_type": "code",
   "execution_count": 61,
   "metadata": {},
   "outputs": [],
   "source": [
    "### Eliminate double rows :relationship A-B but relationship B-A\n",
    "merged = merged[merged['uriOrg_x'] < (merged['uriOrg_y'])]\n"
   ]
  },
  {
   "cell_type": "code",
   "execution_count": 62,
   "metadata": {},
   "outputs": [
    {
     "name": "stdout",
     "output_type": "stream",
     "text": [
      "3583\n",
      "['uriPer', 'labelPer', 'birthYear', 'uriOrg_x', 'labelOrg_x', 'typesOrg_x', 'orgMainType_x', 'relaType_x', 'periods', 'periods_relaType_x', 'uriOrg_y', 'labelOrg_y', 'typesOrg_y', 'orgMainType_y', 'relaType_y', 'periods_relaType_y']\n"
     ]
    },
    {
     "data": {
      "application/vnd.microsoft.datawrangler.viewer.v0+json": {
       "columns": [
        {
         "name": "index",
         "rawType": "int64",
         "type": "integer"
        },
        {
         "name": "uriPer",
         "rawType": "object",
         "type": "string"
        },
        {
         "name": "labelPer",
         "rawType": "object",
         "type": "string"
        },
        {
         "name": "birthYear",
         "rawType": "int64",
         "type": "integer"
        },
        {
         "name": "uriOrg_x",
         "rawType": "object",
         "type": "string"
        },
        {
         "name": "labelOrg_x",
         "rawType": "object",
         "type": "string"
        },
        {
         "name": "typesOrg_x",
         "rawType": "object",
         "type": "string"
        },
        {
         "name": "orgMainType_x",
         "rawType": "object",
         "type": "string"
        },
        {
         "name": "relaType_x",
         "rawType": "object",
         "type": "string"
        },
        {
         "name": "periods",
         "rawType": "category",
         "type": "unknown"
        },
        {
         "name": "periods_relaType_x",
         "rawType": "object",
         "type": "string"
        },
        {
         "name": "uriOrg_y",
         "rawType": "object",
         "type": "string"
        },
        {
         "name": "labelOrg_y",
         "rawType": "object",
         "type": "string"
        },
        {
         "name": "typesOrg_y",
         "rawType": "object",
         "type": "string"
        },
        {
         "name": "orgMainType_y",
         "rawType": "object",
         "type": "string"
        },
        {
         "name": "relaType_y",
         "rawType": "object",
         "type": "string"
        },
        {
         "name": "periods_relaType_y",
         "rawType": "object",
         "type": "string"
        }
       ],
       "ref": "a5211f23-8ce3-42e6-85d9-1274ee33cf19",
       "rows": [
        [
         "359",
         "http://www.wikidata.org/entity/Q106489525",
         "Paul Hatte",
         "1993",
         "http://www.wikidata.org/entity/Q131137989",
         "emlyon alumni",
         "alumni association | organization",
         "not classified organisation",
         "membership",
         "1971-2000",
         "1971-2000_membership",
         "http://www.wikidata.org/entity/Q3268614",
         "Lycée Carnot",
         "lycée | school building",
         "educational institution",
         "education",
         "1971-2000_education"
        ],
        [
         "360",
         "http://www.wikidata.org/entity/Q106489525",
         "Paul Hatte",
         "1993",
         "http://www.wikidata.org/entity/Q131137989",
         "emlyon alumni",
         "alumni association | organization",
         "not classified organisation",
         "membership",
         "1971-2000",
         "1971-2000_membership",
         "http://www.wikidata.org/entity/Q859363",
         "Sciences Po",
         "academic publisher | grand établissement | grande école | organization | public university",
         "public university",
         "education",
         "1971-2000_education"
        ],
        [
         "362",
         "http://www.wikidata.org/entity/Q106489525",
         "Paul Hatte",
         "1993",
         "http://www.wikidata.org/entity/Q131137989",
         "emlyon alumni",
         "alumni association | organization",
         "not classified organisation",
         "membership",
         "1971-2000",
         "1971-2000_membership",
         "http://www.wikidata.org/entity/Q546118",
         "Paris-Sorbonne University - Paris IV",
         "former educational institution | university in france",
         "university",
         "education",
         "1971-2000_education"
        ],
        [
         "366",
         "http://www.wikidata.org/entity/Q106595481",
         "Marga Hoek",
         "1965",
         "http://www.wikidata.org/entity/Q214341",
         "University of Amsterdam",
         "research institute | university",
         "university",
         "education",
         "1941-1970",
         "1941-1970_education",
         "http://www.wikidata.org/entity/Q633529",
         "Erasmus University Rotterdam",
         "organization | public university",
         "public university",
         "education",
         "1941-1970_education"
        ]
       ],
       "shape": {
        "columns": 16,
        "rows": 4
       }
      },
      "text/html": [
       "<div>\n",
       "<style scoped>\n",
       "    .dataframe tbody tr th:only-of-type {\n",
       "        vertical-align: middle;\n",
       "    }\n",
       "\n",
       "    .dataframe tbody tr th {\n",
       "        vertical-align: top;\n",
       "    }\n",
       "\n",
       "    .dataframe thead th {\n",
       "        text-align: right;\n",
       "    }\n",
       "</style>\n",
       "<table border=\"1\" class=\"dataframe\">\n",
       "  <thead>\n",
       "    <tr style=\"text-align: right;\">\n",
       "      <th></th>\n",
       "      <th>uriPer</th>\n",
       "      <th>labelPer</th>\n",
       "      <th>birthYear</th>\n",
       "      <th>uriOrg_x</th>\n",
       "      <th>labelOrg_x</th>\n",
       "      <th>typesOrg_x</th>\n",
       "      <th>orgMainType_x</th>\n",
       "      <th>relaType_x</th>\n",
       "      <th>periods</th>\n",
       "      <th>periods_relaType_x</th>\n",
       "      <th>uriOrg_y</th>\n",
       "      <th>labelOrg_y</th>\n",
       "      <th>typesOrg_y</th>\n",
       "      <th>orgMainType_y</th>\n",
       "      <th>relaType_y</th>\n",
       "      <th>periods_relaType_y</th>\n",
       "    </tr>\n",
       "  </thead>\n",
       "  <tbody>\n",
       "    <tr>\n",
       "      <th>359</th>\n",
       "      <td>http://www.wikidata.org/entity/Q106489525</td>\n",
       "      <td>Paul Hatte</td>\n",
       "      <td>1993</td>\n",
       "      <td>http://www.wikidata.org/entity/Q131137989</td>\n",
       "      <td>emlyon alumni</td>\n",
       "      <td>alumni association | organization</td>\n",
       "      <td>not classified organisation</td>\n",
       "      <td>membership</td>\n",
       "      <td>1971-2000</td>\n",
       "      <td>1971-2000_membership</td>\n",
       "      <td>http://www.wikidata.org/entity/Q3268614</td>\n",
       "      <td>Lycée Carnot</td>\n",
       "      <td>lycée | school building</td>\n",
       "      <td>educational institution</td>\n",
       "      <td>education</td>\n",
       "      <td>1971-2000_education</td>\n",
       "    </tr>\n",
       "    <tr>\n",
       "      <th>360</th>\n",
       "      <td>http://www.wikidata.org/entity/Q106489525</td>\n",
       "      <td>Paul Hatte</td>\n",
       "      <td>1993</td>\n",
       "      <td>http://www.wikidata.org/entity/Q131137989</td>\n",
       "      <td>emlyon alumni</td>\n",
       "      <td>alumni association | organization</td>\n",
       "      <td>not classified organisation</td>\n",
       "      <td>membership</td>\n",
       "      <td>1971-2000</td>\n",
       "      <td>1971-2000_membership</td>\n",
       "      <td>http://www.wikidata.org/entity/Q859363</td>\n",
       "      <td>Sciences Po</td>\n",
       "      <td>academic publisher | grand établissement | gra...</td>\n",
       "      <td>public university</td>\n",
       "      <td>education</td>\n",
       "      <td>1971-2000_education</td>\n",
       "    </tr>\n",
       "    <tr>\n",
       "      <th>362</th>\n",
       "      <td>http://www.wikidata.org/entity/Q106489525</td>\n",
       "      <td>Paul Hatte</td>\n",
       "      <td>1993</td>\n",
       "      <td>http://www.wikidata.org/entity/Q131137989</td>\n",
       "      <td>emlyon alumni</td>\n",
       "      <td>alumni association | organization</td>\n",
       "      <td>not classified organisation</td>\n",
       "      <td>membership</td>\n",
       "      <td>1971-2000</td>\n",
       "      <td>1971-2000_membership</td>\n",
       "      <td>http://www.wikidata.org/entity/Q546118</td>\n",
       "      <td>Paris-Sorbonne University - Paris IV</td>\n",
       "      <td>former educational institution | university in...</td>\n",
       "      <td>university</td>\n",
       "      <td>education</td>\n",
       "      <td>1971-2000_education</td>\n",
       "    </tr>\n",
       "    <tr>\n",
       "      <th>366</th>\n",
       "      <td>http://www.wikidata.org/entity/Q106595481</td>\n",
       "      <td>Marga Hoek</td>\n",
       "      <td>1965</td>\n",
       "      <td>http://www.wikidata.org/entity/Q214341</td>\n",
       "      <td>University of Amsterdam</td>\n",
       "      <td>research institute | university</td>\n",
       "      <td>university</td>\n",
       "      <td>education</td>\n",
       "      <td>1941-1970</td>\n",
       "      <td>1941-1970_education</td>\n",
       "      <td>http://www.wikidata.org/entity/Q633529</td>\n",
       "      <td>Erasmus University Rotterdam</td>\n",
       "      <td>organization | public university</td>\n",
       "      <td>public university</td>\n",
       "      <td>education</td>\n",
       "      <td>1941-1970_education</td>\n",
       "    </tr>\n",
       "  </tbody>\n",
       "</table>\n",
       "</div>"
      ],
      "text/plain": [
       "                                        uriPer    labelPer  birthYear  \\\n",
       "359  http://www.wikidata.org/entity/Q106489525  Paul Hatte       1993   \n",
       "360  http://www.wikidata.org/entity/Q106489525  Paul Hatte       1993   \n",
       "362  http://www.wikidata.org/entity/Q106489525  Paul Hatte       1993   \n",
       "366  http://www.wikidata.org/entity/Q106595481  Marga Hoek       1965   \n",
       "\n",
       "                                      uriOrg_x               labelOrg_x  \\\n",
       "359  http://www.wikidata.org/entity/Q131137989            emlyon alumni   \n",
       "360  http://www.wikidata.org/entity/Q131137989            emlyon alumni   \n",
       "362  http://www.wikidata.org/entity/Q131137989            emlyon alumni   \n",
       "366     http://www.wikidata.org/entity/Q214341  University of Amsterdam   \n",
       "\n",
       "                            typesOrg_x                orgMainType_x  \\\n",
       "359  alumni association | organization  not classified organisation   \n",
       "360  alumni association | organization  not classified organisation   \n",
       "362  alumni association | organization  not classified organisation   \n",
       "366    research institute | university                   university   \n",
       "\n",
       "     relaType_x    periods    periods_relaType_x  \\\n",
       "359  membership  1971-2000  1971-2000_membership   \n",
       "360  membership  1971-2000  1971-2000_membership   \n",
       "362  membership  1971-2000  1971-2000_membership   \n",
       "366   education  1941-1970   1941-1970_education   \n",
       "\n",
       "                                    uriOrg_y  \\\n",
       "359  http://www.wikidata.org/entity/Q3268614   \n",
       "360   http://www.wikidata.org/entity/Q859363   \n",
       "362   http://www.wikidata.org/entity/Q546118   \n",
       "366   http://www.wikidata.org/entity/Q633529   \n",
       "\n",
       "                               labelOrg_y  \\\n",
       "359                          Lycée Carnot   \n",
       "360                           Sciences Po   \n",
       "362  Paris-Sorbonne University - Paris IV   \n",
       "366          Erasmus University Rotterdam   \n",
       "\n",
       "                                            typesOrg_y  \\\n",
       "359                            lycée | school building   \n",
       "360  academic publisher | grand établissement | gra...   \n",
       "362  former educational institution | university in...   \n",
       "366                   organization | public university   \n",
       "\n",
       "               orgMainType_y relaType_y   periods_relaType_y  \n",
       "359  educational institution  education  1971-2000_education  \n",
       "360        public university  education  1971-2000_education  \n",
       "362               university  education  1971-2000_education  \n",
       "366        public university  education  1941-1970_education  "
      ]
     },
     "execution_count": 62,
     "metadata": {},
     "output_type": "execute_result"
    }
   ],
   "source": [
    "### Inspect\n",
    "print(len(merged))\n",
    "print(list(merged.columns))\n",
    "merged.iloc[110:114]"
   ]
  },
  {
   "cell_type": "code",
   "execution_count": 63,
   "metadata": {},
   "outputs": [
    {
     "name": "stdout",
     "output_type": "stream",
     "text": [
      "relaType\n",
      "education     3288\n",
      "employment     127\n",
      "membership     424\n",
      "dtype: int64\n"
     ]
    }
   ],
   "source": [
    "### Available ORIGINAL relationships\n",
    "print(df_p.groupby(by='relaType').size())"
   ]
  },
  {
   "cell_type": "code",
   "execution_count": 64,
   "metadata": {},
   "outputs": [
    {
     "data": {
      "application/vnd.microsoft.datawrangler.viewer.v0+json": {
       "columns": [
        {
         "name": "index",
         "rawType": "int64",
         "type": "integer"
        },
        {
         "name": "relaType_x",
         "rawType": "object",
         "type": "string"
        },
        {
         "name": "relaType_y",
         "rawType": "object",
         "type": "string"
        },
        {
         "name": "size",
         "rawType": "int64",
         "type": "integer"
        }
       ],
       "ref": "4852d64f-9cce-4e6d-ab26-99a7e91d80ea",
       "rows": [
        [
         "0",
         "education",
         "education",
         "2263"
        ],
        [
         "6",
         "membership",
         "education",
         "644"
        ],
        [
         "2",
         "education",
         "membership",
         "207"
        ],
        [
         "8",
         "membership",
         "membership",
         "170"
        ],
        [
         "3",
         "employment",
         "education",
         "119"
        ],
        [
         "1",
         "education",
         "employment",
         "90"
        ],
        [
         "4",
         "employment",
         "employment",
         "41"
        ],
        [
         "5",
         "employment",
         "membership",
         "26"
        ],
        [
         "7",
         "membership",
         "employment",
         "23"
        ]
       ],
       "shape": {
        "columns": 3,
        "rows": 9
       }
      },
      "text/html": [
       "<div>\n",
       "<style scoped>\n",
       "    .dataframe tbody tr th:only-of-type {\n",
       "        vertical-align: middle;\n",
       "    }\n",
       "\n",
       "    .dataframe tbody tr th {\n",
       "        vertical-align: top;\n",
       "    }\n",
       "\n",
       "    .dataframe thead th {\n",
       "        text-align: right;\n",
       "    }\n",
       "</style>\n",
       "<table border=\"1\" class=\"dataframe\">\n",
       "  <thead>\n",
       "    <tr style=\"text-align: right;\">\n",
       "      <th></th>\n",
       "      <th>relaType_x</th>\n",
       "      <th>relaType_y</th>\n",
       "      <th>size</th>\n",
       "    </tr>\n",
       "  </thead>\n",
       "  <tbody>\n",
       "    <tr>\n",
       "      <th>0</th>\n",
       "      <td>education</td>\n",
       "      <td>education</td>\n",
       "      <td>2263</td>\n",
       "    </tr>\n",
       "    <tr>\n",
       "      <th>6</th>\n",
       "      <td>membership</td>\n",
       "      <td>education</td>\n",
       "      <td>644</td>\n",
       "    </tr>\n",
       "    <tr>\n",
       "      <th>2</th>\n",
       "      <td>education</td>\n",
       "      <td>membership</td>\n",
       "      <td>207</td>\n",
       "    </tr>\n",
       "    <tr>\n",
       "      <th>8</th>\n",
       "      <td>membership</td>\n",
       "      <td>membership</td>\n",
       "      <td>170</td>\n",
       "    </tr>\n",
       "    <tr>\n",
       "      <th>3</th>\n",
       "      <td>employment</td>\n",
       "      <td>education</td>\n",
       "      <td>119</td>\n",
       "    </tr>\n",
       "    <tr>\n",
       "      <th>1</th>\n",
       "      <td>education</td>\n",
       "      <td>employment</td>\n",
       "      <td>90</td>\n",
       "    </tr>\n",
       "    <tr>\n",
       "      <th>4</th>\n",
       "      <td>employment</td>\n",
       "      <td>employment</td>\n",
       "      <td>41</td>\n",
       "    </tr>\n",
       "    <tr>\n",
       "      <th>5</th>\n",
       "      <td>employment</td>\n",
       "      <td>membership</td>\n",
       "      <td>26</td>\n",
       "    </tr>\n",
       "    <tr>\n",
       "      <th>7</th>\n",
       "      <td>membership</td>\n",
       "      <td>employment</td>\n",
       "      <td>23</td>\n",
       "    </tr>\n",
       "  </tbody>\n",
       "</table>\n",
       "</div>"
      ],
      "text/plain": [
       "   relaType_x  relaType_y  size\n",
       "0   education   education  2263\n",
       "6  membership   education   644\n",
       "2   education  membership   207\n",
       "8  membership  membership   170\n",
       "3  employment   education   119\n",
       "1   education  employment    90\n",
       "4  employment  employment    41\n",
       "5  employment  membership    26\n",
       "7  membership  employment    23"
      ]
     },
     "execution_count": 64,
     "metadata": {},
     "output_type": "execute_result"
    }
   ],
   "source": [
    "### Number of relationships per type prepared for graph\n",
    "gl_relaType = merged.groupby(['relaType_x', 'relaType_y'], as_index=False).size().sort_values(by='size', ascending=False)\n",
    "\n",
    "gl_relaType\n"
   ]
  },
  {
   "cell_type": "markdown",
   "metadata": {},
   "source": [
    "### Swap values in order to have the same orientation for all relationships\n",
    "\n",
    "All relationships should have the same 'orientation', which is determined by alphabetical order:\n",
    "\n",
    "education -> employment -> membership"
   ]
  },
  {
   "cell_type": "code",
   "execution_count": 65,
   "metadata": {},
   "outputs": [
    {
     "name": "stdout",
     "output_type": "stream",
     "text": [
      "  column1 column2\n",
      "0       X       A\n",
      "1       Y       B\n",
      "2       Z       C\n",
      "3       W       D\n"
     ]
    }
   ],
   "source": [
    "### Example\n",
    "df = pd.DataFrame({\n",
    "    'column1': ['A', 'B', 'C', 'D'],\n",
    "    'column2': ['X', 'Y', 'Z', 'W']\n",
    "})\n",
    "\n",
    "condition = df['column1'] < df['column2']\n",
    "df.loc[condition, ['column1', 'column2']] = df.loc[condition, ['column2', 'column1']].values\n",
    "\n",
    "print(df)"
   ]
  },
  {
   "cell_type": "code",
   "execution_count": 66,
   "metadata": {},
   "outputs": [],
   "source": [
    "### Test whether the relationship types are in the wrong alphabetical order.\n",
    "condition = merged.relaType_x > merged.relaType_y"
   ]
  },
  {
   "cell_type": "code",
   "execution_count": 67,
   "metadata": {},
   "outputs": [],
   "source": [
    "### Transpose under condition that the relation orientation is 'wrong',\n",
    "# i.e. not according the alphabatical order\n",
    "\n",
    "merged.loc[condition, \n",
    "    ['uriOrg_x','labelOrg_x','orgMainType_x','relaType_x', 'uriOrg_y','labelOrg_y','orgMainType_y','relaType_y']] = \\\n",
    "        merged.loc[condition,\n",
    "    ['uriOrg_y','labelOrg_y','orgMainType_y','relaType_y','uriOrg_x','labelOrg_x','orgMainType_x','relaType_x']].values"
   ]
  },
  {
   "cell_type": "code",
   "execution_count": 68,
   "metadata": {},
   "outputs": [
    {
     "data": {
      "application/vnd.microsoft.datawrangler.viewer.v0+json": {
       "columns": [
        {
         "name": "index",
         "rawType": "int64",
         "type": "integer"
        },
        {
         "name": "uriPer",
         "rawType": "object",
         "type": "string"
        },
        {
         "name": "labelPer",
         "rawType": "object",
         "type": "string"
        },
        {
         "name": "birthYear",
         "rawType": "int64",
         "type": "integer"
        },
        {
         "name": "uriOrg_x",
         "rawType": "object",
         "type": "string"
        },
        {
         "name": "labelOrg_x",
         "rawType": "object",
         "type": "string"
        },
        {
         "name": "typesOrg_x",
         "rawType": "object",
         "type": "string"
        },
        {
         "name": "orgMainType_x",
         "rawType": "object",
         "type": "string"
        },
        {
         "name": "relaType_x",
         "rawType": "object",
         "type": "string"
        },
        {
         "name": "periods",
         "rawType": "category",
         "type": "unknown"
        },
        {
         "name": "periods_relaType_x",
         "rawType": "object",
         "type": "string"
        },
        {
         "name": "uriOrg_y",
         "rawType": "object",
         "type": "string"
        },
        {
         "name": "labelOrg_y",
         "rawType": "object",
         "type": "string"
        },
        {
         "name": "typesOrg_y",
         "rawType": "object",
         "type": "string"
        },
        {
         "name": "orgMainType_y",
         "rawType": "object",
         "type": "string"
        },
        {
         "name": "relaType_y",
         "rawType": "object",
         "type": "string"
        },
        {
         "name": "periods_relaType_y",
         "rawType": "object",
         "type": "string"
        }
       ],
       "ref": "a281f579-ccd9-48cd-addd-2d3377bc540b",
       "rows": [
        [
         "359",
         "http://www.wikidata.org/entity/Q106489525",
         "Paul Hatte",
         "1993",
         "http://www.wikidata.org/entity/Q3268614",
         "Lycée Carnot",
         "alumni association | organization",
         "educational institution",
         "education",
         "1971-2000",
         "1971-2000_membership",
         "http://www.wikidata.org/entity/Q131137989",
         "emlyon alumni",
         "lycée | school building",
         "not classified organisation",
         "membership",
         "1971-2000_education"
        ],
        [
         "360",
         "http://www.wikidata.org/entity/Q106489525",
         "Paul Hatte",
         "1993",
         "http://www.wikidata.org/entity/Q859363",
         "Sciences Po",
         "alumni association | organization",
         "public university",
         "education",
         "1971-2000",
         "1971-2000_membership",
         "http://www.wikidata.org/entity/Q131137989",
         "emlyon alumni",
         "academic publisher | grand établissement | grande école | organization | public university",
         "not classified organisation",
         "membership",
         "1971-2000_education"
        ],
        [
         "362",
         "http://www.wikidata.org/entity/Q106489525",
         "Paul Hatte",
         "1993",
         "http://www.wikidata.org/entity/Q546118",
         "Paris-Sorbonne University - Paris IV",
         "alumni association | organization",
         "university",
         "education",
         "1971-2000",
         "1971-2000_membership",
         "http://www.wikidata.org/entity/Q131137989",
         "emlyon alumni",
         "former educational institution | university in france",
         "not classified organisation",
         "membership",
         "1971-2000_education"
        ],
        [
         "366",
         "http://www.wikidata.org/entity/Q106595481",
         "Marga Hoek",
         "1965",
         "http://www.wikidata.org/entity/Q214341",
         "University of Amsterdam",
         "research institute | university",
         "university",
         "education",
         "1941-1970",
         "1941-1970_education",
         "http://www.wikidata.org/entity/Q633529",
         "Erasmus University Rotterdam",
         "organization | public university",
         "public university",
         "education",
         "1941-1970_education"
        ],
        [
         "367",
         "http://www.wikidata.org/entity/Q106595481",
         "Marga Hoek",
         "1965",
         "http://www.wikidata.org/entity/Q106661433",
         "Q106661433",
         "educational institution",
         "educational institution",
         "education",
         "1941-1970",
         "1941-1970_education",
         "http://www.wikidata.org/entity/Q214341",
         "University of Amsterdam",
         "research institute | university",
         "university",
         "education",
         "1941-1970_education"
        ],
        [
         "369",
         "http://www.wikidata.org/entity/Q106595481",
         "Marga Hoek",
         "1965",
         "http://www.wikidata.org/entity/Q106661433",
         "Q106661433",
         "educational institution",
         "educational institution",
         "education",
         "1941-1970",
         "1941-1970_education",
         "http://www.wikidata.org/entity/Q633529",
         "Erasmus University Rotterdam",
         "organization | public university",
         "public university",
         "education",
         "1941-1970_education"
        ],
        [
         "375",
         "http://www.wikidata.org/entity/Q106621876",
         "Susan Ruzenski",
         "2000",
         "http://www.wikidata.org/entity/Q49210",
         "New York University",
         "private not-for-profit educational institution | private university | research university | workplace",
         "private university",
         "education",
         "1971-2000",
         "1971-2000_education",
         "http://www.wikidata.org/entity/Q7691246",
         "Teachers College",
         "open-access publisher | private not-for-profit educational institution | school of education",
         "educational institution",
         "education",
         "1971-2000_education"
        ]
       ],
       "shape": {
        "columns": 16,
        "rows": 7
       }
      },
      "text/html": [
       "<div>\n",
       "<style scoped>\n",
       "    .dataframe tbody tr th:only-of-type {\n",
       "        vertical-align: middle;\n",
       "    }\n",
       "\n",
       "    .dataframe tbody tr th {\n",
       "        vertical-align: top;\n",
       "    }\n",
       "\n",
       "    .dataframe thead th {\n",
       "        text-align: right;\n",
       "    }\n",
       "</style>\n",
       "<table border=\"1\" class=\"dataframe\">\n",
       "  <thead>\n",
       "    <tr style=\"text-align: right;\">\n",
       "      <th></th>\n",
       "      <th>uriPer</th>\n",
       "      <th>labelPer</th>\n",
       "      <th>birthYear</th>\n",
       "      <th>uriOrg_x</th>\n",
       "      <th>labelOrg_x</th>\n",
       "      <th>typesOrg_x</th>\n",
       "      <th>orgMainType_x</th>\n",
       "      <th>relaType_x</th>\n",
       "      <th>periods</th>\n",
       "      <th>periods_relaType_x</th>\n",
       "      <th>uriOrg_y</th>\n",
       "      <th>labelOrg_y</th>\n",
       "      <th>typesOrg_y</th>\n",
       "      <th>orgMainType_y</th>\n",
       "      <th>relaType_y</th>\n",
       "      <th>periods_relaType_y</th>\n",
       "    </tr>\n",
       "  </thead>\n",
       "  <tbody>\n",
       "    <tr>\n",
       "      <th>359</th>\n",
       "      <td>http://www.wikidata.org/entity/Q106489525</td>\n",
       "      <td>Paul Hatte</td>\n",
       "      <td>1993</td>\n",
       "      <td>http://www.wikidata.org/entity/Q3268614</td>\n",
       "      <td>Lycée Carnot</td>\n",
       "      <td>alumni association | organization</td>\n",
       "      <td>educational institution</td>\n",
       "      <td>education</td>\n",
       "      <td>1971-2000</td>\n",
       "      <td>1971-2000_membership</td>\n",
       "      <td>http://www.wikidata.org/entity/Q131137989</td>\n",
       "      <td>emlyon alumni</td>\n",
       "      <td>lycée | school building</td>\n",
       "      <td>not classified organisation</td>\n",
       "      <td>membership</td>\n",
       "      <td>1971-2000_education</td>\n",
       "    </tr>\n",
       "    <tr>\n",
       "      <th>360</th>\n",
       "      <td>http://www.wikidata.org/entity/Q106489525</td>\n",
       "      <td>Paul Hatte</td>\n",
       "      <td>1993</td>\n",
       "      <td>http://www.wikidata.org/entity/Q859363</td>\n",
       "      <td>Sciences Po</td>\n",
       "      <td>alumni association | organization</td>\n",
       "      <td>public university</td>\n",
       "      <td>education</td>\n",
       "      <td>1971-2000</td>\n",
       "      <td>1971-2000_membership</td>\n",
       "      <td>http://www.wikidata.org/entity/Q131137989</td>\n",
       "      <td>emlyon alumni</td>\n",
       "      <td>academic publisher | grand établissement | gra...</td>\n",
       "      <td>not classified organisation</td>\n",
       "      <td>membership</td>\n",
       "      <td>1971-2000_education</td>\n",
       "    </tr>\n",
       "    <tr>\n",
       "      <th>362</th>\n",
       "      <td>http://www.wikidata.org/entity/Q106489525</td>\n",
       "      <td>Paul Hatte</td>\n",
       "      <td>1993</td>\n",
       "      <td>http://www.wikidata.org/entity/Q546118</td>\n",
       "      <td>Paris-Sorbonne University - Paris IV</td>\n",
       "      <td>alumni association | organization</td>\n",
       "      <td>university</td>\n",
       "      <td>education</td>\n",
       "      <td>1971-2000</td>\n",
       "      <td>1971-2000_membership</td>\n",
       "      <td>http://www.wikidata.org/entity/Q131137989</td>\n",
       "      <td>emlyon alumni</td>\n",
       "      <td>former educational institution | university in...</td>\n",
       "      <td>not classified organisation</td>\n",
       "      <td>membership</td>\n",
       "      <td>1971-2000_education</td>\n",
       "    </tr>\n",
       "    <tr>\n",
       "      <th>366</th>\n",
       "      <td>http://www.wikidata.org/entity/Q106595481</td>\n",
       "      <td>Marga Hoek</td>\n",
       "      <td>1965</td>\n",
       "      <td>http://www.wikidata.org/entity/Q214341</td>\n",
       "      <td>University of Amsterdam</td>\n",
       "      <td>research institute | university</td>\n",
       "      <td>university</td>\n",
       "      <td>education</td>\n",
       "      <td>1941-1970</td>\n",
       "      <td>1941-1970_education</td>\n",
       "      <td>http://www.wikidata.org/entity/Q633529</td>\n",
       "      <td>Erasmus University Rotterdam</td>\n",
       "      <td>organization | public university</td>\n",
       "      <td>public university</td>\n",
       "      <td>education</td>\n",
       "      <td>1941-1970_education</td>\n",
       "    </tr>\n",
       "    <tr>\n",
       "      <th>367</th>\n",
       "      <td>http://www.wikidata.org/entity/Q106595481</td>\n",
       "      <td>Marga Hoek</td>\n",
       "      <td>1965</td>\n",
       "      <td>http://www.wikidata.org/entity/Q106661433</td>\n",
       "      <td>Q106661433</td>\n",
       "      <td>educational institution</td>\n",
       "      <td>educational institution</td>\n",
       "      <td>education</td>\n",
       "      <td>1941-1970</td>\n",
       "      <td>1941-1970_education</td>\n",
       "      <td>http://www.wikidata.org/entity/Q214341</td>\n",
       "      <td>University of Amsterdam</td>\n",
       "      <td>research institute | university</td>\n",
       "      <td>university</td>\n",
       "      <td>education</td>\n",
       "      <td>1941-1970_education</td>\n",
       "    </tr>\n",
       "    <tr>\n",
       "      <th>369</th>\n",
       "      <td>http://www.wikidata.org/entity/Q106595481</td>\n",
       "      <td>Marga Hoek</td>\n",
       "      <td>1965</td>\n",
       "      <td>http://www.wikidata.org/entity/Q106661433</td>\n",
       "      <td>Q106661433</td>\n",
       "      <td>educational institution</td>\n",
       "      <td>educational institution</td>\n",
       "      <td>education</td>\n",
       "      <td>1941-1970</td>\n",
       "      <td>1941-1970_education</td>\n",
       "      <td>http://www.wikidata.org/entity/Q633529</td>\n",
       "      <td>Erasmus University Rotterdam</td>\n",
       "      <td>organization | public university</td>\n",
       "      <td>public university</td>\n",
       "      <td>education</td>\n",
       "      <td>1941-1970_education</td>\n",
       "    </tr>\n",
       "    <tr>\n",
       "      <th>375</th>\n",
       "      <td>http://www.wikidata.org/entity/Q106621876</td>\n",
       "      <td>Susan Ruzenski</td>\n",
       "      <td>2000</td>\n",
       "      <td>http://www.wikidata.org/entity/Q49210</td>\n",
       "      <td>New York University</td>\n",
       "      <td>private not-for-profit educational institution...</td>\n",
       "      <td>private university</td>\n",
       "      <td>education</td>\n",
       "      <td>1971-2000</td>\n",
       "      <td>1971-2000_education</td>\n",
       "      <td>http://www.wikidata.org/entity/Q7691246</td>\n",
       "      <td>Teachers College</td>\n",
       "      <td>open-access publisher | private not-for-profit...</td>\n",
       "      <td>educational institution</td>\n",
       "      <td>education</td>\n",
       "      <td>1971-2000_education</td>\n",
       "    </tr>\n",
       "  </tbody>\n",
       "</table>\n",
       "</div>"
      ],
      "text/plain": [
       "                                        uriPer        labelPer  birthYear  \\\n",
       "359  http://www.wikidata.org/entity/Q106489525      Paul Hatte       1993   \n",
       "360  http://www.wikidata.org/entity/Q106489525      Paul Hatte       1993   \n",
       "362  http://www.wikidata.org/entity/Q106489525      Paul Hatte       1993   \n",
       "366  http://www.wikidata.org/entity/Q106595481      Marga Hoek       1965   \n",
       "367  http://www.wikidata.org/entity/Q106595481      Marga Hoek       1965   \n",
       "369  http://www.wikidata.org/entity/Q106595481      Marga Hoek       1965   \n",
       "375  http://www.wikidata.org/entity/Q106621876  Susan Ruzenski       2000   \n",
       "\n",
       "                                      uriOrg_x  \\\n",
       "359    http://www.wikidata.org/entity/Q3268614   \n",
       "360     http://www.wikidata.org/entity/Q859363   \n",
       "362     http://www.wikidata.org/entity/Q546118   \n",
       "366     http://www.wikidata.org/entity/Q214341   \n",
       "367  http://www.wikidata.org/entity/Q106661433   \n",
       "369  http://www.wikidata.org/entity/Q106661433   \n",
       "375      http://www.wikidata.org/entity/Q49210   \n",
       "\n",
       "                               labelOrg_x  \\\n",
       "359                          Lycée Carnot   \n",
       "360                           Sciences Po   \n",
       "362  Paris-Sorbonne University - Paris IV   \n",
       "366               University of Amsterdam   \n",
       "367                            Q106661433   \n",
       "369                            Q106661433   \n",
       "375                   New York University   \n",
       "\n",
       "                                            typesOrg_x  \\\n",
       "359                  alumni association | organization   \n",
       "360                  alumni association | organization   \n",
       "362                  alumni association | organization   \n",
       "366                    research institute | university   \n",
       "367                            educational institution   \n",
       "369                            educational institution   \n",
       "375  private not-for-profit educational institution...   \n",
       "\n",
       "               orgMainType_x relaType_x    periods    periods_relaType_x  \\\n",
       "359  educational institution  education  1971-2000  1971-2000_membership   \n",
       "360        public university  education  1971-2000  1971-2000_membership   \n",
       "362               university  education  1971-2000  1971-2000_membership   \n",
       "366               university  education  1941-1970   1941-1970_education   \n",
       "367  educational institution  education  1941-1970   1941-1970_education   \n",
       "369  educational institution  education  1941-1970   1941-1970_education   \n",
       "375       private university  education  1971-2000   1971-2000_education   \n",
       "\n",
       "                                      uriOrg_y                    labelOrg_y  \\\n",
       "359  http://www.wikidata.org/entity/Q131137989                 emlyon alumni   \n",
       "360  http://www.wikidata.org/entity/Q131137989                 emlyon alumni   \n",
       "362  http://www.wikidata.org/entity/Q131137989                 emlyon alumni   \n",
       "366     http://www.wikidata.org/entity/Q633529  Erasmus University Rotterdam   \n",
       "367     http://www.wikidata.org/entity/Q214341       University of Amsterdam   \n",
       "369     http://www.wikidata.org/entity/Q633529  Erasmus University Rotterdam   \n",
       "375    http://www.wikidata.org/entity/Q7691246              Teachers College   \n",
       "\n",
       "                                            typesOrg_y  \\\n",
       "359                            lycée | school building   \n",
       "360  academic publisher | grand établissement | gra...   \n",
       "362  former educational institution | university in...   \n",
       "366                   organization | public university   \n",
       "367                    research institute | university   \n",
       "369                   organization | public university   \n",
       "375  open-access publisher | private not-for-profit...   \n",
       "\n",
       "                   orgMainType_y  relaType_y   periods_relaType_y  \n",
       "359  not classified organisation  membership  1971-2000_education  \n",
       "360  not classified organisation  membership  1971-2000_education  \n",
       "362  not classified organisation  membership  1971-2000_education  \n",
       "366            public university   education  1941-1970_education  \n",
       "367                   university   education  1941-1970_education  \n",
       "369            public university   education  1941-1970_education  \n",
       "375      educational institution   education  1971-2000_education  "
      ]
     },
     "execution_count": 68,
     "metadata": {},
     "output_type": "execute_result"
    }
   ],
   "source": [
    "### Inspect\n",
    "\n",
    "merged.iloc[110:117]"
   ]
  },
  {
   "cell_type": "code",
   "execution_count": 69,
   "metadata": {},
   "outputs": [
    {
     "data": {
      "application/vnd.microsoft.datawrangler.viewer.v0+json": {
       "columns": [
        {
         "name": "index",
         "rawType": "int64",
         "type": "integer"
        },
        {
         "name": "relaType_x",
         "rawType": "object",
         "type": "string"
        },
        {
         "name": "relaType_y",
         "rawType": "object",
         "type": "string"
        },
        {
         "name": "size",
         "rawType": "int64",
         "type": "integer"
        }
       ],
       "ref": "9ae0cf98-9d7a-4aa1-8cd8-9825b248f33d",
       "rows": [
        [
         "0",
         "education",
         "education",
         "2263"
        ],
        [
         "2",
         "education",
         "membership",
         "851"
        ],
        [
         "1",
         "education",
         "employment",
         "209"
        ],
        [
         "5",
         "membership",
         "membership",
         "170"
        ],
        [
         "4",
         "employment",
         "membership",
         "49"
        ],
        [
         "3",
         "employment",
         "employment",
         "41"
        ]
       ],
       "shape": {
        "columns": 3,
        "rows": 6
       }
      },
      "text/html": [
       "<div>\n",
       "<style scoped>\n",
       "    .dataframe tbody tr th:only-of-type {\n",
       "        vertical-align: middle;\n",
       "    }\n",
       "\n",
       "    .dataframe tbody tr th {\n",
       "        vertical-align: top;\n",
       "    }\n",
       "\n",
       "    .dataframe thead th {\n",
       "        text-align: right;\n",
       "    }\n",
       "</style>\n",
       "<table border=\"1\" class=\"dataframe\">\n",
       "  <thead>\n",
       "    <tr style=\"text-align: right;\">\n",
       "      <th></th>\n",
       "      <th>relaType_x</th>\n",
       "      <th>relaType_y</th>\n",
       "      <th>size</th>\n",
       "    </tr>\n",
       "  </thead>\n",
       "  <tbody>\n",
       "    <tr>\n",
       "      <th>0</th>\n",
       "      <td>education</td>\n",
       "      <td>education</td>\n",
       "      <td>2263</td>\n",
       "    </tr>\n",
       "    <tr>\n",
       "      <th>2</th>\n",
       "      <td>education</td>\n",
       "      <td>membership</td>\n",
       "      <td>851</td>\n",
       "    </tr>\n",
       "    <tr>\n",
       "      <th>1</th>\n",
       "      <td>education</td>\n",
       "      <td>employment</td>\n",
       "      <td>209</td>\n",
       "    </tr>\n",
       "    <tr>\n",
       "      <th>5</th>\n",
       "      <td>membership</td>\n",
       "      <td>membership</td>\n",
       "      <td>170</td>\n",
       "    </tr>\n",
       "    <tr>\n",
       "      <th>4</th>\n",
       "      <td>employment</td>\n",
       "      <td>membership</td>\n",
       "      <td>49</td>\n",
       "    </tr>\n",
       "    <tr>\n",
       "      <th>3</th>\n",
       "      <td>employment</td>\n",
       "      <td>employment</td>\n",
       "      <td>41</td>\n",
       "    </tr>\n",
       "  </tbody>\n",
       "</table>\n",
       "</div>"
      ],
      "text/plain": [
       "   relaType_x  relaType_y  size\n",
       "0   education   education  2263\n",
       "2   education  membership   851\n",
       "1   education  employment   209\n",
       "5  membership  membership   170\n",
       "4  employment  membership    49\n",
       "3  employment  employment    41"
      ]
     },
     "execution_count": 69,
     "metadata": {},
     "output_type": "execute_result"
    }
   ],
   "source": [
    "### Number of relationships per type prepared for graph\n",
    "gl_relaType = merged.groupby(['relaType_x', 'relaType_y'], as_index=False).size().sort_values(by='size', ascending=False)\n",
    "\n",
    "gl_relaType\n"
   ]
  },
  {
   "cell_type": "code",
   "execution_count": 70,
   "metadata": {},
   "outputs": [],
   "source": [
    "### Concat relationships\n",
    "merged['relaType_concat'] = merged.apply(lambda x: x.relaType_x + '_' +x.relaType_y, axis=1)"
   ]
  },
  {
   "cell_type": "code",
   "execution_count": 71,
   "metadata": {},
   "outputs": [
    {
     "name": "stdout",
     "output_type": "stream",
     "text": [
      "['uriPer', 'labelPer', 'birthYear', 'uriOrg_x', 'labelOrg_x', 'typesOrg_x', 'orgMainType_x', 'relaType_x', 'periods', 'periods_relaType_x', 'uriOrg_y', 'labelOrg_y', 'typesOrg_y', 'orgMainType_y', 'relaType_y', 'periods_relaType_y', 'relaType_concat']\n"
     ]
    },
    {
     "data": {
      "application/vnd.microsoft.datawrangler.viewer.v0+json": {
       "columns": [
        {
         "name": "index",
         "rawType": "int64",
         "type": "integer"
        },
        {
         "name": "uriPer",
         "rawType": "object",
         "type": "string"
        },
        {
         "name": "labelPer",
         "rawType": "object",
         "type": "string"
        },
        {
         "name": "birthYear",
         "rawType": "int64",
         "type": "integer"
        },
        {
         "name": "uriOrg_x",
         "rawType": "object",
         "type": "string"
        },
        {
         "name": "labelOrg_x",
         "rawType": "object",
         "type": "string"
        },
        {
         "name": "typesOrg_x",
         "rawType": "object",
         "type": "string"
        },
        {
         "name": "orgMainType_x",
         "rawType": "object",
         "type": "string"
        },
        {
         "name": "relaType_x",
         "rawType": "object",
         "type": "string"
        },
        {
         "name": "periods",
         "rawType": "category",
         "type": "unknown"
        },
        {
         "name": "periods_relaType_x",
         "rawType": "object",
         "type": "string"
        },
        {
         "name": "uriOrg_y",
         "rawType": "object",
         "type": "string"
        },
        {
         "name": "labelOrg_y",
         "rawType": "object",
         "type": "string"
        },
        {
         "name": "typesOrg_y",
         "rawType": "object",
         "type": "string"
        },
        {
         "name": "orgMainType_y",
         "rawType": "object",
         "type": "string"
        },
        {
         "name": "relaType_y",
         "rawType": "object",
         "type": "string"
        },
        {
         "name": "periods_relaType_y",
         "rawType": "object",
         "type": "string"
        },
        {
         "name": "relaType_concat",
         "rawType": "object",
         "type": "string"
        }
       ],
       "ref": "dd012a4a-f14a-4970-9494-4bcbf4ef198c",
       "rows": [
        [
         "359",
         "http://www.wikidata.org/entity/Q106489525",
         "Paul Hatte",
         "1993",
         "http://www.wikidata.org/entity/Q3268614",
         "Lycée Carnot",
         "alumni association | organization",
         "educational institution",
         "education",
         "1971-2000",
         "1971-2000_membership",
         "http://www.wikidata.org/entity/Q131137989",
         "emlyon alumni",
         "lycée | school building",
         "not classified organisation",
         "membership",
         "1971-2000_education",
         "education_membership"
        ],
        [
         "360",
         "http://www.wikidata.org/entity/Q106489525",
         "Paul Hatte",
         "1993",
         "http://www.wikidata.org/entity/Q859363",
         "Sciences Po",
         "alumni association | organization",
         "public university",
         "education",
         "1971-2000",
         "1971-2000_membership",
         "http://www.wikidata.org/entity/Q131137989",
         "emlyon alumni",
         "academic publisher | grand établissement | grande école | organization | public university",
         "not classified organisation",
         "membership",
         "1971-2000_education",
         "education_membership"
        ]
       ],
       "shape": {
        "columns": 17,
        "rows": 2
       }
      },
      "text/html": [
       "<div>\n",
       "<style scoped>\n",
       "    .dataframe tbody tr th:only-of-type {\n",
       "        vertical-align: middle;\n",
       "    }\n",
       "\n",
       "    .dataframe tbody tr th {\n",
       "        vertical-align: top;\n",
       "    }\n",
       "\n",
       "    .dataframe thead th {\n",
       "        text-align: right;\n",
       "    }\n",
       "</style>\n",
       "<table border=\"1\" class=\"dataframe\">\n",
       "  <thead>\n",
       "    <tr style=\"text-align: right;\">\n",
       "      <th></th>\n",
       "      <th>uriPer</th>\n",
       "      <th>labelPer</th>\n",
       "      <th>birthYear</th>\n",
       "      <th>uriOrg_x</th>\n",
       "      <th>labelOrg_x</th>\n",
       "      <th>typesOrg_x</th>\n",
       "      <th>orgMainType_x</th>\n",
       "      <th>relaType_x</th>\n",
       "      <th>periods</th>\n",
       "      <th>periods_relaType_x</th>\n",
       "      <th>uriOrg_y</th>\n",
       "      <th>labelOrg_y</th>\n",
       "      <th>typesOrg_y</th>\n",
       "      <th>orgMainType_y</th>\n",
       "      <th>relaType_y</th>\n",
       "      <th>periods_relaType_y</th>\n",
       "      <th>relaType_concat</th>\n",
       "    </tr>\n",
       "  </thead>\n",
       "  <tbody>\n",
       "    <tr>\n",
       "      <th>359</th>\n",
       "      <td>http://www.wikidata.org/entity/Q106489525</td>\n",
       "      <td>Paul Hatte</td>\n",
       "      <td>1993</td>\n",
       "      <td>http://www.wikidata.org/entity/Q3268614</td>\n",
       "      <td>Lycée Carnot</td>\n",
       "      <td>alumni association | organization</td>\n",
       "      <td>educational institution</td>\n",
       "      <td>education</td>\n",
       "      <td>1971-2000</td>\n",
       "      <td>1971-2000_membership</td>\n",
       "      <td>http://www.wikidata.org/entity/Q131137989</td>\n",
       "      <td>emlyon alumni</td>\n",
       "      <td>lycée | school building</td>\n",
       "      <td>not classified organisation</td>\n",
       "      <td>membership</td>\n",
       "      <td>1971-2000_education</td>\n",
       "      <td>education_membership</td>\n",
       "    </tr>\n",
       "    <tr>\n",
       "      <th>360</th>\n",
       "      <td>http://www.wikidata.org/entity/Q106489525</td>\n",
       "      <td>Paul Hatte</td>\n",
       "      <td>1993</td>\n",
       "      <td>http://www.wikidata.org/entity/Q859363</td>\n",
       "      <td>Sciences Po</td>\n",
       "      <td>alumni association | organization</td>\n",
       "      <td>public university</td>\n",
       "      <td>education</td>\n",
       "      <td>1971-2000</td>\n",
       "      <td>1971-2000_membership</td>\n",
       "      <td>http://www.wikidata.org/entity/Q131137989</td>\n",
       "      <td>emlyon alumni</td>\n",
       "      <td>academic publisher | grand établissement | gra...</td>\n",
       "      <td>not classified organisation</td>\n",
       "      <td>membership</td>\n",
       "      <td>1971-2000_education</td>\n",
       "      <td>education_membership</td>\n",
       "    </tr>\n",
       "  </tbody>\n",
       "</table>\n",
       "</div>"
      ],
      "text/plain": [
       "                                        uriPer    labelPer  birthYear  \\\n",
       "359  http://www.wikidata.org/entity/Q106489525  Paul Hatte       1993   \n",
       "360  http://www.wikidata.org/entity/Q106489525  Paul Hatte       1993   \n",
       "\n",
       "                                    uriOrg_x    labelOrg_x  \\\n",
       "359  http://www.wikidata.org/entity/Q3268614  Lycée Carnot   \n",
       "360   http://www.wikidata.org/entity/Q859363   Sciences Po   \n",
       "\n",
       "                            typesOrg_x            orgMainType_x relaType_x  \\\n",
       "359  alumni association | organization  educational institution  education   \n",
       "360  alumni association | organization        public university  education   \n",
       "\n",
       "       periods    periods_relaType_x  \\\n",
       "359  1971-2000  1971-2000_membership   \n",
       "360  1971-2000  1971-2000_membership   \n",
       "\n",
       "                                      uriOrg_y     labelOrg_y  \\\n",
       "359  http://www.wikidata.org/entity/Q131137989  emlyon alumni   \n",
       "360  http://www.wikidata.org/entity/Q131137989  emlyon alumni   \n",
       "\n",
       "                                            typesOrg_y  \\\n",
       "359                            lycée | school building   \n",
       "360  academic publisher | grand établissement | gra...   \n",
       "\n",
       "                   orgMainType_y  relaType_y   periods_relaType_y  \\\n",
       "359  not classified organisation  membership  1971-2000_education   \n",
       "360  not classified organisation  membership  1971-2000_education   \n",
       "\n",
       "          relaType_concat  \n",
       "359  education_membership  \n",
       "360  education_membership  "
      ]
     },
     "execution_count": 71,
     "metadata": {},
     "output_type": "execute_result"
    }
   ],
   "source": [
    "print(list(merged.columns))\n",
    "merged.iloc[110:112]\n"
   ]
  },
  {
   "cell_type": "code",
   "execution_count": 76,
   "metadata": {},
   "outputs": [
    {
     "name": "stderr",
     "output_type": "stream",
     "text": [
      "C:\\Users\\laila\\AppData\\Local\\Temp\\ipykernel_14472\\2363838231.py:1: FutureWarning: The default of observed=False is deprecated and will be changed to True in a future version of pandas. Pass observed=False to retain current behavior or observed=True to adopt the future default and silence this warning.\n",
      "  df_graph=merged.groupby(['periods', 'relaType_concat', 'uriOrg_x', 'labelOrg_x', 'orgMainType_x',\n"
     ]
    },
    {
     "ename": "MemoryError",
     "evalue": "Unable to allocate 6.16 PiB for an array with shape (6933003499618560,) and data type int8",
     "output_type": "error",
     "traceback": [
      "\u001b[31m---------------------------------------------------------------------------\u001b[39m",
      "\u001b[31mMemoryError\u001b[39m                               Traceback (most recent call last)",
      "\u001b[36mCell\u001b[39m\u001b[36m \u001b[39m\u001b[32mIn[76]\u001b[39m\u001b[32m, line 4\u001b[39m\n\u001b[32m      1\u001b[39m df_graph=\u001b[43mmerged\u001b[49m\u001b[43m.\u001b[49m\u001b[43mgroupby\u001b[49m\u001b[43m(\u001b[49m\u001b[43m[\u001b[49m\u001b[33;43m'\u001b[39;49m\u001b[33;43mperiods\u001b[39;49m\u001b[33;43m'\u001b[39;49m\u001b[43m,\u001b[49m\u001b[43m \u001b[49m\u001b[33;43m'\u001b[39;49m\u001b[33;43mrelaType_concat\u001b[39;49m\u001b[33;43m'\u001b[39;49m\u001b[43m,\u001b[49m\u001b[43m \u001b[49m\u001b[33;43m'\u001b[39;49m\u001b[33;43muriOrg_x\u001b[39;49m\u001b[33;43m'\u001b[39;49m\u001b[43m,\u001b[49m\u001b[43m \u001b[49m\u001b[33;43m'\u001b[39;49m\u001b[33;43mlabelOrg_x\u001b[39;49m\u001b[33;43m'\u001b[39;49m\u001b[43m,\u001b[49m\u001b[43m \u001b[49m\u001b[33;43m'\u001b[39;49m\u001b[33;43morgMainType_x\u001b[39;49m\u001b[33;43m'\u001b[39;49m\u001b[43m,\u001b[49m\u001b[43m  \u001b[49m\n\u001b[32m      2\u001b[39m \u001b[43m                         \u001b[49m\u001b[33;43m'\u001b[39;49m\u001b[33;43muriOrg_y\u001b[39;49m\u001b[33;43m'\u001b[39;49m\u001b[43m,\u001b[49m\u001b[43m \u001b[49m\u001b[33;43m'\u001b[39;49m\u001b[33;43mlabelOrg_y\u001b[39;49m\u001b[33;43m'\u001b[39;49m\u001b[43m,\u001b[49m\u001b[43m \u001b[49m\u001b[33;43m'\u001b[39;49m\u001b[33;43morgMainType_y\u001b[39;49m\u001b[33;43m'\u001b[39;49m\u001b[43m]\u001b[49m\u001b[43m,\u001b[49m\n\u001b[32m      3\u001b[39m \u001b[43m               \u001b[49m\u001b[43mas_index\u001b[49m\u001b[43m=\u001b[49m\u001b[38;5;28;43;01mFalse\u001b[39;49;00m\u001b[43m)\u001b[49m\u001b[43m\\\u001b[49m\n\u001b[32m----> \u001b[39m\u001b[32m4\u001b[39m \u001b[43m    \u001b[49m\u001b[43m.\u001b[49m\u001b[43magg\u001b[49m\u001b[43m(\u001b[49m\u001b[43m{\u001b[49m\u001b[33;43m'\u001b[39;49m\u001b[33;43mlabelPer\u001b[39;49m\u001b[33;43m'\u001b[39;49m\u001b[43m:\u001b[49m\u001b[43m \u001b[49m\u001b[33;43m'\u001b[39;49m\u001b[33;43m|\u001b[39;49m\u001b[33;43m'\u001b[39;49m\u001b[43m.\u001b[49m\u001b[43mjoin\u001b[49m\u001b[43m,\u001b[49m\u001b[43m \u001b[49m\u001b[33;43m'\u001b[39;49m\u001b[33;43muriPer\u001b[39;49m\u001b[33;43m'\u001b[39;49m\u001b[43m:\u001b[49m\u001b[43m \u001b[49m\u001b[33;43m'\u001b[39;49m\u001b[33;43m|\u001b[39;49m\u001b[33;43m'\u001b[39;49m\u001b[43m.\u001b[49m\u001b[43mjoin\u001b[49m\u001b[43m}\u001b[49m\u001b[43m)\u001b[49m\n\u001b[32m      6\u001b[39m df_graph[\u001b[33m'\u001b[39m\u001b[33mnumber\u001b[39m\u001b[33m'\u001b[39m] = df_graph.labelPer.apply(\u001b[38;5;28;01mlambda\u001b[39;00m x : \u001b[38;5;28mlen\u001b[39m(x.split(\u001b[33m'\u001b[39m\u001b[33m|\u001b[39m\u001b[33m'\u001b[39m)))\n",
      "\u001b[36mFile \u001b[39m\u001b[32mc:\\Users\\laila\\AppData\\Local\\Programs\\Python\\Python313\\Lib\\site-packages\\pandas\\core\\groupby\\generic.py:1432\u001b[39m, in \u001b[36mDataFrameGroupBy.aggregate\u001b[39m\u001b[34m(self, func, engine, engine_kwargs, *args, **kwargs)\u001b[39m\n\u001b[32m   1429\u001b[39m     kwargs[\u001b[33m\"\u001b[39m\u001b[33mengine_kwargs\u001b[39m\u001b[33m\"\u001b[39m] = engine_kwargs\n\u001b[32m   1431\u001b[39m op = GroupByApply(\u001b[38;5;28mself\u001b[39m, func, args=args, kwargs=kwargs)\n\u001b[32m-> \u001b[39m\u001b[32m1432\u001b[39m result = \u001b[43mop\u001b[49m\u001b[43m.\u001b[49m\u001b[43magg\u001b[49m\u001b[43m(\u001b[49m\u001b[43m)\u001b[49m\n\u001b[32m   1433\u001b[39m \u001b[38;5;28;01mif\u001b[39;00m \u001b[38;5;129;01mnot\u001b[39;00m is_dict_like(func) \u001b[38;5;129;01mand\u001b[39;00m result \u001b[38;5;129;01mis\u001b[39;00m \u001b[38;5;129;01mnot\u001b[39;00m \u001b[38;5;28;01mNone\u001b[39;00m:\n\u001b[32m   1434\u001b[39m     \u001b[38;5;66;03m# GH #52849\u001b[39;00m\n\u001b[32m   1435\u001b[39m     \u001b[38;5;28;01mif\u001b[39;00m \u001b[38;5;129;01mnot\u001b[39;00m \u001b[38;5;28mself\u001b[39m.as_index \u001b[38;5;129;01mand\u001b[39;00m is_list_like(func):\n",
      "\u001b[36mFile \u001b[39m\u001b[32mc:\\Users\\laila\\AppData\\Local\\Programs\\Python\\Python313\\Lib\\site-packages\\pandas\\core\\apply.py:190\u001b[39m, in \u001b[36mApply.agg\u001b[39m\u001b[34m(self)\u001b[39m\n\u001b[32m    187\u001b[39m     \u001b[38;5;28;01mreturn\u001b[39;00m \u001b[38;5;28mself\u001b[39m.apply_str()\n\u001b[32m    189\u001b[39m \u001b[38;5;28;01mif\u001b[39;00m is_dict_like(func):\n\u001b[32m--> \u001b[39m\u001b[32m190\u001b[39m     \u001b[38;5;28;01mreturn\u001b[39;00m \u001b[38;5;28;43mself\u001b[39;49m\u001b[43m.\u001b[49m\u001b[43magg_dict_like\u001b[49m\u001b[43m(\u001b[49m\u001b[43m)\u001b[49m\n\u001b[32m    191\u001b[39m \u001b[38;5;28;01melif\u001b[39;00m is_list_like(func):\n\u001b[32m    192\u001b[39m     \u001b[38;5;66;03m# we require a list, but not a 'str'\u001b[39;00m\n\u001b[32m    193\u001b[39m     \u001b[38;5;28;01mreturn\u001b[39;00m \u001b[38;5;28mself\u001b[39m.agg_list_like()\n",
      "\u001b[36mFile \u001b[39m\u001b[32mc:\\Users\\laila\\AppData\\Local\\Programs\\Python\\Python313\\Lib\\site-packages\\pandas\\core\\apply.py:423\u001b[39m, in \u001b[36mApply.agg_dict_like\u001b[39m\u001b[34m(self)\u001b[39m\n\u001b[32m    415\u001b[39m \u001b[38;5;28;01mdef\u001b[39;00m\u001b[38;5;250m \u001b[39m\u001b[34magg_dict_like\u001b[39m(\u001b[38;5;28mself\u001b[39m) -> DataFrame | Series:\n\u001b[32m    416\u001b[39m \u001b[38;5;250m    \u001b[39m\u001b[33;03m\"\"\"\u001b[39;00m\n\u001b[32m    417\u001b[39m \u001b[33;03m    Compute aggregation in the case of a dict-like argument.\u001b[39;00m\n\u001b[32m    418\u001b[39m \n\u001b[32m   (...)\u001b[39m\u001b[32m    421\u001b[39m \u001b[33;03m    Result of aggregation.\u001b[39;00m\n\u001b[32m    422\u001b[39m \u001b[33;03m    \"\"\"\u001b[39;00m\n\u001b[32m--> \u001b[39m\u001b[32m423\u001b[39m     \u001b[38;5;28;01mreturn\u001b[39;00m \u001b[38;5;28;43mself\u001b[39;49m\u001b[43m.\u001b[49m\u001b[43magg_or_apply_dict_like\u001b[49m\u001b[43m(\u001b[49m\u001b[43mop_name\u001b[49m\u001b[43m=\u001b[49m\u001b[33;43m\"\u001b[39;49m\u001b[33;43magg\u001b[39;49m\u001b[33;43m\"\u001b[39;49m\u001b[43m)\u001b[49m\n",
      "\u001b[36mFile \u001b[39m\u001b[32mc:\\Users\\laila\\AppData\\Local\\Programs\\Python\\Python313\\Lib\\site-packages\\pandas\\core\\apply.py:1608\u001b[39m, in \u001b[36mGroupByApply.agg_or_apply_dict_like\u001b[39m\u001b[34m(self, op_name)\u001b[39m\n\u001b[32m   1603\u001b[39m     kwargs.update({\u001b[33m\"\u001b[39m\u001b[33mengine\u001b[39m\u001b[33m\"\u001b[39m: engine, \u001b[33m\"\u001b[39m\u001b[33mengine_kwargs\u001b[39m\u001b[33m\"\u001b[39m: engine_kwargs})\n\u001b[32m   1605\u001b[39m \u001b[38;5;28;01mwith\u001b[39;00m com.temp_setattr(\n\u001b[32m   1606\u001b[39m     obj, \u001b[33m\"\u001b[39m\u001b[33mas_index\u001b[39m\u001b[33m\"\u001b[39m, \u001b[38;5;28;01mTrue\u001b[39;00m, condition=\u001b[38;5;28mhasattr\u001b[39m(obj, \u001b[33m\"\u001b[39m\u001b[33mas_index\u001b[39m\u001b[33m\"\u001b[39m)\n\u001b[32m   1607\u001b[39m ):\n\u001b[32m-> \u001b[39m\u001b[32m1608\u001b[39m     result_index, result_data = \u001b[38;5;28;43mself\u001b[39;49m\u001b[43m.\u001b[49m\u001b[43mcompute_dict_like\u001b[49m\u001b[43m(\u001b[49m\n\u001b[32m   1609\u001b[39m \u001b[43m        \u001b[49m\u001b[43mop_name\u001b[49m\u001b[43m,\u001b[49m\u001b[43m \u001b[49m\u001b[43mselected_obj\u001b[49m\u001b[43m,\u001b[49m\u001b[43m \u001b[49m\u001b[43mselection\u001b[49m\u001b[43m,\u001b[49m\u001b[43m \u001b[49m\u001b[43mkwargs\u001b[49m\n\u001b[32m   1610\u001b[39m \u001b[43m    \u001b[49m\u001b[43m)\u001b[49m\n\u001b[32m   1611\u001b[39m result = \u001b[38;5;28mself\u001b[39m.wrap_results_dict_like(selected_obj, result_index, result_data)\n\u001b[32m   1612\u001b[39m \u001b[38;5;28;01mreturn\u001b[39;00m result\n",
      "\u001b[36mFile \u001b[39m\u001b[32mc:\\Users\\laila\\AppData\\Local\\Programs\\Python\\Python313\\Lib\\site-packages\\pandas\\core\\apply.py:497\u001b[39m, in \u001b[36mApply.compute_dict_like\u001b[39m\u001b[34m(self, op_name, selected_obj, selection, kwargs)\u001b[39m\n\u001b[32m    493\u001b[39m         results += key_data\n\u001b[32m    494\u001b[39m \u001b[38;5;28;01melse\u001b[39;00m:\n\u001b[32m    495\u001b[39m     \u001b[38;5;66;03m# key used for column selection and output\u001b[39;00m\n\u001b[32m    496\u001b[39m     results = [\n\u001b[32m--> \u001b[39m\u001b[32m497\u001b[39m         \u001b[38;5;28;43mgetattr\u001b[39;49m\u001b[43m(\u001b[49m\u001b[43mobj\u001b[49m\u001b[43m.\u001b[49m\u001b[43m_gotitem\u001b[49m\u001b[43m(\u001b[49m\u001b[43mkey\u001b[49m\u001b[43m,\u001b[49m\u001b[43m \u001b[49m\u001b[43mndim\u001b[49m\u001b[43m=\u001b[49m\u001b[32;43m1\u001b[39;49m\u001b[43m)\u001b[49m\u001b[43m,\u001b[49m\u001b[43m \u001b[49m\u001b[43mop_name\u001b[49m\u001b[43m)\u001b[49m\u001b[43m(\u001b[49m\u001b[43mhow\u001b[49m\u001b[43m,\u001b[49m\u001b[43m \u001b[49m\u001b[43m*\u001b[49m\u001b[43m*\u001b[49m\u001b[43mkwargs\u001b[49m\u001b[43m)\u001b[49m\n\u001b[32m    498\u001b[39m         \u001b[38;5;28;01mfor\u001b[39;00m key, how \u001b[38;5;129;01min\u001b[39;00m func.items()\n\u001b[32m    499\u001b[39m     ]\n\u001b[32m    500\u001b[39m     keys = \u001b[38;5;28mlist\u001b[39m(func.keys())\n\u001b[32m    502\u001b[39m \u001b[38;5;28;01mreturn\u001b[39;00m keys, results\n",
      "\u001b[36mFile \u001b[39m\u001b[32mc:\\Users\\laila\\AppData\\Local\\Programs\\Python\\Python313\\Lib\\site-packages\\pandas\\core\\groupby\\generic.py:291\u001b[39m, in \u001b[36mSeriesGroupBy.aggregate\u001b[39m\u001b[34m(self, func, engine, engine_kwargs, *args, **kwargs)\u001b[39m\n\u001b[32m    283\u001b[39m     \u001b[38;5;28;01mreturn\u001b[39;00m \u001b[38;5;28mself\u001b[39m.obj._constructor(\n\u001b[32m    284\u001b[39m         [],\n\u001b[32m    285\u001b[39m         name=\u001b[38;5;28mself\u001b[39m.obj.name,\n\u001b[32m    286\u001b[39m         index=\u001b[38;5;28mself\u001b[39m._grouper.result_index,\n\u001b[32m    287\u001b[39m         dtype=obj.dtype,\n\u001b[32m    288\u001b[39m     )\n\u001b[32m    290\u001b[39m \u001b[38;5;28;01mif\u001b[39;00m \u001b[38;5;28mself\u001b[39m._grouper.nkeys > \u001b[32m1\u001b[39m:\n\u001b[32m--> \u001b[39m\u001b[32m291\u001b[39m     \u001b[38;5;28;01mreturn\u001b[39;00m \u001b[38;5;28;43mself\u001b[39;49m\u001b[43m.\u001b[49m\u001b[43m_python_agg_general\u001b[49m\u001b[43m(\u001b[49m\u001b[43mfunc\u001b[49m\u001b[43m,\u001b[49m\u001b[43m \u001b[49m\u001b[43m*\u001b[49m\u001b[43margs\u001b[49m\u001b[43m,\u001b[49m\u001b[43m \u001b[49m\u001b[43m*\u001b[49m\u001b[43m*\u001b[49m\u001b[43mkwargs\u001b[49m\u001b[43m)\u001b[49m\n\u001b[32m    293\u001b[39m \u001b[38;5;28;01mtry\u001b[39;00m:\n\u001b[32m    294\u001b[39m     \u001b[38;5;28;01mreturn\u001b[39;00m \u001b[38;5;28mself\u001b[39m._python_agg_general(func, *args, **kwargs)\n",
      "\u001b[36mFile \u001b[39m\u001b[32mc:\\Users\\laila\\AppData\\Local\\Programs\\Python\\Python313\\Lib\\site-packages\\pandas\\core\\groupby\\generic.py:329\u001b[39m, in \u001b[36mSeriesGroupBy._python_agg_general\u001b[39m\u001b[34m(self, func, *args, **kwargs)\u001b[39m\n\u001b[32m    327\u001b[39m result = \u001b[38;5;28mself\u001b[39m._grouper.agg_series(obj, f)\n\u001b[32m    328\u001b[39m res = obj._constructor(result, name=obj.name)\n\u001b[32m--> \u001b[39m\u001b[32m329\u001b[39m \u001b[38;5;28;01mreturn\u001b[39;00m \u001b[38;5;28;43mself\u001b[39;49m\u001b[43m.\u001b[49m\u001b[43m_wrap_aggregated_output\u001b[49m\u001b[43m(\u001b[49m\u001b[43mres\u001b[49m\u001b[43m)\u001b[49m\n",
      "\u001b[36mFile \u001b[39m\u001b[32mc:\\Users\\laila\\AppData\\Local\\Programs\\Python\\Python313\\Lib\\site-packages\\pandas\\core\\groupby\\groupby.py:1618\u001b[39m, in \u001b[36mGroupBy._wrap_aggregated_output\u001b[39m\u001b[34m(self, result, qs)\u001b[39m\n\u001b[32m   1615\u001b[39m \u001b[38;5;66;03m# error: Argument 1 to \"_maybe_transpose_result\" of \"GroupBy\" has\u001b[39;00m\n\u001b[32m   1616\u001b[39m \u001b[38;5;66;03m# incompatible type \"Union[Series, DataFrame]\"; expected \"NDFrameT\"\u001b[39;00m\n\u001b[32m   1617\u001b[39m res = \u001b[38;5;28mself\u001b[39m._maybe_transpose_result(result)  \u001b[38;5;66;03m# type: ignore[arg-type]\u001b[39;00m\n\u001b[32m-> \u001b[39m\u001b[32m1618\u001b[39m \u001b[38;5;28;01mreturn\u001b[39;00m \u001b[38;5;28;43mself\u001b[39;49m\u001b[43m.\u001b[49m\u001b[43m_reindex_output\u001b[49m\u001b[43m(\u001b[49m\u001b[43mres\u001b[49m\u001b[43m,\u001b[49m\u001b[43m \u001b[49m\u001b[43mqs\u001b[49m\u001b[43m=\u001b[49m\u001b[43mqs\u001b[49m\u001b[43m)\u001b[49m\n",
      "\u001b[36mFile \u001b[39m\u001b[32mc:\\Users\\laila\\AppData\\Local\\Programs\\Python\\Python313\\Lib\\site-packages\\pandas\\core\\groupby\\groupby.py:5620\u001b[39m, in \u001b[36mGroupBy._reindex_output\u001b[39m\u001b[34m(self, output, fill_value, qs)\u001b[39m\n\u001b[32m   5618\u001b[39m     levels_list.append(qs)  \u001b[38;5;66;03m# type: ignore[arg-type]\u001b[39;00m\n\u001b[32m   5619\u001b[39m     names = names + [\u001b[38;5;28;01mNone\u001b[39;00m]\n\u001b[32m-> \u001b[39m\u001b[32m5620\u001b[39m index = \u001b[43mMultiIndex\u001b[49m\u001b[43m.\u001b[49m\u001b[43mfrom_product\u001b[49m\u001b[43m(\u001b[49m\u001b[43mlevels_list\u001b[49m\u001b[43m,\u001b[49m\u001b[43m \u001b[49m\u001b[43mnames\u001b[49m\u001b[43m=\u001b[49m\u001b[43mnames\u001b[49m\u001b[43m)\u001b[49m\n\u001b[32m   5621\u001b[39m \u001b[38;5;28;01mif\u001b[39;00m \u001b[38;5;28mself\u001b[39m.sort:\n\u001b[32m   5622\u001b[39m     index = index.sort_values()\n",
      "\u001b[36mFile \u001b[39m\u001b[32mc:\\Users\\laila\\AppData\\Local\\Programs\\Python\\Python313\\Lib\\site-packages\\pandas\\core\\indexes\\multi.py:684\u001b[39m, in \u001b[36mMultiIndex.from_product\u001b[39m\u001b[34m(cls, iterables, sortorder, names)\u001b[39m\n\u001b[32m    681\u001b[39m     names = [\u001b[38;5;28mgetattr\u001b[39m(it, \u001b[33m\"\u001b[39m\u001b[33mname\u001b[39m\u001b[33m\"\u001b[39m, \u001b[38;5;28;01mNone\u001b[39;00m) \u001b[38;5;28;01mfor\u001b[39;00m it \u001b[38;5;129;01min\u001b[39;00m iterables]\n\u001b[32m    683\u001b[39m \u001b[38;5;66;03m# codes are all ndarrays, so cartesian_product is lossless\u001b[39;00m\n\u001b[32m--> \u001b[39m\u001b[32m684\u001b[39m codes = \u001b[43mcartesian_product\u001b[49m\u001b[43m(\u001b[49m\u001b[43mcodes\u001b[49m\u001b[43m)\u001b[49m\n\u001b[32m    685\u001b[39m \u001b[38;5;28;01mreturn\u001b[39;00m \u001b[38;5;28mcls\u001b[39m(levels, codes, sortorder=sortorder, names=names)\n",
      "\u001b[36mFile \u001b[39m\u001b[32mc:\\Users\\laila\\AppData\\Local\\Programs\\Python\\Python313\\Lib\\site-packages\\pandas\\core\\reshape\\util.py:65\u001b[39m, in \u001b[36mcartesian_product\u001b[39m\u001b[34m(X)\u001b[39m\n\u001b[32m     59\u001b[39m     b = np.zeros_like(cumprodX)\n\u001b[32m     61\u001b[39m \u001b[38;5;66;03m# error: Argument of type \"int_\" cannot be assigned to parameter \"num\" of\u001b[39;00m\n\u001b[32m     62\u001b[39m \u001b[38;5;66;03m# type \"int\" in function \"tile_compat\"\u001b[39;00m\n\u001b[32m     63\u001b[39m \u001b[38;5;28;01mreturn\u001b[39;00m [\n\u001b[32m     64\u001b[39m     tile_compat(\n\u001b[32m---> \u001b[39m\u001b[32m65\u001b[39m         \u001b[43mnp\u001b[49m\u001b[43m.\u001b[49m\u001b[43mrepeat\u001b[49m\u001b[43m(\u001b[49m\u001b[43mx\u001b[49m\u001b[43m,\u001b[49m\u001b[43m \u001b[49m\u001b[43mb\u001b[49m\u001b[43m[\u001b[49m\u001b[43mi\u001b[49m\u001b[43m]\u001b[49m\u001b[43m)\u001b[49m,\n\u001b[32m     66\u001b[39m         np.prod(a[i]),\n\u001b[32m     67\u001b[39m     )\n\u001b[32m     68\u001b[39m     \u001b[38;5;28;01mfor\u001b[39;00m i, x \u001b[38;5;129;01min\u001b[39;00m \u001b[38;5;28menumerate\u001b[39m(X)\n\u001b[32m     69\u001b[39m ]\n",
      "\u001b[36mFile \u001b[39m\u001b[32mc:\\Users\\laila\\AppData\\Local\\Programs\\Python\\Python313\\Lib\\site-packages\\numpy\\_core\\fromnumeric.py:506\u001b[39m, in \u001b[36mrepeat\u001b[39m\u001b[34m(a, repeats, axis)\u001b[39m\n\u001b[32m    462\u001b[39m \u001b[38;5;129m@array_function_dispatch\u001b[39m(_repeat_dispatcher)\n\u001b[32m    463\u001b[39m \u001b[38;5;28;01mdef\u001b[39;00m\u001b[38;5;250m \u001b[39m\u001b[34mrepeat\u001b[39m(a, repeats, axis=\u001b[38;5;28;01mNone\u001b[39;00m):\n\u001b[32m    464\u001b[39m \u001b[38;5;250m    \u001b[39m\u001b[33;03m\"\"\"\u001b[39;00m\n\u001b[32m    465\u001b[39m \u001b[33;03m    Repeat each element of an array after themselves\u001b[39;00m\n\u001b[32m    466\u001b[39m \n\u001b[32m   (...)\u001b[39m\u001b[32m    504\u001b[39m \n\u001b[32m    505\u001b[39m \u001b[33;03m    \"\"\"\u001b[39;00m\n\u001b[32m--> \u001b[39m\u001b[32m506\u001b[39m     \u001b[38;5;28;01mreturn\u001b[39;00m \u001b[43m_wrapfunc\u001b[49m\u001b[43m(\u001b[49m\u001b[43ma\u001b[49m\u001b[43m,\u001b[49m\u001b[43m \u001b[49m\u001b[33;43m'\u001b[39;49m\u001b[33;43mrepeat\u001b[39;49m\u001b[33;43m'\u001b[39;49m\u001b[43m,\u001b[49m\u001b[43m \u001b[49m\u001b[43mrepeats\u001b[49m\u001b[43m,\u001b[49m\u001b[43m \u001b[49m\u001b[43maxis\u001b[49m\u001b[43m=\u001b[49m\u001b[43maxis\u001b[49m\u001b[43m)\u001b[49m\n",
      "\u001b[36mFile \u001b[39m\u001b[32mc:\\Users\\laila\\AppData\\Local\\Programs\\Python\\Python313\\Lib\\site-packages\\numpy\\_core\\fromnumeric.py:57\u001b[39m, in \u001b[36m_wrapfunc\u001b[39m\u001b[34m(obj, method, *args, **kwds)\u001b[39m\n\u001b[32m     54\u001b[39m     \u001b[38;5;28;01mreturn\u001b[39;00m _wrapit(obj, method, *args, **kwds)\n\u001b[32m     56\u001b[39m \u001b[38;5;28;01mtry\u001b[39;00m:\n\u001b[32m---> \u001b[39m\u001b[32m57\u001b[39m     \u001b[38;5;28;01mreturn\u001b[39;00m \u001b[43mbound\u001b[49m\u001b[43m(\u001b[49m\u001b[43m*\u001b[49m\u001b[43margs\u001b[49m\u001b[43m,\u001b[49m\u001b[43m \u001b[49m\u001b[43m*\u001b[49m\u001b[43m*\u001b[49m\u001b[43mkwds\u001b[49m\u001b[43m)\u001b[49m\n\u001b[32m     58\u001b[39m \u001b[38;5;28;01mexcept\u001b[39;00m \u001b[38;5;167;01mTypeError\u001b[39;00m:\n\u001b[32m     59\u001b[39m     \u001b[38;5;66;03m# A TypeError occurs if the object does have such a method in its\u001b[39;00m\n\u001b[32m     60\u001b[39m     \u001b[38;5;66;03m# class, but its signature is not identical to that of NumPy's. This\u001b[39;00m\n\u001b[32m   (...)\u001b[39m\u001b[32m     64\u001b[39m     \u001b[38;5;66;03m# Call _wrapit from within the except clause to ensure a potential\u001b[39;00m\n\u001b[32m     65\u001b[39m     \u001b[38;5;66;03m# exception has a traceback chain.\u001b[39;00m\n\u001b[32m     66\u001b[39m     \u001b[38;5;28;01mreturn\u001b[39;00m _wrapit(obj, method, *args, **kwds)\n",
      "\u001b[31mMemoryError\u001b[39m: Unable to allocate 6.16 PiB for an array with shape (6933003499618560,) and data type int8"
     ]
    }
   ],
   "source": [
    "df_graph=merged.groupby(['periods', 'relaType_concat', 'uriOrg_x', 'labelOrg_x', 'orgMainType_x',  \n",
    "                         'uriOrg_y', 'labelOrg_y', 'orgMainType_y'],\n",
    "               as_index=False)\\\n",
    "    .agg({'labelPer': '|'.join, 'uriPer': '|'.join})\n",
    "\n",
    "df_graph['number'] = df_graph.labelPer.apply(lambda x : len(x.split('|')))\n"
   ]
  },
  {
   "cell_type": "code",
   "execution_count": null,
   "metadata": {},
   "outputs": [],
   "source": [
    "print(len(df_graph))\n",
    "df_graph.sort_values('number',ascending=False).head()\n"
   ]
  },
  {
   "cell_type": "markdown",
   "metadata": {},
   "source": [
    "### Explore contingency table of relationship pairs to periods"
   ]
  },
  {
   "cell_type": "code",
   "execution_count": null,
   "metadata": {},
   "outputs": [],
   "source": [
    "\n",
    "\n",
    "### Contingency table\n",
    "X = 'periods'\n",
    "Y = 'relaType_concat'  \n",
    "\n",
    "ddf = df_graph[[X,Y]].pivot_table(index=Y,columns=X,observed=True, aggfunc=len,margins=True,margins_name=\"Total\").fillna(0).astype(int)\n",
    "ddf\n",
    "\n"
   ]
  },
  {
   "cell_type": "code",
   "execution_count": null,
   "metadata": {},
   "outputs": [],
   "source": [
    "ct_wm = ddf.iloc[:-1,:-1].copy(deep=True)"
   ]
  },
  {
   "cell_type": "code",
   "execution_count": null,
   "metadata": {},
   "outputs": [],
   "source": [
    "### We observe a relationship between these two variables, \n",
    "# not so strong \n",
    "bivariee_stats(ct_wm)"
   ]
  },
  {
   "cell_type": "code",
   "execution_count": null,
   "metadata": {},
   "outputs": [],
   "source": [
    "pp = plot_chi2_residuals(ct_wm, figsize=(8, 4))"
   ]
  },
  {
   "cell_type": "markdown",
   "metadata": {},
   "source": [
    "## Graph analysis\n",
    "\n",
    "\n",
    "We will explore some aspects of the relationships:\n",
    "\n",
    "* which organisations are connected through education, but this only at the level of universities, not earlier education stages\n",
    "* in the same perspective (same kind of relations), we will explore memberships and employments, keeping them separated\n",
    "* we will then ask what appears regarding the relationship between employment and membership\n",
    "* we finally inspect if some kind of educational institutions (at unversity level) lead to specific employments or memberships.\n",
    "\n",
    "\n",
    "\n",
    "\n"
   ]
  },
  {
   "cell_type": "markdown",
   "metadata": {},
   "source": [
    "### Organisations connected through higher education"
   ]
  },
  {
   "cell_type": "code",
   "execution_count": null,
   "metadata": {},
   "outputs": [],
   "source": [
    "pprint.pprint(sorted(df_mainTypes.mainType.to_list()))"
   ]
  },
  {
   "cell_type": "code",
   "execution_count": null,
   "metadata": {},
   "outputs": [],
   "source": [
    "types_list=['university', 'public university', 'private university']"
   ]
  },
  {
   "cell_type": "code",
   "execution_count": null,
   "metadata": {},
   "outputs": [],
   "source": [
    "df_edu_graph = df_graph[(df_graph.relaType_concat == 'education_education') \\\n",
    "                     & (df_graph.orgMainType_x.isin(types_list)) \\\n",
    "                     & (df_graph.orgMainType_y.isin(types_list))  ]\n",
    "\n",
    "print(len(df_edu_graph))\n",
    "df_edu_graph.iloc[:2]"
   ]
  },
  {
   "cell_type": "code",
   "execution_count": null,
   "metadata": {},
   "outputs": [],
   "source": [
    "df_edu_graph.sort_values(by='number',ascending=False).iloc[:2]"
   ]
  },
  {
   "cell_type": "code",
   "execution_count": null,
   "metadata": {},
   "outputs": [],
   "source": [
    "### Number of relationships by period\n",
    "print(df_edu_graph.groupby('periods').size())"
   ]
  },
  {
   "cell_type": "markdown",
   "metadata": {},
   "source": [
    "### Inspect a specific period"
   ]
  },
  {
   "cell_type": "code",
   "execution_count": null,
   "metadata": {},
   "outputs": [],
   "source": [
    "p = '1881-1910' #'1851-1880' #'1911-1940'"
   ]
  },
  {
   "cell_type": "code",
   "execution_count": null,
   "metadata": {},
   "outputs": [],
   "source": [
    "df_edu_graph_p = df_edu_graph[(df_edu_graph.periods==p)]\n",
    "df_edu_graph_p.sort_values(by='number',ascending=False).head(2)"
   ]
  },
  {
   "cell_type": "code",
   "execution_count": null,
   "metadata": {},
   "outputs": [],
   "source": [
    "l = [(\n",
    "    e['uriOrg_x'], e['uriOrg_y'],\n",
    "    {\n",
    "        # No 'uriPer' or 'labelPer' in df_graph\n",
    "        'weight': e['number']\n",
    "    }\n",
    ") for e in df_edu_graph_p.to_dict(orient='records')]\n",
    "print(len(l))"
   ]
  },
  {
   "cell_type": "code",
   "execution_count": null,
   "metadata": {},
   "outputs": [],
   "source": [
    "edu_graph_p=nx.Graph()\n",
    "\n",
    "## Add relationships to graph\n",
    "# Multiple rows between two edges are taken only once\n",
    "edu_graph_p.add_edges_from(l)\n",
    "\n",
    "naf.basic_graph_properties(edu_graph_p)\n",
    "\n",
    "### Create a list of graphs, one per component\n",
    "edu_graph_p_S = [edu_graph_p.subgraph(c).copy() for c in nx.connected_components(edu_graph_p)]\n",
    "\n",
    "### i is the component index in the list S of graphs , len(s.nodes) is the nomber of nodes\n",
    "ln = sorted([[i,len(s.nodes)] for i,s in enumerate(edu_graph_p_S)], key = lambda row: row[1], reverse=True)\n",
    "print(ln[:5])"
   ]
  },
  {
   "cell_type": "code",
   "execution_count": null,
   "metadata": {},
   "outputs": [],
   "source": [
    "### test if second component is significantly smaller \n",
    "# than first\n",
    "if ln[1][1]*20 < ln[0][1]:\n",
    "    print('Just one big component')\n",
    "else :\n",
    "    print('Beware: more than one big component !')    "
   ]
  },
  {
   "cell_type": "code",
   "execution_count": null,
   "metadata": {},
   "outputs": [],
   "source": [
    "### Alternative way with just one graph\n",
    "pG = edu_graph_p_S[0]\n",
    "naf.basic_graph_properties(pG)"
   ]
  },
  {
   "cell_type": "code",
   "execution_count": null,
   "metadata": {},
   "outputs": [],
   "source": [
    "df_orgPeriod.sort_values(by='period_members_number', ascending=False).head(2)"
   ]
  },
  {
   "cell_type": "code",
   "execution_count": null,
   "metadata": {},
   "outputs": [],
   "source": [
    "df_opl = df_orgPeriod[df_orgPeriod.periods==p][['uriOrg', 'labelOrg', 'period_members_number']]\n",
    "df_opl.columns=['uri', 'label', 'membersNumber']\n",
    "df_opl.head()\n"
   ]
  },
  {
   "cell_type": "code",
   "execution_count": null,
   "metadata": {},
   "outputs": [],
   "source": [
    "### Prepare data to add to nodes\n",
    "ln = dict([(e['uri'],\n",
    "     {'label':e['label'], 'mainType':e['mainType'],\n",
    "                        'membersNumber':e['membersNumber']}\n",
    "     ) for e in df_opl.to_dict(orient='records')])\n",
    "## Add attributes\n",
    "nx.set_node_attributes(pG, ln)\n",
    "pprint.pprint(list(pG.nodes.data())[:2])\n"
   ]
  },
  {
   "cell_type": "code",
   "execution_count": null,
   "metadata": {},
   "outputs": [],
   "source": [
    "mn_s = pd.Series([n[1]['mainType'] for n in pG.nodes.data()])\n",
    "print(mn_s.groupby(by=mn_s).size().sort_values(ascending=False))"
   ]
  },
  {
   "cell_type": "markdown",
   "metadata": {},
   "source": [
    "####  Create dataframe and inspect node properties"
   ]
  },
  {
   "cell_type": "code",
   "execution_count": null,
   "metadata": {},
   "outputs": [],
   "source": [
    "### Eigenvector\n",
    "le = list(nx.eigenvector_centrality(pG, \n",
    "                        max_iter=200, weight='weight').items())\n",
    "nx.set_node_attributes(pG, dict(le), 'eigenvector')\n",
    "pprint.pprint(list(pG.nodes.data())[:1])"
   ]
  },
  {
   "cell_type": "code",
   "execution_count": null,
   "metadata": {},
   "outputs": [],
   "source": [
    "### Betweenness\n",
    "lb = list(nx.betweenness_centrality(pG, weight='weight').items())\n",
    "nx.set_node_attributes(pG, dict(lb), 'betweenness')\n",
    "pprint.pprint(list(pG.nodes.data())[:1])\n"
   ]
  },
  {
   "cell_type": "code",
   "execution_count": null,
   "metadata": {},
   "outputs": [],
   "source": [
    "### Export node attributes to dataframe\n",
    "nodes_data ={node: pG.nodes[node] for node in pG.nodes}\n",
    "nodes_df = pd.DataFrame(nodes_data).T\n",
    "nodes_df.reset_index(inplace=True, names='id')\n",
    "nodes_df.head(2)\n"
   ]
  },
  {
   "cell_type": "code",
   "execution_count": null,
   "metadata": {},
   "outputs": [],
   "source": [
    "df_mainTypes"
   ]
  },
  {
   "cell_type": "code",
   "execution_count": null,
   "metadata": {},
   "outputs": [],
   "source": [
    "### exclude less relevant or dirty classifications\n",
    "lt=[t for t in df_mainTypes.mainType.to_list()\n",
    "                if ('educat' not in t)  & ('classif' not in t)]\n",
    "pprint.pprint(lt)"
   ]
  },
  {
   "cell_type": "code",
   "execution_count": null,
   "metadata": {},
   "outputs": [],
   "source": [
    "### source\n",
    "# https://phrogz.net/css/distinct-colors.html\n",
    "col_l = [c.strip() for c in '#ff0066, #0000ff, #00aaff,#beb6f2, #b6e6f2, #e6f2b6, #f2b6b6,#2d50b3, #ccff00, #8c005e, #8c8300'.split(',')]\n",
    "print(col_l)"
   ]
  },
  {
   "cell_type": "code",
   "execution_count": null,
   "metadata": {},
   "outputs": [],
   "source": [
    "col_list= [e for e in zip(lt, col_l)]\n",
    "print(col_list)"
   ]
  },
  {
   "cell_type": "code",
   "execution_count": null,
   "metadata": {},
   "outputs": [],
   "source": [
    "color_map=dict([(c[0], (c[1])) for c in col_list])\n",
    "pprint.pprint(color_map)"
   ]
  },
  {
   "cell_type": "code",
   "execution_count": null,
   "metadata": {},
   "outputs": [],
   "source": [
    "### Manually modified list\n",
    "color_map = {'academy of sciences': '#00aaff',\n",
    " 'astronomical observatory': '#8c005e',\n",
    " 'company or gov. agency': '#ccff00',\n",
    " 'institute of technology': '#f2b6b6',\n",
    " 'learned society': '#ff0066',\n",
    " 'private university': '#ffcc00',\n",
    " 'public university': '#8c8300',\n",
    " 'research facility': '#d90000',\n",
    " 'research organisation': '#beb6f2',\n",
    " 'scientific organisation': '#2d50b3',\n",
    " 'university': '#b6e6f2'}"
   ]
  },
  {
   "cell_type": "code",
   "execution_count": null,
   "metadata": {},
   "outputs": [],
   "source": [
    "\n",
    "fig = plt.figure(figsize=(3,3))\n",
    "\n",
    "\n",
    "### Create lists of colors and labels\n",
    "colors = [color_map.keys()]\n",
    " \n",
    "\n",
    "plt.legend(handles=[plt.Line2D([0], [0], marker='o', color='w', \n",
    "                            label=label, markerfacecolor=color, \n",
    "                            markersize=8, alpha=0.6\n",
    "                            ) for label, color in color_map.items() ],\n",
    "                            loc='upper left', fontsize=8)\n",
    "plt.tight_layout() # rect=[0,0,0.8,1]\n",
    "\n",
    "plt.title('Couleurs')\n",
    "\n",
    "plt.show()"
   ]
  },
  {
   "cell_type": "code",
   "execution_count": null,
   "metadata": {},
   "outputs": [],
   "source": [
    "### Create a function that plots the comparison between values and properties\n",
    "\n",
    "def compare_with_scatter_plot(dataframe, value_1, value_2, point_column,point_ratio=1, \n",
    "                              c_category='', color_map='', figsize=(12,12), \n",
    "                              legend_loc='upper right',title='', \n",
    "                              n_label ='', label_cut_value=''):\n",
    "\n",
    "    ### https://matplotlib.org/stable/api/_as_gen/matplotlib.pyplot.scatter.html\n",
    "    # Different colors per class : https://vitalflux.com/python-scatter-plot-different-classes/\n",
    "    # Legend : https://matplotlib.org/stable/api/_as_gen/matplotlib.pyplot.legend.html\n",
    "    # Labels : https://stackoverflow.com/questions/14432557/matplotlib-scatter-plot-with-different-text-at-each-data-point\n",
    "\n",
    "\n",
    "\n",
    "    df=dataframe\n",
    "    # df_extr=nodes_df[nodes_df.betweenness > 0].sort_values(by='betweenness', ascending=False)\n",
    "\n",
    "    alpha=0.7\n",
    "\n",
    "    ### Manage point colors:\n",
    "    # https://kanoki.org/2020/08/30/matplotlib-scatter-plot-color-by-category-in-python/\n",
    "\n",
    "    plt.figure(figsize=figsize)\n",
    "\n",
    "\n",
    "    ### Create lists of colors and labels\n",
    "    colors = [color_map[category] for category in df[c_category]]\n",
    " \n",
    "\n",
    "\n",
    "\n",
    "    ax = plt.scatter(df[value_1],\n",
    "                df[value_2],\n",
    "            marker='o',\n",
    "            s = [v*point_ratio for i,v in df[point_column].items()],\n",
    "            color=colors,        \n",
    "            alpha=alpha)\n",
    "    plt.xlabel(value_1.capitalize())\n",
    "    plt.ylabel(value_2.capitalize())\n",
    "\n",
    "\n",
    "\n",
    "\n",
    "\n",
    "\n",
    "    ### Labels\n",
    "    test_v1 = df[value_1].quantile([0.97]).item()\n",
    "    test_v2 = df[value_2].quantile([0.95]).item()\n",
    "    print(test_v1,test_v2)\n",
    "\n",
    "\n",
    "    if len(n_label)>0:\n",
    "        for i,row in list(df.loc[(df[value_1]>test_v1)|(df[value_2]>test_v2)]\\\n",
    "                          [[n_label,value_1,value_2]].iterrows()):\n",
    "            plt.annotate(row[n_label][:30],(row[value_1], row[value_2]), fontsize=6)\n",
    "\n",
    "    plt.legend(handles=[plt.Line2D([0], [0], marker='o', color='w', \n",
    "                            label=label, markerfacecolor=color, \n",
    "                            markersize=8, alpha=alpha\n",
    "                            ) for label, color in color_map.items() \n",
    "                                    if label in types_list ],\n",
    "                            loc=legend_loc, fontsize=8)\n",
    "    plt.tight_layout() # rect=[0,0,0.8,1]\n",
    "\n",
    "    plt.title(title)\n",
    "\n",
    "    # plt.savefig('plots/revenus_eigenvector_20210526.jpg')\n",
    "    plt.show()"
   ]
  },
  {
   "cell_type": "code",
   "execution_count": null,
   "metadata": {},
   "outputs": [],
   "source": [
    "compare_with_scatter_plot(nodes_df, 'eigenvector', 'betweenness', 'membersNumber', \n",
    "                          point_ratio=3, c_category='mainType',\n",
    "                          color_map=color_map, figsize=(8,8), \n",
    "                          legend_loc='lower right', \n",
    "                          title='Eigenvector vs betweenness, with number of persons', \n",
    "                          n_label='label', label_cut_value='membersNumber' )\n",
    "\n",
    "corr_spear = nodes_df[['eigenvector', 'betweenness']].corr(method=\"spearman\")\n",
    "print(\"Spearman's rank correlation: {}\".format(corr_spear.iloc[0,1]))"
   ]
  },
  {
   "cell_type": "code",
   "execution_count": null,
   "metadata": {},
   "outputs": [],
   "source": [
    "list(nodes_df.columns)"
   ]
  },
  {
   "cell_type": "code",
   "execution_count": null,
   "metadata": {},
   "outputs": [],
   "source": [
    "print('Betweenness')\n",
    "pprint.pprint((nodes_df.sort_values(by='betweenness', ascending=False)[['label', 'mainType', 'membersNumber']].head(7)))\n",
    "print('\\n-----\\nEigenvector')\n",
    "pprint.pprint((nodes_df.sort_values(by='eigenvector', ascending=False)[['label', 'mainType', 'membersNumber']].head(7)))"
   ]
  },
  {
   "cell_type": "code",
   "execution_count": null,
   "metadata": {},
   "outputs": [],
   "source": []
  },
  {
   "cell_type": "markdown",
   "metadata": {},
   "source": [
    "#### Plot graph"
   ]
  },
  {
   "cell_type": "code",
   "execution_count": null,
   "metadata": {},
   "outputs": [],
   "source": [
    "pict_addr = 'images/organisations/edu_edu_' + p +'.svg'\n",
    "print(pict_addr)"
   ]
  },
  {
   "cell_type": "code",
   "execution_count": null,
   "metadata": {},
   "outputs": [],
   "source": [
    "### Plot the graph\n",
    "\n",
    "g = pG\n",
    "# n_size = np.log(np.sqrt(nx.number_of_nodes(g)))* 25 #*25\n",
    "n_size = np.log(nx.number_of_nodes(g))*10\n",
    "\n",
    "graph_layout = 'spring_layout'\n",
    "n_k = np.log(nx.number_of_nodes(g))/20 #2.5\n",
    "\n",
    "### Define the layout, i.e. the choice \n",
    "# of the algorithm for the representation of the graph.\n",
    "\n",
    "if graph_layout == 'fruchterman_reingold':\n",
    "    pos = nx.fruchterman_reingold_layout(g)\n",
    "elif graph_layout == 'kamada_kawai':\n",
    "    pos = nx.kamada_kawai_layout(g)\n",
    "elif graph_layout == 'spring_layout':\n",
    "    pos = nx.spring_layout(g, k = n_k)  \n",
    "else:\n",
    "    pos = nx.kamada_kawai_layout(g)\n",
    "\n",
    "# https://networkx.org/documentation/stable/reference/drawing.html\n",
    "plt.figure(figsize = (n_size,n_size))\n",
    "\n",
    "node_size = [n[1]['membersNumber']*20 for n in g.nodes.data()]\n",
    "#node_size = [d[1]*100 for d in nx.degree(g)]\n",
    "node_colors= [color_map[n[1]['mainType']] for n in g.nodes.data()]\n",
    "\n",
    "edge_size = [e[2]['weight'] for e in g.edges.data()]\n",
    "edge_labels = {e: g.get_edge_data(e[0], e[1])[\"weight\"] for e in g.edges()}\n",
    "\n",
    "node_labels = dict([tuple(( n[0] , n[1]['label'] )) for n in g.nodes.data()])\n",
    "\n",
    "\n",
    "nx.draw_networkx_nodes(g, pos, node_size=node_size, node_color=node_colors, alpha=0.6)\n",
    "nx.draw_networkx_edges(g, pos, width=edge_size, alpha=0.02) # edgelist=ln, edge_color=c, \n",
    "nx.draw_networkx_labels(g, pos, labels=node_labels, alpha=0.7, font_size=10)\n",
    "#nx.draw_networkx_edge_labels(g, pos, edge_labels=edge_labels, alpha=0.7, font_size=10)\n",
    "\n",
    "alpha_n=0.5\n",
    "\n",
    "plt.legend(handles=[plt.Line2D([0], [0], marker='o', color='w', \n",
    "                        label=label, markerfacecolor=color, \n",
    "                        markersize=12, alpha=alpha_n\n",
    "                        )\n",
    "                        for label, color in color_map.items()\n",
    "                        if label in types_list ],\n",
    "                        loc='lower right', fontsize=12)\n",
    "\n",
    "\n",
    "### On peut augmenter ou diminuer ce paramètre pour ajuster le graphe\n",
    "plt.tight_layout(pad=60)\n",
    "pict_addr = pict_addr\n",
    "plt.savefig(pict_addr)\n",
    "#plt.show()\n",
    "plt.close()\n"
   ]
  },
  {
   "cell_type": "markdown",
   "metadata": {},
   "source": [
    "### Communitites"
   ]
  },
  {
   "cell_type": "code",
   "execution_count": null,
   "metadata": {},
   "outputs": [],
   "source": [
    "l_communities = [(c, len(c)) for c in list(nx.community.louvain_communities(pG, resolution=0.7, weight='weight'))]\n",
    "print( len(l_communities))\n",
    "sl_communities = sorted(l_communities, key=lambda x: x[1], reverse=True)\n",
    "print([c[1] for c in sl_communities])\n",
    "print(sl_communities[-1:])\n"
   ]
  },
  {
   "cell_type": "code",
   "execution_count": null,
   "metadata": {},
   "outputs": [],
   "source": [
    "for i in range(0,5):\n",
    "   print('\\n\\nCommunity '+ str(i), '\\nBetweenness')\n",
    "   pprint.pprint((nodes_df[nodes_df.id.isin(list(sl_communities[i][0])) ].sort_values(by='betweenness', ascending=False)[['label', 'mainType', 'membersNumber']].head(4)))\n",
    "   print('\\n-----\\nEigenvector')\n",
    "   pprint.pprint((nodes_df[nodes_df.id.isin(list(sl_communities[i][0])) ].sort_values(by='eigenvector', ascending=False)[['label', 'mainType', 'membersNumber']].head(4)))\n"
   ]
  },
  {
   "cell_type": "markdown",
   "metadata": {},
   "source": [
    "#### Plot communitites graph"
   ]
  },
  {
   "cell_type": "code",
   "execution_count": null,
   "metadata": {},
   "outputs": [],
   "source": [
    "pict_addr_comm = 'images/organisations/edu_edu_communities_' + p +'.svg'\n",
    "print(pict_addr_comm)"
   ]
  },
  {
   "cell_type": "code",
   "execution_count": null,
   "metadata": {},
   "outputs": [],
   "source": [
    "### Plot the graph\n",
    "\n",
    "g = pG\n",
    "# n_size = np.log(np.sqrt(nx.number_of_nodes(g)))* 25 #*25\n",
    "n_size = np.log(nx.number_of_nodes(g))*10\n",
    "\n",
    "graph_layout = 'spring_layout'\n",
    "n_k = np.log(nx.number_of_nodes(g))/20 #2.5\n",
    "\n",
    "### Define the layout, i.e. the choice \n",
    "# of the algorithm for the representation of the graph.\n",
    "\n",
    "if graph_layout == 'fruchterman_reingold':\n",
    "    pos = nx.fruchterman_reingold_layout(g)\n",
    "elif graph_layout == 'kamada_kawai':\n",
    "    pos = nx.kamada_kawai_layout(g)\n",
    "elif graph_layout == 'spring_layout':\n",
    "    pos = nx.spring_layout(g, k = n_k)  \n",
    "else:\n",
    "    pos = nx.kamada_kawai_layout(g)\n",
    "\n",
    "# https://networkx.org/documentation/stable/reference/drawing.html\n",
    "plt.figure(figsize = (n_size,n_size))\n",
    "\n",
    "node_size = [n[1]['membersNumber']*20 for n in g.nodes.data()]\n",
    "#node_size = [d[1]*100 for d in nx.degree(g)]\n",
    "\n",
    "node_colors = []\n",
    "for n in g.nodes.data():\n",
    "    if n[0] in list(sl_communities[0][0]):\n",
    "        node_colors.append('red')\n",
    "    elif n[0] in list(sl_communities[1][0]):\n",
    "        node_colors.append('blue')\n",
    "    elif n[0] in list(sl_communities[2][0]):\n",
    "        node_colors.append('green')\n",
    "    elif n[0] in list(sl_communities[3][0]):\n",
    "        node_colors.append('orange')\n",
    "    elif n[0] in list(sl_communities[4][0]):\n",
    "        node_colors.append('maroon')\n",
    "    else:\n",
    "        node_colors.append('lightGrey')        \n",
    "\n",
    "\n",
    "edge_size = [e[2]['weight'] for e in g.edges.data()]\n",
    "edge_labels = {e: g.get_edge_data(e[0], e[1])[\"weight\"] for e in g.edges()}\n",
    "\n",
    "node_labels = dict([tuple(( n[0] , n[1]['label'] )) for n in g.nodes.data()])\n",
    "\n",
    "\n",
    "nx.draw_networkx_nodes(g, pos, node_size=node_size, node_color=node_colors, alpha=0.6)\n",
    "nx.draw_networkx_edges(g, pos, width=edge_size, alpha=0.02) # edgelist=ln, edge_color=c, \n",
    "nx.draw_networkx_labels(g, pos, labels=node_labels, alpha=0.7, font_size=10)\n",
    "#nx.draw_networkx_edge_labels(g, pos, edge_labels=edge_labels, alpha=0.7, font_size=10)\n",
    "\n",
    "alpha_n=0.5\n",
    "\n",
    "\n",
    "\n",
    "### On peut augmenter ou diminuer ce paramètre pour ajuster le graphe\n",
    "plt.tight_layout(pad=60)\n",
    "pict_addr = pict_addr_comm\n",
    "plt.savefig(pict_addr)\n",
    "#plt.show()\n",
    "plt.close()\n"
   ]
  },
  {
   "cell_type": "markdown",
   "metadata": {},
   "source": [
    "## Create general function"
   ]
  },
  {
   "cell_type": "code",
   "execution_count": null,
   "metadata": {},
   "outputs": [],
   "source": [
    "def generate_report_and_plots(df, concatRelaType, type_list, doc_addr, df_orgPeriod):\n",
    "\n",
    "    with open(doc_addr, \"w\") as myfile:\n",
    "        myfile.write('# Report for relations: ' + concatRelaType + '\\n')\n",
    "\n",
    "\n",
    "    df_g = df[(df.relaType_concat == concatRelaType) \\\n",
    "                     & (df.orgMainType_x.isin(type_list)) \\\n",
    "                     & (df.orgMainType_y.isin(type_list))  ]\n",
    "\n",
    "    txt = str(df_g.groupby('periods').size())\n",
    "\n",
    "    with open(doc_addr, \"a\") as myfile:\n",
    "        myfile.write('\\n'+txt + '\\n')\n",
    "\n",
    "    for p in df_g['periods'].unique():\n",
    "        print(str(p))   \n",
    "\n",
    "        with open(doc_addr, \"a\") as myfile:\n",
    "            myfile.write('\\n\\n\\n## Values for ' + p + '\\n')\n",
    "\n",
    "        df_g_p = df_g[df_g.periods==p]\n",
    "        \n",
    "        with open(doc_addr, \"a\") as myfile:\n",
    "            myfile.write('\\nNumber of relationships for this period ' + str(len(df_g_p)) + '\\n')\n",
    "        \n",
    "        l = [tuple(\n",
    "            (e['uriOrg_x'], e['uriOrg_y'],\n",
    "            {'uriPers':e['uriPer'], 'labelPers':e['labelPer'],\n",
    "            ## the weight ist the number of persons in this relationship\n",
    "            'weight':e['number']}\n",
    "            )) \n",
    "            for e in df_g_p.to_dict(orient='records')]\n",
    "        \n",
    "        graph_p=nx.Graph()\n",
    "        graph_p.add_edges_from(l)\n",
    "\n",
    "        txt = 'Number of nodes: ' + str(graph_p.number_of_nodes())+\\\n",
    "                '\\nNumber of edges: ' + str(graph_p.number_of_edges())\n",
    "        with open(doc_addr, \"a\") as myfile:\n",
    "                    myfile.write('\\n'+ txt  + '\\n')\n",
    "\n",
    "        ### Components\n",
    "        graph_p_S = [graph_p.subgraph(c).copy() \n",
    "                     for c in nx.connected_components(graph_p)]\n",
    "\n",
    "        ln = sorted([[i,len(s.nodes)] for i,s in enumerate(graph_p_S)], key = lambda row: row[1], reverse=True)\n",
    "        try:\n",
    "            if ln[1][1]*20 < ln[0][1]:\n",
    "                with open(doc_addr, \"a\") as myfile:\n",
    "                    myfile.write('\\nJust one big component with ' + str(graph_p_S[0].number_of_nodes()) + ' nodes\\n')            \n",
    "            else :\n",
    "                with open(doc_addr, \"a\") as myfile:\n",
    "                    myfile.write('\\nBeware: more than one big component !'  + '\\n')\n",
    "        except Exception as e:\n",
    "             print(e)            \n",
    "            \n",
    "        ### Alternative way with just one graph\n",
    "        pG = graph_p_S[0]\n",
    "\n",
    "        txt = 'Number of nodes for first component: ' + str(pG.number_of_nodes())+\\\n",
    "                '\\nNumber of edges for first component: ' + str(pG.number_of_edges())\n",
    "        with open(doc_addr, \"a\") as myfile:\n",
    "                    myfile.write('\\n'+ txt  + '\\n')\n",
    "\n",
    "        ### No treatment for smaller graphs\n",
    "        if int(pG.number_of_nodes()) > 30:\n",
    "\n",
    "            ### Prepare data to add to nodes\n",
    "\n",
    "            df_opl = df_orgPeriod[df_orgPeriod.periods==p][['uriOrg', 'labelOrg', 'orgMainType', 'period_members_number']]\n",
    "            df_opl.columns=['uri', 'label', 'mainType', 'membersNumber']\n",
    "\n",
    "            ln = dict([(e['uri'],\n",
    "                {'label':e['label'], 'mainType':e['mainType'],\n",
    "                                    'membersNumber':e['membersNumber']}\n",
    "                ) for e in df_opl.to_dict(orient='records')])\n",
    "            ## Add attributes\n",
    "            nx.set_node_attributes(pG, ln)\n",
    "\n",
    "            mn_s = pd.Series([n[1]['mainType'] for n in pG.nodes.data()])\n",
    "            txt= str(list(mn_s.groupby(by=mn_s).size().sort_values(ascending=False).items()))\n",
    "            with open(doc_addr, \"a\") as myfile:\n",
    "                    myfile.write('\\n'+ txt  + '\\n')\n",
    "\n",
    "            ### Eigenvector\n",
    "            try:\n",
    "                le = list(nx.eigenvector_centrality(pG, \n",
    "                                        max_iter=1000, weight='weight').items())\n",
    "            except Exception as e:\n",
    "                print(e)    \n",
    "            nx.set_node_attributes(pG, dict(le), 'eigenvector')   \n",
    "\n",
    "            ### Betweenness\n",
    "            lb = list(nx.betweenness_centrality(pG, weight='weight').items())\n",
    "            nx.set_node_attributes(pG, dict(lb), 'betweenness')\n",
    "\n",
    "\n",
    "            ### Export node attributes to dataframe\n",
    "            nodes_data ={node: pG.nodes[node] for node in pG.nodes}\n",
    "            nodes_df = pd.DataFrame(nodes_data).T\n",
    "            nodes_df.reset_index(inplace=True, names='id')\n",
    "\n",
    "            corr_spear = nodes_df[['eigenvector', 'betweenness']].corr(method=\"spearman\")\n",
    "            txt = \"Spearman's rank correlation of eidenvector and betweenness: {}\".format(corr_spear.iloc[0,1])\n",
    "            with open(doc_addr, \"a\") as myfile:\n",
    "                    myfile.write('\\n'+ txt  + '\\n')\n",
    "\n",
    "            txt = 'Eigenvector\\n' + \\\n",
    "                str(nodes_df.sort_values(by='eigenvector', ascending=False)[['label', 'mainType', 'membersNumber']].head(7) )+\\\n",
    "                '\\n-----\\nBetweenness'+\\\n",
    "                str(nodes_df.sort_values(by='betweenness', ascending=False)[['label', 'mainType', 'membersNumber']].head(7))\n",
    "            with open(doc_addr, \"a\") as myfile:\n",
    "                    myfile.write('\\n'+ txt  + '\\n')\n",
    "\n",
    "\n",
    "            pict_addr = 'images/organisations/' + concatRelaType + '_' + p +'.svg'        \n",
    "\n",
    "\n",
    "            ### Plot the graph\n",
    "            g = pG\n",
    "            # n_size = np.log(np.sqrt(nx.number_of_nodes(g)))* 25 #*25\n",
    "            n_size = np.log(nx.number_of_nodes(g))*10\n",
    "\n",
    "            graph_layout = 'spring_layout'\n",
    "            n_k = np.log(nx.number_of_nodes(g))/20 #2.5\n",
    "\n",
    "            ### Define the layout, i.e. the choice \n",
    "            # of the algorithm for the representation of the graph.\n",
    "\n",
    "            if graph_layout == 'fruchterman_reingold':\n",
    "                pos = nx.fruchterman_reingold_layout(g)\n",
    "            elif graph_layout == 'kamada_kawai':\n",
    "                pos = nx.kamada_kawai_layout(g)\n",
    "            elif graph_layout == 'spring_layout':\n",
    "                pos = nx.spring_layout(g, k = n_k)  \n",
    "            else:\n",
    "                pos = nx.kamada_kawai_layout(g)\n",
    "\n",
    "            # https://networkx.org/documentation/stable/reference/drawing.html\n",
    "            plt.figure(figsize = (n_size,n_size))\n",
    "\n",
    "            node_size = [n[1]['membersNumber']*20 for n in g.nodes.data()]\n",
    "            #node_size = [d[1]*100 for d in nx.degree(g)]\n",
    "            #node_colors= [color_map[n[1]['mainType']] for n in g.nodes.data()]\n",
    "\n",
    "            edge_size = [e[2]['weight'] for e in g.edges.data()]\n",
    "            edge_labels = {e: g.get_edge_data(e[0], e[1])[\"weight\"] for e in g.edges()}\n",
    "\n",
    "            node_labels = dict([tuple(( n[0] , n[1]['label'] )) for n in g.nodes.data()])\n",
    "\n",
    "\n",
    "            nx.draw_networkx_nodes(g, pos, node_size=node_size, node_color='blue', alpha=0.6)\n",
    "            nx.draw_networkx_edges(g, pos, width=edge_size, alpha=0.02) # edgelist=ln, edge_color=c, \n",
    "            nx.draw_networkx_labels(g, pos, labels=node_labels, alpha=0.7, font_size=10)\n",
    "            #nx.draw_networkx_edge_labels(g, pos, edge_labels=edge_labels, alpha=0.7, font_size=10)\n",
    "\n",
    "            alpha_n=0.5\n",
    "\n",
    "            plt.legend(handles=[plt.Line2D([0], [0], marker='o', color='w', \n",
    "                                    label=label, markerfacecolor=color, \n",
    "                                    markersize=8, alpha=alpha_n\n",
    "                                    )\n",
    "                                    for label, color in color_map.items()],\n",
    "                                    loc='lower right', fontsize=8)\n",
    "\n",
    "\n",
    "            ### On peut augmenter ou diminuer ce paramètre pour ajuster le graphe\n",
    "            plt.tight_layout(pad=60)\n",
    "            pict_addr = pict_addr\n",
    "            plt.savefig(pict_addr)\n",
    "            #plt.show()\n",
    "            plt.close()\n",
    "\n",
    "\n",
    "            ### Identify communitites\n",
    "            l_communities = [(c, len(c)) for c in list(nx.community.louvain_communities(pG, resolution=0.7, weight='weight'))]\n",
    "            sl_communities = sorted(l_communities, key=lambda x: x[1], reverse=True)\n",
    "            txt= 'Number of communitites: ' + str(len(l_communities)) +\\\n",
    "                    '\\nNumber of nodes per community: ' + str([c[1] for c in sl_communities])\n",
    "            with open(doc_addr, \"a\") as myfile:\n",
    "                myfile.write('\\n'+ txt  + '\\n')\n",
    "\n",
    "            communities_print = 'Communities: \\n'\n",
    "            try:\n",
    "                for i in range(0,5):\n",
    "                    communities_print += '\\n\\nCommunity '+ str(i) + '\\nBetweenness'\n",
    "                    communities_print += str(nodes_df[nodes_df.id.isin(list(sl_communities[i][0])) ]\\\n",
    "                                                .sort_values(by='betweenness', ascending=False)[['label', 'mainType', 'membersNumber']].head(5).to_markdown())\n",
    "                    communities_print += '\\n-----\\nEigenvector'\n",
    "                    communities_print += str(nodes_df[nodes_df.id.isin(list(sl_communities[i][0])) ].sort_values(by='eigenvector', ascending=False)[['label', 'mainType', 'membersNumber']].head(5).to_markdown())\n",
    "                with open(doc_addr, \"a\") as myfile:\n",
    "                    myfile.write('\\n'+ communities_print  + '\\n')\n",
    "            except Exception as e:\n",
    "                 print(e)        \n",
    "\n",
    "        else:\n",
    "            print('Too small graph to be analyzed!')        \n"
   ]
  },
  {
   "cell_type": "code",
   "execution_count": null,
   "metadata": {},
   "outputs": [],
   "source": [
    "print(df_mainTypes.mainType.to_list())"
   ]
  },
  {
   "cell_type": "code",
   "execution_count": null,
   "metadata": {},
   "outputs": [],
   "source": [
    "relationship_type = 'education_education'\n",
    "generate_report_and_plots(df_graph, relationship_type,\n",
    "                           ['university','public university','private university'],\n",
    "                           'analysis_doc/'+relationship_type+'.md',\n",
    "                           df_orgPeriod)"
   ]
  },
  {
   "cell_type": "code",
   "execution_count": null,
   "metadata": {},
   "outputs": [],
   "source": [
    "relationship_type = 'membership_membership'\n",
    "generate_report_and_plots(df_graph, relationship_type,\n",
    "                           ['university',\n",
    "                            'public university',\n",
    "                            'academy of sciences',\n",
    "                            'learned society',\n",
    "                            'private university',\n",
    "                            'research organisation',\n",
    "                            'institute of technology',\n",
    "                            'scientific organisation',\n",
    "                            'astronomical observatory',\n",
    "                            'research facility',\n",
    "                            'company',\n",
    "                            'governmenmt agency',\n",
    "                            'publisher_edition'],\n",
    "                           'analysis_doc/'+ relationship_type+'.md',\n",
    "                           df_orgPeriod)"
   ]
  },
  {
   "cell_type": "code",
   "execution_count": null,
   "metadata": {},
   "outputs": [],
   "source": [
    "relationship_type = 'employment_employment'\n",
    "generate_report_and_plots(df_graph, relationship_type,\n",
    "                           ['university',\n",
    "                            'public university',\n",
    "                            'academy of sciences',\n",
    "                            'learned society',\n",
    "                            'private university',\n",
    "                            'research organisation',\n",
    "                            'institute of technology',\n",
    "                            'scientific organisation',\n",
    "                            'astronomical observatory',\n",
    "                            'research facility',\n",
    "                            'company',\n",
    "                            'governmenmt agency',\n",
    "                            'publisher_edition'],\n",
    "                           'analysis_doc/'+ relationship_type+'.md',\n",
    "                           df_orgPeriod)"
   ]
  }
 ],
 "metadata": {
  "kernelspec": {
   "display_name": "Python 3",
   "language": "python",
   "name": "python3"
  },
  "language_info": {
   "codemirror_mode": {
    "name": "ipython",
    "version": 3
   },
   "file_extension": ".py",
   "mimetype": "text/x-python",
   "name": "python",
   "nbconvert_exporter": "python",
   "pygments_lexer": "ipython3",
   "version": "3.13.3"
  }
 },
 "nbformat": 4,
 "nbformat_minor": 2
}
