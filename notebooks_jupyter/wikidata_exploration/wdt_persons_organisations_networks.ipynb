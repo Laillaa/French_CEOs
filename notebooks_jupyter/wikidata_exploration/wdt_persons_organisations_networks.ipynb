{
 "cells": [
  {
   "cell_type": "markdown",
   "metadata": {},
   "source": [
    "# Networks of persons in relation to organisations\n",
    "\n",
    "\n",
    "* Pajek book chapter ...\n",
    "* Cf. [this notebook](https://github.com/Sciences-historiques-numeriques/histoire_numerique_methodes/blob/main/analyse_reseaux/networkx_slicing_with_cores.ipynb) avec simple examples\n",
    "\n"
   ]
  },
  {
   "cell_type": "code",
   "execution_count": 111,
   "metadata": {},
   "outputs": [],
   "source": [
    "### Librairie à installer dans l'environnement conda (si on exécute en local)\n",
    "# qui sera choisi pour exécuter le carnet\n",
    "from SPARQLWrapper import SPARQLWrapper, JSON, TURTLE, XML, RDFXML\n",
    "import pandas as pd\n",
    "\n",
    "\n",
    "import networkx as nx\n",
    "from networkx.algorithms import bipartite\n",
    "\n",
    "import matplotlib.pyplot as plt\n",
    "import matplotlib.patches as patches\n",
    "\n",
    "import numpy as np\n",
    "import seaborn as sns\n",
    "import math\n",
    "import os"
   ]
  },
  {
   "cell_type": "code",
   "execution_count": 112,
   "metadata": {},
   "outputs": [],
   "source": [
    "### Librairies déjà installées avec Python\n",
    "import pprint\n",
    "import csv\n",
    "\n",
    "import sqlite3 as sql\n",
    "\n",
    "import time\n",
    "import datetime\n",
    "from dateutil import parser\n",
    "\n",
    "\n",
    "from shutil import copyfile\n"
   ]
  },
  {
   "cell_type": "code",
   "execution_count": 113,
   "metadata": {},
   "outputs": [],
   "source": [
    "### Importer un module de fonctions crées ad hoc\n",
    "##  ATTENTION : le fichier 'sparql_functions.py' doit se trouver \n",
    "#   dans un dossier qui se situe dans le chemin ('path') de recherche\n",
    "#   vu par le présent carnet Jupyter afin que\n",
    "#   l'importation fonctionne correctement\n",
    "\n",
    "import sys\n",
    "from importlib import reload\n",
    "\n",
    "# Add parent directory to the path\n",
    "sys.path.insert(0, '..')\n",
    "\n",
    "### If you want to add the parent-parent directory,\n",
    "sys.path.insert(0, '../..')\n",
    "\n",
    "\n",
    "import sparql_functions as spqf\n",
    "import network_analysis_functions as naf"
   ]
  },
  {
   "cell_type": "code",
   "execution_count": 114,
   "metadata": {},
   "outputs": [
    {
     "name": "stdout",
     "output_type": "stream",
     "text": [
      "<module 'network_analysis_functions' from 'c:\\\\Users\\\\laila\\\\OneDrive\\\\Documents\\\\Uni\\\\2e année\\\\Semestre 4\\\\Application de méthodes numériques pour les sciences humaines et historiques\\\\French_CEOs\\\\notebooks_jupyter\\\\network_analysis_functions.py'>\n"
     ]
    }
   ],
   "source": [
    "print(reload(naf))  "
   ]
  },
  {
   "cell_type": "markdown",
   "metadata": {},
   "source": [
    "## Get the data from the triplestore\n",
    "\n",
    "...  [compléter]\n"
   ]
  },
  {
   "cell_type": "code",
   "execution_count": 115,
   "metadata": {},
   "outputs": [],
   "source": [
    "## define SPARQL enpoint\n",
    "endpoint = \"https://ag15yee0az6rmk64.allegrograph.cloud/repositories/ceos\""
   ]
  },
  {
   "cell_type": "code",
   "execution_count": 116,
   "metadata": {},
   "outputs": [],
   "source": [
    "query = \"\"\"\n",
    "\n",
    "PREFIX franzOption_defaultDatasetBehavior: <franz:rdf>\n",
    "PREFIX wd: <http://www.wikidata.org/entity/>\n",
    "PREFIX wdt: <http://www.wikidata.org/prop/direct/>\n",
    "PREFIX rdf: <http://www.w3.org/1999/02/22-rdf-syntax-ns#>\n",
    "PREFIX rdfs: <http://www.w3.org/2000/01/rdf-schema#>\n",
    "PREFIX crm: <http://www.cidoc-crm.org/cidoc-crm/>\n",
    "PREFIX wikibase: <http://wikiba.se/ontology#>\n",
    "PREFIX bd: <http://www.bigdata.com/rdf#>\n",
    "\n",
    "\n",
    "SELECT ?person (MIN(?pLabel) AS ?personLabel)\n",
    "        (MIN(?birthYear) AS ?birthYear)\n",
    "        ?relationship \n",
    "        ?organisation (MIN(?oLabel) AS ?organisationLabel)\n",
    "        (COUNT(*) as ?n) \n",
    "        (GROUP_CONCAT(DISTINCT ?groupTypeLabel; separator=\" | \") AS ?groupTypes) \n",
    "        #(GROUP_CONCAT(DISTINCT ?countryLabel; separator=\" | \") AS ?countries) \n",
    "\n",
    "WHERE {\n",
    "        GRAPH <https://github.com/Laillaa/French_CEOs/blob/main/graphs/Wikidata-imported-data.md>\n",
    "        {\n",
    "        {?person a wd:Q5;\n",
    "           rdfs:label ?pLabel;\n",
    "           wdt:P569 ?birthYear.\n",
    "        }\n",
    "\n",
    "\n",
    "        {?person wdt:P108 ?organisation.\n",
    "        BIND('employment' AS ?relationship)\n",
    "        }   \n",
    "        UNION\n",
    "        {?person wdt:P463 ?organisation.\n",
    "        BIND('membership' AS ?relationship)\n",
    "        }   \n",
    "        UNION\n",
    "        {?person wdt:P69 ?organisation.\n",
    "        BIND('education' AS ?relationship)\n",
    "        }  \n",
    "        ?organisation rdfs:label ?oLabel;\n",
    "                 wdt:P31 ?groupType.\n",
    "        ?groupType rdfs:label ?groupTypeLabel         \n",
    "        \n",
    "        # OPTIONAL {\n",
    "        #    ?organisation wdt:P17 ?country.\n",
    "        #    ?country rdfs:label ?countryLabel.\n",
    "        # }\n",
    "\n",
    "         }        \n",
    "\n",
    "\n",
    "\n",
    "    }\n",
    "\n",
    "GROUP BY ?person ?relationship ?organisation   \n",
    "ORDER by ?person \n",
    "\"\"\""
   ]
  },
  {
   "cell_type": "code",
   "execution_count": 117,
   "metadata": {},
   "outputs": [
    {
     "name": "stdout",
     "output_type": "stream",
     "text": [
      "3839\n",
      "[['http://www.wikidata.org/entity/Q105693319',\n",
      "  'Laurent Prud’homme',\n",
      "  '1974',\n",
      "  'membership',\n",
      "  'http://www.wikidata.org/entity/Q131137989',\n",
      "  'emlyon alumni',\n",
      "  '2',\n",
      "  'alumni association | organization'],\n",
      " ['http://www.wikidata.org/entity/Q105693319',\n",
      "  'Laurent Prud’homme',\n",
      "  '1974',\n",
      "  'education',\n",
      "  'http://www.wikidata.org/entity/Q1795504',\n",
      "  'Emlyon Business School',\n",
      "  '1',\n",
      "  'grande école'],\n",
      " ['http://www.wikidata.org/entity/Q105693319',\n",
      "  'Laurent Prud’homme',\n",
      "  '1974',\n",
      "  'education',\n",
      "  'http://www.wikidata.org/entity/Q662976',\n",
      "  'Panthéon-Assas University Paris',\n",
      "  '1',\n",
      "  'university in France']]\n"
     ]
    }
   ],
   "source": [
    "### Executer la requête avec les fonctions de la librairie locale\n",
    "try:\n",
    "    qr = spqf.get_json_sparql_result(endpoint,query)\n",
    "    out = [l for l in spqf.sparql_result_to_list(qr)]\n",
    "    print(len(out))\n",
    "    pprint.pprint(out[100:103])\n",
    "except Exception as e:\n",
    "    print(e)    \n"
   ]
  },
  {
   "cell_type": "markdown",
   "metadata": {},
   "source": [
    "## Inspect the data\n"
   ]
  },
  {
   "cell_type": "code",
   "execution_count": 118,
   "metadata": {},
   "outputs": [
    {
     "name": "stdout",
     "output_type": "stream",
     "text": [
      "Number:  3839\n"
     ]
    },
    {
     "data": {
      "application/vnd.microsoft.datawrangler.viewer.v0+json": {
       "columns": [
        {
         "name": "index",
         "rawType": "int64",
         "type": "integer"
        },
        {
         "name": "uriPer",
         "rawType": "object",
         "type": "string"
        },
        {
         "name": "labelPer",
         "rawType": "object",
         "type": "string"
        },
        {
         "name": "birthYear",
         "rawType": "object",
         "type": "string"
        },
        {
         "name": "relaType",
         "rawType": "object",
         "type": "string"
        },
        {
         "name": "uriOrg",
         "rawType": "object",
         "type": "string"
        },
        {
         "name": "labelOrg",
         "rawType": "object",
         "type": "string"
        },
        {
         "name": "nTypes",
         "rawType": "object",
         "type": "string"
        },
        {
         "name": "typesO",
         "rawType": "object",
         "type": "string"
        }
       ],
       "ref": "6aff8057-8727-4c29-9d4a-cce7b275c9d8",
       "rows": [
        [
         "10",
         "http://www.wikidata.org/entity/Q100997694",
         "Jean-Luc Chetrit",
         "1965",
         "education",
         "http://www.wikidata.org/entity/Q1795504",
         "Emlyon Business School",
         "1",
         "grande école"
        ],
        [
         "11",
         "http://www.wikidata.org/entity/Q101112672",
         "Markus Krah",
         "1968",
         "education",
         "http://www.wikidata.org/entity/Q1688743",
         "Jewish Theological Seminary of America",
         "2",
         "Jewish seminary | private not-for-profit educational institution"
        ],
        [
         "12",
         "http://www.wikidata.org/entity/Q101112672",
         "Markus Krah",
         "1968",
         "education",
         "http://www.wikidata.org/entity/Q168000",
         "American University",
         "3",
         "private not-for-profit educational institution | research university | private university"
        ]
       ],
       "shape": {
        "columns": 8,
        "rows": 3
       }
      },
      "text/html": [
       "<div>\n",
       "<style scoped>\n",
       "    .dataframe tbody tr th:only-of-type {\n",
       "        vertical-align: middle;\n",
       "    }\n",
       "\n",
       "    .dataframe tbody tr th {\n",
       "        vertical-align: top;\n",
       "    }\n",
       "\n",
       "    .dataframe thead th {\n",
       "        text-align: right;\n",
       "    }\n",
       "</style>\n",
       "<table border=\"1\" class=\"dataframe\">\n",
       "  <thead>\n",
       "    <tr style=\"text-align: right;\">\n",
       "      <th></th>\n",
       "      <th>uriPer</th>\n",
       "      <th>labelPer</th>\n",
       "      <th>birthYear</th>\n",
       "      <th>relaType</th>\n",
       "      <th>uriOrg</th>\n",
       "      <th>labelOrg</th>\n",
       "      <th>nTypes</th>\n",
       "      <th>typesO</th>\n",
       "    </tr>\n",
       "  </thead>\n",
       "  <tbody>\n",
       "    <tr>\n",
       "      <th>10</th>\n",
       "      <td>http://www.wikidata.org/entity/Q100997694</td>\n",
       "      <td>Jean-Luc Chetrit</td>\n",
       "      <td>1965</td>\n",
       "      <td>education</td>\n",
       "      <td>http://www.wikidata.org/entity/Q1795504</td>\n",
       "      <td>Emlyon Business School</td>\n",
       "      <td>1</td>\n",
       "      <td>grande école</td>\n",
       "    </tr>\n",
       "    <tr>\n",
       "      <th>11</th>\n",
       "      <td>http://www.wikidata.org/entity/Q101112672</td>\n",
       "      <td>Markus Krah</td>\n",
       "      <td>1968</td>\n",
       "      <td>education</td>\n",
       "      <td>http://www.wikidata.org/entity/Q1688743</td>\n",
       "      <td>Jewish Theological Seminary of America</td>\n",
       "      <td>2</td>\n",
       "      <td>Jewish seminary | private not-for-profit educa...</td>\n",
       "    </tr>\n",
       "    <tr>\n",
       "      <th>12</th>\n",
       "      <td>http://www.wikidata.org/entity/Q101112672</td>\n",
       "      <td>Markus Krah</td>\n",
       "      <td>1968</td>\n",
       "      <td>education</td>\n",
       "      <td>http://www.wikidata.org/entity/Q168000</td>\n",
       "      <td>American University</td>\n",
       "      <td>3</td>\n",
       "      <td>private not-for-profit educational institution...</td>\n",
       "    </tr>\n",
       "  </tbody>\n",
       "</table>\n",
       "</div>"
      ],
      "text/plain": [
       "                                       uriPer          labelPer birthYear  \\\n",
       "10  http://www.wikidata.org/entity/Q100997694  Jean-Luc Chetrit      1965   \n",
       "11  http://www.wikidata.org/entity/Q101112672       Markus Krah      1968   \n",
       "12  http://www.wikidata.org/entity/Q101112672       Markus Krah      1968   \n",
       "\n",
       "     relaType                                   uriOrg  \\\n",
       "10  education  http://www.wikidata.org/entity/Q1795504   \n",
       "11  education  http://www.wikidata.org/entity/Q1688743   \n",
       "12  education   http://www.wikidata.org/entity/Q168000   \n",
       "\n",
       "                                  labelOrg nTypes  \\\n",
       "10                  Emlyon Business School      1   \n",
       "11  Jewish Theological Seminary of America      2   \n",
       "12                     American University      3   \n",
       "\n",
       "                                               typesO  \n",
       "10                                       grande école  \n",
       "11  Jewish seminary | private not-for-profit educa...  \n",
       "12  private not-for-profit educational institution...  "
      ]
     },
     "execution_count": 118,
     "metadata": {},
     "output_type": "execute_result"
    }
   ],
   "source": [
    "### Créer un DataFrame à partir du résultat\n",
    "df_p = pd.DataFrame(out)\n",
    "df_p.columns = ['uriPer', 'labelPer', 'birthYear', 'relaType', 'uriOrg', 'labelOrg', 'nTypes',\n",
    "                'typesO']\n",
    "print('Number: ',len(df_p))\n",
    "df_p.iloc[10:13,:]\n"
   ]
  },
  {
   "cell_type": "markdown",
   "metadata": {},
   "source": [
    "### Distribution of relationships in relation to birthYears"
   ]
  },
  {
   "cell_type": "code",
   "execution_count": 119,
   "metadata": {},
   "outputs": [
    {
     "name": "stdout",
     "output_type": "stream",
     "text": [
      "[1751, 1801, 1851, 1901, 1951, 2001]\n"
     ]
    }
   ],
   "source": [
    "l_50 = list(range(1751, 2051, 50))\n",
    "print(l_50)"
   ]
  },
  {
   "cell_type": "code",
   "execution_count": 120,
   "metadata": {},
   "outputs": [],
   "source": [
    "### We adapt the periods manually\n",
    "lc = [1751, 1801, 1851, 1901, 1921, 1941, 1961, 1981, 2001]"
   ]
  },
  {
   "cell_type": "code",
   "execution_count": 121,
   "metadata": {},
   "outputs": [],
   "source": [
    "### convert birthYear to integer\n",
    "df_p.birthYear = df_p.birthYear.apply(lambda x : int(x))"
   ]
  },
  {
   "cell_type": "code",
   "execution_count": 122,
   "metadata": {},
   "outputs": [
    {
     "data": {
      "application/vnd.microsoft.datawrangler.viewer.v0+json": {
       "columns": [
        {
         "name": "index",
         "rawType": "int64",
         "type": "integer"
        },
        {
         "name": "uriPer",
         "rawType": "object",
         "type": "string"
        },
        {
         "name": "labelPer",
         "rawType": "object",
         "type": "string"
        },
        {
         "name": "birthYear",
         "rawType": "int64",
         "type": "integer"
        },
        {
         "name": "relaType",
         "rawType": "object",
         "type": "string"
        },
        {
         "name": "uriOrg",
         "rawType": "object",
         "type": "string"
        },
        {
         "name": "labelOrg",
         "rawType": "object",
         "type": "string"
        },
        {
         "name": "nTypes",
         "rawType": "object",
         "type": "string"
        },
        {
         "name": "typesO",
         "rawType": "object",
         "type": "string"
        },
        {
         "name": "periods",
         "rawType": "category",
         "type": "unknown"
        }
       ],
       "ref": "b294fcc7-0645-48e4-94af-151011d36022",
       "rows": [
        [
         "0",
         "http://www.wikidata.org/entity/Q100158636",
         "Amanda Pritchard",
         "1976",
         "education",
         "http://www.wikidata.org/entity/Q34433",
         "University of Oxford",
         "6",
         "educational organization | public university | exempt charity | collegiate university | organization | higher education institution",
         "1961-1980"
        ],
        [
         "1",
         "http://www.wikidata.org/entity/Q100158636",
         "Amanda Pritchard",
         "1976",
         "education",
         "http://www.wikidata.org/entity/Q5316528",
         "Durham Johnston Comprehensive School",
         "2",
         "secondary school | community school",
         "1961-1980"
        ],
        [
         "2",
         "http://www.wikidata.org/entity/Q100276124",
         "Parag Agrawal",
         "1984",
         "education",
         "http://www.wikidata.org/entity/Q41506",
         "Stanford University",
         "4",
         "research university | private university | private not-for-profit educational institution | open-access publisher",
         "1981-2000"
        ]
       ],
       "shape": {
        "columns": 9,
        "rows": 3
       }
      },
      "text/html": [
       "<div>\n",
       "<style scoped>\n",
       "    .dataframe tbody tr th:only-of-type {\n",
       "        vertical-align: middle;\n",
       "    }\n",
       "\n",
       "    .dataframe tbody tr th {\n",
       "        vertical-align: top;\n",
       "    }\n",
       "\n",
       "    .dataframe thead th {\n",
       "        text-align: right;\n",
       "    }\n",
       "</style>\n",
       "<table border=\"1\" class=\"dataframe\">\n",
       "  <thead>\n",
       "    <tr style=\"text-align: right;\">\n",
       "      <th></th>\n",
       "      <th>uriPer</th>\n",
       "      <th>labelPer</th>\n",
       "      <th>birthYear</th>\n",
       "      <th>relaType</th>\n",
       "      <th>uriOrg</th>\n",
       "      <th>labelOrg</th>\n",
       "      <th>nTypes</th>\n",
       "      <th>typesO</th>\n",
       "      <th>periods</th>\n",
       "    </tr>\n",
       "  </thead>\n",
       "  <tbody>\n",
       "    <tr>\n",
       "      <th>0</th>\n",
       "      <td>http://www.wikidata.org/entity/Q100158636</td>\n",
       "      <td>Amanda Pritchard</td>\n",
       "      <td>1976</td>\n",
       "      <td>education</td>\n",
       "      <td>http://www.wikidata.org/entity/Q34433</td>\n",
       "      <td>University of Oxford</td>\n",
       "      <td>6</td>\n",
       "      <td>educational organization | public university |...</td>\n",
       "      <td>1961-1980</td>\n",
       "    </tr>\n",
       "    <tr>\n",
       "      <th>1</th>\n",
       "      <td>http://www.wikidata.org/entity/Q100158636</td>\n",
       "      <td>Amanda Pritchard</td>\n",
       "      <td>1976</td>\n",
       "      <td>education</td>\n",
       "      <td>http://www.wikidata.org/entity/Q5316528</td>\n",
       "      <td>Durham Johnston Comprehensive School</td>\n",
       "      <td>2</td>\n",
       "      <td>secondary school | community school</td>\n",
       "      <td>1961-1980</td>\n",
       "    </tr>\n",
       "    <tr>\n",
       "      <th>2</th>\n",
       "      <td>http://www.wikidata.org/entity/Q100276124</td>\n",
       "      <td>Parag Agrawal</td>\n",
       "      <td>1984</td>\n",
       "      <td>education</td>\n",
       "      <td>http://www.wikidata.org/entity/Q41506</td>\n",
       "      <td>Stanford University</td>\n",
       "      <td>4</td>\n",
       "      <td>research university | private university | pri...</td>\n",
       "      <td>1981-2000</td>\n",
       "    </tr>\n",
       "  </tbody>\n",
       "</table>\n",
       "</div>"
      ],
      "text/plain": [
       "                                      uriPer          labelPer  birthYear  \\\n",
       "0  http://www.wikidata.org/entity/Q100158636  Amanda Pritchard       1976   \n",
       "1  http://www.wikidata.org/entity/Q100158636  Amanda Pritchard       1976   \n",
       "2  http://www.wikidata.org/entity/Q100276124     Parag Agrawal       1984   \n",
       "\n",
       "    relaType                                   uriOrg  \\\n",
       "0  education    http://www.wikidata.org/entity/Q34433   \n",
       "1  education  http://www.wikidata.org/entity/Q5316528   \n",
       "2  education    http://www.wikidata.org/entity/Q41506   \n",
       "\n",
       "                               labelOrg nTypes  \\\n",
       "0                  University of Oxford      6   \n",
       "1  Durham Johnston Comprehensive School      2   \n",
       "2                   Stanford University      4   \n",
       "\n",
       "                                              typesO    periods  \n",
       "0  educational organization | public university |...  1961-1980  \n",
       "1                secondary school | community school  1961-1980  \n",
       "2  research university | private university | pri...  1981-2000  "
      ]
     },
     "execution_count": 122,
     "metadata": {},
     "output_type": "execute_result"
    }
   ],
   "source": [
    "### fonction pd.cut : https://pandas.pydata.org/pandas-docs/stable/reference/api/pandas.cut.html\n",
    "# On ajoute une nouvelle colonne qui contient la période sur la base de la liste précédente\n",
    "# et de la valeur de l'année\n",
    "df_p['periods'] = pd.cut(df_p['birthYear'], lc, right=False)\n",
    "\n",
    "### Transformer le code ajouté pour qu'il soit plus lisible\n",
    "# noter qu'on a arrondi les valeurs\n",
    "df_p['periods'] = df_p['periods'].apply(lambda x : str(int(x.left))+'-'+ str(int(x.right)-1))\n",
    "\n",
    "# Inspection\n",
    "df_p.head(3)"
   ]
  },
  {
   "cell_type": "markdown",
   "metadata": {},
   "source": [
    "#### Save dataframe to CSV"
   ]
  },
  {
   "cell_type": "code",
   "execution_count": 123,
   "metadata": {},
   "outputs": [],
   "source": [
    "file_add = '../persons_organisations.csv'\n",
    "df_p.to_csv(file_add, index=False, sep=',', quotechar='\"')"
   ]
  },
  {
   "cell_type": "code",
   "execution_count": 124,
   "metadata": {},
   "outputs": [
    {
     "name": "stdout",
     "output_type": "stream",
     "text": [
      "3839\n"
     ]
    },
    {
     "data": {
      "application/vnd.microsoft.datawrangler.viewer.v0+json": {
       "columns": [
        {
         "name": "index",
         "rawType": "int64",
         "type": "integer"
        },
        {
         "name": "uriPer",
         "rawType": "object",
         "type": "string"
        },
        {
         "name": "labelPer",
         "rawType": "object",
         "type": "string"
        },
        {
         "name": "birthYear",
         "rawType": "int64",
         "type": "integer"
        },
        {
         "name": "relaType",
         "rawType": "object",
         "type": "string"
        },
        {
         "name": "uriOrg",
         "rawType": "object",
         "type": "string"
        },
        {
         "name": "labelOrg",
         "rawType": "object",
         "type": "string"
        },
        {
         "name": "nTypes",
         "rawType": "int64",
         "type": "integer"
        },
        {
         "name": "typesO",
         "rawType": "object",
         "type": "string"
        },
        {
         "name": "periods",
         "rawType": "object",
         "type": "string"
        }
       ],
       "ref": "c742a2c3-7541-4717-995e-24e5baf02607",
       "rows": [
        [
         "0",
         "http://www.wikidata.org/entity/Q100158636",
         "Amanda Pritchard",
         "1976",
         "education",
         "http://www.wikidata.org/entity/Q34433",
         "University of Oxford",
         "6",
         "educational organization | public university | exempt charity | collegiate university | organization | higher education institution",
         "1961-1980"
        ],
        [
         "1",
         "http://www.wikidata.org/entity/Q100158636",
         "Amanda Pritchard",
         "1976",
         "education",
         "http://www.wikidata.org/entity/Q5316528",
         "Durham Johnston Comprehensive School",
         "2",
         "secondary school | community school",
         "1961-1980"
        ]
       ],
       "shape": {
        "columns": 9,
        "rows": 2
       }
      },
      "text/html": [
       "<div>\n",
       "<style scoped>\n",
       "    .dataframe tbody tr th:only-of-type {\n",
       "        vertical-align: middle;\n",
       "    }\n",
       "\n",
       "    .dataframe tbody tr th {\n",
       "        vertical-align: top;\n",
       "    }\n",
       "\n",
       "    .dataframe thead th {\n",
       "        text-align: right;\n",
       "    }\n",
       "</style>\n",
       "<table border=\"1\" class=\"dataframe\">\n",
       "  <thead>\n",
       "    <tr style=\"text-align: right;\">\n",
       "      <th></th>\n",
       "      <th>uriPer</th>\n",
       "      <th>labelPer</th>\n",
       "      <th>birthYear</th>\n",
       "      <th>relaType</th>\n",
       "      <th>uriOrg</th>\n",
       "      <th>labelOrg</th>\n",
       "      <th>nTypes</th>\n",
       "      <th>typesO</th>\n",
       "      <th>periods</th>\n",
       "    </tr>\n",
       "  </thead>\n",
       "  <tbody>\n",
       "    <tr>\n",
       "      <th>0</th>\n",
       "      <td>http://www.wikidata.org/entity/Q100158636</td>\n",
       "      <td>Amanda Pritchard</td>\n",
       "      <td>1976</td>\n",
       "      <td>education</td>\n",
       "      <td>http://www.wikidata.org/entity/Q34433</td>\n",
       "      <td>University of Oxford</td>\n",
       "      <td>6</td>\n",
       "      <td>educational organization | public university |...</td>\n",
       "      <td>1961-1980</td>\n",
       "    </tr>\n",
       "    <tr>\n",
       "      <th>1</th>\n",
       "      <td>http://www.wikidata.org/entity/Q100158636</td>\n",
       "      <td>Amanda Pritchard</td>\n",
       "      <td>1976</td>\n",
       "      <td>education</td>\n",
       "      <td>http://www.wikidata.org/entity/Q5316528</td>\n",
       "      <td>Durham Johnston Comprehensive School</td>\n",
       "      <td>2</td>\n",
       "      <td>secondary school | community school</td>\n",
       "      <td>1961-1980</td>\n",
       "    </tr>\n",
       "  </tbody>\n",
       "</table>\n",
       "</div>"
      ],
      "text/plain": [
       "                                      uriPer          labelPer  birthYear  \\\n",
       "0  http://www.wikidata.org/entity/Q100158636  Amanda Pritchard       1976   \n",
       "1  http://www.wikidata.org/entity/Q100158636  Amanda Pritchard       1976   \n",
       "\n",
       "    relaType                                   uriOrg  \\\n",
       "0  education    http://www.wikidata.org/entity/Q34433   \n",
       "1  education  http://www.wikidata.org/entity/Q5316528   \n",
       "\n",
       "                               labelOrg  nTypes  \\\n",
       "0                  University of Oxford       6   \n",
       "1  Durham Johnston Comprehensive School       2   \n",
       "\n",
       "                                              typesO    periods  \n",
       "0  educational organization | public university |...  1961-1980  \n",
       "1                secondary school | community school  1961-1980  "
      ]
     },
     "execution_count": 124,
     "metadata": {},
     "output_type": "execute_result"
    }
   ],
   "source": [
    "### load from CSV\n",
    "\n",
    "file_add = '../persons_organisations.csv'\n",
    "df_p=pd.read_csv(file_add)\n",
    "print(len(df_p))\n",
    "df_p.head(2)"
   ]
  },
  {
   "cell_type": "code",
   "execution_count": 125,
   "metadata": {},
   "outputs": [
    {
     "name": "stdout",
     "output_type": "stream",
     "text": [
      "periods\n",
      "1801-1850       7\n",
      "1851-1900      54\n",
      "1901-1920      84\n",
      "1921-1940     259\n",
      "1941-1960    1230\n",
      "1961-1980    1660\n",
      "1981-2000     545\n",
      "dtype: int64\n"
     ]
    }
   ],
   "source": [
    "### Group by periods\n",
    "df_period = df_p.groupby(by='periods', observed=True).size()\n",
    "print(df_period)"
   ]
  },
  {
   "cell_type": "code",
   "execution_count": 126,
   "metadata": {},
   "outputs": [
    {
     "data": {
      "image/png": "[encoded data removed]",
      "text/plain": [
       "<Figure size 800x600 with 1 Axes>"
      ]
     },
     "metadata": {},
     "output_type": "display_data"
    }
   ],
   "source": [
    "ax = df_period.plot(kind='bar',rot=50, fontsize=10, figsize=(8,6))\n",
    "ax.bar_label(ax.containers[-1], size=10)\n",
    "plt.ylabel('Number')\n",
    "plt.xlabel('Periods')\n",
    "plt.title('Distribution of relationships in relation to generations')\n",
    "plt.show()"
   ]
  },
  {
   "cell_type": "markdown",
   "metadata": {},
   "source": [
    "### Types of organisations"
   ]
  },
  {
   "cell_type": "code",
   "execution_count": 127,
   "metadata": {},
   "outputs": [
    {
     "name": "stdout",
     "output_type": "stream",
     "text": [
      "[['collegiate university',\n",
      "  'educational organization',\n",
      "  'exempt charity',\n",
      "  'higher education institution',\n",
      "  'organization',\n",
      "  'public university'],\n",
      " ['community school', 'secondary school'],\n",
      " ['open-access publisher',\n",
      "  'private not-for-profit educational institution',\n",
      "  'private university',\n",
      "  'research university'],\n",
      " ['school'],\n",
      " ['institute of technology']]\n",
      "-----\n",
      "[['charity',\n",
      "  'collegiate',\n",
      "  'education',\n",
      "  'educational',\n",
      "  'exempt',\n",
      "  'higher',\n",
      "  'institution',\n",
      "  'organization',\n",
      "  'public',\n",
      "  'university'],\n",
      " ['community', 'school', 'secondary'],\n",
      " ['educational',\n",
      "  'institution',\n",
      "  'not-for-profit',\n",
      "  'open-access',\n",
      "  'private',\n",
      "  'publisher',\n",
      "  'research',\n",
      "  'university'],\n",
      " ['school'],\n",
      " ['institute', 'technology']]\n"
     ]
    }
   ],
   "source": [
    "### convert birthYear to integer\n",
    "df_p['listTypesO'] = df_p.typesO.apply(lambda x : sorted([e.strip().lower() for e in x.split('|')]))\n",
    "\n",
    "# decompose in the tokens, unique\n",
    "df_p['listTokensTypesO'] = df_p.listTypesO.apply(lambda x : sorted(list(set([e for e in (' '.join(x)).split(' ') if len(e) > 2]))))\n",
    "\n",
    "pprint.pprint(df_p.head().listTypesO.to_list())\n",
    "print('-----')\n",
    "pprint.pprint(df_p.head().listTokensTypesO.to_list())"
   ]
  },
  {
   "cell_type": "code",
   "execution_count": 128,
   "metadata": {},
   "outputs": [
    {
     "name": "stdout",
     "output_type": "stream",
     "text": [
      "3839\n",
      "[['collegiate university', 'educational organization', 'exempt charity', 'higher education institution', 'organization', 'public university'], ['community school', 'secondary school'], ['open-access publisher', 'private not-for-profit educational institution', 'private university', 'research university']]\n"
     ]
    }
   ],
   "source": [
    "ll = df_p.listTypesO.to_list()\n",
    "print(len(ll))\n",
    "print(ll[:3])"
   ]
  },
  {
   "cell_type": "code",
   "execution_count": 129,
   "metadata": {},
   "outputs": [
    {
     "name": "stdout",
     "output_type": "stream",
     "text": [
      "3839\n",
      "['collegiate university | educational organization | exempt charity | higher education institution | organization | public university', 'community school | secondary school', 'open-access publisher | private not-for-profit educational institution | private university | research university']\n"
     ]
    }
   ],
   "source": [
    "llj = [' | '.join(b) for b in ll]\n",
    "print(len(llj))\n",
    "print(llj[:3])"
   ]
  },
  {
   "cell_type": "code",
   "execution_count": 130,
   "metadata": {},
   "outputs": [
    {
     "data": {
      "application/vnd.microsoft.datawrangler.viewer.v0+json": {
       "columns": [
        {
         "name": "index",
         "rawType": "int64",
         "type": "integer"
        },
        {
         "name": "orgType_group",
         "rawType": "object",
         "type": "string"
        },
        {
         "name": "effectif",
         "rawType": "int64",
         "type": "integer"
        }
       ],
       "ref": "49ea56f8-fac7-4993-8286-32e8cf3ffc26",
       "rows": [
        [
         "0",
         "grande école",
         "201"
        ],
        [
         "1",
         "alumni association | organization",
         "182"
        ],
        [
         "2",
         "business school",
         "175"
        ],
        [
         "3",
         "high school",
         "125"
        ],
        [
         "4",
         "university",
         "125"
        ]
       ],
       "shape": {
        "columns": 2,
        "rows": 5
       }
      },
      "text/html": [
       "<div>\n",
       "<style scoped>\n",
       "    .dataframe tbody tr th:only-of-type {\n",
       "        vertical-align: middle;\n",
       "    }\n",
       "\n",
       "    .dataframe tbody tr th {\n",
       "        vertical-align: top;\n",
       "    }\n",
       "\n",
       "    .dataframe thead th {\n",
       "        text-align: right;\n",
       "    }\n",
       "</style>\n",
       "<table border=\"1\" class=\"dataframe\">\n",
       "  <thead>\n",
       "    <tr style=\"text-align: right;\">\n",
       "      <th></th>\n",
       "      <th>orgType_group</th>\n",
       "      <th>effectif</th>\n",
       "    </tr>\n",
       "  </thead>\n",
       "  <tbody>\n",
       "    <tr>\n",
       "      <th>0</th>\n",
       "      <td>grande école</td>\n",
       "      <td>201</td>\n",
       "    </tr>\n",
       "    <tr>\n",
       "      <th>1</th>\n",
       "      <td>alumni association | organization</td>\n",
       "      <td>182</td>\n",
       "    </tr>\n",
       "    <tr>\n",
       "      <th>2</th>\n",
       "      <td>business school</td>\n",
       "      <td>175</td>\n",
       "    </tr>\n",
       "    <tr>\n",
       "      <th>3</th>\n",
       "      <td>high school</td>\n",
       "      <td>125</td>\n",
       "    </tr>\n",
       "    <tr>\n",
       "      <th>4</th>\n",
       "      <td>university</td>\n",
       "      <td>125</td>\n",
       "    </tr>\n",
       "  </tbody>\n",
       "</table>\n",
       "</div>"
      ],
      "text/plain": [
       "                       orgType_group  effectif\n",
       "0                       grande école       201\n",
       "1  alumni association | organization       182\n",
       "2                    business school       175\n",
       "3                        high school       125\n",
       "4                         university       125"
      ]
     },
     "execution_count": 130,
     "metadata": {},
     "output_type": "execute_result"
    }
   ],
   "source": [
    "ls = pd.Series(llj)\n",
    "ltg = pd.DataFrame(ls.groupby(by=ls).size().sort_values(ascending=False))\n",
    "ltg.reset_index(inplace=True)\n",
    "ltg.columns=['orgType_group', 'effectif']\n",
    "ltg.head()\n"
   ]
  },
  {
   "cell_type": "code",
   "execution_count": 131,
   "metadata": {},
   "outputs": [
    {
     "name": "stdout",
     "output_type": "stream",
     "text": [
      "                                        orgType_group  effectif\n",
      "30                                         law school        20\n",
      "31  academic publisher | grand établissement | gra...        19\n",
      "32  educational organization | higher education in...        19\n",
      "33  open-access publisher | private not-for-profit...        18\n",
      "34                               educational facility        18\n",
      "35  academic publisher | colonial colleges | priva...        18\n",
      "36  open-access publisher | organization | public ...        18\n",
      "37                            institute of technology        17\n",
      "38          organization | public research university        17\n",
      "39                                          gymnasium        16\n"
     ]
    }
   ],
   "source": [
    "csv_file='../network_organisations_types_groups.csv'\n",
    "ltg.to_csv(csv_file)\n",
    "print(ltg.iloc[30:40])"
   ]
  },
  {
   "cell_type": "markdown",
   "metadata": {},
   "source": [
    "#### Wikidata 'instance of'"
   ]
  },
  {
   "cell_type": "code",
   "execution_count": 132,
   "metadata": {},
   "outputs": [
    {
     "name": "stdout",
     "output_type": "stream",
     "text": [
      "3839\n"
     ]
    }
   ],
   "source": [
    "ll = df_p.listTypesO.to_list()\n",
    "print(len(ll))"
   ]
  },
  {
   "cell_type": "code",
   "execution_count": 133,
   "metadata": {},
   "outputs": [
    {
     "name": "stdout",
     "output_type": "stream",
     "text": [
      "8548\n"
     ]
    }
   ],
   "source": [
    "ltt = [a for b in df_p.listTypesO.to_list() for a in b]\n",
    "print(len(ltt))"
   ]
  },
  {
   "cell_type": "code",
   "execution_count": 134,
   "metadata": {},
   "outputs": [],
   "source": [
    "ls = pd.Series(ltt)\n"
   ]
  },
  {
   "cell_type": "code",
   "execution_count": 135,
   "metadata": {},
   "outputs": [
    {
     "data": {
      "application/vnd.microsoft.datawrangler.viewer.v0+json": {
       "columns": [
        {
         "name": "index",
         "rawType": "int64",
         "type": "integer"
        },
        {
         "name": "organisation",
         "rawType": "object",
         "type": "string"
        },
        {
         "name": "effectif",
         "rawType": "int64",
         "type": "integer"
        }
       ],
       "ref": "9da21f98-baf1-4e27-8d0f-cc412ba59a7a",
       "rows": [
        [
         "0",
         "university",
         "717"
        ],
        [
         "1",
         "organization",
         "558"
        ],
        [
         "2",
         "open-access publisher",
         "527"
        ],
        [
         "3",
         "private not-for-profit educational institution",
         "473"
        ],
        [
         "4",
         "public university",
         "418"
        ]
       ],
       "shape": {
        "columns": 2,
        "rows": 5
       }
      },
      "text/html": [
       "<div>\n",
       "<style scoped>\n",
       "    .dataframe tbody tr th:only-of-type {\n",
       "        vertical-align: middle;\n",
       "    }\n",
       "\n",
       "    .dataframe tbody tr th {\n",
       "        vertical-align: top;\n",
       "    }\n",
       "\n",
       "    .dataframe thead th {\n",
       "        text-align: right;\n",
       "    }\n",
       "</style>\n",
       "<table border=\"1\" class=\"dataframe\">\n",
       "  <thead>\n",
       "    <tr style=\"text-align: right;\">\n",
       "      <th></th>\n",
       "      <th>organisation</th>\n",
       "      <th>effectif</th>\n",
       "    </tr>\n",
       "  </thead>\n",
       "  <tbody>\n",
       "    <tr>\n",
       "      <th>0</th>\n",
       "      <td>university</td>\n",
       "      <td>717</td>\n",
       "    </tr>\n",
       "    <tr>\n",
       "      <th>1</th>\n",
       "      <td>organization</td>\n",
       "      <td>558</td>\n",
       "    </tr>\n",
       "    <tr>\n",
       "      <th>2</th>\n",
       "      <td>open-access publisher</td>\n",
       "      <td>527</td>\n",
       "    </tr>\n",
       "    <tr>\n",
       "      <th>3</th>\n",
       "      <td>private not-for-profit educational institution</td>\n",
       "      <td>473</td>\n",
       "    </tr>\n",
       "    <tr>\n",
       "      <th>4</th>\n",
       "      <td>public university</td>\n",
       "      <td>418</td>\n",
       "    </tr>\n",
       "  </tbody>\n",
       "</table>\n",
       "</div>"
      ],
      "text/plain": [
       "                                     organisation  effectif\n",
       "0                                      university       717\n",
       "1                                    organization       558\n",
       "2                           open-access publisher       527\n",
       "3  private not-for-profit educational institution       473\n",
       "4                               public university       418"
      ]
     },
     "execution_count": 135,
     "metadata": {},
     "output_type": "execute_result"
    }
   ],
   "source": [
    "ltg = pd.DataFrame(ls.groupby(by=ls).size().sort_values(ascending=False))\n",
    "ltg.reset_index(inplace=True)\n",
    "ltg.columns=['organisation', 'effectif']\n",
    "ltg.head()\n"
   ]
  },
  {
   "cell_type": "code",
   "execution_count": 136,
   "metadata": {},
   "outputs": [
    {
     "name": "stdout",
     "output_type": "stream",
     "text": [
      "             organisation  effectif\n",
      "30     independent school        52\n",
      "31                faculty        49\n",
      "32             law school        48\n",
      "33    engineering college        42\n",
      "34     production company        42\n",
      "35    catholic university        34\n",
      "36        learned society        34\n",
      "37   academic institution        33\n",
      "38  collegiate university        33\n",
      "39        graduate school        32\n"
     ]
    }
   ],
   "source": [
    "csv_file='../network_organisations_types.csv'\n",
    "ltg.to_csv(csv_file)\n",
    "print(ltg.iloc[30:40])"
   ]
  },
  {
   "cell_type": "markdown",
   "metadata": {},
   "source": [
    "#### Wikidata tokens of 'instance of'"
   ]
  },
  {
   "cell_type": "code",
   "execution_count": 137,
   "metadata": {},
   "outputs": [
    {
     "name": "stdout",
     "output_type": "stream",
     "text": [
      "3839\n"
     ]
    }
   ],
   "source": [
    "ll = df_p.listTokensTypesO.to_list()\n",
    "print(len(ll))"
   ]
  },
  {
   "cell_type": "code",
   "execution_count": 138,
   "metadata": {},
   "outputs": [
    {
     "name": "stdout",
     "output_type": "stream",
     "text": [
      "16770\n"
     ]
    }
   ],
   "source": [
    "ltt = [a for b in df_p.listTokensTypesO.to_list() for a in b]\n",
    "print(len(ltt))"
   ]
  },
  {
   "cell_type": "code",
   "execution_count": 139,
   "metadata": {},
   "outputs": [
    {
     "data": {
      "application/vnd.microsoft.datawrangler.viewer.v0+json": {
       "columns": [
        {
         "name": "index",
         "rawType": "int64",
         "type": "integer"
        },
        {
         "name": "token",
         "rawType": "object",
         "type": "string"
        },
        {
         "name": "effectif",
         "rawType": "int64",
         "type": "integer"
        }
       ],
       "ref": "604fd650-a692-4c08-97d0-ec276609d3e4",
       "rows": [
        [
         "0",
         "university",
         "1997"
        ],
        [
         "1",
         "institution",
         "1007"
        ],
        [
         "2",
         "educational",
         "990"
        ],
        [
         "3",
         "public",
         "935"
        ],
        [
         "4",
         "school",
         "879"
        ]
       ],
       "shape": {
        "columns": 2,
        "rows": 5
       }
      },
      "text/html": [
       "<div>\n",
       "<style scoped>\n",
       "    .dataframe tbody tr th:only-of-type {\n",
       "        vertical-align: middle;\n",
       "    }\n",
       "\n",
       "    .dataframe tbody tr th {\n",
       "        vertical-align: top;\n",
       "    }\n",
       "\n",
       "    .dataframe thead th {\n",
       "        text-align: right;\n",
       "    }\n",
       "</style>\n",
       "<table border=\"1\" class=\"dataframe\">\n",
       "  <thead>\n",
       "    <tr style=\"text-align: right;\">\n",
       "      <th></th>\n",
       "      <th>token</th>\n",
       "      <th>effectif</th>\n",
       "    </tr>\n",
       "  </thead>\n",
       "  <tbody>\n",
       "    <tr>\n",
       "      <th>0</th>\n",
       "      <td>university</td>\n",
       "      <td>1997</td>\n",
       "    </tr>\n",
       "    <tr>\n",
       "      <th>1</th>\n",
       "      <td>institution</td>\n",
       "      <td>1007</td>\n",
       "    </tr>\n",
       "    <tr>\n",
       "      <th>2</th>\n",
       "      <td>educational</td>\n",
       "      <td>990</td>\n",
       "    </tr>\n",
       "    <tr>\n",
       "      <th>3</th>\n",
       "      <td>public</td>\n",
       "      <td>935</td>\n",
       "    </tr>\n",
       "    <tr>\n",
       "      <th>4</th>\n",
       "      <td>school</td>\n",
       "      <td>879</td>\n",
       "    </tr>\n",
       "  </tbody>\n",
       "</table>\n",
       "</div>"
      ],
      "text/plain": [
       "         token  effectif\n",
       "0   university      1997\n",
       "1  institution      1007\n",
       "2  educational       990\n",
       "3       public       935\n",
       "4       school       879"
      ]
     },
     "execution_count": 139,
     "metadata": {},
     "output_type": "execute_result"
    }
   ],
   "source": [
    "ls = pd.Series(ltt)\n",
    "ltg = pd.DataFrame(ls.groupby(by=ls).size().sort_values(ascending=False))\n",
    "ltg.reset_index(inplace=True)\n",
    "ltg.columns=['token', 'effectif']\n",
    "ltg.head()\n"
   ]
  },
  {
   "cell_type": "code",
   "execution_count": 140,
   "metadata": {},
   "outputs": [
    {
     "name": "stdout",
     "output_type": "stream",
     "text": [
      "         token  effectif\n",
      "30    location        81\n",
      "31  geographic        81\n",
      "32   secondary        74\n",
      "33  technology        73\n",
      "34   nonprofit        72\n",
      "35     academy        70\n",
      "36     ottoman        68\n",
      "37    building        64\n",
      "38    boarding        63\n",
      "39      france        63\n"
     ]
    }
   ],
   "source": [
    "csv_file='../network_organisations_types_tokens.csv'\n",
    "ltg.to_csv(csv_file)\n",
    "print(ltg.iloc[30:40])"
   ]
  },
  {
   "cell_type": "markdown",
   "metadata": {},
   "source": [
    "### Add education period"
   ]
  },
  {
   "cell_type": "code",
   "execution_count": 141,
   "metadata": {},
   "outputs": [
    {
     "data": {
      "application/vnd.microsoft.datawrangler.viewer.v0+json": {
       "columns": [
        {
         "name": "index",
         "rawType": "int64",
         "type": "integer"
        },
        {
         "name": "uriPer",
         "rawType": "object",
         "type": "string"
        },
        {
         "name": "labelPer",
         "rawType": "object",
         "type": "string"
        },
        {
         "name": "birthYear",
         "rawType": "int64",
         "type": "integer"
        },
        {
         "name": "relaType",
         "rawType": "object",
         "type": "string"
        },
        {
         "name": "uriOrg",
         "rawType": "object",
         "type": "string"
        },
        {
         "name": "labelOrg",
         "rawType": "object",
         "type": "string"
        },
        {
         "name": "nTypes",
         "rawType": "int64",
         "type": "integer"
        },
        {
         "name": "typesO",
         "rawType": "object",
         "type": "string"
        },
        {
         "name": "periods",
         "rawType": "object",
         "type": "string"
        },
        {
         "name": "listTypesO",
         "rawType": "object",
         "type": "unknown"
        },
        {
         "name": "listTokensTypesO",
         "rawType": "object",
         "type": "unknown"
        },
        {
         "name": "BeginY",
         "rawType": "float64",
         "type": "float"
        },
        {
         "name": "EndY",
         "rawType": "float64",
         "type": "float"
        }
       ],
       "ref": "59cc6b30-2d8b-4c1d-843a-14e78a4862ac",
       "rows": [
        [
         "5",
         "http://www.wikidata.org/entity/Q100705519",
         "Ponce",
         "1991",
         "education",
         "http://www.wikidata.org/entity/Q3578313",
         "École polytechnique universitaire de Montpellier",
         "2",
         "engineering college | grande école",
         "1981-2000",
         "['engineering college', 'grande école']",
         "['college', 'engineering', 'grande', 'école']",
         "2009.0",
         "2020.0"
        ],
        [
         "6",
         "http://www.wikidata.org/entity/Q100705519",
         "Ponce",
         "1991",
         "education",
         "http://www.wikidata.org/entity/Q2994588",
         "Toulouse Regional Conservatory",
         "5",
         "former hospital | drama school | educational institution | conservatories with regional coverage | school building",
         "1981-2000",
         "['conservatories with regional coverage', 'drama school', 'educational institution', 'former hospital', 'school building']",
         "['building', 'conservatories', 'coverage', 'drama', 'educational', 'former', 'hospital', 'institution', 'regional', 'school', 'with']",
         "2009.0",
         "2020.0"
        ],
        [
         "7",
         "http://www.wikidata.org/entity/Q100705519",
         "Ponce",
         "1991",
         "education",
         "http://www.wikidata.org/entity/Q916444",
         "Cours Florent",
         "2",
         "drama school | educational institution",
         "1981-2000",
         "['drama school', 'educational institution']",
         "['drama', 'educational', 'institution', 'school']",
         "2009.0",
         "2020.0"
        ],
        [
         "8",
         "http://www.wikidata.org/entity/Q100989426",
         "Thomas Schäfer",
         "1970",
         "education",
         "http://www.wikidata.org/entity/Q317070",
         "University of Mannheim",
         "2",
         "organization | public university",
         "1961-1980",
         "['organization', 'public university']",
         "['organization', 'public', 'university']",
         "1988.0",
         "1999.0"
        ]
       ],
       "shape": {
        "columns": 13,
        "rows": 4
       }
      },
      "text/html": [
       "<div>\n",
       "<style scoped>\n",
       "    .dataframe tbody tr th:only-of-type {\n",
       "        vertical-align: middle;\n",
       "    }\n",
       "\n",
       "    .dataframe tbody tr th {\n",
       "        vertical-align: top;\n",
       "    }\n",
       "\n",
       "    .dataframe thead th {\n",
       "        text-align: right;\n",
       "    }\n",
       "</style>\n",
       "<table border=\"1\" class=\"dataframe\">\n",
       "  <thead>\n",
       "    <tr style=\"text-align: right;\">\n",
       "      <th></th>\n",
       "      <th>uriPer</th>\n",
       "      <th>labelPer</th>\n",
       "      <th>birthYear</th>\n",
       "      <th>relaType</th>\n",
       "      <th>uriOrg</th>\n",
       "      <th>labelOrg</th>\n",
       "      <th>nTypes</th>\n",
       "      <th>typesO</th>\n",
       "      <th>periods</th>\n",
       "      <th>listTypesO</th>\n",
       "      <th>listTokensTypesO</th>\n",
       "      <th>BeginY</th>\n",
       "      <th>EndY</th>\n",
       "    </tr>\n",
       "  </thead>\n",
       "  <tbody>\n",
       "    <tr>\n",
       "      <th>5</th>\n",
       "      <td>http://www.wikidata.org/entity/Q100705519</td>\n",
       "      <td>Ponce</td>\n",
       "      <td>1991</td>\n",
       "      <td>education</td>\n",
       "      <td>http://www.wikidata.org/entity/Q3578313</td>\n",
       "      <td>École polytechnique universitaire de Montpellier</td>\n",
       "      <td>2</td>\n",
       "      <td>engineering college | grande école</td>\n",
       "      <td>1981-2000</td>\n",
       "      <td>[engineering college, grande école]</td>\n",
       "      <td>[college, engineering, grande, école]</td>\n",
       "      <td>2009.0</td>\n",
       "      <td>2020.0</td>\n",
       "    </tr>\n",
       "    <tr>\n",
       "      <th>6</th>\n",
       "      <td>http://www.wikidata.org/entity/Q100705519</td>\n",
       "      <td>Ponce</td>\n",
       "      <td>1991</td>\n",
       "      <td>education</td>\n",
       "      <td>http://www.wikidata.org/entity/Q2994588</td>\n",
       "      <td>Toulouse Regional Conservatory</td>\n",
       "      <td>5</td>\n",
       "      <td>former hospital | drama school | educational i...</td>\n",
       "      <td>1981-2000</td>\n",
       "      <td>[conservatories with regional coverage, drama ...</td>\n",
       "      <td>[building, conservatories, coverage, drama, ed...</td>\n",
       "      <td>2009.0</td>\n",
       "      <td>2020.0</td>\n",
       "    </tr>\n",
       "    <tr>\n",
       "      <th>7</th>\n",
       "      <td>http://www.wikidata.org/entity/Q100705519</td>\n",
       "      <td>Ponce</td>\n",
       "      <td>1991</td>\n",
       "      <td>education</td>\n",
       "      <td>http://www.wikidata.org/entity/Q916444</td>\n",
       "      <td>Cours Florent</td>\n",
       "      <td>2</td>\n",
       "      <td>drama school | educational institution</td>\n",
       "      <td>1981-2000</td>\n",
       "      <td>[drama school, educational institution]</td>\n",
       "      <td>[drama, educational, institution, school]</td>\n",
       "      <td>2009.0</td>\n",
       "      <td>2020.0</td>\n",
       "    </tr>\n",
       "    <tr>\n",
       "      <th>8</th>\n",
       "      <td>http://www.wikidata.org/entity/Q100989426</td>\n",
       "      <td>Thomas Schäfer</td>\n",
       "      <td>1970</td>\n",
       "      <td>education</td>\n",
       "      <td>http://www.wikidata.org/entity/Q317070</td>\n",
       "      <td>University of Mannheim</td>\n",
       "      <td>2</td>\n",
       "      <td>organization | public university</td>\n",
       "      <td>1961-1980</td>\n",
       "      <td>[organization, public university]</td>\n",
       "      <td>[organization, public, university]</td>\n",
       "      <td>1988.0</td>\n",
       "      <td>1999.0</td>\n",
       "    </tr>\n",
       "  </tbody>\n",
       "</table>\n",
       "</div>"
      ],
      "text/plain": [
       "                                      uriPer        labelPer  birthYear  \\\n",
       "5  http://www.wikidata.org/entity/Q100705519           Ponce       1991   \n",
       "6  http://www.wikidata.org/entity/Q100705519           Ponce       1991   \n",
       "7  http://www.wikidata.org/entity/Q100705519           Ponce       1991   \n",
       "8  http://www.wikidata.org/entity/Q100989426  Thomas Schäfer       1970   \n",
       "\n",
       "    relaType                                   uriOrg  \\\n",
       "5  education  http://www.wikidata.org/entity/Q3578313   \n",
       "6  education  http://www.wikidata.org/entity/Q2994588   \n",
       "7  education   http://www.wikidata.org/entity/Q916444   \n",
       "8  education   http://www.wikidata.org/entity/Q317070   \n",
       "\n",
       "                                           labelOrg  nTypes  \\\n",
       "5  École polytechnique universitaire de Montpellier       2   \n",
       "6                    Toulouse Regional Conservatory       5   \n",
       "7                                     Cours Florent       2   \n",
       "8                            University of Mannheim       2   \n",
       "\n",
       "                                              typesO    periods  \\\n",
       "5                 engineering college | grande école  1981-2000   \n",
       "6  former hospital | drama school | educational i...  1981-2000   \n",
       "7             drama school | educational institution  1981-2000   \n",
       "8                   organization | public university  1961-1980   \n",
       "\n",
       "                                          listTypesO  \\\n",
       "5                [engineering college, grande école]   \n",
       "6  [conservatories with regional coverage, drama ...   \n",
       "7            [drama school, educational institution]   \n",
       "8                  [organization, public university]   \n",
       "\n",
       "                                    listTokensTypesO  BeginY    EndY  \n",
       "5              [college, engineering, grande, école]  2009.0  2020.0  \n",
       "6  [building, conservatories, coverage, drama, ed...  2009.0  2020.0  \n",
       "7          [drama, educational, institution, school]  2009.0  2020.0  \n",
       "8                 [organization, public, university]  1988.0  1999.0  "
      ]
     },
     "execution_count": 141,
     "metadata": {},
     "output_type": "execute_result"
    }
   ],
   "source": [
    "### Add constructed education period\n",
    "df_p['BeginY'] = df_p[df_p.relaType=='education'].birthYear.apply(lambda x : x + 18)\n",
    "df_p['EndY'] = df_p[df_p.relaType=='education'].birthYear.apply(lambda x : x + 29)\n",
    "df_p.iloc[5:9]"
   ]
  },
  {
   "cell_type": "markdown",
   "metadata": {},
   "source": [
    "## Create graph for a given period\n",
    "\n",
    "\n",
    "This is a graph of type 'bipartite', cf. :\n",
    "\n",
    "https://networkx.org/documentation/stable/reference/algorithms/bipartite.html\n",
    "\n",
    "\n",
    "We do not use here the functions related to this kind of graph"
   ]
  },
  {
   "cell_type": "code",
   "execution_count": 142,
   "metadata": {},
   "outputs": [],
   "source": [
    "df_p_1901 = df_p[df_p.periods=='1901-1920'].copy(deep=True)\n",
    "#pprint.pprint(df_p_1901.head(2).to_dict(orient='records'))\n",
    "\n",
    "df_p_1961 = df_p[df_p.periods=='1961-1980'].copy(deep=True)\n",
    "#pprint.pprint(df_p_1961.head(2).to_dict(orient='records'))\n",
    "\n",
    "df_in_use = df_p_1901\n"
   ]
  },
  {
   "cell_type": "code",
   "execution_count": 143,
   "metadata": {},
   "outputs": [
    {
     "name": "stdout",
     "output_type": "stream",
     "text": [
      "84\n"
     ]
    }
   ],
   "source": [
    "## Provide the data in the format \n",
    "# required by Networkx\n",
    "\n",
    "l = [tuple(\n",
    "    (e['uriPer'], e['uriOrg'],\n",
    "     {'relaType':e['relaType']}\n",
    "     )) \n",
    "     for e in df_in_use.to_dict(orient='records')]\n",
    "print(len(l))"
   ]
  },
  {
   "cell_type": "code",
   "execution_count": 144,
   "metadata": {},
   "outputs": [
    {
     "name": "stdout",
     "output_type": "stream",
     "text": [
      "{'is_multigraph': False,\n",
      " 'is_directed': False,\n",
      " 'number_of_nodes': 125,\n",
      " 'number_of_edges': 83,\n",
      " '------': '------',\n",
      " 'is connected': False,\n",
      " 'components': 42,\n",
      " 'density': 0.010709677419354838}\n"
     ]
    }
   ],
   "source": [
    "bip_g = nx.Graph()\n",
    "\n",
    "bip_g.add_edges_from(l)\n",
    "naf.basic_graph_properties(bip_g)"
   ]
  },
  {
   "cell_type": "code",
   "execution_count": 145,
   "metadata": {},
   "outputs": [
    {
     "name": "stdout",
     "output_type": "stream",
     "text": [
      "education     63\n",
      "employment     6\n",
      "membership    14\n",
      "dtype: int64\n"
     ]
    }
   ],
   "source": [
    "### Number of types of relationships\n",
    "le = list(bip_g.edges.data())\n",
    "# print([e[2]['relaType'] for e in le][:3]) \n",
    "srt = pd.Series([e[2]['relaType'] for e in le])\n",
    "print(srt.groupby(by=srt).size())"
   ]
  },
  {
   "cell_type": "markdown",
   "metadata": {},
   "source": [
    "#### Add metadata to nodes"
   ]
  },
  {
   "cell_type": "code",
   "execution_count": 146,
   "metadata": {},
   "outputs": [
    {
     "data": {
      "application/vnd.microsoft.datawrangler.viewer.v0+json": {
       "columns": [
        {
         "name": "index",
         "rawType": "int64",
         "type": "integer"
        },
        {
         "name": "uri",
         "rawType": "object",
         "type": "string"
        },
        {
         "name": "label",
         "rawType": "object",
         "type": "string"
        },
        {
         "name": "birthYear",
         "rawType": "int64",
         "type": "integer"
        }
       ],
       "ref": "5c2aeac0-d770-4ac2-ae9c-06136567c619",
       "rows": [
        [
         "105",
         "http://www.wikidata.org/entity/Q105771371",
         "Leonard H. Straus",
         "1914"
        ],
        [
         "117",
         "http://www.wikidata.org/entity/Q105932307",
         "Georges Coutellier",
         "1912"
        ]
       ],
       "shape": {
        "columns": 3,
        "rows": 2
       }
      },
      "text/html": [
       "<div>\n",
       "<style scoped>\n",
       "    .dataframe tbody tr th:only-of-type {\n",
       "        vertical-align: middle;\n",
       "    }\n",
       "\n",
       "    .dataframe tbody tr th {\n",
       "        vertical-align: top;\n",
       "    }\n",
       "\n",
       "    .dataframe thead th {\n",
       "        text-align: right;\n",
       "    }\n",
       "</style>\n",
       "<table border=\"1\" class=\"dataframe\">\n",
       "  <thead>\n",
       "    <tr style=\"text-align: right;\">\n",
       "      <th></th>\n",
       "      <th>uri</th>\n",
       "      <th>label</th>\n",
       "      <th>birthYear</th>\n",
       "    </tr>\n",
       "  </thead>\n",
       "  <tbody>\n",
       "    <tr>\n",
       "      <th>105</th>\n",
       "      <td>http://www.wikidata.org/entity/Q105771371</td>\n",
       "      <td>Leonard H. Straus</td>\n",
       "      <td>1914</td>\n",
       "    </tr>\n",
       "    <tr>\n",
       "      <th>117</th>\n",
       "      <td>http://www.wikidata.org/entity/Q105932307</td>\n",
       "      <td>Georges Coutellier</td>\n",
       "      <td>1912</td>\n",
       "    </tr>\n",
       "  </tbody>\n",
       "</table>\n",
       "</div>"
      ],
      "text/plain": [
       "                                           uri               label  birthYear\n",
       "105  http://www.wikidata.org/entity/Q105771371   Leonard H. Straus       1914\n",
       "117  http://www.wikidata.org/entity/Q105932307  Georges Coutellier       1912"
      ]
     },
     "execution_count": 146,
     "metadata": {},
     "output_type": "execute_result"
    }
   ],
   "source": [
    "df_p1 = df_in_use[['uriPer','labelPer','birthYear']]\n",
    "df_p1 = df_p1.drop_duplicates()\n",
    "df_p1.columns=['uri', 'label', 'birthYear']\n",
    "df_p1.head(2)"
   ]
  },
  {
   "cell_type": "code",
   "execution_count": 147,
   "metadata": {},
   "outputs": [],
   "source": [
    "### Add data to nodes\n",
    "\n",
    "## Prepare data to import\n",
    "l = dict([(e['uri'],\n",
    "     {'label':e['label'], 'birthYear':e['birthYear'],\n",
    "      'bipartite':0}\n",
    "     ) for e in df_p1.to_dict(orient='records')])\n",
    "# print(str(l)[:200])"
   ]
  },
  {
   "cell_type": "code",
   "execution_count": 148,
   "metadata": {},
   "outputs": [
    {
     "name": "stdout",
     "output_type": "stream",
     "text": [
      "[('http://www.wikidata.org/entity/Q105771371',\n",
      "  {'bipartite': 0, 'birthYear': 1914, 'label': 'Leonard H. Straus'}),\n",
      " ('http://www.wikidata.org/entity/Q49122', {}),\n",
      " ('http://www.wikidata.org/entity/Q499451', {})]\n"
     ]
    }
   ],
   "source": [
    "\n",
    "## Add attributes\n",
    "nx.set_node_attributes(bip_g, l)\n",
    "pprint.pprint(list(bip_g.nodes.data())[:3])\n"
   ]
  },
  {
   "cell_type": "code",
   "execution_count": 149,
   "metadata": {},
   "outputs": [
    {
     "data": {
      "application/vnd.microsoft.datawrangler.viewer.v0+json": {
       "columns": [
        {
         "name": "index",
         "rawType": "int64",
         "type": "integer"
        },
        {
         "name": "uri",
         "rawType": "object",
         "type": "string"
        },
        {
         "name": "label",
         "rawType": "object",
         "type": "string"
        }
       ],
       "ref": "0cea63c4-71d5-4905-b75b-1ab516534356",
       "rows": [
        [
         "105",
         "http://www.wikidata.org/entity/Q49122",
         "Harvard Law School"
        ],
        [
         "106",
         "http://www.wikidata.org/entity/Q499451",
         "Rutgers University"
        ]
       ],
       "shape": {
        "columns": 2,
        "rows": 2
       }
      },
      "text/html": [
       "<div>\n",
       "<style scoped>\n",
       "    .dataframe tbody tr th:only-of-type {\n",
       "        vertical-align: middle;\n",
       "    }\n",
       "\n",
       "    .dataframe tbody tr th {\n",
       "        vertical-align: top;\n",
       "    }\n",
       "\n",
       "    .dataframe thead th {\n",
       "        text-align: right;\n",
       "    }\n",
       "</style>\n",
       "<table border=\"1\" class=\"dataframe\">\n",
       "  <thead>\n",
       "    <tr style=\"text-align: right;\">\n",
       "      <th></th>\n",
       "      <th>uri</th>\n",
       "      <th>label</th>\n",
       "    </tr>\n",
       "  </thead>\n",
       "  <tbody>\n",
       "    <tr>\n",
       "      <th>105</th>\n",
       "      <td>http://www.wikidata.org/entity/Q49122</td>\n",
       "      <td>Harvard Law School</td>\n",
       "    </tr>\n",
       "    <tr>\n",
       "      <th>106</th>\n",
       "      <td>http://www.wikidata.org/entity/Q499451</td>\n",
       "      <td>Rutgers University</td>\n",
       "    </tr>\n",
       "  </tbody>\n",
       "</table>\n",
       "</div>"
      ],
      "text/plain": [
       "                                        uri               label\n",
       "105   http://www.wikidata.org/entity/Q49122  Harvard Law School\n",
       "106  http://www.wikidata.org/entity/Q499451  Rutgers University"
      ]
     },
     "execution_count": 149,
     "metadata": {},
     "output_type": "execute_result"
    }
   ],
   "source": [
    "df_p2 = df_in_use[['uriOrg','labelOrg']]\n",
    "df_p2 = df_p2.drop_duplicates()\n",
    "df_p2.columns=['uri', 'label']\n",
    "df_p2.head(2)"
   ]
  },
  {
   "cell_type": "code",
   "execution_count": 150,
   "metadata": {},
   "outputs": [],
   "source": [
    "### Add data to nodes\n",
    "\n",
    "## Prepare data to import\n",
    "l = dict([(e['uri'],\n",
    "     {'label':e['label'],\n",
    "      'bipartite':1}\n",
    "     ) for e in df_p2.to_dict(orient='records')])\n",
    "# print(str(l)[:200])"
   ]
  },
  {
   "cell_type": "code",
   "execution_count": 151,
   "metadata": {},
   "outputs": [
    {
     "name": "stdout",
     "output_type": "stream",
     "text": [
      "[('http://www.wikidata.org/entity/Q105771371',\n",
      "  {'bipartite': 0, 'birthYear': 1914, 'label': 'Leonard H. Straus'}),\n",
      " ('http://www.wikidata.org/entity/Q49122',\n",
      "  {'bipartite': 1, 'label': 'Harvard Law School'}),\n",
      " ('http://www.wikidata.org/entity/Q499451',\n",
      "  {'bipartite': 1, 'label': 'Rutgers University'})]\n"
     ]
    }
   ],
   "source": [
    "## Add attributes\n",
    "nx.set_node_attributes(bip_g, l)\n",
    "pprint.pprint(list(bip_g.nodes.data())[:3])"
   ]
  },
  {
   "cell_type": "markdown",
   "metadata": {},
   "source": [
    "#### Partition \n",
    "\n",
    "We can observe that there is one big partition, with approximately 5000 nodes, and around 42 small ones, comprizing 6 nodes or less\n",
    "\n",
    "\n",
    "We first explore small partitions"
   ]
  },
  {
   "cell_type": "code",
   "execution_count": 152,
   "metadata": {},
   "outputs": [
    {
     "name": "stdout",
     "output_type": "stream",
     "text": [
      "42\n",
      "[[39, 16], [1, 6], [38, 6], [24, 5], [10, 4]]\n"
     ]
    }
   ],
   "source": [
    "### Create a list of graphs, one per component\n",
    "S = [bip_g.subgraph(c).copy() for c in nx.connected_components(bip_g)]\n",
    "\n",
    "### i is the component index in the list S of graphs , len(s.nodes) is the nomber of nodes\n",
    "ln = sorted([[i,len(s.nodes)] for i,s in enumerate(S)], key = lambda row: row[1], reverse=True)\n",
    "print(len (ln))\n",
    "print(ln[:5])"
   ]
  },
  {
   "cell_type": "code",
   "execution_count": 153,
   "metadata": {},
   "outputs": [
    {
     "name": "stdout",
     "output_type": "stream",
     "text": [
      "[('http://www.wikidata.org/entity/Q120269787',\n",
      "  {'bipartite': 0, 'birthYear': 1908, 'label': 'Viktor Dzhaparidze'}),\n",
      " ('http://www.wikidata.org/entity/Q1425119',\n",
      "  {'bipartite': 1, 'label': 'Georgian Technical University'})]\n"
     ]
    }
   ],
   "source": [
    "### \n",
    "li = [6, 12, 30]    # [12, 15, 43]\n",
    "ll = [list(S[i[0]].nodes.data()) for i in ln if i[0] in li ]\n",
    "pprint.pprint(ll[0][:2])"
   ]
  },
  {
   "cell_type": "code",
   "execution_count": 154,
   "metadata": {},
   "outputs": [
    {
     "name": "stdout",
     "output_type": "stream",
     "text": [
      "True\n",
      "{'is_multigraph': False,\n",
      " 'is_directed': False,\n",
      " 'number_of_nodes': 6,\n",
      " 'number_of_edges': 3,\n",
      " '------': '------',\n",
      " 'is connected': False,\n",
      " 'components': 3,\n",
      " 'density': 0.2}\n"
     ]
    }
   ],
   "source": [
    "li = li\n",
    "pG = nx.Graph()\n",
    "for i in li:\n",
    "    ## ajoute au graphe les composantes en utilisant\n",
    "    # l'index ou position dans la liste de graphes 'S'\n",
    "    pG = nx.union(pG, S[i])\n",
    "print(bipartite.is_bipartite(pG))   \n",
    "naf.basic_graph_properties(pG)"
   ]
  },
  {
   "cell_type": "code",
   "execution_count": 155,
   "metadata": {},
   "outputs": [
    {
     "name": "stderr",
     "output_type": "stream",
     "text": [
      "C:\\Users\\laila\\AppData\\Local\\Temp\\ipykernel_17372\\2483013313.py:37: UserWarning: Tight layout not applied. The left and right margins cannot be made large enough to accommodate all Axes decorations.\n",
      "  plt.tight_layout(pad=60)\n"
     ]
    },
    {
     "data": {
      "image/png": "[encoded data removed]",
      "text/plain": [
       "<Figure size 1600x1000 with 1 Axes>"
      ]
     },
     "metadata": {},
     "output_type": "display_data"
    }
   ],
   "source": [
    "### Plot the graph\n",
    "\n",
    "g = pG\n",
    "\n",
    "graph_layout = 'kamada_kawai'\n",
    "n_k = 0.8\n",
    "sc = 20\n",
    "\n",
    "### Define the layout, i.e. the choice \n",
    "# of the algorithm for the representation of the graph.\n",
    "\n",
    "if graph_layout == 'fruchterman_reingold':\n",
    "    pos = nx.fruchterman_reingold_layout(g)\n",
    "elif graph_layout == 'kamada_kawai':\n",
    "    pos = nx.kamada_kawai_layout(g)\n",
    "elif graph_layout == 'spring_layout':\n",
    "    pos = nx.spring_layout(g, k = n_k, scale=sc)  \n",
    "else:\n",
    "    pos = nx.kamada_kawai_layout(g)\n",
    "\n",
    "# https://networkx.org/documentation/stable/reference/drawing.html\n",
    "plt.figure(figsize = (16,10))\n",
    "\n",
    "node_size = [d[1]*100 for d in nx.degree(g)]\n",
    "node_labels = dict([tuple(( n[0] , n[1]['label'] ))for n in g.nodes.data()])\n",
    "node_colors = ['red' if n[1]['bipartite'] == 0 else 'blue' for n in g.nodes.data()]\n",
    "edge_colors = ['blue' if n[2]['relaType'] == 'employment' \n",
    "               else 'red' if n[2]['relaType'] == 'membership' \n",
    "               else 'green' for n in g.edges.data()]\n",
    "\n",
    "\n",
    "nx.draw_networkx_nodes(g, pos,  node_color=node_colors, node_size=node_size, alpha=0.6)\n",
    "nx.draw_networkx_edges(g, pos, edge_color=edge_colors, width=2, alpha=0.6) # edgelist=ln, edge_color=c, \n",
    "nx.draw_networkx_labels(g, pos, labels=node_labels, alpha=0.7, font_size=10)\n",
    "\n",
    "### On peut augmenter ou diminuer ce paramètre pour ajuster le graphe\n",
    "plt.tight_layout(pad=60)\n",
    "#plt.savefig('images/small_bipartite_component.svg')\n",
    "plt.show()\n"
   ]
  },
  {
   "cell_type": "markdown",
   "metadata": {},
   "source": [
    "#### Biggest component"
   ]
  },
  {
   "cell_type": "code",
   "execution_count": 156,
   "metadata": {},
   "outputs": [
    {
     "name": "stdout",
     "output_type": "stream",
     "text": [
      "True\n",
      "{'is_multigraph': False,\n",
      " 'is_directed': False,\n",
      " 'number_of_nodes': 3,\n",
      " 'number_of_edges': 2,\n",
      " '------': '------',\n",
      " 'is connected': True,\n",
      " 'components': 1,\n",
      " 'density': 0.6666666666666666}\n"
     ]
    }
   ],
   "source": [
    "li = [0]\n",
    "big_u = nx.Graph()\n",
    "for i in li:\n",
    "    ## ajoute au graphe les composantes en utilisant\n",
    "    # l'index ou position dans la liste de graphes 'S'\n",
    "    big_u = nx.union(big_u, S[i])\n",
    "print(bipartite.is_bipartite(big_u))   \n",
    "naf.basic_graph_properties(big_u)"
   ]
  },
  {
   "cell_type": "code",
   "execution_count": 157,
   "metadata": {},
   "outputs": [
    {
     "name": "stdout",
     "output_type": "stream",
     "text": [
      "[('http://www.wikidata.org/entity/Q105771371',\n",
      "  {'bipartite': 0,\n",
      "   'birthYear': 1914,\n",
      "   'degree': 2,\n",
      "   'label': 'Leonard H. Straus'}),\n",
      " ('http://www.wikidata.org/entity/Q49122',\n",
      "  {'bipartite': 1, 'degree': 1, 'label': 'Harvard Law School'})]\n"
     ]
    }
   ],
   "source": [
    "### Add degree centrality to nodes\n",
    "degree = dict([(d[0], {'degree': d[1]}) for d in nx.degree(big_u)])\n",
    "nx.set_node_attributes(big_u, degree)\n",
    "pprint.pprint(list(big_u.nodes.data())[:2])"
   ]
  },
  {
   "cell_type": "code",
   "execution_count": 158,
   "metadata": {},
   "outputs": [
    {
     "name": "stdout",
     "output_type": "stream",
     "text": [
      "[('http://www.wikidata.org/entity/Q49122',\n",
      "  {'bipartite': 1,\n",
      "   'degree': 1,\n",
      "   'eigenvector': 0.5000000644180599,\n",
      "   'label': 'Harvard Law School'}),\n",
      " ('http://www.wikidata.org/entity/Q499451',\n",
      "  {'bipartite': 1,\n",
      "   'degree': 1,\n",
      "   'eigenvector': 0.5000000644180599,\n",
      "   'label': 'Rutgers University'})]\n"
     ]
    }
   ],
   "source": [
    "### Add eivenvalue to nodes\n",
    "eigenvector = nx.eigenvector_centrality(big_u, max_iter=300)\n",
    "nx.set_node_attributes(big_u, eigenvector, 'eigenvector')\n",
    "pprint.pprint(list(big_u.nodes.data())[1:3])"
   ]
  },
  {
   "cell_type": "code",
   "execution_count": 159,
   "metadata": {},
   "outputs": [
    {
     "name": "stdout",
     "output_type": "stream",
     "text": [
      "{'http://www.wikidata.org/entity/Q105771371': 1, 'http://www.wikidata.org/entity/Q49122': 1, 'http://www.wikidata.org/entity/Q499451': 1}\n"
     ]
    }
   ],
   "source": [
    "### A k-core is a maximal subgraph that contains nodes of degree k or more.\n",
    "# https://networkx.org/documentation/stable/reference/algorithms/generated/networkx.algorithms.core.core_number.html#networkx.algorithms.core.core_number\n",
    "\n",
    "core_numbers = nx.core_number(big_u)\n",
    "print(str(core_numbers)[:150])"
   ]
  },
  {
   "cell_type": "code",
   "execution_count": 160,
   "metadata": {},
   "outputs": [
    {
     "data": {
      "image/png": "[encoded data removed]",
      "text/plain": [
       "<Figure size 1000x800 with 1 Axes>"
      ]
     },
     "metadata": {},
     "output_type": "display_data"
    }
   ],
   "source": [
    "### Distribution of nodes per core layer\n",
    "l = [v for k,v in core_numbers.items()]\n",
    "ls = pd.Series(l)\n",
    "grouped = ls.groupby(ls).size()\n",
    "\n",
    "\n",
    "ax = grouped.plot.bar(stacked=True, rot=70, fontsize=9, figsize=(10,8))\n",
    "plt.title('Distribution of nodes per layers')\n",
    "\n",
    "## https://stackoverflow.com/questions/71320380/add-only-the-total-values-on-top-of-stacked-bars\n",
    "ax.bar_label(ax.containers[-1])\n",
    "\n",
    "plt.show()\n"
   ]
  },
  {
   "cell_type": "code",
   "execution_count": 161,
   "metadata": {},
   "outputs": [
    {
     "name": "stdout",
     "output_type": "stream",
     "text": [
      "Community 1: 3, ['http://www.wikidata.org/entity/Q105771371', 'http://www.wikidata.org/entity/Q49122', 'http://www.wikidata.org/entity/Q499451']\n"
     ]
    }
   ],
   "source": [
    "# Identify communities based on core numbers\n",
    "communities = {}\n",
    "for node, core_number in core_numbers.items():\n",
    "    if core_number not in communities:\n",
    "        communities[core_number] = [node]\n",
    "    else:\n",
    "        communities[core_number].append(node)\n",
    "\n",
    "# Print the communities\n",
    "cts = []\n",
    "for core_number, community in communities.items():\n",
    "    print(f\"Community {core_number}: {len(community)}, {community[:5]}\")\n",
    "    cts.append([core_number,len(community),community])\n",
    "\n"
   ]
  },
  {
   "cell_type": "code",
   "execution_count": 162,
   "metadata": {},
   "outputs": [
    {
     "name": "stdout",
     "output_type": "stream",
     "text": [
      "[1,\n",
      " 3,\n",
      " ['http://www.wikidata.org/entity/Q105771371',\n",
      "  'http://www.wikidata.org/entity/Q49122',\n",
      "  'http://www.wikidata.org/entity/Q499451']]\n"
     ]
    }
   ],
   "source": [
    "cts=sorted(cts, key=lambda x: x[0])\n",
    "p=[pprint.pprint([e[0],e[1],e[2][:3] ]) for e in cts]"
   ]
  },
  {
   "cell_type": "code",
   "execution_count": 163,
   "metadata": {},
   "outputs": [
    {
     "name": "stdout",
     "output_type": "stream",
     "text": [
      "0 []\n"
     ]
    }
   ],
   "source": [
    "### get all nodes with \n",
    "ln = [ k  for k,v in core_numbers.items()  if v >= 6]\n",
    "print(len(ln), ln[:2])"
   ]
  },
  {
   "cell_type": "code",
   "execution_count": 164,
   "metadata": {},
   "outputs": [
    {
     "data": {
      "text/plain": [
       "'cG = big_u.subgraph(ln)\\nnaf.basic_graph_properties(cG)\\npprint.pprint(list(cG.nodes.data())[:1])'"
      ]
     },
     "execution_count": 164,
     "metadata": {},
     "output_type": "execute_result"
    }
   ],
   "source": [
    "\"\"\"cG = big_u.subgraph(ln)\n",
    "naf.basic_graph_properties(cG)\n",
    "pprint.pprint(list(cG.nodes.data())[:1])\"\"\""
   ]
  },
  {
   "cell_type": "code",
   "execution_count": 165,
   "metadata": {},
   "outputs": [
    {
     "data": {
      "text/plain": [
       "'### Same result by using the k_core function\\nkc_G = nx.k_core(big_u, 6)\\nnaf.basic_graph_properties(kc_G)\\npprint.pprint(list(kc_G.nodes.data())[:1])'"
      ]
     },
     "execution_count": 165,
     "metadata": {},
     "output_type": "execute_result"
    }
   ],
   "source": [
    "\"\"\"### Same result by using the k_core function\n",
    "kc_G = nx.k_core(big_u, 6)\n",
    "naf.basic_graph_properties(kc_G)\n",
    "pprint.pprint(list(kc_G.nodes.data())[:1])\"\"\""
   ]
  },
  {
   "cell_type": "code",
   "execution_count": 166,
   "metadata": {},
   "outputs": [
    {
     "ename": "TypeError",
     "evalue": "describe_plot_integers_distribution() takes from 2 to 3 positional arguments but 4 were given",
     "output_type": "error",
     "traceback": [
      "\u001b[31m---------------------------------------------------------------------------\u001b[39m",
      "\u001b[31mTypeError\u001b[39m                                 Traceback (most recent call last)",
      "\u001b[36mCell\u001b[39m\u001b[36m \u001b[39m\u001b[32mIn[166]\u001b[39m\u001b[32m, line 3\u001b[39m\n\u001b[32m      1\u001b[39m \u001b[38;5;66;03m### Plot degree distribution\u001b[39;00m\n\u001b[32m      2\u001b[39m d = [d[\u001b[32m1\u001b[39m] \u001b[38;5;28;01mfor\u001b[39;00m d \u001b[38;5;129;01min\u001b[39;00m nx.degree(kc_G)]\n\u001b[32m----> \u001b[39m\u001b[32m3\u001b[39m \u001b[43mnaf\u001b[49m\u001b[43m.\u001b[49m\u001b[43mdescribe_plot_integers_distribution\u001b[49m\u001b[43m(\u001b[49m\u001b[43md\u001b[49m\u001b[43m,\u001b[49m\u001b[43m \u001b[49m\u001b[32;43m12\u001b[39;49m\u001b[43m,\u001b[49m\u001b[32;43m6\u001b[39;49m\u001b[43m,\u001b[49m\u001b[33;43m'\u001b[39;49m\u001b[33;43mDegree distribution\u001b[39;49m\u001b[33;43m'\u001b[39;49m\u001b[43m)\u001b[49m\n",
      "\u001b[31mTypeError\u001b[39m: describe_plot_integers_distribution() takes from 2 to 3 positional arguments but 4 were given"
     ]
    }
   ],
   "source": [
    "### Plot degree distribution\n",
    "d = [d[1] for d in nx.degree(kc_G)]\n",
    "naf.describe_plot_integers_distribution(d, 12,6,'Degree distribution')"
   ]
  },
  {
   "cell_type": "code",
   "execution_count": null,
   "metadata": {},
   "outputs": [],
   "source": [
    "### \n",
    "\n",
    "g = kc_G\n",
    "\n",
    "n_size = np.log(np.sqrt(nx.number_of_nodes(g)))* 50 #*25\n",
    "\n",
    "graph_layout = 'spring_layout'\n",
    "n_k = 0.5\n",
    "sc = 0.02\n",
    "\n",
    "### Define the layout, i.e. the choice \n",
    "# of the algorithm for the representation of the graph.\n",
    "\n",
    "if graph_layout == 'fruchterman_reingold':\n",
    "    pos = nx.fruchterman_reingold_layout(g)\n",
    "elif graph_layout == 'kamada_kawai':\n",
    "    pos = nx.kamada_kawai_layout(g)\n",
    "elif graph_layout == 'spring_layout':\n",
    "    pos = nx.spring_layout(g, k = n_k, scale=sc)  \n",
    "else:\n",
    "    pos = nx.kamada_kawai_layout(g)\n",
    "\n",
    "\n",
    "\n",
    "\n",
    "# https://networkx.org/documentation/stable/reference/drawing.html\n",
    "plt.figure(figsize = (n_size,n_size))\n",
    "\n",
    "\n",
    "\n",
    "## on définit ici l'algorythme avec lequel le traphe sera représenté\n",
    "\n",
    "# node_size = [d[1]*100 for d in nx.degree(g)]\n",
    "node_size = [d[1]*10000 for d in nx.eigenvector_centrality(g).items()]\n",
    "#print(node_size)\n",
    "\n",
    "#dict([tuple(( n[0] , n[1]['label'] ))for n in u.nodes.data()])\n",
    "node_labels =  dict(((u), \n",
    "                    str(d['label']))\n",
    "                    for u, d in g.nodes(data=True))\n",
    "\n",
    "node_colors = ['red' if n[1]['bipartite'] == 0 else 'blue' for n in g.nodes.data()]\n",
    "\n",
    "### On représente successivement les différentes sommets et arêtes,\n",
    "# puis on ajoute les labels\n",
    "nx.draw_networkx_nodes(g, pos,  node_color=node_colors, node_size=node_size, alpha=0.2)\n",
    "nx.draw_networkx_edges(g, pos, alpha=0.1) # edgelist=ln, edge_color=c, \n",
    "nx.draw_networkx_labels(g, pos, labels=node_labels, alpha=0.8, font_size=20)\n",
    "\n",
    "### On peut augmenter ou diminuer ce paramètre pour ajuster le graphe\n",
    "plt.tight_layout(pad=50)\n",
    "plt.savefig('images/biggest_bipartite_component_test.svg')\n",
    "plt.close()\n",
    "#plt.plot()"
   ]
  },
  {
   "cell_type": "markdown",
   "metadata": {},
   "source": [
    "#### Explore the degree centrality and eigenvector"
   ]
  },
  {
   "cell_type": "code",
   "execution_count": null,
   "metadata": {},
   "outputs": [],
   "source": [
    "export = pd.DataFrame(kc_G.nodes.data(), columns = ['id', 'attributes'])\n",
    "attributes = pd.json_normalize(export.attributes)\n",
    "\n",
    "export = export.join(pd.json_normalize(export.attributes)).set_index('id')\n",
    "export.drop(columns=['attributes'], inplace=True)\n",
    "round(attributes, 3)\n",
    "export.head(2)\n",
    "#pprint.pprint(list(nd[:3]))"
   ]
  },
  {
   "cell_type": "code",
   "execution_count": null,
   "metadata": {},
   "outputs": [],
   "source": [
    "### Most frequent persons/organisations by degree or eigenvector (replace in the sort clause !)\n",
    "## The degree is definitely higher for universities, but the eigenvector can also be high for persons\n",
    "# and this insofar as they studied in high-degree institutions\n",
    "export.sort_values(by='eigenvector', ascending=False)[['label', 'bipartite', 'degree', 'eigenvector']].iloc[:20]"
   ]
  },
  {
   "cell_type": "code",
   "execution_count": null,
   "metadata": {},
   "outputs": [],
   "source": [
    "### https://matplotlib.org/stable/api/_as_gen/matplotlib.pyplot.scatter.html\n",
    "# Different colors per class : https://vitalflux.com/python-scatter-plot-different-classes/\n",
    "# Legend : https://matplotlib.org/stable/api/_as_gen/matplotlib.pyplot.legend.html\n",
    "# Labels : https://stackoverflow.com/questions/14432557/matplotlib-scatter-plot-with-different-text-at-each-data-point\n",
    "\n",
    "\n",
    "### Please note the filter !\n",
    "#  \n",
    "## Values 0 : persons, 1 : organisations  / change rows iloc filter if needed ! \n",
    "exp = export[export.bipartite==0].sort_values(by='eigenvector', ascending=False).iloc[:30]\n",
    "\n",
    "### Adapt image size and police\n",
    "plt.figure(figsize=(10, 20))\n",
    "\n",
    "## Please consider:\n",
    "## https://how2matplotlib.com/matplotlib-scatter-label.html\n",
    "\n",
    "plt.scatter(exp['degree'][(exp.bipartite == 0)], \n",
    "            exp['eigenvector'][(exp.bipartite == 0)],\n",
    "           marker='o',\n",
    "           color='Coral',\n",
    "           label='pers'\n",
    "           )\n",
    "plt.scatter(exp['degree'][(exp.bipartite == 1)], #  | (exp.Parti == 'MED')],\n",
    "            exp['eigenvector'][(exp.bipartite == 1)], #  | (exp.Parti == 'MED')],\n",
    "           marker='D',\n",
    "           color='DarkCyan',\n",
    "           label='org')\n",
    "plt.xlabel('degree')\n",
    "plt.ylabel('eigenvector')\n",
    "\n",
    "for i,row in list(exp[['label', 'degree','eigenvector']].iterrows()):\n",
    "    plt.annotate(row['label'],(row['degree'], row['eigenvector']))\n",
    "plt.legend(title='Node type')\n",
    "#plt.savefig('plots/sieges_eigenvector_20210526.jpg')\n",
    "plt.show()"
   ]
  },
  {
   "cell_type": "code",
   "execution_count": null,
   "metadata": {},
   "outputs": [],
   "source": [
    "### https://matplotlib.org/stable/api/_as_gen/matplotlib.pyplot.scatter.html\n",
    "# Different colors per class : https://vitalflux.com/python-scatter-plot-different-classes/\n",
    "# Legend : https://matplotlib.org/stable/api/_as_gen/matplotlib.pyplot.legend.html\n",
    "# Labels : https://stackoverflow.com/questions/14432557/matplotlib-scatter-plot-with-different-text-at-each-data-point\n",
    "\n",
    "\n",
    "### Please note the filter !\n",
    "#  \n",
    "## Values 0 : persons, 1 : organisations  / change rows iloc filter if needed ! \n",
    "exp = export[export.bipartite==1].sort_values(by='eigenvector', ascending=False).iloc[:30]\n",
    "\n",
    "### Adapt image size and police\n",
    "plt.figure(figsize=(10, 20))\n",
    "\n",
    "## Please consider:\n",
    "## https://how2matplotlib.com/matplotlib-scatter-label.html\n",
    "\n",
    "plt.scatter(exp['degree'][(exp.bipartite == 0)], \n",
    "            exp['eigenvector'][(exp.bipartite == 0)],\n",
    "           marker='o',\n",
    "           color='Coral',\n",
    "           label='pers'\n",
    "           )\n",
    "plt.scatter(exp['degree'][(exp.bipartite == 1)], #  | (exp.Parti == 'MED')],\n",
    "            exp['eigenvector'][(exp.bipartite == 1)], #  | (exp.Parti == 'MED')],\n",
    "           marker='D',\n",
    "           color='DarkCyan',\n",
    "           label='org')\n",
    "plt.xlabel('degree')\n",
    "plt.ylabel('eigenvector')\n",
    "\n",
    "for i,row in list(exp[['label', 'degree','eigenvector']].iterrows()):\n",
    "    plt.annotate(row['label'],(row['degree'], row['eigenvector']))\n",
    "plt.legend(title='Node type')\n",
    "#plt.savefig('plots/sieges_eigenvector_20210526.jpg')\n",
    "plt.show()"
   ]
  },
  {
   "cell_type": "markdown",
   "metadata": {},
   "source": [
    "## Create graph of persons relationships during studies"
   ]
  },
  {
   "cell_type": "code",
   "execution_count": 167,
   "metadata": {},
   "outputs": [
    {
     "name": "stdout",
     "output_type": "stream",
     "text": [
      "['uriPer', 'labelPer', 'birthYear', 'relaType', 'uriOrg', 'labelOrg', 'nTypes', 'typesO', 'periods', 'listTypesO', 'listTokensTypesO', 'BeginY', 'EndY']\n"
     ]
    },
    {
     "data": {
      "application/vnd.microsoft.datawrangler.viewer.v0+json": {
       "columns": [
        {
         "name": "index",
         "rawType": "int64",
         "type": "integer"
        },
        {
         "name": "uriPer",
         "rawType": "object",
         "type": "string"
        },
        {
         "name": "labelPer",
         "rawType": "object",
         "type": "string"
        },
        {
         "name": "birthYear",
         "rawType": "int64",
         "type": "integer"
        },
        {
         "name": "relaType",
         "rawType": "object",
         "type": "string"
        },
        {
         "name": "uriOrg",
         "rawType": "object",
         "type": "string"
        },
        {
         "name": "labelOrg",
         "rawType": "object",
         "type": "string"
        },
        {
         "name": "nTypes",
         "rawType": "int64",
         "type": "integer"
        },
        {
         "name": "typesO",
         "rawType": "object",
         "type": "string"
        },
        {
         "name": "periods",
         "rawType": "object",
         "type": "string"
        },
        {
         "name": "listTypesO",
         "rawType": "object",
         "type": "unknown"
        },
        {
         "name": "listTokensTypesO",
         "rawType": "object",
         "type": "unknown"
        },
        {
         "name": "BeginY",
         "rawType": "float64",
         "type": "float"
        },
        {
         "name": "EndY",
         "rawType": "float64",
         "type": "float"
        }
       ],
       "ref": "37728090-ca11-4ab4-8f72-23c6ca452ea0",
       "rows": [
        [
         "0",
         "http://www.wikidata.org/entity/Q100158636",
         "Amanda Pritchard",
         "1976",
         "education",
         "http://www.wikidata.org/entity/Q34433",
         "University of Oxford",
         "6",
         "educational organization | public university | exempt charity | collegiate university | organization | higher education institution",
         "1961-1980",
         "['collegiate university', 'educational organization', 'exempt charity', 'higher education institution', 'organization', 'public university']",
         "['charity', 'collegiate', 'education', 'educational', 'exempt', 'higher', 'institution', 'organization', 'public', 'university']",
         "1994.0",
         "2005.0"
        ],
        [
         "1",
         "http://www.wikidata.org/entity/Q100158636",
         "Amanda Pritchard",
         "1976",
         "education",
         "http://www.wikidata.org/entity/Q5316528",
         "Durham Johnston Comprehensive School",
         "2",
         "secondary school | community school",
         "1961-1980",
         "['community school', 'secondary school']",
         "['community', 'school', 'secondary']",
         "1994.0",
         "2005.0"
        ]
       ],
       "shape": {
        "columns": 13,
        "rows": 2
       }
      },
      "text/html": [
       "<div>\n",
       "<style scoped>\n",
       "    .dataframe tbody tr th:only-of-type {\n",
       "        vertical-align: middle;\n",
       "    }\n",
       "\n",
       "    .dataframe tbody tr th {\n",
       "        vertical-align: top;\n",
       "    }\n",
       "\n",
       "    .dataframe thead th {\n",
       "        text-align: right;\n",
       "    }\n",
       "</style>\n",
       "<table border=\"1\" class=\"dataframe\">\n",
       "  <thead>\n",
       "    <tr style=\"text-align: right;\">\n",
       "      <th></th>\n",
       "      <th>uriPer</th>\n",
       "      <th>labelPer</th>\n",
       "      <th>birthYear</th>\n",
       "      <th>relaType</th>\n",
       "      <th>uriOrg</th>\n",
       "      <th>labelOrg</th>\n",
       "      <th>nTypes</th>\n",
       "      <th>typesO</th>\n",
       "      <th>periods</th>\n",
       "      <th>listTypesO</th>\n",
       "      <th>listTokensTypesO</th>\n",
       "      <th>BeginY</th>\n",
       "      <th>EndY</th>\n",
       "    </tr>\n",
       "  </thead>\n",
       "  <tbody>\n",
       "    <tr>\n",
       "      <th>0</th>\n",
       "      <td>http://www.wikidata.org/entity/Q100158636</td>\n",
       "      <td>Amanda Pritchard</td>\n",
       "      <td>1976</td>\n",
       "      <td>education</td>\n",
       "      <td>http://www.wikidata.org/entity/Q34433</td>\n",
       "      <td>University of Oxford</td>\n",
       "      <td>6</td>\n",
       "      <td>educational organization | public university |...</td>\n",
       "      <td>1961-1980</td>\n",
       "      <td>[collegiate university, educational organizati...</td>\n",
       "      <td>[charity, collegiate, education, educational, ...</td>\n",
       "      <td>1994.0</td>\n",
       "      <td>2005.0</td>\n",
       "    </tr>\n",
       "    <tr>\n",
       "      <th>1</th>\n",
       "      <td>http://www.wikidata.org/entity/Q100158636</td>\n",
       "      <td>Amanda Pritchard</td>\n",
       "      <td>1976</td>\n",
       "      <td>education</td>\n",
       "      <td>http://www.wikidata.org/entity/Q5316528</td>\n",
       "      <td>Durham Johnston Comprehensive School</td>\n",
       "      <td>2</td>\n",
       "      <td>secondary school | community school</td>\n",
       "      <td>1961-1980</td>\n",
       "      <td>[community school, secondary school]</td>\n",
       "      <td>[community, school, secondary]</td>\n",
       "      <td>1994.0</td>\n",
       "      <td>2005.0</td>\n",
       "    </tr>\n",
       "  </tbody>\n",
       "</table>\n",
       "</div>"
      ],
      "text/plain": [
       "                                      uriPer          labelPer  birthYear  \\\n",
       "0  http://www.wikidata.org/entity/Q100158636  Amanda Pritchard       1976   \n",
       "1  http://www.wikidata.org/entity/Q100158636  Amanda Pritchard       1976   \n",
       "\n",
       "    relaType                                   uriOrg  \\\n",
       "0  education    http://www.wikidata.org/entity/Q34433   \n",
       "1  education  http://www.wikidata.org/entity/Q5316528   \n",
       "\n",
       "                               labelOrg  nTypes  \\\n",
       "0                  University of Oxford       6   \n",
       "1  Durham Johnston Comprehensive School       2   \n",
       "\n",
       "                                              typesO    periods  \\\n",
       "0  educational organization | public university |...  1961-1980   \n",
       "1                secondary school | community school  1961-1980   \n",
       "\n",
       "                                          listTypesO  \\\n",
       "0  [collegiate university, educational organizati...   \n",
       "1               [community school, secondary school]   \n",
       "\n",
       "                                    listTokensTypesO  BeginY    EndY  \n",
       "0  [charity, collegiate, education, educational, ...  1994.0  2005.0  \n",
       "1                     [community, school, secondary]  1994.0  2005.0  "
      ]
     },
     "execution_count": 167,
     "metadata": {},
     "output_type": "execute_result"
    }
   ],
   "source": [
    "print(list(df_p.columns))\n",
    "df_p.head(2)"
   ]
  },
  {
   "cell_type": "markdown",
   "metadata": {},
   "source": [
    "### Prepare and create the graph"
   ]
  },
  {
   "cell_type": "code",
   "execution_count": 168,
   "metadata": {},
   "outputs": [
    {
     "name": "stdout",
     "output_type": "stream",
     "text": [
      "3288\n"
     ]
    }
   ],
   "source": [
    "### Select the columns that will be used\n",
    "df_sel = df_p[df_p.relaType=='education'][['uriPer','uriOrg', 'labelOrg', 'BeginY','EndY', 'periods']].copy(deep=True)\n",
    "print(len(df_sel))"
   ]
  },
  {
   "cell_type": "code",
   "execution_count": 169,
   "metadata": {},
   "outputs": [
    {
     "name": "stdout",
     "output_type": "stream",
     "text": [
      "64454\n"
     ]
    }
   ],
   "source": [
    "### Join on common organisation -> produces a lot of rows !\n",
    "merged = pd.merge(df_sel, df_sel, on=['uriOrg', 'labelOrg'])\n",
    "print(len(merged))\n"
   ]
  },
  {
   "cell_type": "code",
   "execution_count": 170,
   "metadata": {},
   "outputs": [
    {
     "name": "stdout",
     "output_type": "stream",
     "text": [
      "30583\n"
     ]
    }
   ],
   "source": [
    "### Eliminate double rows :relationship A-B but relationship B-A\n",
    "merged = merged[merged['uriPer_x'] < (merged['uriPer_y'])]\n",
    "print(len(merged))"
   ]
  },
  {
   "cell_type": "code",
   "execution_count": 171,
   "metadata": {},
   "outputs": [
    {
     "name": "stdout",
     "output_type": "stream",
     "text": [
      "8495\n"
     ]
    }
   ],
   "source": [
    "### Restrict time overlap (allow only 8 years overlap) — could be extended to have a larger result\n",
    "merged = merged[(merged['BeginY_y']+2 < merged['EndY_x']-2) & (merged['BeginY_x']+2 < merged['EndY_y']-2)]\n",
    "print(len(merged))\n",
    "merged = merged[['uriPer_x', 'uriPer_y', 'uriOrg', 'labelOrg', 'periods_x', 'BeginY_x', 'EndY_x',  'BeginY_y', 'EndY_y', 'periods_y']]\n",
    "\n"
   ]
  },
  {
   "cell_type": "code",
   "execution_count": 172,
   "metadata": {},
   "outputs": [
    {
     "name": "stdout",
     "output_type": "stream",
     "text": [
      "8495\n",
      "['uriPer_x', 'uriPer_y', 'uriOrg', 'labelOrg', 'periods_x', 'BeginY_x', 'EndY_x', 'BeginY_y', 'EndY_y', 'periods_y']\n"
     ]
    },
    {
     "data": {
      "application/vnd.microsoft.datawrangler.viewer.v0+json": {
       "columns": [
        {
         "name": "index",
         "rawType": "int64",
         "type": "integer"
        },
        {
         "name": "uriPer_x",
         "rawType": "object",
         "type": "string"
        },
        {
         "name": "uriPer_y",
         "rawType": "object",
         "type": "string"
        },
        {
         "name": "uriOrg",
         "rawType": "object",
         "type": "string"
        },
        {
         "name": "labelOrg",
         "rawType": "object",
         "type": "string"
        },
        {
         "name": "periods_x",
         "rawType": "object",
         "type": "string"
        },
        {
         "name": "BeginY_x",
         "rawType": "float64",
         "type": "float"
        },
        {
         "name": "EndY_x",
         "rawType": "float64",
         "type": "float"
        },
        {
         "name": "BeginY_y",
         "rawType": "float64",
         "type": "float"
        },
        {
         "name": "EndY_y",
         "rawType": "float64",
         "type": "float"
        },
        {
         "name": "periods_y",
         "rawType": "object",
         "type": "string"
        }
       ],
       "ref": "c3d14ead-1911-47d9-822f-a8ba6cd4c0c7",
       "rows": [
        [
         "3",
         "http://www.wikidata.org/entity/Q100158636",
         "http://www.wikidata.org/entity/Q131551153",
         "http://www.wikidata.org/entity/Q34433",
         "University of Oxford",
         "1961-1980",
         "1994.0",
         "2005.0",
         "1991.0",
         "2002.0",
         "1961-1980"
        ],
        [
         "5",
         "http://www.wikidata.org/entity/Q100158636",
         "http://www.wikidata.org/entity/Q16222044",
         "http://www.wikidata.org/entity/Q34433",
         "University of Oxford",
         "1961-1980",
         "1994.0",
         "2005.0",
         "2000.0",
         "2011.0",
         "1981-2000"
        ],
        [
         "6",
         "http://www.wikidata.org/entity/Q100158636",
         "http://www.wikidata.org/entity/Q18150111",
         "http://www.wikidata.org/entity/Q34433",
         "University of Oxford",
         "1961-1980",
         "1994.0",
         "2005.0",
         "1997.0",
         "2008.0",
         "1961-1980"
        ],
        [
         "8",
         "http://www.wikidata.org/entity/Q100158636",
         "http://www.wikidata.org/entity/Q37321267",
         "http://www.wikidata.org/entity/Q34433",
         "University of Oxford",
         "1961-1980",
         "1994.0",
         "2005.0",
         "1997.0",
         "2008.0",
         "1961-1980"
        ],
        [
         "9",
         "http://www.wikidata.org/entity/Q100158636",
         "http://www.wikidata.org/entity/Q42594329",
         "http://www.wikidata.org/entity/Q34433",
         "University of Oxford",
         "1961-1980",
         "1994.0",
         "2005.0",
         "1994.0",
         "2005.0",
         "1961-1980"
        ]
       ],
       "shape": {
        "columns": 10,
        "rows": 5
       }
      },
      "text/html": [
       "<div>\n",
       "<style scoped>\n",
       "    .dataframe tbody tr th:only-of-type {\n",
       "        vertical-align: middle;\n",
       "    }\n",
       "\n",
       "    .dataframe tbody tr th {\n",
       "        vertical-align: top;\n",
       "    }\n",
       "\n",
       "    .dataframe thead th {\n",
       "        text-align: right;\n",
       "    }\n",
       "</style>\n",
       "<table border=\"1\" class=\"dataframe\">\n",
       "  <thead>\n",
       "    <tr style=\"text-align: right;\">\n",
       "      <th></th>\n",
       "      <th>uriPer_x</th>\n",
       "      <th>uriPer_y</th>\n",
       "      <th>uriOrg</th>\n",
       "      <th>labelOrg</th>\n",
       "      <th>periods_x</th>\n",
       "      <th>BeginY_x</th>\n",
       "      <th>EndY_x</th>\n",
       "      <th>BeginY_y</th>\n",
       "      <th>EndY_y</th>\n",
       "      <th>periods_y</th>\n",
       "    </tr>\n",
       "  </thead>\n",
       "  <tbody>\n",
       "    <tr>\n",
       "      <th>3</th>\n",
       "      <td>http://www.wikidata.org/entity/Q100158636</td>\n",
       "      <td>http://www.wikidata.org/entity/Q131551153</td>\n",
       "      <td>http://www.wikidata.org/entity/Q34433</td>\n",
       "      <td>University of Oxford</td>\n",
       "      <td>1961-1980</td>\n",
       "      <td>1994.0</td>\n",
       "      <td>2005.0</td>\n",
       "      <td>1991.0</td>\n",
       "      <td>2002.0</td>\n",
       "      <td>1961-1980</td>\n",
       "    </tr>\n",
       "    <tr>\n",
       "      <th>5</th>\n",
       "      <td>http://www.wikidata.org/entity/Q100158636</td>\n",
       "      <td>http://www.wikidata.org/entity/Q16222044</td>\n",
       "      <td>http://www.wikidata.org/entity/Q34433</td>\n",
       "      <td>University of Oxford</td>\n",
       "      <td>1961-1980</td>\n",
       "      <td>1994.0</td>\n",
       "      <td>2005.0</td>\n",
       "      <td>2000.0</td>\n",
       "      <td>2011.0</td>\n",
       "      <td>1981-2000</td>\n",
       "    </tr>\n",
       "    <tr>\n",
       "      <th>6</th>\n",
       "      <td>http://www.wikidata.org/entity/Q100158636</td>\n",
       "      <td>http://www.wikidata.org/entity/Q18150111</td>\n",
       "      <td>http://www.wikidata.org/entity/Q34433</td>\n",
       "      <td>University of Oxford</td>\n",
       "      <td>1961-1980</td>\n",
       "      <td>1994.0</td>\n",
       "      <td>2005.0</td>\n",
       "      <td>1997.0</td>\n",
       "      <td>2008.0</td>\n",
       "      <td>1961-1980</td>\n",
       "    </tr>\n",
       "    <tr>\n",
       "      <th>8</th>\n",
       "      <td>http://www.wikidata.org/entity/Q100158636</td>\n",
       "      <td>http://www.wikidata.org/entity/Q37321267</td>\n",
       "      <td>http://www.wikidata.org/entity/Q34433</td>\n",
       "      <td>University of Oxford</td>\n",
       "      <td>1961-1980</td>\n",
       "      <td>1994.0</td>\n",
       "      <td>2005.0</td>\n",
       "      <td>1997.0</td>\n",
       "      <td>2008.0</td>\n",
       "      <td>1961-1980</td>\n",
       "    </tr>\n",
       "    <tr>\n",
       "      <th>9</th>\n",
       "      <td>http://www.wikidata.org/entity/Q100158636</td>\n",
       "      <td>http://www.wikidata.org/entity/Q42594329</td>\n",
       "      <td>http://www.wikidata.org/entity/Q34433</td>\n",
       "      <td>University of Oxford</td>\n",
       "      <td>1961-1980</td>\n",
       "      <td>1994.0</td>\n",
       "      <td>2005.0</td>\n",
       "      <td>1994.0</td>\n",
       "      <td>2005.0</td>\n",
       "      <td>1961-1980</td>\n",
       "    </tr>\n",
       "  </tbody>\n",
       "</table>\n",
       "</div>"
      ],
      "text/plain": [
       "                                    uriPer_x  \\\n",
       "3  http://www.wikidata.org/entity/Q100158636   \n",
       "5  http://www.wikidata.org/entity/Q100158636   \n",
       "6  http://www.wikidata.org/entity/Q100158636   \n",
       "8  http://www.wikidata.org/entity/Q100158636   \n",
       "9  http://www.wikidata.org/entity/Q100158636   \n",
       "\n",
       "                                    uriPer_y  \\\n",
       "3  http://www.wikidata.org/entity/Q131551153   \n",
       "5   http://www.wikidata.org/entity/Q16222044   \n",
       "6   http://www.wikidata.org/entity/Q18150111   \n",
       "8   http://www.wikidata.org/entity/Q37321267   \n",
       "9   http://www.wikidata.org/entity/Q42594329   \n",
       "\n",
       "                                  uriOrg              labelOrg  periods_x  \\\n",
       "3  http://www.wikidata.org/entity/Q34433  University of Oxford  1961-1980   \n",
       "5  http://www.wikidata.org/entity/Q34433  University of Oxford  1961-1980   \n",
       "6  http://www.wikidata.org/entity/Q34433  University of Oxford  1961-1980   \n",
       "8  http://www.wikidata.org/entity/Q34433  University of Oxford  1961-1980   \n",
       "9  http://www.wikidata.org/entity/Q34433  University of Oxford  1961-1980   \n",
       "\n",
       "   BeginY_x  EndY_x  BeginY_y  EndY_y  periods_y  \n",
       "3    1994.0  2005.0    1991.0  2002.0  1961-1980  \n",
       "5    1994.0  2005.0    2000.0  2011.0  1981-2000  \n",
       "6    1994.0  2005.0    1997.0  2008.0  1961-1980  \n",
       "8    1994.0  2005.0    1997.0  2008.0  1961-1980  \n",
       "9    1994.0  2005.0    1994.0  2005.0  1961-1980  "
      ]
     },
     "execution_count": 172,
     "metadata": {},
     "output_type": "execute_result"
    }
   ],
   "source": [
    "print(len(merged))\n",
    "print(list(merged.columns))\n",
    "merged.head()"
   ]
  },
  {
   "cell_type": "code",
   "execution_count": 173,
   "metadata": {},
   "outputs": [
    {
     "name": "stdout",
     "output_type": "stream",
     "text": [
      "8302\n"
     ]
    }
   ],
   "source": [
    "### Group by persons' pairs and count/aggregate organisations\n",
    "\n",
    "## This is needed because the nx.add_edges_from() function applies\n",
    "# a DISTINCT approach and information will be lost if two persons\n",
    "# are related by more than one organisation \n",
    "\n",
    "gr_mer = merged.groupby(['uriPer_x', 'uriPer_y', 'periods_x', 'BeginY_x', 'EndY_x', 'BeginY_y', 'EndY_y', 'periods_y'], as_index = False)\\\n",
    "    .agg({'labelOrg': '|'.join, 'uriOrg': '|'.join})\n",
    "gr_mer['number'] = gr_mer.labelOrg.apply(lambda x : len(x.split('|')))\n",
    "print(len(gr_mer))\n"
   ]
  },
  {
   "cell_type": "code",
   "execution_count": 174,
   "metadata": {},
   "outputs": [],
   "source": [
    "### change columns names\n",
    "gr_mer.columns= ['uriPer_x', 'uriPer_y', 'periods_x', 'BeginY_x', 'EndY_x', 'BeginY_y', 'EndY_y', 'periods_y', 'orgs', 'uriOrgs', 'numberOrgs']"
   ]
  },
  {
   "cell_type": "code",
   "execution_count": 175,
   "metadata": {},
   "outputs": [
    {
     "data": {
      "application/vnd.microsoft.datawrangler.viewer.v0+json": {
       "columns": [
        {
         "name": "index",
         "rawType": "int64",
         "type": "integer"
        },
        {
         "name": "uriPer_x",
         "rawType": "object",
         "type": "string"
        },
        {
         "name": "uriPer_y",
         "rawType": "object",
         "type": "string"
        },
        {
         "name": "orgs",
         "rawType": "object",
         "type": "string"
        },
        {
         "name": "numberOrgs",
         "rawType": "int64",
         "type": "integer"
        },
        {
         "name": "uriOrgs",
         "rawType": "object",
         "type": "string"
        },
        {
         "name": "periods_x",
         "rawType": "object",
         "type": "string"
        },
        {
         "name": "BeginY_x",
         "rawType": "float64",
         "type": "float"
        },
        {
         "name": "EndY_x",
         "rawType": "float64",
         "type": "float"
        },
        {
         "name": "BeginY_y",
         "rawType": "float64",
         "type": "float"
        },
        {
         "name": "EndY_y",
         "rawType": "float64",
         "type": "float"
        },
        {
         "name": "periods_y",
         "rawType": "object",
         "type": "string"
        }
       ],
       "ref": "53ae0b1b-25c4-4abd-83c4-0bc6de255863",
       "rows": [
        [
         "0",
         "http://www.wikidata.org/entity/Q100158636",
         "http://www.wikidata.org/entity/Q131551153",
         "University of Oxford",
         "1",
         "http://www.wikidata.org/entity/Q34433",
         "1961-1980",
         "1994.0",
         "2005.0",
         "1991.0",
         "2002.0",
         "1961-1980"
        ],
        [
         "1",
         "http://www.wikidata.org/entity/Q100158636",
         "http://www.wikidata.org/entity/Q16222044",
         "University of Oxford",
         "1",
         "http://www.wikidata.org/entity/Q34433",
         "1961-1980",
         "1994.0",
         "2005.0",
         "2000.0",
         "2011.0",
         "1981-2000"
        ]
       ],
       "shape": {
        "columns": 11,
        "rows": 2
       }
      },
      "text/html": [
       "<div>\n",
       "<style scoped>\n",
       "    .dataframe tbody tr th:only-of-type {\n",
       "        vertical-align: middle;\n",
       "    }\n",
       "\n",
       "    .dataframe tbody tr th {\n",
       "        vertical-align: top;\n",
       "    }\n",
       "\n",
       "    .dataframe thead th {\n",
       "        text-align: right;\n",
       "    }\n",
       "</style>\n",
       "<table border=\"1\" class=\"dataframe\">\n",
       "  <thead>\n",
       "    <tr style=\"text-align: right;\">\n",
       "      <th></th>\n",
       "      <th>uriPer_x</th>\n",
       "      <th>uriPer_y</th>\n",
       "      <th>orgs</th>\n",
       "      <th>numberOrgs</th>\n",
       "      <th>uriOrgs</th>\n",
       "      <th>periods_x</th>\n",
       "      <th>BeginY_x</th>\n",
       "      <th>EndY_x</th>\n",
       "      <th>BeginY_y</th>\n",
       "      <th>EndY_y</th>\n",
       "      <th>periods_y</th>\n",
       "    </tr>\n",
       "  </thead>\n",
       "  <tbody>\n",
       "    <tr>\n",
       "      <th>0</th>\n",
       "      <td>http://www.wikidata.org/entity/Q100158636</td>\n",
       "      <td>http://www.wikidata.org/entity/Q131551153</td>\n",
       "      <td>University of Oxford</td>\n",
       "      <td>1</td>\n",
       "      <td>http://www.wikidata.org/entity/Q34433</td>\n",
       "      <td>1961-1980</td>\n",
       "      <td>1994.0</td>\n",
       "      <td>2005.0</td>\n",
       "      <td>1991.0</td>\n",
       "      <td>2002.0</td>\n",
       "      <td>1961-1980</td>\n",
       "    </tr>\n",
       "    <tr>\n",
       "      <th>1</th>\n",
       "      <td>http://www.wikidata.org/entity/Q100158636</td>\n",
       "      <td>http://www.wikidata.org/entity/Q16222044</td>\n",
       "      <td>University of Oxford</td>\n",
       "      <td>1</td>\n",
       "      <td>http://www.wikidata.org/entity/Q34433</td>\n",
       "      <td>1961-1980</td>\n",
       "      <td>1994.0</td>\n",
       "      <td>2005.0</td>\n",
       "      <td>2000.0</td>\n",
       "      <td>2011.0</td>\n",
       "      <td>1981-2000</td>\n",
       "    </tr>\n",
       "  </tbody>\n",
       "</table>\n",
       "</div>"
      ],
      "text/plain": [
       "                                    uriPer_x  \\\n",
       "0  http://www.wikidata.org/entity/Q100158636   \n",
       "1  http://www.wikidata.org/entity/Q100158636   \n",
       "\n",
       "                                    uriPer_y                  orgs  \\\n",
       "0  http://www.wikidata.org/entity/Q131551153  University of Oxford   \n",
       "1   http://www.wikidata.org/entity/Q16222044  University of Oxford   \n",
       "\n",
       "   numberOrgs                                uriOrgs  periods_x  BeginY_x  \\\n",
       "0           1  http://www.wikidata.org/entity/Q34433  1961-1980    1994.0   \n",
       "1           1  http://www.wikidata.org/entity/Q34433  1961-1980    1994.0   \n",
       "\n",
       "   EndY_x  BeginY_y  EndY_y  periods_y  \n",
       "0  2005.0    1991.0  2002.0  1961-1980  \n",
       "1  2005.0    2000.0  2011.0  1981-2000  "
      ]
     },
     "execution_count": 175,
     "metadata": {},
     "output_type": "execute_result"
    }
   ],
   "source": [
    "### change columns positions\n",
    "gr_mer = gr_mer[['uriPer_x', 'uriPer_y', 'orgs', 'numberOrgs', 'uriOrgs', 'periods_x', 'BeginY_x', 'EndY_x', 'BeginY_y', 'EndY_y', 'periods_y']]\n",
    "gr_mer.head(2)"
   ]
  },
  {
   "cell_type": "code",
   "execution_count": 177,
   "metadata": {},
   "outputs": [
    {
     "name": "stdout",
     "output_type": "stream",
     "text": [
      "Written!\n"
     ]
    }
   ],
   "source": [
    "### Store the information from the SPARQL query in a CSV file\n",
    "# in order to be able to upload it witout executing the query again\n",
    "file_add = '../persons_common_education.csv'\n",
    "try:\n",
    "    gr_mer.to_csv(file_add)\n",
    "    print('Written!')\n",
    "except Exception as e:\n",
    "    print(e)\n"
   ]
  },
  {
   "cell_type": "code",
   "execution_count": 178,
   "metadata": {},
   "outputs": [
    {
     "data": {
      "application/vnd.microsoft.datawrangler.viewer.v0+json": {
       "columns": [
        {
         "name": "index",
         "rawType": "int64",
         "type": "integer"
        },
        {
         "name": "uriPer_x",
         "rawType": "object",
         "type": "string"
        },
        {
         "name": "uriPer_y",
         "rawType": "object",
         "type": "string"
        },
        {
         "name": "orgs",
         "rawType": "object",
         "type": "string"
        },
        {
         "name": "numberOrgs",
         "rawType": "int64",
         "type": "integer"
        }
       ],
       "ref": "cbb5eb7b-5f02-467a-9ebb-33df114f8c10",
       "rows": [
        [
         "3204",
         "http://www.wikidata.org/entity/Q123396704",
         "http://www.wikidata.org/entity/Q124589753",
         "IAE Lyon, University of Lyon School Management|Emlyon Business School|Jean Moulin University - Lyon 3",
         "3"
        ],
        [
         "5117",
         "http://www.wikidata.org/entity/Q14927550",
         "http://www.wikidata.org/entity/Q16728313",
         "Harvard University|Harvard College|Harvard Business School",
         "3"
        ],
        [
         "7513",
         "http://www.wikidata.org/entity/Q3443484",
         "http://www.wikidata.org/entity/Q348874",
         "Massachusetts Institute of Technology|Sloan Fellows Program|MIT Sloan School of Management",
         "3"
        ],
        [
         "2277",
         "http://www.wikidata.org/entity/Q114561393",
         "http://www.wikidata.org/entity/Q33197585",
         "Emlyon Business School|Institut National des Sciences Appliquées de Lyon",
         "2"
        ],
        [
         "3240",
         "http://www.wikidata.org/entity/Q123396704",
         "http://www.wikidata.org/entity/Q62572964",
         "IAE Lyon, University of Lyon School Management|Emlyon Business School",
         "2"
        ],
        [
         "973",
         "http://www.wikidata.org/entity/Q107749830",
         "http://www.wikidata.org/entity/Q96593178",
         "Tel Aviv University|Harvard University",
         "2"
        ],
        [
         "3981",
         "http://www.wikidata.org/entity/Q125627036",
         "http://www.wikidata.org/entity/Q125737767",
         "Emlyon Business School|Jean Moulin University - Lyon 3",
         "2"
        ]
       ],
       "shape": {
        "columns": 4,
        "rows": 7
       }
      },
      "text/html": [
       "<div>\n",
       "<style scoped>\n",
       "    .dataframe tbody tr th:only-of-type {\n",
       "        vertical-align: middle;\n",
       "    }\n",
       "\n",
       "    .dataframe tbody tr th {\n",
       "        vertical-align: top;\n",
       "    }\n",
       "\n",
       "    .dataframe thead th {\n",
       "        text-align: right;\n",
       "    }\n",
       "</style>\n",
       "<table border=\"1\" class=\"dataframe\">\n",
       "  <thead>\n",
       "    <tr style=\"text-align: right;\">\n",
       "      <th></th>\n",
       "      <th>uriPer_x</th>\n",
       "      <th>uriPer_y</th>\n",
       "      <th>orgs</th>\n",
       "      <th>numberOrgs</th>\n",
       "    </tr>\n",
       "  </thead>\n",
       "  <tbody>\n",
       "    <tr>\n",
       "      <th>3204</th>\n",
       "      <td>http://www.wikidata.org/entity/Q123396704</td>\n",
       "      <td>http://www.wikidata.org/entity/Q124589753</td>\n",
       "      <td>IAE Lyon, University of Lyon School Management...</td>\n",
       "      <td>3</td>\n",
       "    </tr>\n",
       "    <tr>\n",
       "      <th>5117</th>\n",
       "      <td>http://www.wikidata.org/entity/Q14927550</td>\n",
       "      <td>http://www.wikidata.org/entity/Q16728313</td>\n",
       "      <td>Harvard University|Harvard College|Harvard Bus...</td>\n",
       "      <td>3</td>\n",
       "    </tr>\n",
       "    <tr>\n",
       "      <th>7513</th>\n",
       "      <td>http://www.wikidata.org/entity/Q3443484</td>\n",
       "      <td>http://www.wikidata.org/entity/Q348874</td>\n",
       "      <td>Massachusetts Institute of Technology|Sloan Fe...</td>\n",
       "      <td>3</td>\n",
       "    </tr>\n",
       "    <tr>\n",
       "      <th>2277</th>\n",
       "      <td>http://www.wikidata.org/entity/Q114561393</td>\n",
       "      <td>http://www.wikidata.org/entity/Q33197585</td>\n",
       "      <td>Emlyon Business School|Institut National des S...</td>\n",
       "      <td>2</td>\n",
       "    </tr>\n",
       "    <tr>\n",
       "      <th>3240</th>\n",
       "      <td>http://www.wikidata.org/entity/Q123396704</td>\n",
       "      <td>http://www.wikidata.org/entity/Q62572964</td>\n",
       "      <td>IAE Lyon, University of Lyon School Management...</td>\n",
       "      <td>2</td>\n",
       "    </tr>\n",
       "    <tr>\n",
       "      <th>973</th>\n",
       "      <td>http://www.wikidata.org/entity/Q107749830</td>\n",
       "      <td>http://www.wikidata.org/entity/Q96593178</td>\n",
       "      <td>Tel Aviv University|Harvard University</td>\n",
       "      <td>2</td>\n",
       "    </tr>\n",
       "    <tr>\n",
       "      <th>3981</th>\n",
       "      <td>http://www.wikidata.org/entity/Q125627036</td>\n",
       "      <td>http://www.wikidata.org/entity/Q125737767</td>\n",
       "      <td>Emlyon Business School|Jean Moulin University ...</td>\n",
       "      <td>2</td>\n",
       "    </tr>\n",
       "  </tbody>\n",
       "</table>\n",
       "</div>"
      ],
      "text/plain": [
       "                                       uriPer_x  \\\n",
       "3204  http://www.wikidata.org/entity/Q123396704   \n",
       "5117   http://www.wikidata.org/entity/Q14927550   \n",
       "7513    http://www.wikidata.org/entity/Q3443484   \n",
       "2277  http://www.wikidata.org/entity/Q114561393   \n",
       "3240  http://www.wikidata.org/entity/Q123396704   \n",
       "973   http://www.wikidata.org/entity/Q107749830   \n",
       "3981  http://www.wikidata.org/entity/Q125627036   \n",
       "\n",
       "                                       uriPer_y  \\\n",
       "3204  http://www.wikidata.org/entity/Q124589753   \n",
       "5117   http://www.wikidata.org/entity/Q16728313   \n",
       "7513     http://www.wikidata.org/entity/Q348874   \n",
       "2277   http://www.wikidata.org/entity/Q33197585   \n",
       "3240   http://www.wikidata.org/entity/Q62572964   \n",
       "973    http://www.wikidata.org/entity/Q96593178   \n",
       "3981  http://www.wikidata.org/entity/Q125737767   \n",
       "\n",
       "                                                   orgs  numberOrgs  \n",
       "3204  IAE Lyon, University of Lyon School Management...           3  \n",
       "5117  Harvard University|Harvard College|Harvard Bus...           3  \n",
       "7513  Massachusetts Institute of Technology|Sloan Fe...           3  \n",
       "2277  Emlyon Business School|Institut National des S...           2  \n",
       "3240  IAE Lyon, University of Lyon School Management...           2  \n",
       "973              Tel Aviv University|Harvard University           2  \n",
       "3981  Emlyon Business School|Jean Moulin University ...           2  "
      ]
     },
     "execution_count": 178,
     "metadata": {},
     "output_type": "execute_result"
    }
   ],
   "source": [
    "### sort by multiple relationships\n",
    "gr_mer[['uriPer_x','uriPer_y','orgs','numberOrgs']].sort_values(by='numberOrgs', ascending=False).iloc[:7]"
   ]
  },
  {
   "cell_type": "code",
   "execution_count": 179,
   "metadata": {},
   "outputs": [],
   "source": [
    "### store multiple relationships in order to explore them in the CSV\n",
    "file_add = '../persons_education_rel_multiple.csv'\n",
    "gr_mer[gr_mer.numberOrgs > 1].sort_values(by='numberOrgs', ascending=False).to_csv(file_add)"
   ]
  },
  {
   "cell_type": "markdown",
   "metadata": {},
   "source": [
    "#### Example of connected persons\n",
    "\n",
    "Displayed with **Allegrograph Gruff**\n",
    "\n",
    "<img src=\"images/alg_gruff_example_chinese_connected_education.png\" alt=\"drawing\" width=\"700\"/>"
   ]
  },
  {
   "cell_type": "code",
   "execution_count": 181,
   "metadata": {},
   "outputs": [
    {
     "name": "stdout",
     "output_type": "stream",
     "text": [
      "1311\n"
     ]
    },
    {
     "data": {
      "application/vnd.microsoft.datawrangler.viewer.v0+json": {
       "columns": [
        {
         "name": "index",
         "rawType": "int64",
         "type": "integer"
        },
        {
         "name": "uriPer_x",
         "rawType": "object",
         "type": "string"
        },
        {
         "name": "uriPer_y",
         "rawType": "object",
         "type": "string"
        },
        {
         "name": "orgs",
         "rawType": "object",
         "type": "string"
        },
        {
         "name": "numberOrgs",
         "rawType": "int64",
         "type": "integer"
        },
        {
         "name": "uriOrgs",
         "rawType": "object",
         "type": "string"
        },
        {
         "name": "periods_x",
         "rawType": "object",
         "type": "string"
        },
        {
         "name": "BeginY_x",
         "rawType": "float64",
         "type": "float"
        },
        {
         "name": "EndY_x",
         "rawType": "float64",
         "type": "float"
        },
        {
         "name": "BeginY_y",
         "rawType": "float64",
         "type": "float"
        },
        {
         "name": "EndY_y",
         "rawType": "float64",
         "type": "float"
        },
        {
         "name": "periods_y",
         "rawType": "object",
         "type": "string"
        }
       ],
       "ref": "bb6e6dec-4a73-40ba-bb66-7df22ae4fea8",
       "rows": [
        [
         "5113",
         "http://www.wikidata.org/entity/Q14927550",
         "http://www.wikidata.org/entity/Q14948741",
         "Harvard University|Harvard Business School",
         "2",
         "http://www.wikidata.org/entity/Q13371|http://www.wikidata.org/entity/Q49126",
         "1941-1960",
         "1978.0",
         "1989.0",
         "1980.0",
         "1991.0",
         "1961-1980"
        ],
        [
         "3671",
         "http://www.wikidata.org/entity/Q12405769",
         "http://www.wikidata.org/entity/Q6853902",
         "Reichman University|Tel Aviv University",
         "2",
         "http://www.wikidata.org/entity/Q2908845|http://www.wikidata.org/entity/Q319239",
         "1941-1960",
         "1977.0",
         "1988.0",
         "1981.0",
         "1992.0",
         "1961-1980"
        ],
        [
         "4624",
         "http://www.wikidata.org/entity/Q131540062",
         "http://www.wikidata.org/entity/Q33101796",
         "Emlyon Business School|HEC Paris",
         "2",
         "http://www.wikidata.org/entity/Q1795504|http://www.wikidata.org/entity/Q273535",
         "1961-1980",
         "1979.0",
         "1990.0",
         "1976.0",
         "1987.0",
         "1941-1960"
        ],
        [
         "3866",
         "http://www.wikidata.org/entity/Q124589753",
         "http://www.wikidata.org/entity/Q125627036",
         "Emlyon Business School|Jean Moulin University - Lyon 3",
         "2",
         "http://www.wikidata.org/entity/Q1795504|http://www.wikidata.org/entity/Q4027",
         "1961-1980",
         "1996.0",
         "2007.0",
         "2001.0",
         "2012.0",
         "1981-2000"
        ],
        [
         "3867",
         "http://www.wikidata.org/entity/Q124589753",
         "http://www.wikidata.org/entity/Q125737767",
         "Emlyon Business School|Jean Moulin University - Lyon 3",
         "2",
         "http://www.wikidata.org/entity/Q1795504|http://www.wikidata.org/entity/Q4027",
         "1961-1980",
         "1996.0",
         "2007.0",
         "1999.0",
         "2010.0",
         "1981-2000"
        ]
       ],
       "shape": {
        "columns": 11,
        "rows": 5
       }
      },
      "text/html": [
       "<div>\n",
       "<style scoped>\n",
       "    .dataframe tbody tr th:only-of-type {\n",
       "        vertical-align: middle;\n",
       "    }\n",
       "\n",
       "    .dataframe tbody tr th {\n",
       "        vertical-align: top;\n",
       "    }\n",
       "\n",
       "    .dataframe thead th {\n",
       "        text-align: right;\n",
       "    }\n",
       "</style>\n",
       "<table border=\"1\" class=\"dataframe\">\n",
       "  <thead>\n",
       "    <tr style=\"text-align: right;\">\n",
       "      <th></th>\n",
       "      <th>uriPer_x</th>\n",
       "      <th>uriPer_y</th>\n",
       "      <th>orgs</th>\n",
       "      <th>numberOrgs</th>\n",
       "      <th>uriOrgs</th>\n",
       "      <th>periods_x</th>\n",
       "      <th>BeginY_x</th>\n",
       "      <th>EndY_x</th>\n",
       "      <th>BeginY_y</th>\n",
       "      <th>EndY_y</th>\n",
       "      <th>periods_y</th>\n",
       "    </tr>\n",
       "  </thead>\n",
       "  <tbody>\n",
       "    <tr>\n",
       "      <th>5113</th>\n",
       "      <td>http://www.wikidata.org/entity/Q14927550</td>\n",
       "      <td>http://www.wikidata.org/entity/Q14948741</td>\n",
       "      <td>Harvard University|Harvard Business School</td>\n",
       "      <td>2</td>\n",
       "      <td>http://www.wikidata.org/entity/Q13371|http://w...</td>\n",
       "      <td>1941-1960</td>\n",
       "      <td>1978.0</td>\n",
       "      <td>1989.0</td>\n",
       "      <td>1980.0</td>\n",
       "      <td>1991.0</td>\n",
       "      <td>1961-1980</td>\n",
       "    </tr>\n",
       "    <tr>\n",
       "      <th>3671</th>\n",
       "      <td>http://www.wikidata.org/entity/Q12405769</td>\n",
       "      <td>http://www.wikidata.org/entity/Q6853902</td>\n",
       "      <td>Reichman University|Tel Aviv University</td>\n",
       "      <td>2</td>\n",
       "      <td>http://www.wikidata.org/entity/Q2908845|http:/...</td>\n",
       "      <td>1941-1960</td>\n",
       "      <td>1977.0</td>\n",
       "      <td>1988.0</td>\n",
       "      <td>1981.0</td>\n",
       "      <td>1992.0</td>\n",
       "      <td>1961-1980</td>\n",
       "    </tr>\n",
       "    <tr>\n",
       "      <th>4624</th>\n",
       "      <td>http://www.wikidata.org/entity/Q131540062</td>\n",
       "      <td>http://www.wikidata.org/entity/Q33101796</td>\n",
       "      <td>Emlyon Business School|HEC Paris</td>\n",
       "      <td>2</td>\n",
       "      <td>http://www.wikidata.org/entity/Q1795504|http:/...</td>\n",
       "      <td>1961-1980</td>\n",
       "      <td>1979.0</td>\n",
       "      <td>1990.0</td>\n",
       "      <td>1976.0</td>\n",
       "      <td>1987.0</td>\n",
       "      <td>1941-1960</td>\n",
       "    </tr>\n",
       "    <tr>\n",
       "      <th>3866</th>\n",
       "      <td>http://www.wikidata.org/entity/Q124589753</td>\n",
       "      <td>http://www.wikidata.org/entity/Q125627036</td>\n",
       "      <td>Emlyon Business School|Jean Moulin University ...</td>\n",
       "      <td>2</td>\n",
       "      <td>http://www.wikidata.org/entity/Q1795504|http:/...</td>\n",
       "      <td>1961-1980</td>\n",
       "      <td>1996.0</td>\n",
       "      <td>2007.0</td>\n",
       "      <td>2001.0</td>\n",
       "      <td>2012.0</td>\n",
       "      <td>1981-2000</td>\n",
       "    </tr>\n",
       "    <tr>\n",
       "      <th>3867</th>\n",
       "      <td>http://www.wikidata.org/entity/Q124589753</td>\n",
       "      <td>http://www.wikidata.org/entity/Q125737767</td>\n",
       "      <td>Emlyon Business School|Jean Moulin University ...</td>\n",
       "      <td>2</td>\n",
       "      <td>http://www.wikidata.org/entity/Q1795504|http:/...</td>\n",
       "      <td>1961-1980</td>\n",
       "      <td>1996.0</td>\n",
       "      <td>2007.0</td>\n",
       "      <td>1999.0</td>\n",
       "      <td>2010.0</td>\n",
       "      <td>1981-2000</td>\n",
       "    </tr>\n",
       "  </tbody>\n",
       "</table>\n",
       "</div>"
      ],
      "text/plain": [
       "                                       uriPer_x  \\\n",
       "5113   http://www.wikidata.org/entity/Q14927550   \n",
       "3671   http://www.wikidata.org/entity/Q12405769   \n",
       "4624  http://www.wikidata.org/entity/Q131540062   \n",
       "3866  http://www.wikidata.org/entity/Q124589753   \n",
       "3867  http://www.wikidata.org/entity/Q124589753   \n",
       "\n",
       "                                       uriPer_y  \\\n",
       "5113   http://www.wikidata.org/entity/Q14948741   \n",
       "3671    http://www.wikidata.org/entity/Q6853902   \n",
       "4624   http://www.wikidata.org/entity/Q33101796   \n",
       "3866  http://www.wikidata.org/entity/Q125627036   \n",
       "3867  http://www.wikidata.org/entity/Q125737767   \n",
       "\n",
       "                                                   orgs  numberOrgs  \\\n",
       "5113         Harvard University|Harvard Business School           2   \n",
       "3671            Reichman University|Tel Aviv University           2   \n",
       "4624                   Emlyon Business School|HEC Paris           2   \n",
       "3866  Emlyon Business School|Jean Moulin University ...           2   \n",
       "3867  Emlyon Business School|Jean Moulin University ...           2   \n",
       "\n",
       "                                                uriOrgs  periods_x  BeginY_x  \\\n",
       "5113  http://www.wikidata.org/entity/Q13371|http://w...  1941-1960    1978.0   \n",
       "3671  http://www.wikidata.org/entity/Q2908845|http:/...  1941-1960    1977.0   \n",
       "4624  http://www.wikidata.org/entity/Q1795504|http:/...  1961-1980    1979.0   \n",
       "3866  http://www.wikidata.org/entity/Q1795504|http:/...  1961-1980    1996.0   \n",
       "3867  http://www.wikidata.org/entity/Q1795504|http:/...  1961-1980    1996.0   \n",
       "\n",
       "      EndY_x  BeginY_y  EndY_y  periods_y  \n",
       "5113  1989.0    1980.0  1991.0  1961-1980  \n",
       "3671  1988.0    1981.0  1992.0  1961-1980  \n",
       "4624  1990.0    1976.0  1987.0  1941-1960  \n",
       "3866  2007.0    2001.0  2012.0  1981-2000  \n",
       "3867  2007.0    1999.0  2010.0  1981-2000  "
      ]
     },
     "execution_count": 181,
     "metadata": {},
     "output_type": "execute_result"
    }
   ],
   "source": [
    "### Find persons in different periods\n",
    "\n",
    "## We observe that there is significant overlap: more than 30000\n",
    "# Periods are as a matter of fact an artificial construct !\n",
    "\n",
    "print(len(gr_mer[gr_mer.periods_x != gr_mer.periods_y]))\n",
    "gr_mer[gr_mer.periods_x != gr_mer.periods_y].sort_values(by='numberOrgs', ascending=False).iloc[:5]"
   ]
  },
  {
   "cell_type": "markdown",
   "metadata": {},
   "source": [
    "### Create the graph"
   ]
  },
  {
   "cell_type": "code",
   "execution_count": 182,
   "metadata": {},
   "outputs": [
    {
     "name": "stdout",
     "output_type": "stream",
     "text": [
      "8302\n"
     ]
    }
   ],
   "source": [
    "## Provide the data in the format \n",
    "# required by Networkx\n",
    "\n",
    "l = [tuple(\n",
    "    (e['uriPer_x'], e['uriPer_y'],\n",
    "     {'orgsUris':e['uriOrgs'], 'orgsLabels':e['orgs'], 'orgsNumber':e['numberOrgs'],   \n",
    "      'periods_x':e['periods_x'], 'periods_y':e['periods_y']}\n",
    "     )) \n",
    "     for e in gr_mer.to_dict(orient='records')]\n",
    "print(len(l))"
   ]
  },
  {
   "cell_type": "code",
   "execution_count": 183,
   "metadata": {},
   "outputs": [
    {
     "name": "stdout",
     "output_type": "stream",
     "text": [
      "8302\n"
     ]
    }
   ],
   "source": [
    "print(len(gr_mer))"
   ]
  },
  {
   "cell_type": "code",
   "execution_count": 184,
   "metadata": {},
   "outputs": [
    {
     "name": "stdout",
     "output_type": "stream",
     "text": [
      "{'is_multigraph': False,\n",
      " 'is_directed': False,\n",
      " 'number_of_nodes': 1050,\n",
      " 'number_of_edges': 8302,\n",
      " '------': '------',\n",
      " 'is connected': False,\n",
      " 'components': 71,\n",
      " 'density': 0.015074674292977439}\n"
     ]
    }
   ],
   "source": [
    "## Créate the empty graph\n",
    "ppG=nx.Graph()\n",
    "\n",
    "## Add relationships to graph\n",
    "# Multiple rows between two edges are taken only once\n",
    "ppG.add_edges_from(l)\n",
    "\n",
    "naf.basic_graph_properties(ppG)\n"
   ]
  },
  {
   "cell_type": "markdown",
   "metadata": {},
   "source": [
    "#### Add metadata to nodes"
   ]
  },
  {
   "cell_type": "code",
   "execution_count": 185,
   "metadata": {},
   "outputs": [
    {
     "data": {
      "application/vnd.microsoft.datawrangler.viewer.v0+json": {
       "columns": [
        {
         "name": "index",
         "rawType": "int64",
         "type": "integer"
        },
        {
         "name": "uri",
         "rawType": "object",
         "type": "string"
        },
        {
         "name": "label",
         "rawType": "object",
         "type": "string"
        },
        {
         "name": "birthYear",
         "rawType": "int64",
         "type": "integer"
        }
       ],
       "ref": "a621b108-bba7-48be-b98a-6e6c4801b1e7",
       "rows": [
        [
         "0",
         "http://www.wikidata.org/entity/Q100158636",
         "Amanda Pritchard",
         "1976"
        ],
        [
         "2",
         "http://www.wikidata.org/entity/Q100276124",
         "Parag Agrawal",
         "1984"
        ],
        [
         "5",
         "http://www.wikidata.org/entity/Q100705519",
         "Ponce",
         "1991"
        ],
        [
         "8",
         "http://www.wikidata.org/entity/Q100989426",
         "Thomas Schäfer",
         "1970"
        ],
        [
         "9",
         "http://www.wikidata.org/entity/Q100997694",
         "Jean-Luc Chetrit",
         "1965"
        ]
       ],
       "shape": {
        "columns": 3,
        "rows": 5
       }
      },
      "text/html": [
       "<div>\n",
       "<style scoped>\n",
       "    .dataframe tbody tr th:only-of-type {\n",
       "        vertical-align: middle;\n",
       "    }\n",
       "\n",
       "    .dataframe tbody tr th {\n",
       "        vertical-align: top;\n",
       "    }\n",
       "\n",
       "    .dataframe thead th {\n",
       "        text-align: right;\n",
       "    }\n",
       "</style>\n",
       "<table border=\"1\" class=\"dataframe\">\n",
       "  <thead>\n",
       "    <tr style=\"text-align: right;\">\n",
       "      <th></th>\n",
       "      <th>uri</th>\n",
       "      <th>label</th>\n",
       "      <th>birthYear</th>\n",
       "    </tr>\n",
       "  </thead>\n",
       "  <tbody>\n",
       "    <tr>\n",
       "      <th>0</th>\n",
       "      <td>http://www.wikidata.org/entity/Q100158636</td>\n",
       "      <td>Amanda Pritchard</td>\n",
       "      <td>1976</td>\n",
       "    </tr>\n",
       "    <tr>\n",
       "      <th>2</th>\n",
       "      <td>http://www.wikidata.org/entity/Q100276124</td>\n",
       "      <td>Parag Agrawal</td>\n",
       "      <td>1984</td>\n",
       "    </tr>\n",
       "    <tr>\n",
       "      <th>5</th>\n",
       "      <td>http://www.wikidata.org/entity/Q100705519</td>\n",
       "      <td>Ponce</td>\n",
       "      <td>1991</td>\n",
       "    </tr>\n",
       "    <tr>\n",
       "      <th>8</th>\n",
       "      <td>http://www.wikidata.org/entity/Q100989426</td>\n",
       "      <td>Thomas Schäfer</td>\n",
       "      <td>1970</td>\n",
       "    </tr>\n",
       "    <tr>\n",
       "      <th>9</th>\n",
       "      <td>http://www.wikidata.org/entity/Q100997694</td>\n",
       "      <td>Jean-Luc Chetrit</td>\n",
       "      <td>1965</td>\n",
       "    </tr>\n",
       "  </tbody>\n",
       "</table>\n",
       "</div>"
      ],
      "text/plain": [
       "                                         uri             label  birthYear\n",
       "0  http://www.wikidata.org/entity/Q100158636  Amanda Pritchard       1976\n",
       "2  http://www.wikidata.org/entity/Q100276124     Parag Agrawal       1984\n",
       "5  http://www.wikidata.org/entity/Q100705519             Ponce       1991\n",
       "8  http://www.wikidata.org/entity/Q100989426    Thomas Schäfer       1970\n",
       "9  http://www.wikidata.org/entity/Q100997694  Jean-Luc Chetrit       1965"
      ]
     },
     "execution_count": 185,
     "metadata": {},
     "output_type": "execute_result"
    }
   ],
   "source": [
    "df_pm = df_p[['uriPer','labelPer','birthYear']]\n",
    "df_pm = df_pm.drop_duplicates()\n",
    "df_pm.columns=['uri', 'label', 'birthYear']\n",
    "df_pm.head()\n"
   ]
  },
  {
   "cell_type": "code",
   "execution_count": 187,
   "metadata": {},
   "outputs": [],
   "source": [
    "### Prepare data to add to nodes\n",
    "ln = dict([(e['uri'],\n",
    "     {'label':e['label'], 'birthYear':e['birthYear']}\n",
    "     ) for e in df_pm.to_dict(orient='records')])\n",
    "# print(str(l)[:200])\n"
   ]
  },
  {
   "cell_type": "code",
   "execution_count": 188,
   "metadata": {},
   "outputs": [
    {
     "name": "stdout",
     "output_type": "stream",
     "text": [
      "[('http://www.wikidata.org/entity/Q100158636',\n",
      "  {'birthYear': 1976, 'label': 'Amanda Pritchard'}),\n",
      " ('http://www.wikidata.org/entity/Q131551153',\n",
      "  {'birthYear': 1973, 'label': 'Roland Palmer'})]\n"
     ]
    }
   ],
   "source": [
    "\n",
    "## Add attributes\n",
    "nx.set_node_attributes(ppG, ln)\n",
    "pprint.pprint(list(ppG.nodes.data())[:2])\n"
   ]
  },
  {
   "cell_type": "markdown",
   "metadata": {},
   "source": [
    "## Explore the education relationships graph"
   ]
  },
  {
   "cell_type": "code",
   "execution_count": 189,
   "metadata": {},
   "outputs": [
    {
     "name": "stdout",
     "output_type": "stream",
     "text": [
      "{'is_multigraph': False,\n",
      " 'is_directed': False,\n",
      " 'number_of_nodes': 1050,\n",
      " 'number_of_edges': 8302,\n",
      " '------': '------',\n",
      " 'is connected': False,\n",
      " 'components': 71,\n",
      " 'density': 0.015074674292977439}\n"
     ]
    }
   ],
   "source": [
    "naf.basic_graph_properties(ppG)"
   ]
  },
  {
   "cell_type": "markdown",
   "metadata": {},
   "source": [
    "#### Components"
   ]
  },
  {
   "cell_type": "code",
   "execution_count": 190,
   "metadata": {},
   "outputs": [
    {
     "name": "stdout",
     "output_type": "stream",
     "text": [
      "[[0, 859], [22, 12], [12, 8], [2, 6], [7, 5]]\n"
     ]
    }
   ],
   "source": [
    "### Create a list of graphs, one per component\n",
    "perS = [ppG.subgraph(c).copy() for c in nx.connected_components(ppG)]\n",
    "\n",
    "### i is the component index in the list S of graphs , len(s.nodes) is the nomber of nodes\n",
    "ln = sorted([[i,len(s.nodes)] for i,s in enumerate(perS)], key = lambda row: row[1], reverse=True)\n",
    "print(ln[:5])\n",
    "\n",
    "### Again we observe that there is a big connected graphe \n",
    "# and a multitude of small graphs"
   ]
  },
  {
   "cell_type": "markdown",
   "metadata": {},
   "source": [
    "### Explore small graph"
   ]
  },
  {
   "cell_type": "code",
   "execution_count": 191,
   "metadata": {},
   "outputs": [],
   "source": [
    "### \n",
    "li = [117]    # [12, 15, 43]\n",
    "ll = [list(perS[i[0]].nodes.data()) for i in ln if i[0] in li ]\n",
    "#pprint.pprint(str(ll)[:300])"
   ]
  },
  {
   "cell_type": "code",
   "execution_count": null,
   "metadata": {},
   "outputs": [
    {
     "name": "stdout",
     "output_type": "stream",
     "text": [
      "[]\n"
     ]
    },
    {
     "ename": "NetworkXPointlessConcept",
     "evalue": "Connectivity is undefined for the null graph.",
     "output_type": "error",
     "traceback": [
      "\u001b[31m---------------------------------------------------------------------------\u001b[39m",
      "\u001b[31mNetworkXPointlessConcept\u001b[39m                  Traceback (most recent call last)",
      "\u001b[36mCell\u001b[39m\u001b[36m \u001b[39m\u001b[32mIn[197]\u001b[39m\u001b[32m, line 9\u001b[39m\n\u001b[32m      5\u001b[39m \u001b[38;5;28;01mfor\u001b[39;00m i \u001b[38;5;129;01min\u001b[39;00m li:\n\u001b[32m      6\u001b[39m     \u001b[38;5;66;03m## ajoute au graphe les composantes en utilisant\u001b[39;00m\n\u001b[32m      7\u001b[39m     \u001b[38;5;66;03m# l'index ou position dans la liste de graphes 'S'\u001b[39;00m\n\u001b[32m      8\u001b[39m     u_117 = nx.union(u_117, perS[i])\n\u001b[32m----> \u001b[39m\u001b[32m9\u001b[39m \u001b[43mnaf\u001b[49m\u001b[43m.\u001b[49m\u001b[43mbasic_graph_properties\u001b[49m\u001b[43m(\u001b[49m\u001b[43mu_117\u001b[49m\u001b[43m)\u001b[49m\n",
      "\u001b[36mFile \u001b[39m\u001b[32mc:\\Users\\laila\\OneDrive\\Documents\\Uni\\2e année\\Semestre 4\\Application de méthodes numériques pour les sciences humaines et historiques\\French_CEOs\\notebooks_jupyter\\network_analysis_functions.py:30\u001b[39m, in \u001b[36mbasic_graph_properties\u001b[39m\u001b[34m(G)\u001b[39m\n\u001b[32m     23\u001b[39m \u001b[38;5;28;01mdef\u001b[39;00m\u001b[38;5;250m \u001b[39m\u001b[34mbasic_graph_properties\u001b[39m(G):\n\u001b[32m     25\u001b[39m     pprint.pprint({\u001b[33m'\u001b[39m\u001b[33mis_multigraph\u001b[39m\u001b[33m'\u001b[39m:G.is_multigraph(), \n\u001b[32m     26\u001b[39m         \u001b[33m'\u001b[39m\u001b[33mis_directed\u001b[39m\u001b[33m'\u001b[39m:G.is_directed(), \n\u001b[32m     27\u001b[39m         \u001b[33m'\u001b[39m\u001b[33mnumber_of_nodes\u001b[39m\u001b[33m'\u001b[39m: G.number_of_nodes(), \n\u001b[32m     28\u001b[39m         \u001b[33m'\u001b[39m\u001b[33mnumber_of_edges\u001b[39m\u001b[33m'\u001b[39m:G.number_of_edges(),\n\u001b[32m     29\u001b[39m          \u001b[33m'\u001b[39m\u001b[33m------\u001b[39m\u001b[33m'\u001b[39m : \u001b[33m'\u001b[39m\u001b[33m------\u001b[39m\u001b[33m'\u001b[39m,\n\u001b[32m---> \u001b[39m\u001b[32m30\u001b[39m         \u001b[33m'\u001b[39m\u001b[33mis connected\u001b[39m\u001b[33m'\u001b[39m: \u001b[43mnx\u001b[49m\u001b[43m.\u001b[49m\u001b[43mis_connected\u001b[49m\u001b[43m(\u001b[49m\u001b[43mnx\u001b[49m\u001b[43m.\u001b[49m\u001b[43mto_undirected\u001b[49m\u001b[43m(\u001b[49m\u001b[43mG\u001b[49m\u001b[43m)\u001b[49m\u001b[43m)\u001b[49m, \n\u001b[32m     31\u001b[39m         \u001b[33m'\u001b[39m\u001b[33mcomponents\u001b[39m\u001b[33m'\u001b[39m: \u001b[38;5;28mlen\u001b[39m(\u001b[38;5;28mlist\u001b[39m(nx.connected_components(nx.to_undirected(G)))),\n\u001b[32m     32\u001b[39m         \u001b[33m'\u001b[39m\u001b[33mdensity\u001b[39m\u001b[33m'\u001b[39m: nx.density(G)}, sort_dicts=\u001b[38;5;28;01mFalse\u001b[39;00m)\n",
      "\u001b[36mFile \u001b[39m\u001b[32m<class 'networkx.utils.decorators.argmap'> compilation 13:4\u001b[39m, in \u001b[36margmap_is_connected_9\u001b[39m\u001b[34m(G, backend, **backend_kwargs)\u001b[39m\n\u001b[32m      2\u001b[39m \u001b[38;5;28;01mimport\u001b[39;00m\u001b[38;5;250m \u001b[39m\u001b[34;01mcollections\u001b[39;00m\n\u001b[32m      3\u001b[39m \u001b[38;5;28;01mimport\u001b[39;00m\u001b[38;5;250m \u001b[39m\u001b[34;01mgzip\u001b[39;00m\n\u001b[32m----> \u001b[39m\u001b[32m4\u001b[39m \u001b[38;5;28;01mimport\u001b[39;00m\u001b[38;5;250m \u001b[39m\u001b[34;01minspect\u001b[39;00m\n\u001b[32m      5\u001b[39m \u001b[38;5;28;01mimport\u001b[39;00m\u001b[38;5;250m \u001b[39m\u001b[34;01mitertools\u001b[39;00m\n\u001b[32m      6\u001b[39m \u001b[38;5;28;01mimport\u001b[39;00m\u001b[38;5;250m \u001b[39m\u001b[34;01mre\u001b[39;00m\n",
      "\u001b[36mFile \u001b[39m\u001b[32mc:\\Users\\laila\\AppData\\Local\\Programs\\Python\\Python313\\Lib\\site-packages\\networkx\\utils\\backends.py:967\u001b[39m, in \u001b[36m_dispatchable.__call__\u001b[39m\u001b[34m(self, backend, *args, **kwargs)\u001b[39m\n\u001b[32m    965\u001b[39m     \u001b[38;5;28;01mif\u001b[39;00m backend \u001b[38;5;129;01mis\u001b[39;00m \u001b[38;5;129;01mnot\u001b[39;00m \u001b[38;5;28;01mNone\u001b[39;00m \u001b[38;5;129;01mand\u001b[39;00m backend != \u001b[33m\"\u001b[39m\u001b[33mnetworkx\u001b[39m\u001b[33m\"\u001b[39m:\n\u001b[32m    966\u001b[39m         \u001b[38;5;28;01mraise\u001b[39;00m \u001b[38;5;167;01mImportError\u001b[39;00m(\u001b[33mf\u001b[39m\u001b[33m\"\u001b[39m\u001b[33m'\u001b[39m\u001b[38;5;132;01m{\u001b[39;00mbackend\u001b[38;5;132;01m}\u001b[39;00m\u001b[33m'\u001b[39m\u001b[33m backend is not installed\u001b[39m\u001b[33m\"\u001b[39m)\n\u001b[32m--> \u001b[39m\u001b[32m967\u001b[39m     \u001b[38;5;28;01mreturn\u001b[39;00m \u001b[38;5;28;43mself\u001b[39;49m\u001b[43m.\u001b[49m\u001b[43morig_func\u001b[49m\u001b[43m(\u001b[49m\u001b[43m*\u001b[49m\u001b[43margs\u001b[49m\u001b[43m,\u001b[49m\u001b[43m \u001b[49m\u001b[43m*\u001b[49m\u001b[43m*\u001b[49m\u001b[43mkwargs\u001b[49m\u001b[43m)\u001b[49m\n\u001b[32m    969\u001b[39m \u001b[38;5;66;03m# Use `backend_name` in this function instead of `backend`.\u001b[39;00m\n\u001b[32m    970\u001b[39m \u001b[38;5;66;03m# This is purely for aesthetics and to make it easier to search for this\u001b[39;00m\n\u001b[32m    971\u001b[39m \u001b[38;5;66;03m# variable since \"backend\" is used in many comments and log/error messages.\u001b[39;00m\n\u001b[32m    972\u001b[39m backend_name = backend\n",
      "\u001b[36mFile \u001b[39m\u001b[32mc:\\Users\\laila\\AppData\\Local\\Programs\\Python\\Python313\\Lib\\site-packages\\networkx\\algorithms\\components\\connected.py:154\u001b[39m, in \u001b[36mis_connected\u001b[39m\u001b[34m(G)\u001b[39m\n\u001b[32m    152\u001b[39m n = \u001b[38;5;28mlen\u001b[39m(G)\n\u001b[32m    153\u001b[39m \u001b[38;5;28;01mif\u001b[39;00m n == \u001b[32m0\u001b[39m:\n\u001b[32m--> \u001b[39m\u001b[32m154\u001b[39m     \u001b[38;5;28;01mraise\u001b[39;00m nx.NetworkXPointlessConcept(\n\u001b[32m    155\u001b[39m         \u001b[33m\"\u001b[39m\u001b[33mConnectivity is undefined for the null graph.\u001b[39m\u001b[33m\"\u001b[39m\n\u001b[32m    156\u001b[39m     )\n\u001b[32m    157\u001b[39m \u001b[38;5;28;01mreturn\u001b[39;00m \u001b[38;5;28msum\u001b[39m(\u001b[32m1\u001b[39m \u001b[38;5;28;01mfor\u001b[39;00m node \u001b[38;5;129;01min\u001b[39;00m _plain_bfs(G, n, arbitrary_element(G))) == \u001b[38;5;28mlen\u001b[39m(G)\n",
      "\u001b[31mNetworkXPointlessConcept\u001b[39m: Connectivity is undefined for the null graph."
     ]
    }
   ],
   "source": [
    "\n",
    "# Display variable\n",
    "\n",
    "u_117 = nx.Graph()\n",
    "\n",
    "for i in li:\n",
    "    ## ajoute au graphe les composantes en utilisant\n",
    "    # l'index ou position dans la liste de graphes 'S'\n",
    "    u_117 = nx.union(u_117, perS[i])\n",
    "naf.basic_graph_properties(u_117)\n"
   ]
  },
  {
   "cell_type": "code",
   "execution_count": 193,
   "metadata": {},
   "outputs": [
    {
     "name": "stderr",
     "output_type": "stream",
     "text": [
      "C:\\Users\\laila\\AppData\\Local\\Temp\\ipykernel_17372\\3921559036.py:8: RuntimeWarning: divide by zero encountered in log\n",
      "  n_size = np.log(np.sqrt(nx.number_of_nodes(g)))* 30 #*25\n"
     ]
    },
    {
     "ename": "ValueError",
     "evalue": "figure size must be positive finite not (np.float64(-inf), np.float64(-inf))",
     "output_type": "error",
     "traceback": [
      "\u001b[31m---------------------------------------------------------------------------\u001b[39m",
      "\u001b[31mValueError\u001b[39m                                Traceback (most recent call last)",
      "\u001b[36mCell\u001b[39m\u001b[36m \u001b[39m\u001b[32mIn[193]\u001b[39m\u001b[32m, line 28\u001b[39m\n\u001b[32m     24\u001b[39m     pos = nx.kamada_kawai_layout(g)\n\u001b[32m     27\u001b[39m \u001b[38;5;66;03m# https://networkx.org/documentation/stable/reference/drawing.html\u001b[39;00m\n\u001b[32m---> \u001b[39m\u001b[32m28\u001b[39m \u001b[43mplt\u001b[49m\u001b[43m.\u001b[49m\u001b[43mfigure\u001b[49m\u001b[43m(\u001b[49m\u001b[43mfigsize\u001b[49m\u001b[43m \u001b[49m\u001b[43m=\u001b[49m\u001b[43m \u001b[49m\u001b[43m(\u001b[49m\u001b[43mn_size\u001b[49m\u001b[43m,\u001b[49m\u001b[43mn_size\u001b[49m\u001b[43m)\u001b[49m\u001b[43m)\u001b[49m\n\u001b[32m     30\u001b[39m node_size = [d[\u001b[32m1\u001b[39m]*\u001b[32m100\u001b[39m \u001b[38;5;28;01mfor\u001b[39;00m d \u001b[38;5;129;01min\u001b[39;00m nx.degree(g)]\n\u001b[32m     31\u001b[39m node_labels = \u001b[38;5;28mdict\u001b[39m([\u001b[38;5;28mtuple\u001b[39m(( n[\u001b[32m0\u001b[39m] , n[\u001b[32m1\u001b[39m][\u001b[33m'\u001b[39m\u001b[33mlabel\u001b[39m\u001b[33m'\u001b[39m] ))\u001b[38;5;28;01mfor\u001b[39;00m n \u001b[38;5;129;01min\u001b[39;00m g.nodes.data()])\n",
      "\u001b[36mFile \u001b[39m\u001b[32mc:\\Users\\laila\\AppData\\Local\\Programs\\Python\\Python313\\Lib\\site-packages\\matplotlib\\pyplot.py:1042\u001b[39m, in \u001b[36mfigure\u001b[39m\u001b[34m(num, figsize, dpi, facecolor, edgecolor, frameon, FigureClass, clear, **kwargs)\u001b[39m\n\u001b[32m   1032\u001b[39m \u001b[38;5;28;01mif\u001b[39;00m \u001b[38;5;28mlen\u001b[39m(allnums) == max_open_warning >= \u001b[32m1\u001b[39m:\n\u001b[32m   1033\u001b[39m     _api.warn_external(\n\u001b[32m   1034\u001b[39m         \u001b[33mf\u001b[39m\u001b[33m\"\u001b[39m\u001b[33mMore than \u001b[39m\u001b[38;5;132;01m{\u001b[39;00mmax_open_warning\u001b[38;5;132;01m}\u001b[39;00m\u001b[33m figures have been opened. \u001b[39m\u001b[33m\"\u001b[39m\n\u001b[32m   1035\u001b[39m         \u001b[33mf\u001b[39m\u001b[33m\"\u001b[39m\u001b[33mFigures created through the pyplot interface \u001b[39m\u001b[33m\"\u001b[39m\n\u001b[32m   (...)\u001b[39m\u001b[32m   1039\u001b[39m         \u001b[33mf\u001b[39m\u001b[33m\"\u001b[39m\u001b[33mConsider using `matplotlib.pyplot.close()`.\u001b[39m\u001b[33m\"\u001b[39m,\n\u001b[32m   1040\u001b[39m         \u001b[38;5;167;01mRuntimeWarning\u001b[39;00m)\n\u001b[32m-> \u001b[39m\u001b[32m1042\u001b[39m manager = \u001b[43mnew_figure_manager\u001b[49m\u001b[43m(\u001b[49m\n\u001b[32m   1043\u001b[39m \u001b[43m    \u001b[49m\u001b[43mnum\u001b[49m\u001b[43m,\u001b[49m\u001b[43m \u001b[49m\u001b[43mfigsize\u001b[49m\u001b[43m=\u001b[49m\u001b[43mfigsize\u001b[49m\u001b[43m,\u001b[49m\u001b[43m \u001b[49m\u001b[43mdpi\u001b[49m\u001b[43m=\u001b[49m\u001b[43mdpi\u001b[49m\u001b[43m,\u001b[49m\n\u001b[32m   1044\u001b[39m \u001b[43m    \u001b[49m\u001b[43mfacecolor\u001b[49m\u001b[43m=\u001b[49m\u001b[43mfacecolor\u001b[49m\u001b[43m,\u001b[49m\u001b[43m \u001b[49m\u001b[43medgecolor\u001b[49m\u001b[43m=\u001b[49m\u001b[43medgecolor\u001b[49m\u001b[43m,\u001b[49m\u001b[43m \u001b[49m\u001b[43mframeon\u001b[49m\u001b[43m=\u001b[49m\u001b[43mframeon\u001b[49m\u001b[43m,\u001b[49m\n\u001b[32m   1045\u001b[39m \u001b[43m    \u001b[49m\u001b[43mFigureClass\u001b[49m\u001b[43m=\u001b[49m\u001b[43mFigureClass\u001b[49m\u001b[43m,\u001b[49m\u001b[43m \u001b[49m\u001b[43m*\u001b[49m\u001b[43m*\u001b[49m\u001b[43mkwargs\u001b[49m\u001b[43m)\u001b[49m\n\u001b[32m   1046\u001b[39m fig = manager.canvas.figure\n\u001b[32m   1047\u001b[39m \u001b[38;5;28;01mif\u001b[39;00m fig_label:\n",
      "\u001b[36mFile \u001b[39m\u001b[32mc:\\Users\\laila\\AppData\\Local\\Programs\\Python\\Python313\\Lib\\site-packages\\matplotlib\\pyplot.py:552\u001b[39m, in \u001b[36mnew_figure_manager\u001b[39m\u001b[34m(*args, **kwargs)\u001b[39m\n\u001b[32m    550\u001b[39m \u001b[38;5;250m\u001b[39m\u001b[33;03m\"\"\"Create a new figure manager instance.\"\"\"\u001b[39;00m\n\u001b[32m    551\u001b[39m _warn_if_gui_out_of_main_thread()\n\u001b[32m--> \u001b[39m\u001b[32m552\u001b[39m \u001b[38;5;28;01mreturn\u001b[39;00m \u001b[43m_get_backend_mod\u001b[49m\u001b[43m(\u001b[49m\u001b[43m)\u001b[49m\u001b[43m.\u001b[49m\u001b[43mnew_figure_manager\u001b[49m\u001b[43m(\u001b[49m\u001b[43m*\u001b[49m\u001b[43margs\u001b[49m\u001b[43m,\u001b[49m\u001b[43m \u001b[49m\u001b[43m*\u001b[49m\u001b[43m*\u001b[49m\u001b[43mkwargs\u001b[49m\u001b[43m)\u001b[49m\n",
      "\u001b[36mFile \u001b[39m\u001b[32m~\\AppData\\Roaming\\Python\\Python313\\site-packages\\matplotlib_inline\\backend_inline.py:27\u001b[39m, in \u001b[36mnew_figure_manager\u001b[39m\u001b[34m(num, FigureClass, *args, **kwargs)\u001b[39m\n\u001b[32m     21\u001b[39m \u001b[38;5;28;01mdef\u001b[39;00m\u001b[38;5;250m \u001b[39m\u001b[34mnew_figure_manager\u001b[39m(num, *args, FigureClass=Figure, **kwargs):\n\u001b[32m     22\u001b[39m \u001b[38;5;250m    \u001b[39m\u001b[33;03m\"\"\"\u001b[39;00m\n\u001b[32m     23\u001b[39m \u001b[33;03m    Return a new figure manager for a new figure instance.\u001b[39;00m\n\u001b[32m     24\u001b[39m \n\u001b[32m     25\u001b[39m \u001b[33;03m    This function is part of the API expected by Matplotlib backends.\u001b[39;00m\n\u001b[32m     26\u001b[39m \u001b[33;03m    \"\"\"\u001b[39;00m\n\u001b[32m---> \u001b[39m\u001b[32m27\u001b[39m     \u001b[38;5;28;01mreturn\u001b[39;00m new_figure_manager_given_figure(num, \u001b[43mFigureClass\u001b[49m\u001b[43m(\u001b[49m\u001b[43m*\u001b[49m\u001b[43margs\u001b[49m\u001b[43m,\u001b[49m\u001b[43m \u001b[49m\u001b[43m*\u001b[49m\u001b[43m*\u001b[49m\u001b[43mkwargs\u001b[49m\u001b[43m)\u001b[49m)\n",
      "\u001b[36mFile \u001b[39m\u001b[32mc:\\Users\\laila\\AppData\\Local\\Programs\\Python\\Python313\\Lib\\site-packages\\matplotlib\\figure.py:2624\u001b[39m, in \u001b[36mFigure.__init__\u001b[39m\u001b[34m(self, figsize, dpi, facecolor, edgecolor, linewidth, frameon, subplotpars, tight_layout, constrained_layout, layout, **kwargs)\u001b[39m\n\u001b[32m   2621\u001b[39m     frameon = mpl.rcParams[\u001b[33m'\u001b[39m\u001b[33mfigure.frameon\u001b[39m\u001b[33m'\u001b[39m]\n\u001b[32m   2623\u001b[39m \u001b[38;5;28;01mif\u001b[39;00m \u001b[38;5;129;01mnot\u001b[39;00m np.isfinite(figsize).all() \u001b[38;5;129;01mor\u001b[39;00m (np.array(figsize) < \u001b[32m0\u001b[39m).any():\n\u001b[32m-> \u001b[39m\u001b[32m2624\u001b[39m     \u001b[38;5;28;01mraise\u001b[39;00m \u001b[38;5;167;01mValueError\u001b[39;00m(\u001b[33m'\u001b[39m\u001b[33mfigure size must be positive finite not \u001b[39m\u001b[33m'\u001b[39m\n\u001b[32m   2625\u001b[39m                      \u001b[33mf\u001b[39m\u001b[33m'\u001b[39m\u001b[38;5;132;01m{\u001b[39;00mfigsize\u001b[38;5;132;01m}\u001b[39;00m\u001b[33m'\u001b[39m)\n\u001b[32m   2626\u001b[39m \u001b[38;5;28mself\u001b[39m.bbox_inches = Bbox.from_bounds(\u001b[32m0\u001b[39m, \u001b[32m0\u001b[39m, *figsize)\n\u001b[32m   2628\u001b[39m \u001b[38;5;28mself\u001b[39m.dpi_scale_trans = Affine2D().scale(dpi)\n",
      "\u001b[31mValueError\u001b[39m: figure size must be positive finite not (np.float64(-inf), np.float64(-inf))"
     ]
    }
   ],
   "source": [
    "### \n",
    "\n",
    "g = u_117\n",
    "\n",
    "# print(list(g.nodes.data())[:3])\n",
    "# print(list(g.edges.data())[:3])\n",
    "\n",
    "n_size = np.log(np.sqrt(nx.number_of_nodes(g)))* 30 #*25\n",
    "\n",
    "graph_layout = 'kamada_kawai'\n",
    "n_k = 0.4\n",
    "sc = 0.02\n",
    "\n",
    "### Define the layout, i.e. the choice \n",
    "# of the algorithm for the representation of the graph.\n",
    "\n",
    "if graph_layout == 'fruchterman_reingold':\n",
    "    pos = nx.fruchterman_reingold_layout(g)\n",
    "elif graph_layout == 'kamada_kawai':\n",
    "    pos = nx.kamada_kawai_layout(g)\n",
    "elif graph_layout == 'spring_layout':\n",
    "    pos = nx.spring_layout(g, k = n_k, scale=sc)  \n",
    "else:\n",
    "    pos = nx.kamada_kawai_layout(g)\n",
    "\n",
    "\n",
    "# https://networkx.org/documentation/stable/reference/drawing.html\n",
    "plt.figure(figsize = (n_size,n_size))\n",
    "\n",
    "node_size = [d[1]*100 for d in nx.degree(g)]\n",
    "node_labels = dict([tuple(( n[0] , n[1]['label'] ))for n in g.nodes.data()])\n",
    "print(node_labels)\n",
    "edge_labels = {e: g.get_edge_data(e[0], e[1])[\"orgsLabels\"] for e in g.edges()}\n",
    "print(edge_labels)\n",
    "\n",
    "\n",
    "### On représente successivement les différentes sommets et arêtes,\n",
    "# puis on ajoute les labels\n",
    "nx.draw_networkx_nodes(g, pos,  node_size=node_size, alpha=0.4)\n",
    "nx.draw_networkx_edges(g, pos, label=edge_labels, width=4, alpha=0.2) # edgelist=ln, edge_color=c, \n",
    "nx.draw_networkx_labels(g, pos, labels=node_labels, alpha=0.7, font_size=20)\n",
    "nx.draw_networkx_edge_labels(g, pos=pos, edge_labels=edge_labels, alpha=0.6)\n",
    "\n",
    "### On peut augmenter ou diminuer ce paramètre pour ajuster le graphe\n",
    "plt.tight_layout(pad=50)\n",
    "#plt.savefig('images/small_bipartite_component.svg')\n",
    "plt.show()\n"
   ]
  },
  {
   "cell_type": "code",
   "execution_count": null,
   "metadata": {},
   "outputs": [],
   "source": [
    "df_p[(df_p.labelOrg.str.contains('Kyiv Poly'))& df_p.relaType.str.contains('educa')].head()"
   ]
  },
  {
   "cell_type": "markdown",
   "metadata": {},
   "source": [
    "#### Composante principale"
   ]
  },
  {
   "cell_type": "code",
   "execution_count": null,
   "metadata": {},
   "outputs": [],
   "source": [
    "li = [0]\n",
    "big_ppG = nx.Graph()\n",
    "for i in li:\n",
    "    ## ajoute au graphe les composantes en utilisant\n",
    "    # l'index ou position dans la liste de graphes 'S'\n",
    "    big_ppG = nx.union(big_ppG, perS[i])\n",
    "\n",
    "naf.basic_graph_properties(big_ppG)\n",
    "\n"
   ]
  },
  {
   "cell_type": "code",
   "execution_count": null,
   "metadata": {},
   "outputs": [],
   "source": [
    "pprint.pprint(list(big_ppG.nodes.data())[:2])"
   ]
  },
  {
   "cell_type": "code",
   "execution_count": null,
   "metadata": {},
   "outputs": [],
   "source": [
    "### Add degree centrality to nodes\n",
    "degree = dict([(d[0], {'degree': d[1]}) for d in nx.degree(big_ppG)])\n",
    "nx.set_node_attributes(big_ppG, degree)\n",
    "pprint.pprint(list(big_ppG.nodes.data())[:2])\n"
   ]
  },
  {
   "cell_type": "markdown",
   "metadata": {},
   "source": [
    "### Degree distribution and slicing"
   ]
  },
  {
   "cell_type": "code",
   "execution_count": null,
   "metadata": {},
   "outputs": [],
   "source": [
    "### Plot degree distribution\n",
    "d = [d[1] for d in nx.degree(big_ppG)]\n",
    "naf.describe_plot_integers_distribution(d, 50,6,'Degree distribution')"
   ]
  },
  {
   "cell_type": "code",
   "execution_count": null,
   "metadata": {},
   "outputs": [],
   "source": [
    "### Add eigenvector to nodes\n",
    "\n",
    "## If error: PowerIterationFailedConvergence: (PowerIterationFailedConvergence(...), 'power iteration failed to converge within 100 iterations')\n",
    "# increase number of max iterations\n",
    "eigenvector = nx.eigenvector_centrality(big_ppG, max_iter=200)\n",
    "nx.set_node_attributes(big_ppG, eigenvector, 'eigenvector')\n",
    "pprint.pprint(list(big_ppG.nodes.data())[:2])"
   ]
  },
  {
   "cell_type": "code",
   "execution_count": null,
   "metadata": {},
   "outputs": [],
   "source": [
    "### Plot eigenvector density distribution \n",
    "eigenvector_s = pd.Series(list(eigenvector.values()))\n",
    "stats = eigenvector_s.describe()\n",
    "\n",
    "# Format decimal values\n",
    "stats = stats.apply(lambda x: format(x, '.20f'))\n",
    "\n",
    "print(stats)"
   ]
  },
  {
   "cell_type": "code",
   "execution_count": null,
   "metadata": {},
   "outputs": [],
   "source": [
    "# Plot the distribution of eigenvector density\n",
    "\n",
    "plt.figure(figsize=(20, 6))\n",
    "p = sns.violinplot(data=eigenvector_s[eigenvector_s> 0.00013610493515402787], orient='h')\n",
    "plt.title('Eigenvector Distribution Density')\n",
    "plt.show()"
   ]
  },
  {
   "cell_type": "code",
   "execution_count": null,
   "metadata": {},
   "outputs": [],
   "source": [
    "print(len(eigenvector_s[eigenvector_s> 0.01]))"
   ]
  },
  {
   "cell_type": "code",
   "execution_count": null,
   "metadata": {},
   "outputs": [],
   "source": []
  },
  {
   "cell_type": "code",
   "execution_count": null,
   "metadata": {},
   "outputs": [],
   "source": [
    "### Export node attributes to dataframe\n",
    "nodes_data ={node: big_ppG.nodes[node] for node in big_ppG.nodes}\n",
    "nodes_df = pd.DataFrame(nodes_data).T\n",
    "nodes_df.reset_index(inplace=True)\n",
    "nodes_df.columns = ['personUri', 'label', 'birthYear','degree','eigenvector']\n",
    "nodes_df.head(2)"
   ]
  },
  {
   "cell_type": "code",
   "execution_count": null,
   "metadata": {},
   "outputs": [],
   "source": [
    "### \n",
    "\n",
    "exp = nodes_df.sort_values(by='eigenvector', ascending=False).iloc[:300]\n",
    "\n",
    "### Adapt image size and police\n",
    "plt.figure(figsize=(10, 20))\n",
    "\n",
    "plt.scatter(exp['degree'],\n",
    "            exp['eigenvector'],\n",
    "           marker='o',\n",
    "           color='DarkCyan'\n",
    "           )\n",
    "plt.xlabel('degree')\n",
    "plt.ylabel('eigenvector')\n",
    "\n",
    "for i,row in list(exp[['label', 'degree','eigenvector']].iterrows()):\n",
    "    plt.annotate(row['label'],(row['degree'], row['eigenvector']),\n",
    "                 fontsize=7)\n",
    "#plt.legend(title='Node type')\n",
    "#plt.savefig('plots/sieges_eigenvector_20210526.jpg')\n",
    "plt.show()"
   ]
  },
  {
   "cell_type": "code",
   "execution_count": null,
   "metadata": {},
   "outputs": [],
   "source": [
    "persons_high_egv = nodes_df['personUri'][nodes_df.eigenvector> 0.01].to_list()\n",
    "print(len(persons_high_egv), persons_high_egv[:3])"
   ]
  },
  {
   "cell_type": "code",
   "execution_count": null,
   "metadata": {},
   "outputs": [],
   "source": [
    "gr_mer.head(2)"
   ]
  },
  {
   "cell_type": "code",
   "execution_count": null,
   "metadata": {},
   "outputs": [],
   "source": [
    "connecting_orgs = gr_mer[(gr_mer.uriPer_x.isin(persons_high_egv))|(gr_mer.uriPer_y.isin(persons_high_egv))].groupby(by='orgs').size()\n",
    "file_add='data/connecting_orgs.csv'\n",
    "connecting_orgs.sort_values(ascending=False).to_csv(file_add)\n",
    "print(connecting_orgs.sort_values(ascending=False).iloc[:20])"
   ]
  },
  {
   "cell_type": "markdown",
   "metadata": {},
   "source": [
    "### Slicing with cores"
   ]
  },
  {
   "cell_type": "code",
   "execution_count": null,
   "metadata": {},
   "outputs": [],
   "source": [
    "### A k-core is a maximal subgraph that contains nodes of degree k or more.\n",
    "# https://networkx.org/documentation/stable/reference/algorithms/generated/networkx.algorithms.core.core_number.html#networkx.algorithms.core.core_number\n",
    "core_numbers = nx.core_number(big_ppG)"
   ]
  },
  {
   "cell_type": "code",
   "execution_count": null,
   "metadata": {},
   "outputs": [],
   "source": [
    "### Distribution of nodes per core layer\n",
    "l = [v for k,v in core_numbers.items()]\n",
    "ls = pd.Series(l)\n",
    "grouped = ls.groupby(ls).size()\n",
    "\n",
    "\n",
    "ax = grouped.plot.bar(stacked=True, rot=70, fontsize=9, figsize=(20,8))\n",
    "plt.title('Distribution of nodes per core layers')\n",
    "\n",
    "## https://stackoverflow.com/questions/71320380/add-only-the-total-values-on-top-of-stacked-bars\n",
    "ax.bar_label(ax.containers[-1])\n",
    "\n",
    "plt.show()\n"
   ]
  },
  {
   "cell_type": "code",
   "execution_count": null,
   "metadata": {},
   "outputs": [],
   "source": [
    "# Identify communities based on core numbers\n",
    "communities = {}\n",
    "for node, core_number in core_numbers.items():\n",
    "    if core_number not in communities:\n",
    "        communities[core_number] = [node]\n",
    "    else:\n",
    "        communities[core_number].append(node)\n",
    "\n",
    "# Print the communities\n",
    "cts = []\n",
    "for core_number, community in communities.items():\n",
    "    # print(f\"Community {core_number}: {len(community)}, {community[:5]}\")\n",
    "    cts.append([core_number,len(community),community])\n",
    "\n"
   ]
  },
  {
   "cell_type": "code",
   "execution_count": null,
   "metadata": {},
   "outputs": [],
   "source": [
    "cts=sorted(cts, key=lambda x: x[0])\n",
    "pprint.pprint([[e[0], e[1] ] for e in cts])"
   ]
  },
  {
   "cell_type": "code",
   "execution_count": null,
   "metadata": {},
   "outputs": [],
   "source": [
    "### \n",
    "ln = [ k  for k,v in core_numbers.items()  if v >= 65]\n",
    "print(len(ln), ln[:3])"
   ]
  },
  {
   "cell_type": "code",
   "execution_count": null,
   "metadata": {},
   "outputs": [],
   "source": [
    "SG = big_ppG.subgraph(ln)\n",
    "naf.basic_graph_properties(SG)\n"
   ]
  },
  {
   "cell_type": "code",
   "execution_count": null,
   "metadata": {},
   "outputs": [],
   "source": []
  },
  {
   "cell_type": "code",
   "execution_count": null,
   "metadata": {},
   "outputs": [],
   "source": [
    "### Add betweenness to nodes\n",
    "\n",
    "# !!! trop long sur tout le graphe SI le graph est grand !!!\n",
    "\n",
    "betweenness = nx.betweenness_centrality(SG)\n",
    "nx.set_node_attributes(SG, betweenness, 'betweenness')\n",
    "pprint.pprint(list(SG.nodes.data())[:2])"
   ]
  },
  {
   "cell_type": "code",
   "execution_count": null,
   "metadata": {},
   "outputs": [],
   "source": [
    "### \n",
    "\n",
    "g = SG\n",
    "\n",
    "n_size = np.log(np.sqrt(nx.number_of_nodes(g)))* 20 #*25\n",
    "\n",
    "graph_layout = 'spring_layout'\n",
    "n_k = 0.4\n",
    "sc = 0.05\n",
    "\n",
    "### Define the layout, i.e. the choice \n",
    "# of the algorithm for the representation of the graph.\n",
    "\n",
    "if graph_layout == 'fruchterman_reingold':\n",
    "    pos = nx.fruchterman_reingold_layout(g)\n",
    "elif graph_layout == 'kamada_kawai':\n",
    "    pos = nx.kamada_kawai_layout(g)\n",
    "elif graph_layout == 'spring_layout':\n",
    "    pos = nx.spring_layout(g, k = n_k, scale=sc)  \n",
    "else:\n",
    "    pos = nx.kamada_kawai_layout(g)\n",
    "\n",
    "\n",
    "\n",
    "\n",
    "# https://networkx.org/documentation/stable/reference/drawing.html\n",
    "plt.figure(figsize = (n_size,n_size))\n",
    "\n",
    "\n",
    "\n",
    "## on définit ici l'algorythme avec lequel le traphe sera représenté\n",
    "\n",
    "# node_size = [d[1]*100 for d in nx.degree(g)]\n",
    "#node_size = [d[1]*10000 for d in nx.eigenvector_centrality(g).items()]\n",
    "node_size = [n[1]['betweenness']*1000000+10 for n in g.nodes.data()]\n",
    "#print(node_size)\n",
    "\n",
    "#dict([tuple(( n[0] , n[1]['label'] ))for n in u.nodes.data()])\n",
    "node_labels =  dict(((u), \n",
    "                    str(d['label']))\n",
    "                    for u, d in g.nodes(data=True))\n",
    "\n",
    "node_colors = 'blue'\n",
    "\n",
    "### On représente successivement les différentes sommets et arêtes,\n",
    "# puis on ajoute les labels\n",
    "nx.draw_networkx_nodes(g, pos,  node_color=node_colors, node_size=node_size, alpha=0.2)\n",
    "nx.draw_networkx_edges(g, pos, alpha=0.1) # edgelist=ln, edge_color=c, \n",
    "nx.draw_networkx_labels(g, pos, labels=node_labels, alpha=0.8, font_size=20)\n",
    "\n",
    "### On peut augmenter ou diminuer ce paramètre pour ajuster le graphe\n",
    "plt.tight_layout(pad=50)\n",
    "plt.savefig('images/biggest_education_relationships_component_test.svg')\n",
    "plt.close()\n",
    "#plt.plot()"
   ]
  },
  {
   "cell_type": "code",
   "execution_count": null,
   "metadata": {},
   "outputs": [],
   "source": []
  },
  {
   "cell_type": "markdown",
   "metadata": {},
   "source": [
    "## New graphs by period "
   ]
  },
  {
   "cell_type": "code",
   "execution_count": null,
   "metadata": {},
   "outputs": [],
   "source": [
    "gr_mer.head(2)"
   ]
  },
  {
   "cell_type": "markdown",
   "metadata": {},
   "source": [
    "### Period 1851-1900"
   ]
  },
  {
   "cell_type": "code",
   "execution_count": null,
   "metadata": {},
   "outputs": [],
   "source": [
    "gr_mer_1851_1900 = gr_mer[(gr_mer.periods_x=='1851-1900')|(gr_mer.periods_y=='1851-1900')].copy(deep=True)\n",
    "len(gr_mer_1851_1900)"
   ]
  },
  {
   "cell_type": "code",
   "execution_count": null,
   "metadata": {},
   "outputs": [],
   "source": [
    "### Distribution of relationships number\n",
    "print(gr_mer_1851_1900.groupby(by='numberOrgs').size())"
   ]
  },
  {
   "cell_type": "code",
   "execution_count": null,
   "metadata": {},
   "outputs": [],
   "source": [
    "## Provide the data in the format \n",
    "# required by Networkx\n",
    "\n",
    "l = [tuple(\n",
    "    (e['uriPer_x'], e['uriPer_y'],\n",
    "     {'orgsUris':e['uriOrgs'], 'orgsLabels':e['orgs'], 'orgsNumber':e['numberOrgs'],   \n",
    "      'periods_x':e['periods_x'], 'periods_y':e['periods_y']}\n",
    "     )) \n",
    "     for e in gr_mer_1851_1900.to_dict(orient='records')]\n",
    "print(len(l))"
   ]
  },
  {
   "cell_type": "code",
   "execution_count": null,
   "metadata": {},
   "outputs": [],
   "source": [
    "## Créate the empty graph\n",
    "ppG=nx.Graph()\n",
    "\n",
    "## Add relationships to graph\n",
    "# Multiple rows between two edges are taken only once\n",
    "ppG.add_edges_from(l)\n",
    "\n",
    "naf.basic_graph_properties(ppG)\n"
   ]
  },
  {
   "cell_type": "code",
   "execution_count": null,
   "metadata": {},
   "outputs": [],
   "source": [
    "### Prepare data to add to nodes\n",
    "ln = dict([(e['uri'],\n",
    "     {'label':e['label'], 'birthYear':e['birthYear']}\n",
    "     ) for e in df_pm.to_dict(orient='records')])\n",
    "# print(str(l)[:200])\n"
   ]
  },
  {
   "cell_type": "code",
   "execution_count": null,
   "metadata": {},
   "outputs": [],
   "source": [
    "\n",
    "## Add attributes\n",
    "nx.set_node_attributes(ppG, ln)\n",
    "pprint.pprint(list(ppG.nodes.data())[:2])\n"
   ]
  },
  {
   "cell_type": "code",
   "execution_count": null,
   "metadata": {},
   "outputs": [],
   "source": [
    "### Create a list of graphs, one per component\n",
    "perS = [ppG.subgraph(c).copy() for c in nx.connected_components(ppG)]\n",
    "\n",
    "### i is the component index in the list S of graphs , len(s.nodes) is the nomber of nodes\n",
    "ln = sorted([[i,len(s.nodes)] for i,s in enumerate(perS)], key = lambda row: row[1], reverse=True)\n",
    "print(ln[:5])\n",
    "\n"
   ]
  },
  {
   "cell_type": "code",
   "execution_count": null,
   "metadata": {},
   "outputs": [],
   "source": [
    "li = [0]\n",
    "big_ppG = nx.Graph()\n",
    "for i in li:\n",
    "    ## ajoute au graphe les composantes en utilisant\n",
    "    # l'index ou position dans la liste de graphes 'S'\n",
    "    big_ppG = nx.union(big_ppG, perS[i])\n",
    "\n",
    "naf.basic_graph_properties(big_ppG)\n",
    "\n"
   ]
  },
  {
   "cell_type": "code",
   "execution_count": null,
   "metadata": {},
   "outputs": [],
   "source": [
    "### Add degree centrality to nodes\n",
    "degree = dict([(d[0], {'degree': d[1]}) for d in nx.degree(big_ppG)])\n",
    "nx.set_node_attributes(big_ppG, degree)\n"
   ]
  },
  {
   "cell_type": "code",
   "execution_count": null,
   "metadata": {},
   "outputs": [],
   "source": [
    "### Plot degree distribution\n",
    "d = [d[1] for d in nx.degree(big_ppG)]\n",
    "naf.describe_plot_integers_distribution(d, 50,6,'Degree distribution')"
   ]
  },
  {
   "cell_type": "code",
   "execution_count": null,
   "metadata": {},
   "outputs": [],
   "source": [
    "### Add eigenvector to nodes\n",
    "\n",
    "## If error: PowerIterationFailedConvergence: (PowerIterationFailedConvergence(...), 'power iteration failed to converge within 100 iterations')\n",
    "# increase number of max iterations\n",
    "eigenvector = nx.eigenvector_centrality(big_ppG, max_iter=200)\n",
    "nx.set_node_attributes(big_ppG, eigenvector, 'eigenvector')\n",
    "pprint.pprint(list(big_ppG.nodes.data())[:2])"
   ]
  },
  {
   "cell_type": "code",
   "execution_count": null,
   "metadata": {},
   "outputs": [],
   "source": [
    "### Plot eigenvector density distribution \n",
    "eigenvector_s = pd.Series(list(eigenvector.values()))\n",
    "stats = eigenvector_s.describe()\n",
    "\n",
    "# Format decimal values\n",
    "stats = stats.apply(lambda x: format(x, '.20f'))\n",
    "\n",
    "print(stats)"
   ]
  },
  {
   "cell_type": "code",
   "execution_count": null,
   "metadata": {},
   "outputs": [],
   "source": [
    "### Export node attributes to dataframe\n",
    "nodes_data ={node: big_ppG.nodes[node] for node in big_ppG.nodes}\n",
    "nodes_df = pd.DataFrame(nodes_data).T\n",
    "nodes_df.reset_index(inplace=True)\n",
    "nodes_df.columns = ['personUri', 'label', 'birthYear','degree','eigenvector']\n",
    "nodes_df.head(2)"
   ]
  },
  {
   "cell_type": "code",
   "execution_count": null,
   "metadata": {},
   "outputs": [],
   "source": [
    "### \n",
    "\n",
    "exp = nodes_df.sort_values(by='eigenvector', ascending=False).iloc[:30]\n",
    "\n",
    "### Adapt image size and police\n",
    "plt.figure(figsize=(10, 20))\n",
    "\n",
    "plt.scatter(exp['degree'],\n",
    "            exp['eigenvector'],\n",
    "           marker='o',\n",
    "           color='DarkCyan'\n",
    "           )\n",
    "plt.xlabel('degree')\n",
    "plt.ylabel('eigenvector')\n",
    "\n",
    "for i,row in list(exp[['label', 'degree','eigenvector']].iterrows()):\n",
    "    plt.annotate(row['label'],(row['degree'], row['eigenvector']),\n",
    "                 fontsize=7)\n",
    "#plt.legend(title='Node type')\n",
    "#plt.savefig('plots/sieges_eigenvector_20210526.jpg')\n",
    "plt.show()"
   ]
  },
  {
   "cell_type": "code",
   "execution_count": null,
   "metadata": {},
   "outputs": [],
   "source": [
    "persons_high_egv = nodes_df['personUri'][nodes_df.eigenvector> 0.01].to_list()\n",
    "print(len(persons_high_egv), persons_high_egv[:3])"
   ]
  },
  {
   "cell_type": "code",
   "execution_count": null,
   "metadata": {},
   "outputs": [],
   "source": [
    "connecting_orgs = gr_mer[(gr_mer.uriPer_x.isin(persons_high_egv))|(gr_mer.uriPer_y.isin(persons_high_egv))].groupby(by='orgs').size()\n",
    "# file_add='data/connecting_orgs.csv'\n",
    "# connecting_orgs.sort_values(ascending=False).to_csv(file_add)\n",
    "print(connecting_orgs.sort_values(ascending=False).iloc[:20])"
   ]
  },
  {
   "cell_type": "code",
   "execution_count": null,
   "metadata": {},
   "outputs": [],
   "source": [
    "### Add betweenness to nodes\n",
    "\n",
    "# !!! trop long sur tout le graphe SI le graph est grand !!!\n",
    "\n",
    "betweenness = nx.betweenness_centrality(big_ppG)\n",
    "nx.set_node_attributes(big_ppG, betweenness, 'betweenness')\n"
   ]
  },
  {
   "cell_type": "code",
   "execution_count": null,
   "metadata": {},
   "outputs": [],
   "source": [
    "pprint.pprint(list(big_ppG.nodes.data())[:2])"
   ]
  },
  {
   "cell_type": "code",
   "execution_count": null,
   "metadata": {},
   "outputs": [],
   "source": [
    "### Export node attributes to dataframe\n",
    "nodes_data ={node: big_ppG.nodes[node] for node in big_ppG.nodes}\n",
    "nodes_df = pd.DataFrame(nodes_data).T\n",
    "nodes_df.reset_index(inplace=True)\n",
    "nodes_df.columns = ['personUri', 'label', 'birthYear','degree','eigenvector', 'betweenness']\n",
    "nodes_df.head(2)"
   ]
  },
  {
   "cell_type": "code",
   "execution_count": null,
   "metadata": {},
   "outputs": [],
   "source": [
    "nodes_df.sort_values(by=['eigenvector', 'betweenness'], ascending=False).iloc[:30]"
   ]
  },
  {
   "cell_type": "code",
   "execution_count": null,
   "metadata": {},
   "outputs": [],
   "source": [
    "### \n",
    "\n",
    "\n",
    "\n",
    "exp_eig = nodes_df.sort_values(by=['eigenvector', 'betweenness'], ascending=False).iloc[:30]\n",
    "exp_betw = nodes_df.sort_values(by=['betweenness', 'eigenvector'], ascending=False).iloc[:30]\n",
    "\n",
    "fig, ax = plt.subplots(1,2,figsize=(20,20) ) #  sharey=True, \n",
    "\n",
    "ax[0].scatter(exp_eig['eigenvector'],\n",
    "            exp_eig['betweenness'],\n",
    "           marker='o',\n",
    "           color='DarkCyan'\n",
    "           )\n",
    "ax[0].set_xlabel('eigenvector')\n",
    "ax[0].set_ylabel('betweenness')\n",
    "\n",
    "for i,row in list(exp_eig[['label', 'eigenvector','betweenness']].iterrows()):\n",
    "    ax[0].annotate(row['label'],(row['eigenvector'], row['betweenness']),\n",
    "                 fontsize=10)\n",
    "    \n",
    "\n",
    "ax[1].scatter(exp_betw['betweenness'],\n",
    "            exp_betw['eigenvector'],\n",
    "           marker='o',\n",
    "           color='DarkCyan'\n",
    "           )\n",
    "ax[1].set_xlabel('betweenness')\n",
    "ax[1].set_ylabel('eigenvector')\n",
    "\n",
    "for i,row in list(exp_betw[['label', 'betweenness','eigenvector']].iterrows()):\n",
    "    ax[1].annotate(row['label'],(row['betweenness'], row['eigenvector']),\n",
    "                 fontsize=10)\n",
    "\n",
    "\n",
    "\n",
    "#plt.legend(title='Node type')\n",
    "#plt.savefig('plots/sieges_eigenvector_20210526.jpg')\n",
    "plt.show()"
   ]
  },
  {
   "cell_type": "code",
   "execution_count": null,
   "metadata": {},
   "outputs": [],
   "source": [
    "\n",
    "# Visualize the graph with eigenvector centrality\n",
    "\n",
    "# Position the nodes\n",
    "pos = nx.spring_layout(big_ppG, k=0.2)\n",
    "\n",
    "#node_size = [e[1]*500+10 for e in le]\n",
    "degrees = [d[1] for d in big_ppG.degree()]\n",
    "max_degree = max(degrees)\n",
    "print(max_degree)\n",
    "\n",
    "\n",
    "cmap = plt.get_cmap('Dark2')\n",
    "\n",
    "\n",
    "# Create a figure and axis\n",
    "fig, ax = plt.subplots(figsize=(8,8))\n",
    "\n",
    "# Draw the nodes and edges\n",
    "#nx.draw_networkx_nodes(big_ppG, pos, ax=ax)\n",
    "nx.draw_networkx_edges(big_ppG, pos, ax=ax)\n",
    "\n",
    "# Create the ellipses\n",
    "for node in big_ppG.nodes():\n",
    "    width = big_ppG.nodes[node]['eigenvector']*0.7\n",
    "    height = big_ppG.nodes[node]['betweenness']*0.7\n",
    "    x, y = pos[node]\n",
    "    degree = big_ppG.degree(node)\n",
    "    color = cmap(degree / max_degree)\n",
    "    ellipse = patches.Ellipse((x, y), width, height, alpha=0.5, facecolor=color)\n",
    "    ax.add_patch(ellipse)\n",
    "nx.draw_networkx_labels(big_ppG, pos) # ,  horizontalalignment='left'\n",
    "# Set the limits and labels\n",
    "#ax.set_xlim(min(pos.values(), key=lambda x: x[0])[0] - 10, max(pos.values(), key=lambda x: x[0])[0] + 10)\n",
    "#ax.set_ylim(min(pos.values(), key=lambda x: x[1])[1] - 10, max(pos.values(), key=lambda x: x[1])[1] + 10)\n",
    "ax.set_title('Ellipse Plot of NetworkX Graph')\n",
    "\n",
    "\n",
    "plt.show()"
   ]
  },
  {
   "cell_type": "code",
   "execution_count": null,
   "metadata": {},
   "outputs": [],
   "source": [
    "### betweenness distribution \n",
    "betweenness_s = pd.Series(list(betweenness.values()))\n",
    "\n",
    "stats = betweenness_s.describe()\n",
    "\n",
    "# Format decimal values\n",
    "stats = stats.apply(lambda x: format(x, '.20f'))\n",
    "\n",
    "print(stats)"
   ]
  },
  {
   "cell_type": "code",
   "execution_count": null,
   "metadata": {},
   "outputs": [],
   "source": [
    "### \n",
    "\n",
    "g = big_ppG\n",
    "\n",
    "n_size = np.log(np.sqrt(nx.number_of_nodes(g)))* 20 #*25\n",
    "\n",
    "graph_layout = 'spring_layout'\n",
    "n_k = 0.4\n",
    "sc = 0.05\n",
    "\n",
    "### Define the layout, i.e. the choice \n",
    "# of the algorithm for the representation of the graph.\n",
    "\n",
    "if graph_layout == 'fruchterman_reingold':\n",
    "    pos = nx.fruchterman_reingold_layout(g)\n",
    "elif graph_layout == 'kamada_kawai':\n",
    "    pos = nx.kamada_kawai_layout(g)\n",
    "elif graph_layout == 'spring_layout':\n",
    "    pos = nx.spring_layout(g, k = n_k, scale=sc)  \n",
    "else:\n",
    "    pos = nx.kamada_kawai_layout(g)\n",
    "\n",
    "\n",
    "\n",
    "\n",
    "# https://networkx.org/documentation/stable/reference/drawing.html\n",
    "plt.figure(figsize = (n_size,n_size))\n",
    "\n",
    "\n",
    "\n",
    "## on définit ici l'algorythme avec lequel le traphe sera représenté\n",
    "\n",
    "# node_size = [d[1]*100 for d in nx.degree(g)]\n",
    "#node_size = [d[1]*10000 for d in nx.eigenvector_centrality(g).items()]\n",
    "node_size = [n[1]['betweenness']*1000000+10 for n in g.nodes.data()]\n",
    "#print(node_size)\n",
    "\n",
    "#dict([tuple(( n[0] , n[1]['label'] ))for n in u.nodes.data()])\n",
    "node_labels =  dict(((u), \n",
    "                    str(d['label']))\n",
    "                    for u, d in g.nodes(data=True))\n",
    "\n",
    "node_colors = 'blue'\n",
    "\n",
    "### On représente successivement les différentes sommets et arêtes,\n",
    "# puis on ajoute les labels\n",
    "nx.draw_networkx_nodes(g, pos,  node_color=node_colors, node_size=node_size, alpha=0.2)\n",
    "nx.draw_networkx_edges(g, pos, alpha=0.1) # edgelist=ln, edge_color=c, \n",
    "nx.draw_networkx_labels(g, pos, labels=node_labels, alpha=0.8, font_size=20)\n",
    "\n",
    "### On peut augmenter ou diminuer ce paramètre pour ajuster le graphe\n",
    "plt.tight_layout(pad=50)\n",
    "plt.savefig('images/biggest_education_relationships_component_1851_1900.svg')\n",
    "plt.close()\n",
    "#plt.plot()"
   ]
  },
  {
   "cell_type": "code",
   "execution_count": null,
   "metadata": {},
   "outputs": [],
   "source": [
    "### A k-core is a maximal subgraph that contains nodes of degree k or more.\n",
    "# https://networkx.org/documentation/stable/reference/algorithms/generated/networkx.algorithms.core.core_number.html#networkx.algorithms.core.core_number\n",
    "core_numbers = nx.core_number(big_ppG)"
   ]
  },
  {
   "cell_type": "code",
   "execution_count": null,
   "metadata": {},
   "outputs": [],
   "source": [
    "### Distribution of nodes per core layer\n",
    "l = [v for k,v in core_numbers.items()]\n",
    "ls = pd.Series(l)\n",
    "grouped = ls.groupby(ls).size()\n",
    "\n",
    "\n",
    "ax = grouped.plot.bar(stacked=True, rot=70, fontsize=9, figsize=(20,8))\n",
    "plt.title('Distribution of nodes per core layers')\n",
    "\n",
    "## https://stackoverflow.com/questions/71320380/add-only-the-total-values-on-top-of-stacked-bars\n",
    "ax.bar_label(ax.containers[-1])\n",
    "\n",
    "plt.show()\n"
   ]
  },
  {
   "cell_type": "code",
   "execution_count": null,
   "metadata": {},
   "outputs": [],
   "source": [
    "### \n",
    "ln = [ k  for k,v in core_numbers.items()  if v > 10]\n",
    "print(len(ln), ln[:3])"
   ]
  },
  {
   "cell_type": "code",
   "execution_count": null,
   "metadata": {},
   "outputs": [],
   "source": [
    "naf.basic_graph_properties(big_ppG)"
   ]
  },
  {
   "cell_type": "code",
   "execution_count": null,
   "metadata": {},
   "outputs": [],
   "source": [
    "SG = big_ppG.subgraph(ln)\n",
    "naf.basic_graph_properties(SG)\n"
   ]
  },
  {
   "cell_type": "code",
   "execution_count": null,
   "metadata": {},
   "outputs": [],
   "source": [
    "b = betweenness_s.sort_values(ascending=False).iloc[40]\n",
    "print(b)"
   ]
  },
  {
   "cell_type": "code",
   "execution_count": null,
   "metadata": {},
   "outputs": [],
   "source": [
    "### \n",
    "\n",
    "g = SG\n",
    "\n",
    "n_size = np.log(np.sqrt(nx.number_of_nodes(g)))* 20 #*25\n",
    "\n",
    "graph_layout = 'spring_layout'\n",
    "n_k = 0.7\n",
    "sc = 0.05\n",
    "\n",
    "### Define the layout, i.e. the choice \n",
    "# of the algorithm for the representation of the graph.\n",
    "\n",
    "if graph_layout == 'fruchterman_reingold':\n",
    "    pos = nx.fruchterman_reingold_layout(g)\n",
    "elif graph_layout == 'kamada_kawai':\n",
    "    pos = nx.kamada_kawai_layout(g)\n",
    "elif graph_layout == 'spring_layout':\n",
    "    pos = nx.spring_layout(g, k = n_k, scale=sc)  \n",
    "else:\n",
    "    pos = nx.kamada_kawai_layout(g)\n",
    "\n",
    "\n",
    "\n",
    "\n",
    "# https://networkx.org/documentation/stable/reference/drawing.html\n",
    "plt.figure(figsize = (n_size,n_size))\n",
    "\n",
    "\n",
    "\n",
    "## on définit ici l'algorythme avec lequel le traphe sera représenté\n",
    "\n",
    "# node_size = [d[1]*100 for d in nx.degree(g)]\n",
    "#node_size = [d[1]*10000 for d in nx.eigenvector_centrality(g).items()]\n",
    "node_size = [n[1]['betweenness']*500000+20 for n in g.nodes.data()]\n",
    "#print(node_size)\n",
    "\n",
    "\n",
    "\n",
    "## label only for the 10 most relevant intermediaries\n",
    "node_labels =  dict(((u), \n",
    "                    str(d['label']))\n",
    "                    if d['betweenness'] > b \n",
    "                    else ((u), \n",
    "                    str(''))\n",
    "                    for u, d in g.nodes(data=True))\n",
    "print(node_labels)\n",
    "\n",
    "node_colors = 'blue'\n",
    "\n",
    "### On représente successivement les différentes sommets et arêtes,\n",
    "# puis on ajoute les labels\n",
    "nx.draw_networkx_nodes(g, pos,  node_color=node_colors, node_size=node_size, alpha=0.2)\n",
    "nx.draw_networkx_edges(g, pos, alpha=0.02) # edgelist=ln, edge_color=c, \n",
    "nx.draw_networkx_labels(g, pos, labels=node_labels, alpha=0.8, font_size=20)\n",
    "\n",
    "### On peut augmenter ou diminuer ce paramètre pour ajuster le graphe\n",
    "plt.tight_layout(pad=50)\n",
    "plt.savefig('images/biggest_sliced_education_relationships_component_1851_1900.svg')\n",
    "plt.close()\n",
    "#plt.plot()"
   ]
  },
  {
   "cell_type": "markdown",
   "metadata": {},
   "source": [
    "#### Egograph based on eigenvector"
   ]
  },
  {
   "cell_type": "code",
   "execution_count": null,
   "metadata": {},
   "outputs": [],
   "source": [
    "ei = sorted([n[1]['eigenvector'] for n in big_ppG.nodes.data()], reverse=True)[10]\n",
    "print(ei)"
   ]
  },
  {
   "cell_type": "code",
   "execution_count": null,
   "metadata": {},
   "outputs": [],
   "source": [
    "ln = [n[0] for n in big_ppG.nodes.data() if n[1]['eigenvector'] >= ei ]\n",
    "print(len(ln), ln[1])"
   ]
  },
  {
   "cell_type": "code",
   "execution_count": null,
   "metadata": {},
   "outputs": [],
   "source": [
    "ego_graph = nx.ego_graph(big_ppG, ln[1], radius=2)\n",
    "egn = list(ego_graph.nodes())\n",
    "print(egn[:2])"
   ]
  },
  {
   "cell_type": "code",
   "execution_count": null,
   "metadata": {},
   "outputs": [],
   "source": [
    "\n",
    "# Display variable\n",
    "\n",
    "egos_graph = nx.Graph()\n",
    "\n",
    "l_nodes=[]\n",
    "i = 0\n",
    "while i < len(ln):\n",
    "    ego_graph = nx.ego_graph(big_ppG, ln[1], radius=3)\n",
    "    egn = list(ego_graph.nodes())\n",
    "    l_nodes += egn\n",
    "    i += 1\n",
    "\n",
    "egos_graph = nx.subgraph(big_ppG, l_nodes)\n",
    "\n",
    "naf.basic_graph_properties(egos_graph)\n"
   ]
  },
  {
   "cell_type": "code",
   "execution_count": null,
   "metadata": {},
   "outputs": [],
   "source": [
    "pprint.pprint(list(egos_graph.nodes.data())[:2])"
   ]
  },
  {
   "cell_type": "code",
   "execution_count": null,
   "metadata": {},
   "outputs": [],
   "source": [
    "ei2 = sorted([n[1]['eigenvector'] for n in big_ppG.nodes.data()], reverse=True)[50]\n",
    "print(ei2)"
   ]
  },
  {
   "cell_type": "code",
   "execution_count": null,
   "metadata": {},
   "outputs": [],
   "source": [
    "### \n",
    "\n",
    "g = egos_graph\n",
    "\n",
    "n_size = np.log(np.sqrt(nx.number_of_nodes(g)))* 20 #*25\n",
    "\n",
    "graph_layout = 'spring_layout'\n",
    "n_k = 0.7\n",
    "sc = 0.05\n",
    "\n",
    "### Define the layout, i.e. the choice \n",
    "# of the algorithm for the representation of the graph.\n",
    "\n",
    "if graph_layout == 'fruchterman_reingold':\n",
    "    pos = nx.fruchterman_reingold_layout(g)\n",
    "elif graph_layout == 'kamada_kawai':\n",
    "    pos = nx.kamada_kawai_layout(g)\n",
    "elif graph_layout == 'spring_layout':\n",
    "    pos = nx.spring_layout(g, k = n_k, scale=sc)  \n",
    "else:\n",
    "    pos = nx.kamada_kawai_layout(g)\n",
    "\n",
    "\n",
    "\n",
    "\n",
    "# https://networkx.org/documentation/stable/reference/drawing.html\n",
    "plt.figure(figsize = (n_size,n_size))\n",
    "\n",
    "\n",
    "\n",
    "## on définit ici l'algorythme avec lequel le traphe sera représenté\n",
    "\n",
    "# node_size = [d[1]*100 for d in nx.degree(g)]\n",
    "#node_size = [d[1]*10000 for d in nx.eigenvector_centrality(g).items()]\n",
    "node_size = [n[1]['eigenvector']*50000+20 for n in g.nodes.data()]\n",
    "#print(node_size)\n",
    "\n",
    "\n",
    "\n",
    "## label only for the 10 most relevant intermediaries\n",
    "node_labels =  dict(((u), \n",
    "                    str(d['label']))\n",
    "                    if d['eigenvector'] >= ei2\n",
    "                    else ((u), \n",
    "                    str(''))\n",
    "                    for u, d in g.nodes(data=True))\n",
    "#print(node_labels)\n",
    "\n",
    "node_colors = 'blue'\n",
    "\n",
    "### On représente successivement les différentes sommets et arêtes,\n",
    "# puis on ajoute les labels\n",
    "nx.draw_networkx_nodes(g, pos,  node_color=node_colors, node_size=node_size, alpha=0.2)\n",
    "nx.draw_networkx_edges(g, pos, alpha=0.02) # edgelist=ln, edge_color=c, \n",
    "nx.draw_networkx_labels(g, pos, labels=node_labels, alpha=0.8, font_size=20)\n",
    "\n",
    "### On peut augmenter ou diminuer ce paramètre pour ajuster le graphe\n",
    "plt.tight_layout(pad=50)\n",
    "plt.savefig('images/biggest_egos_education_relationships_component_1851_1900.svg')\n",
    "plt.close()\n",
    "#plt.plot()"
   ]
  },
  {
   "cell_type": "code",
   "execution_count": null,
   "metadata": {},
   "outputs": [],
   "source": []
  },
  {
   "cell_type": "code",
   "execution_count": null,
   "metadata": {},
   "outputs": [],
   "source": [
    "### Export node attributes to dataframe\n",
    "nodes_data ={node: egos_graph.nodes[node] for node in egos_graph.nodes}\n",
    "nodes_df = pd.DataFrame(nodes_data).T\n",
    "nodes_df.reset_index(inplace=True)\n",
    "nodes_df.columns = ['personUri', 'label', 'birthYear','degree','eigenvector', 'betweenness']\n",
    "nodes_df.head(2)"
   ]
  },
  {
   "cell_type": "code",
   "execution_count": null,
   "metadata": {},
   "outputs": [],
   "source": [
    "### \n",
    "\n",
    "exp = nodes_df.sort_values(by='betweenness', ascending=False).iloc[:50]\n",
    "\n",
    "### Adapt image size and police\n",
    "plt.figure(figsize=(10, 20))\n",
    "\n",
    "plt.scatter(exp['eigenvector'],\n",
    "           exp['betweenness'],\n",
    "            marker='o',\n",
    "           color='DarkCyan'\n",
    "           )\n",
    "plt.xlabel('eigenvector')\n",
    "plt.ylabel('betweenness')\n",
    "\n",
    "for i,row in list(exp[['label','eigenvector', 'betweenness']].iterrows()):\n",
    "    plt.annotate(row['label'],( row['eigenvector'],row['betweenness']),\n",
    "                 fontsize=7)\n",
    "#plt.legend(title='Node type')\n",
    "#plt.savefig('plots/sieges_eigenvector_20210526.jpg')\n",
    "plt.show()"
   ]
  },
  {
   "cell_type": "code",
   "execution_count": null,
   "metadata": {},
   "outputs": [],
   "source": [
    "persons_high_egv = nodes_df['personUri'][nodes_df.eigenvector> ei2].to_list()\n",
    "print(len(persons_high_egv), persons_high_egv[:3])"
   ]
  },
  {
   "cell_type": "code",
   "execution_count": null,
   "metadata": {},
   "outputs": [],
   "source": [
    "connecting_orgs = gr_mer[(gr_mer.uriPer_x.isin(persons_high_egv))|(gr_mer.uriPer_y.isin(persons_high_egv))].groupby(by='orgs').size()\n",
    "# file_add='data/connecting_orgs.csv'\n",
    "# connecting_orgs.sort_values(ascending=False).to_csv(file_add)\n",
    "print(connecting_orgs.sort_values(ascending=False).iloc[:20])"
   ]
  },
  {
   "cell_type": "markdown",
   "metadata": {},
   "source": [
    "# Conclusion\n",
    "\n",
    "Reste à faire:\n",
    "\n",
    "* ajouter les poids sur les relations pour calcules les paramètres de centralité\n",
    "* vérifier s'il y a une correlation entre prix obtenus et centralité dans le réseau des études\n",
    "* vérifier s'il y a correlation entre étudier ensemble et publier ensemble "
   ]
  },
  {
   "cell_type": "code",
   "execution_count": null,
   "metadata": {},
   "outputs": [],
   "source": []
  },
  {
   "cell_type": "code",
   "execution_count": null,
   "metadata": {},
   "outputs": [],
   "source": []
  },
  {
   "cell_type": "code",
   "execution_count": null,
   "metadata": {},
   "outputs": [],
   "source": []
  },
  {
   "cell_type": "markdown",
   "metadata": {},
   "source": [
    "### Period 1901-1920"
   ]
  },
  {
   "cell_type": "code",
   "execution_count": null,
   "metadata": {},
   "outputs": [],
   "source": [
    "gr_mer_1901_1920 = gr_mer[(gr_mer.periods_x=='1901-1920')|(gr_mer.periods_y=='1901-1920')].copy(deep=True)\n",
    "print(len(gr_mer_1901_1920))"
   ]
  },
  {
   "cell_type": "code",
   "execution_count": null,
   "metadata": {},
   "outputs": [],
   "source": [
    "### Distribution of relationships number\n",
    "print(gr_mer_1901_1920.groupby(by='numberOrgs').size())"
   ]
  },
  {
   "cell_type": "code",
   "execution_count": null,
   "metadata": {},
   "outputs": [],
   "source": [
    "## Provide the data in the format \n",
    "# required by Networkx\n",
    "\n",
    "l = [tuple(\n",
    "    (e['uriPer_x'], e['uriPer_y'],\n",
    "     {'orgsUris':e['uriOrgs'], 'orgsLabels':e['orgs'], 'orgsNumber':e['numberOrgs'],   \n",
    "      'periods_x':e['periods_x'], 'periods_y':e['periods_y']}\n",
    "     )) \n",
    "     for e in gr_mer_1901_1920.to_dict(orient='records')]\n",
    "print(len(l))"
   ]
  },
  {
   "cell_type": "code",
   "execution_count": null,
   "metadata": {},
   "outputs": [],
   "source": [
    "## Créate the empty graph\n",
    "ppG=nx.Graph()\n",
    "\n",
    "## Add relationships to graph\n",
    "# Multiple rows between two edges are taken only once\n",
    "ppG.add_edges_from(l)\n",
    "\n",
    "naf.basic_graph_properties(ppG)\n"
   ]
  },
  {
   "cell_type": "code",
   "execution_count": null,
   "metadata": {},
   "outputs": [],
   "source": [
    "### Prepare data to add to nodes\n",
    "ln = dict([(e['uri'],\n",
    "     {'label':e['label'], 'birthYear':e['birthYear']}\n",
    "     ) for e in df_pm.to_dict(orient='records')])\n",
    "# print(str(l)[:200])\n"
   ]
  },
  {
   "cell_type": "code",
   "execution_count": null,
   "metadata": {},
   "outputs": [],
   "source": [
    "\n",
    "## Add attributes\n",
    "nx.set_node_attributes(ppG, ln)\n",
    "pprint.pprint(list(ppG.nodes.data())[:2])\n"
   ]
  },
  {
   "cell_type": "code",
   "execution_count": null,
   "metadata": {},
   "outputs": [],
   "source": [
    "### Create a list of graphs, one per component\n",
    "perS = [ppG.subgraph(c).copy() for c in nx.connected_components(ppG)]\n",
    "\n",
    "### i is the component index in the list S of graphs , len(s.nodes) is the nomber of nodes\n",
    "ln = sorted([[i,len(s.nodes)] for i,s in enumerate(perS)], key = lambda row: row[1], reverse=True)\n",
    "print(ln[:5])\n",
    "\n"
   ]
  },
  {
   "cell_type": "code",
   "execution_count": null,
   "metadata": {},
   "outputs": [],
   "source": [
    "li = [0]\n",
    "big_ppG = nx.Graph()\n",
    "for i in li:\n",
    "    ## ajoute au graphe les composantes en utilisant\n",
    "    # l'index ou position dans la liste de graphes 'S'\n",
    "    big_ppG = nx.union(big_ppG, perS[i])\n",
    "\n",
    "naf.basic_graph_properties(big_ppG)\n",
    "\n"
   ]
  },
  {
   "cell_type": "code",
   "execution_count": null,
   "metadata": {},
   "outputs": [],
   "source": [
    "### Add degree centrality to nodes\n",
    "degree = dict([(d[0], {'degree': d[1]}) for d in nx.degree(big_ppG)])\n",
    "nx.set_node_attributes(big_ppG, degree)\n"
   ]
  },
  {
   "cell_type": "code",
   "execution_count": null,
   "metadata": {},
   "outputs": [],
   "source": [
    "### Plot degree distribution\n",
    "d = [d[1] for d in nx.degree(big_ppG)]\n",
    "naf.describe_plot_integers_distribution(d, 50,6,'Degree distribution')"
   ]
  },
  {
   "cell_type": "code",
   "execution_count": null,
   "metadata": {},
   "outputs": [],
   "source": [
    "### Add eigenvector to nodes\n",
    "\n",
    "## If error: PowerIterationFailedConvergence: (PowerIterationFailedConvergence(...), 'power iteration failed to converge within 100 iterations')\n",
    "# increase number of max iterations\n",
    "eigenvector = nx.eigenvector_centrality(big_ppG, max_iter=200)\n",
    "nx.set_node_attributes(big_ppG, eigenvector, 'eigenvector')\n",
    "pprint.pprint(list(big_ppG.nodes.data())[:2])"
   ]
  },
  {
   "cell_type": "code",
   "execution_count": null,
   "metadata": {},
   "outputs": [],
   "source": [
    "### Plot eigenvector density distribution \n",
    "eigenvector_s = pd.Series(list(eigenvector.values()))\n",
    "stats = eigenvector_s.describe()\n",
    "\n",
    "# Format decimal values\n",
    "stats = stats.apply(lambda x: format(x, '.20f'))\n",
    "\n",
    "print(stats)"
   ]
  },
  {
   "cell_type": "code",
   "execution_count": null,
   "metadata": {},
   "outputs": [],
   "source": [
    "### Export node attributes to dataframe\n",
    "nodes_data ={node: big_ppG.nodes[node] for node in big_ppG.nodes}\n",
    "nodes_df = pd.DataFrame(nodes_data).T\n",
    "nodes_df.reset_index(inplace=True)\n",
    "nodes_df.columns = ['personUri', 'label', 'birthYear','degree','eigenvector']\n",
    "nodes_df.head(2)"
   ]
  },
  {
   "cell_type": "code",
   "execution_count": null,
   "metadata": {},
   "outputs": [],
   "source": [
    "### \n",
    "\n",
    "exp = nodes_df.sort_values(by='eigenvector', ascending=False).iloc[:300]\n",
    "\n",
    "### Adapt image size and police\n",
    "plt.figure(figsize=(10, 20))\n",
    "\n",
    "plt.scatter(exp['degree'],\n",
    "            exp['eigenvector'],\n",
    "           marker='o',\n",
    "           color='DarkCyan'\n",
    "           )\n",
    "plt.xlabel('degree')\n",
    "plt.ylabel('eigenvector')\n",
    "\n",
    "for i,row in list(exp[['label', 'degree','eigenvector']].iterrows()):\n",
    "    plt.annotate(row['label'],(row['degree'], row['eigenvector']),\n",
    "                 fontsize=7)\n",
    "#plt.legend(title='Node type')\n",
    "#plt.savefig('plots/sieges_eigenvector_20210526.jpg')\n",
    "plt.show()"
   ]
  },
  {
   "cell_type": "code",
   "execution_count": null,
   "metadata": {},
   "outputs": [],
   "source": [
    "persons_high_egv = nodes_df['personUri'][nodes_df.eigenvector> 0.01].to_list()\n",
    "print(len(persons_high_egv), persons_high_egv[:3])"
   ]
  },
  {
   "cell_type": "code",
   "execution_count": null,
   "metadata": {},
   "outputs": [],
   "source": [
    "connecting_orgs = gr_mer[(gr_mer.uriPer_x.isin(persons_high_egv))|(gr_mer.uriPer_y.isin(persons_high_egv))].groupby(by='orgs').size()\n",
    "# file_add='data/connecting_orgs.csv'\n",
    "# connecting_orgs.sort_values(ascending=False).to_csv(file_add)\n",
    "print(connecting_orgs.sort_values(ascending=False).iloc[:20])"
   ]
  },
  {
   "cell_type": "code",
   "execution_count": null,
   "metadata": {},
   "outputs": [],
   "source": [
    "### Add betweenness to nodes\n",
    "\n",
    "# !!! trop long sur tout le graphe SI le graph est grand !!!\n",
    "\n",
    "betweenness = nx.betweenness_centrality(big_ppG)\n",
    "nx.set_node_attributes(big_ppG, betweenness, 'betweenness')\n",
    "pprint.pprint(list(big_ppG.nodes.data())[:2])"
   ]
  },
  {
   "cell_type": "code",
   "execution_count": null,
   "metadata": {},
   "outputs": [],
   "source": [
    "print([e[1] for e in list(betweenness.items())][:3])"
   ]
  },
  {
   "cell_type": "code",
   "execution_count": null,
   "metadata": {},
   "outputs": [],
   "source": [
    "### betweenness distribution \n",
    "betweenness_s = pd.Series(list(betweenness.values()))\n",
    "\n",
    "stats = betweenness_s.describe()\n",
    "\n",
    "# Format decimal values\n",
    "stats = stats.apply(lambda x: format(x, '.20f'))\n",
    "\n",
    "print(stats)"
   ]
  },
  {
   "cell_type": "code",
   "execution_count": null,
   "metadata": {},
   "outputs": [],
   "source": [
    "### A k-core is a maximal subgraph that contains nodes of degree k or more.\n",
    "# https://networkx.org/documentation/stable/reference/algorithms/generated/networkx.algorithms.core.core_number.html#networkx.algorithms.core.core_number\n",
    "core_numbers = nx.core_number(big_ppG)"
   ]
  },
  {
   "cell_type": "code",
   "execution_count": null,
   "metadata": {},
   "outputs": [],
   "source": [
    "### Distribution of nodes per core layer\n",
    "l = [v for k,v in core_numbers.items()]\n",
    "ls = pd.Series(l)\n",
    "grouped = ls.groupby(ls).size()\n",
    "\n",
    "\n",
    "ax = grouped.plot.bar(stacked=True, rot=70, fontsize=9, figsize=(20,8))\n",
    "plt.title('Distribution of nodes per core layers')\n",
    "\n",
    "## https://stackoverflow.com/questions/71320380/add-only-the-total-values-on-top-of-stacked-bars\n",
    "ax.bar_label(ax.containers[-1])\n",
    "\n",
    "plt.show()\n"
   ]
  },
  {
   "cell_type": "code",
   "execution_count": null,
   "metadata": {},
   "outputs": [],
   "source": [
    "### \n",
    "ln = [ k  for k,v in core_numbers.items()  if v > 10]\n",
    "print(len(ln), ln[:3])"
   ]
  },
  {
   "cell_type": "code",
   "execution_count": null,
   "metadata": {},
   "outputs": [],
   "source": [
    "naf.basic_graph_properties(big_ppG)"
   ]
  },
  {
   "cell_type": "code",
   "execution_count": null,
   "metadata": {},
   "outputs": [],
   "source": [
    "SG = big_ppG.subgraph(ln)\n",
    "naf.basic_graph_properties(SG)\n"
   ]
  },
  {
   "cell_type": "code",
   "execution_count": null,
   "metadata": {},
   "outputs": [],
   "source": [
    "b = betweenness_s.sort_values(ascending=False).iloc[40]\n",
    "print(b)"
   ]
  },
  {
   "cell_type": "code",
   "execution_count": null,
   "metadata": {},
   "outputs": [],
   "source": [
    "### \n",
    "\n",
    "g = SG\n",
    "\n",
    "n_size = np.log(np.sqrt(nx.number_of_nodes(g)))* 20 #*25\n",
    "\n",
    "graph_layout = 'spring_layout'\n",
    "n_k = 0.7\n",
    "sc = 0.05\n",
    "\n",
    "### Define the layout, i.e. the choice \n",
    "# of the algorithm for the representation of the graph.\n",
    "\n",
    "if graph_layout == 'fruchterman_reingold':\n",
    "    pos = nx.fruchterman_reingold_layout(g)\n",
    "elif graph_layout == 'kamada_kawai':\n",
    "    pos = nx.kamada_kawai_layout(g)\n",
    "elif graph_layout == 'spring_layout':\n",
    "    pos = nx.spring_layout(g, k = n_k, scale=sc)  \n",
    "else:\n",
    "    pos = nx.kamada_kawai_layout(g)\n",
    "\n",
    "\n",
    "\n",
    "\n",
    "# https://networkx.org/documentation/stable/reference/drawing.html\n",
    "plt.figure(figsize = (n_size,n_size))\n",
    "\n",
    "\n",
    "\n",
    "## on définit ici l'algorythme avec lequel le traphe sera représenté\n",
    "\n",
    "# node_size = [d[1]*100 for d in nx.degree(g)]\n",
    "#node_size = [d[1]*10000 for d in nx.eigenvector_centrality(g).items()]\n",
    "node_size = [n[1]['betweenness']*500000+20 for n in g.nodes.data()]\n",
    "#print(node_size)\n",
    "\n",
    "\n",
    "\n",
    "## label only for the 10 most relevant intermediaries\n",
    "node_labels =  dict(((u), \n",
    "                    str(d['label']))\n",
    "                    if d['betweenness'] > b \n",
    "                    else ((u), \n",
    "                    str(''))\n",
    "                    for u, d in g.nodes(data=True))\n",
    "#print(node_labels)\n",
    "\n",
    "node_colors = 'blue'\n",
    "\n",
    "### On représente successivement les différentes sommets et arêtes,\n",
    "# puis on ajoute les labels\n",
    "nx.draw_networkx_nodes(g, pos,  node_color=node_colors, node_size=node_size, alpha=0.2)\n",
    "nx.draw_networkx_edges(g, pos, alpha=0.02) # edgelist=ln, edge_color=c, \n",
    "nx.draw_networkx_labels(g, pos, labels=node_labels, alpha=0.8, font_size=20)\n",
    "\n",
    "### On peut augmenter ou diminuer ce paramètre pour ajuster le graphe\n",
    "plt.tight_layout(pad=50)\n",
    "plt.savefig('images/biggest_sliced_education_relationships_component_1901_1920.svg')\n",
    "plt.close()\n",
    "#plt.plot()"
   ]
  },
  {
   "cell_type": "markdown",
   "metadata": {},
   "source": [
    "#### Egograph based on eigenvector"
   ]
  },
  {
   "cell_type": "code",
   "execution_count": null,
   "metadata": {},
   "outputs": [],
   "source": [
    "ei = sorted([n[1]['eigenvector'] for n in big_ppG.nodes.data()], reverse=True)[10]\n",
    "print(ei)"
   ]
  },
  {
   "cell_type": "code",
   "execution_count": null,
   "metadata": {},
   "outputs": [],
   "source": [
    "ln = [n[0] for n in big_ppG.nodes.data() if n[1]['eigenvector'] >= ei ]\n",
    "print(len(ln), ln[1])"
   ]
  },
  {
   "cell_type": "code",
   "execution_count": null,
   "metadata": {},
   "outputs": [],
   "source": [
    "ego_graph = nx.ego_graph(big_ppG, ln[1], radius=2)\n",
    "egn = list(ego_graph.nodes())\n",
    "print(egn[:2])"
   ]
  },
  {
   "cell_type": "code",
   "execution_count": null,
   "metadata": {},
   "outputs": [],
   "source": [
    "\n",
    "# Display variable\n",
    "\n",
    "egos_graph = nx.Graph()\n",
    "\n",
    "l_nodes=[]\n",
    "i = 0\n",
    "while i < len(ln):\n",
    "    ego_graph = nx.ego_graph(big_ppG, ln[1], radius=3)\n",
    "    egn = list(ego_graph.nodes())\n",
    "    l_nodes += egn\n",
    "    i += 1\n",
    "\n",
    "egos_graph = nx.subgraph(big_ppG, l_nodes)\n",
    "\n",
    "naf.basic_graph_properties(egos_graph)\n"
   ]
  },
  {
   "cell_type": "code",
   "execution_count": null,
   "metadata": {},
   "outputs": [],
   "source": [
    "pprint.pprint(list(egos_graph.nodes.data())[:2])"
   ]
  },
  {
   "cell_type": "code",
   "execution_count": null,
   "metadata": {},
   "outputs": [],
   "source": [
    "ei2 = sorted([n[1]['eigenvector'] for n in big_ppG.nodes.data()], reverse=True)[50]\n",
    "print(ei2)"
   ]
  },
  {
   "cell_type": "code",
   "execution_count": null,
   "metadata": {},
   "outputs": [],
   "source": [
    "### \n",
    "\n",
    "g = egos_graph\n",
    "\n",
    "n_size = np.log(np.sqrt(nx.number_of_nodes(g)))* 20 #*25\n",
    "\n",
    "graph_layout = 'spring_layout'\n",
    "n_k = 0.7\n",
    "sc = 0.05\n",
    "\n",
    "### Define the layout, i.e. the choice \n",
    "# of the algorithm for the representation of the graph.\n",
    "\n",
    "if graph_layout == 'fruchterman_reingold':\n",
    "    pos = nx.fruchterman_reingold_layout(g)\n",
    "elif graph_layout == 'kamada_kawai':\n",
    "    pos = nx.kamada_kawai_layout(g)\n",
    "elif graph_layout == 'spring_layout':\n",
    "    pos = nx.spring_layout(g, k = n_k, scale=sc)  \n",
    "else:\n",
    "    pos = nx.kamada_kawai_layout(g)\n",
    "\n",
    "\n",
    "\n",
    "\n",
    "# https://networkx.org/documentation/stable/reference/drawing.html\n",
    "plt.figure(figsize = (n_size,n_size))\n",
    "\n",
    "\n",
    "\n",
    "## on définit ici l'algorythme avec lequel le traphe sera représenté\n",
    "\n",
    "# node_size = [d[1]*100 for d in nx.degree(g)]\n",
    "#node_size = [d[1]*10000 for d in nx.eigenvector_centrality(g).items()]\n",
    "node_size = [n[1]['eigenvector']*50000+20 for n in g.nodes.data()]\n",
    "#print(node_size)\n",
    "\n",
    "\n",
    "\n",
    "## label only for the 10 most relevant intermediaries\n",
    "node_labels =  dict(((u), \n",
    "                    str(d['label']))\n",
    "                    if d['eigenvector'] >= ei2\n",
    "                    else ((u), \n",
    "                    str(''))\n",
    "                    for u, d in g.nodes(data=True))\n",
    "#print(node_labels)\n",
    "\n",
    "node_colors = 'blue'\n",
    "\n",
    "### On représente successivement les différentes sommets et arêtes,\n",
    "# puis on ajoute les labels\n",
    "nx.draw_networkx_nodes(g, pos,  node_color=node_colors, node_size=node_size, alpha=0.2)\n",
    "nx.draw_networkx_edges(g, pos, alpha=0.02) # edgelist=ln, edge_color=c, \n",
    "nx.draw_networkx_labels(g, pos, labels=node_labels, alpha=0.8, font_size=20)\n",
    "\n",
    "### On peut augmenter ou diminuer ce paramètre pour ajuster le graphe\n",
    "plt.tight_layout(pad=50)\n",
    "plt.savefig('images/biggest_egos_education_relationships_component_1901_1920.svg')\n",
    "plt.close()\n",
    "#plt.plot()"
   ]
  },
  {
   "cell_type": "code",
   "execution_count": null,
   "metadata": {},
   "outputs": [],
   "source": []
  },
  {
   "cell_type": "code",
   "execution_count": null,
   "metadata": {},
   "outputs": [],
   "source": [
    "### Export node attributes to dataframe\n",
    "nodes_data ={node: egos_graph.nodes[node] for node in egos_graph.nodes}\n",
    "nodes_df = pd.DataFrame(nodes_data).T\n",
    "nodes_df.reset_index(inplace=True)\n",
    "nodes_df.columns = ['personUri', 'label', 'birthYear','degree','eigenvector', 'betweenness']\n",
    "nodes_df.head(2)"
   ]
  },
  {
   "cell_type": "code",
   "execution_count": null,
   "metadata": {},
   "outputs": [],
   "source": [
    "### \n",
    "\n",
    "exp = nodes_df.sort_values(by='betweenness', ascending=False).iloc[:100]\n",
    "\n",
    "### Adapt image size and police\n",
    "plt.figure(figsize=(10, 20))\n",
    "\n",
    "plt.scatter(exp['eigenvector'],\n",
    "           exp['betweenness'],\n",
    "            marker='o',\n",
    "           color='DarkCyan'\n",
    "           )\n",
    "plt.xlabel('eigenvector')\n",
    "plt.ylabel('betweenness')\n",
    "\n",
    "for i,row in list(exp[['label','eigenvector', 'betweenness']].iterrows()):\n",
    "    plt.annotate(row['label'],( row['eigenvector'],row['betweenness']),\n",
    "                 fontsize=7)\n",
    "#plt.legend(title='Node type')\n",
    "#plt.savefig('plots/sieges_eigenvector_20210526.jpg')\n",
    "plt.show()"
   ]
  },
  {
   "cell_type": "code",
   "execution_count": null,
   "metadata": {},
   "outputs": [],
   "source": [
    "persons_high_egv = nodes_df['personUri'][nodes_df.eigenvector> ei2].to_list()\n",
    "print(len(persons_high_egv), persons_high_egv[:3])"
   ]
  },
  {
   "cell_type": "code",
   "execution_count": null,
   "metadata": {},
   "outputs": [],
   "source": [
    "connecting_orgs = gr_mer[(gr_mer.uriPer_x.isin(persons_high_egv))|(gr_mer.uriPer_y.isin(persons_high_egv))].groupby(by='orgs').size()\n",
    "# file_add='data/connecting_orgs.csv'\n",
    "# connecting_orgs.sort_values(ascending=False).to_csv(file_add)\n",
    "print(connecting_orgs.sort_values(ascending=False).iloc[:20])"
   ]
  }
 ],
 "metadata": {
  "kernelspec": {
   "display_name": "Python 3",
   "language": "python",
   "name": "python3"
  },
  "language_info": {
   "codemirror_mode": {
    "name": "ipython",
    "version": 3
   },
   "file_extension": ".py",
   "mimetype": "text/x-python",
   "name": "python",
   "nbconvert_exporter": "python",
   "pygments_lexer": "ipython3",
   "version": "3.13.3"
  }
 },
 "nbformat": 4,
 "nbformat_minor": 2
}
