{
 "cells": [
  {
   "cell_type": "markdown",
   "id": "9150426b-5190-4539-8204-61253a0f1bd4",
   "metadata": {},
   "source": [
    "# Distribution des continents dans le temps \n",
    "\n",
    "Dans ce carnet est proposée une analyse de la distribution dans le temps des continents relatifs aux pays d'appartenance, en relation aux années de naissance de la population retenue.\n"
   ]
  },
  {
   "cell_type": "code",
   "execution_count": 1,
   "id": "231af92f-a7b1-479a-a734-0b8a9c0722e8",
   "metadata": {
    "tags": []
   },
   "outputs": [],
   "source": [
    "### Librairie à installer dans l'environnement conda (si on exécute en local)\n",
    "# qui sera choisi pour exécuter le carnet\n",
    "from SPARQLWrapper import SPARQLWrapper, JSON, TURTLE, XML, RDFXML\n",
    "import pandas as pd\n",
    "\n",
    "import matplotlib.pyplot as plt\n",
    "import numpy as np"
   ]
  },
  {
   "cell_type": "code",
   "execution_count": 2,
   "id": "e6ce0f0e-db36-47cd-8015-a5bf33f0f7fa",
   "metadata": {
    "tags": []
   },
   "outputs": [],
   "source": [
    "### Librairies déjà installées avec Python\n",
    "import pprint\n",
    "import csv\n",
    "import sys\n",
    "from importlib import reload\n",
    "import sqlite3 as sql\n",
    "\n",
    "import time\n",
    "import datetime\n",
    "from dateutil import parser\n",
    "\n",
    "\n",
    "from shutil import copyfile\n"
   ]
  },
  {
   "cell_type": "code",
   "execution_count": 3,
   "id": "9b90838d-2160-49e3-8adb-a67ff2cd112e",
   "metadata": {},
   "outputs": [],
   "source": [
    "### Importer un module de fonctions crées ad hoc\n",
    "##  ATTENTION : le fichier 'sparql_functions.py' doit se trouver \n",
    "#   dans un dossier qui se situe dans le chemin ('path') de recherche\n",
    "#   vu par le présent carnet Jupyter afin que\n",
    "#   l'importation fonctionne correctement\n",
    "\n",
    "# Add parent directory to the path\n",
    "sys.path.insert(0, \"sparql_functions.py\")\n",
    "\n",
    "### If you want to add the parent-parent directory,\n",
    "sys.path.insert(0, '../..')\n",
    "\n",
    "\n",
    "import sparql_functions as spqf"
   ]
  },
  {
   "cell_type": "markdown",
   "id": "3fe8665b-f64c-42bb-8786-4aee3673867c",
   "metadata": {},
   "source": [
    "## SPARQL Query qui récupère les données\n",
    "\n",
    "On exécute la requête grâce à une fonction de la librairie locale qui réalise la mise en forme"
   ]
  },
  {
   "cell_type": "code",
   "execution_count": 4,
   "id": "cf08874b-9ba0-4f5c-8eee-aebd9f0d0d26",
   "metadata": {},
   "outputs": [],
   "source": [
    "## define SPARQL enpoint\n",
    "endpoint = "https://ag1efpn0ahc5nur8.allegrograph.cloud/repositories/French_CEOs/""
   ]
  },
  {
   "cell_type": "code",
   "execution_count": 5,
   "id": "164e80e8-1834-473a-a605-a3c1a660eff3",
   "metadata": {},
   "outputs": [],
   "source": [
    "query = \"\"\"\n",
    "PREFIX wd: <http://www.wikidata.org/entity/>\n",
    "PREFIX wdt: <http://www.wikidata.org/prop/direct/>\n",
    "PREFIX rdfs: <http://www.w3.org/2000/01/rdf-schema#>\n",
    "\n",
    "\n",
    "SELECT  ?s (MAX(?label) as ?label) (xsd:integer(MAX(?birthDate)) as ?birthDate) \n",
    "            (MAX(?gen) as ?gen) ( GROUP_CONCAT(?continentLabel; separator=\", \") AS ?onctinents )\n",
    "WHERE {\n",
    "    GRAPH <https://github.com/Laillaa/French_CEOs/blob/main/graphs/wikidata-imported-data.md>\n",
    "        {?s wdt:P21 ?gen;\n",
    "            rdfs:label ?label;\n",
    "            wdt:P569 ?birthDate;\n",
    "            wdt:P27 ?country.\n",
    "        ?country wdt:P30 ?continent.\n",
    "        ?continent rdfs:label ?continentLabel.\n",
    "        ## Excluding Eurasia, Australia and Oceania insular\n",
    "        FILTER ( ?continent NOT IN (wd:Q538, wd:Q3960, wd:Q5401))\n",
    "          }\n",
    "}\n",
    "GROUP BY ?s\n",
    "\"\"\""
   ]
  },
  {
   "cell_type": "code",
   "execution_count": 6,
   "id": "70f2370f-e287-404f-ba7b-aaf79021047e",
   "metadata": {},
   "outputs": [],
   "source": [
    "### Executer la requête avec les fonctions de la librairie locale\n",
    "qr = spqf.get_json_sparql_result(endpoint,query)"
   ]
  },
  {
   "cell_type": "code",
   "execution_count": 7,
   "id": "21bfd9f5-4c63-4b8c-af10-f9ddec203db2",
   "metadata": {},
   "outputs": [
    {
     "name": "stdout",
     "output_type": "stream",
     "text": [
      "406\n"
     ]
    },
    {
     "data": {
      "text/plain": [
       "[['http://www.wikidata.org/entity/Q125501035',\n",
       "  'Christophe Pinard-Legry',\n",
       "  '1971',\n",
       "  'http://www.wikidata.org/entity/Q6581097',\n",
       "  'Europe, Europe, Europe, Europe, Europe, Europe'],\n",
       " ['http://www.wikidata.org/entity/Q131461885',\n",
       "  'Jean-Guillaume Kleis',\n",
       "  '1988',\n",
       "  'http://www.wikidata.org/entity/Q6581097',\n",
       "  'Europe, Europe, Europe, Europe, Europe, Europe'],\n",
       " ['http://www.wikidata.org/entity/Q2966211',\n",
       "  'Christophe Ducasse',\n",
       "  '1956',\n",
       "  'http://www.wikidata.org/entity/Q6581097',\n",
       "  'Europe, Europe, Europe, Europe, Europe, Europe']]"
      ]
     },
     "execution_count": 7,
     "metadata": {},
     "output_type": "execute_result"
    }
   ],
   "source": [
    "r = [l for l in spqf.sparql_result_to_list(qr)]\n",
    "print(len(r))\n",
    "r[:3]"
   ]
  },
  {
   "cell_type": "code",
   "execution_count": 8,
   "id": "236bbba5-a4df-4a7b-b215-44c9bc3f355f",
   "metadata": {},
   "outputs": [
    {
     "data": {
      "text/html": [
       "<div>\n",
       "<style scoped>\n",
       "    .dataframe tbody tr th:only-of-type {\n",
       "        vertical-align: middle;\n",
       "    }\n",
       "\n",
       "    .dataframe tbody tr th {\n",
       "        vertical-align: top;\n",
       "    }\n",
       "\n",
       "    .dataframe thead th {\n",
       "        text-align: right;\n",
       "    }\n",
       "</style>\n",
       "<table border=\"1\" class=\"dataframe\">\n",
       "  <thead>\n",
       "    <tr style=\"text-align: right;\">\n",
       "      <th></th>\n",
       "      <th>personUri</th>\n",
       "      <th>personLabel</th>\n",
       "      <th>birthYear</th>\n",
       "      <th>genderUri</th>\n",
       "      <th>continents</th>\n",
       "    </tr>\n",
       "  </thead>\n",
       "  <tbody>\n",
       "    <tr>\n",
       "      <th>0</th>\n",
       "      <td>http://www.wikidata.org/entity/Q125501035</td>\n",
       "      <td>Christophe Pinard-Legry</td>\n",
       "      <td>1971</td>\n",
       "      <td>http://www.wikidata.org/entity/Q6581097</td>\n",
       "      <td>Europe, Europe, Europe, Europe, Europe, Europe</td>\n",
       "    </tr>\n",
       "    <tr>\n",
       "      <th>1</th>\n",
       "      <td>http://www.wikidata.org/entity/Q131461885</td>\n",
       "      <td>Jean-Guillaume Kleis</td>\n",
       "      <td>1988</td>\n",
       "      <td>http://www.wikidata.org/entity/Q6581097</td>\n",
       "      <td>Europe, Europe, Europe, Europe, Europe, Europe</td>\n",
       "    </tr>\n",
       "    <tr>\n",
       "      <th>2</th>\n",
       "      <td>http://www.wikidata.org/entity/Q2966211</td>\n",
       "      <td>Christophe Ducasse</td>\n",
       "      <td>1956</td>\n",
       "      <td>http://www.wikidata.org/entity/Q6581097</td>\n",
       "      <td>Europe, Europe, Europe, Europe, Europe, Europe</td>\n",
       "    </tr>\n",
       "    <tr>\n",
       "      <th>3</th>\n",
       "      <td>http://www.wikidata.org/entity/Q104417656</td>\n",
       "      <td>Emmanuel Levacher</td>\n",
       "      <td>1962</td>\n",
       "      <td>http://www.wikidata.org/entity/Q6581097</td>\n",
       "      <td>Europe, Europe, Europe, Europe, Europe, Europe</td>\n",
       "    </tr>\n",
       "    <tr>\n",
       "      <th>4</th>\n",
       "      <td>http://www.wikidata.org/entity/Q3434635</td>\n",
       "      <td>Robert Bouvard</td>\n",
       "      <td>1901</td>\n",
       "      <td>http://www.wikidata.org/entity/Q6581097</td>\n",
       "      <td>Europe, Europe, Europe, Europe, Europe, Europe</td>\n",
       "    </tr>\n",
       "  </tbody>\n",
       "</table>\n",
       "</div>"
      ],
      "text/plain": [
       "                                   personUri              personLabel  \\\n",
       "0  http://www.wikidata.org/entity/Q125501035  Christophe Pinard-Legry   \n",
       "1  http://www.wikidata.org/entity/Q131461885     Jean-Guillaume Kleis   \n",
       "2    http://www.wikidata.org/entity/Q2966211       Christophe Ducasse   \n",
       "3  http://www.wikidata.org/entity/Q104417656        Emmanuel Levacher   \n",
       "4    http://www.wikidata.org/entity/Q3434635           Robert Bouvard   \n",
       "\n",
       "  birthYear                                genderUri  \\\n",
       "0      1971  http://www.wikidata.org/entity/Q6581097   \n",
       "1      1988  http://www.wikidata.org/entity/Q6581097   \n",
       "2      1956  http://www.wikidata.org/entity/Q6581097   \n",
       "3      1962  http://www.wikidata.org/entity/Q6581097   \n",
       "4      1901  http://www.wikidata.org/entity/Q6581097   \n",
       "\n",
       "                                       continents  \n",
       "0  Europe, Europe, Europe, Europe, Europe, Europe  \n",
       "1  Europe, Europe, Europe, Europe, Europe, Europe  \n",
       "2  Europe, Europe, Europe, Europe, Europe, Europe  \n",
       "3  Europe, Europe, Europe, Europe, Europe, Europe  \n",
       "4  Europe, Europe, Europe, Europe, Europe, Europe  "
      ]
     },
     "execution_count": 8,
     "metadata": {},
     "output_type": "execute_result"
    }
   ],
   "source": [
    "### Créer un DataFrame à partir du résultat\n",
    "df_p = pd.DataFrame(r)\n",
    "df_p.columns = ['personUri', 'personLabel', 'birthYear', 'genderUri', 'continents']\n",
    "df_p.head()"
   ]
  },
  {
   "cell_type": "code",
   "execution_count": 9,
   "id": "eb664e6b-7fd0-4757-8bff-db79a0d52f97",
   "metadata": {
    "tags": []
   },
   "outputs": [
    {
     "name": "stdout",
     "output_type": "stream",
     "text": [
      "<class 'pandas.core.frame.DataFrame'>\n",
      "RangeIndex: 406 entries, 0 to 405\n",
      "Data columns (total 5 columns):\n",
      " #   Column       Non-Null Count  Dtype \n",
      "---  ------       --------------  ----- \n",
      " 0   personUri    406 non-null    object\n",
      " 1   personLabel  406 non-null    object\n",
      " 2   birthYear    406 non-null    object\n",
      " 3   genderUri    406 non-null    object\n",
      " 4   continents   406 non-null    object\n",
      "dtypes: object(5)\n",
      "memory usage: 16.0+ KB\n"
     ]
    }
   ],
   "source": [
    "df_p.info()"
   ]
  },
  {
   "cell_type": "markdown",
   "id": "9b44e2cd",
   "metadata": {},
   "source": [
    "## Coder les continents et afficher leur distribution"
   ]
  },
  {
   "cell_type": "code",
   "execution_count": 12,
   "id": "460475b8",
   "metadata": {},
   "outputs": [],
   "source": [
    "def codeContinents(continents):\n",
    "    listContinents = sorted(continents.split(','))\n",
    "    if 'Europe' in listContinents:\n",
    "        output = 'Europe'\n",
    "    elif 'Asia' in listContinents:\n",
    "        output = 'Asia'\n",
    "    elif 'Africa' in listContinents:\n",
    "        output = 'Africa'\n",
    "    elif 'Oceania' in listContinents:\n",
    "        output = 'Oceania'   \n",
    "    elif 'North America' in listContinents:\n",
    "        output = 'NorthAmerica'   \n",
    "    elif 'South America' in listContinents:\n",
    "        output = 'SouthAmerica' \n",
    "    else:\n",
    "        output = 'Missing'                 \n",
    "    return output    "
   ]
  },
  {
   "cell_type": "code",
   "execution_count": 14,
   "id": "cc275ffe",
   "metadata": {},
   "outputs": [
    {
     "data": {
      "text/plain": [
       "'Oceania'"
      ]
     },
     "execution_count": 14,
     "metadata": {},
     "output_type": "execute_result"
    }
   ],
   "source": [
    "codeContinents('Oceania, North America, Africa')"
   ]
  },
  {
   "cell_type": "code",
   "execution_count": 15,
   "id": "8b60289c",
   "metadata": {},
   "outputs": [
    {
     "data": {
      "text/html": [
       "<div>\n",
       "<style scoped>\n",
       "    .dataframe tbody tr th:only-of-type {\n",
       "        vertical-align: middle;\n",
       "    }\n",
       "\n",
       "    .dataframe tbody tr th {\n",
       "        vertical-align: top;\n",
       "    }\n",
       "\n",
       "    .dataframe thead th {\n",
       "        text-align: right;\n",
       "    }\n",
       "</style>\n",
       "<table border=\"1\" class=\"dataframe\">\n",
       "  <thead>\n",
       "    <tr style=\"text-align: right;\">\n",
       "      <th></th>\n",
       "      <th>personUri</th>\n",
       "      <th>personLabel</th>\n",
       "      <th>birthYear</th>\n",
       "      <th>genderUri</th>\n",
       "      <th>continents</th>\n",
       "      <th>contCode</th>\n",
       "    </tr>\n",
       "  </thead>\n",
       "  <tbody>\n",
       "    <tr>\n",
       "      <th>0</th>\n",
       "      <td>http://www.wikidata.org/entity/Q125501035</td>\n",
       "      <td>Christophe Pinard-Legry</td>\n",
       "      <td>1971</td>\n",
       "      <td>http://www.wikidata.org/entity/Q6581097</td>\n",
       "      <td>Europe, Europe, Europe, Europe, Europe, Europe</td>\n",
       "      <td>Europe</td>\n",
       "    </tr>\n",
       "    <tr>\n",
       "      <th>1</th>\n",
       "      <td>http://www.wikidata.org/entity/Q131461885</td>\n",
       "      <td>Jean-Guillaume Kleis</td>\n",
       "      <td>1988</td>\n",
       "      <td>http://www.wikidata.org/entity/Q6581097</td>\n",
       "      <td>Europe, Europe, Europe, Europe, Europe, Europe</td>\n",
       "      <td>Europe</td>\n",
       "    </tr>\n",
       "    <tr>\n",
       "      <th>2</th>\n",
       "      <td>http://www.wikidata.org/entity/Q2966211</td>\n",
       "      <td>Christophe Ducasse</td>\n",
       "      <td>1956</td>\n",
       "      <td>http://www.wikidata.org/entity/Q6581097</td>\n",
       "      <td>Europe, Europe, Europe, Europe, Europe, Europe</td>\n",
       "      <td>Europe</td>\n",
       "    </tr>\n",
       "  </tbody>\n",
       "</table>\n",
       "</div>"
      ],
      "text/plain": [
       "                                   personUri              personLabel  \\\n",
       "0  http://www.wikidata.org/entity/Q125501035  Christophe Pinard-Legry   \n",
       "1  http://www.wikidata.org/entity/Q131461885     Jean-Guillaume Kleis   \n",
       "2    http://www.wikidata.org/entity/Q2966211       Christophe Ducasse   \n",
       "\n",
       "  birthYear                                genderUri  \\\n",
       "0      1971  http://www.wikidata.org/entity/Q6581097   \n",
       "1      1988  http://www.wikidata.org/entity/Q6581097   \n",
       "2      1956  http://www.wikidata.org/entity/Q6581097   \n",
       "\n",
       "                                       continents contCode  \n",
       "0  Europe, Europe, Europe, Europe, Europe, Europe   Europe  \n",
       "1  Europe, Europe, Europe, Europe, Europe, Europe   Europe  \n",
       "2  Europe, Europe, Europe, Europe, Europe, Europe   Europe  "
      ]
     },
     "execution_count": 15,
     "metadata": {},
     "output_type": "execute_result"
    }
   ],
   "source": [
    "### On ajoute une nouvelle colonne et y on met pour chaque ligne le résultat de la fonction\n",
    "df_p['contCode'] = df_p.apply(lambda x: codeContinents(x['continents']), axis=1)\n",
    "df_p.head(3)"
   ]
  },
  {
   "cell_type": "code",
   "execution_count": 16,
   "id": "604fb1ee",
   "metadata": {},
   "outputs": [
    {
     "data": {
      "text/html": [
       "<div>\n",
       "<style scoped>\n",
       "    .dataframe tbody tr th:only-of-type {\n",
       "        vertical-align: middle;\n",
       "    }\n",
       "\n",
       "    .dataframe tbody tr th {\n",
       "        vertical-align: top;\n",
       "    }\n",
       "\n",
       "    .dataframe thead th {\n",
       "        text-align: right;\n",
       "    }\n",
       "</style>\n",
       "<table border=\"1\" class=\"dataframe\">\n",
       "  <thead>\n",
       "    <tr style=\"text-align: right;\">\n",
       "      <th></th>\n",
       "      <th>personUri</th>\n",
       "      <th>personLabel</th>\n",
       "      <th>birthYear</th>\n",
       "      <th>genderUri</th>\n",
       "      <th>continents</th>\n",
       "      <th>contCode</th>\n",
       "    </tr>\n",
       "  </thead>\n",
       "  <tbody>\n",
       "    <tr>\n",
       "      <th>115</th>\n",
       "      <td>http://www.wikidata.org/entity/Q125172028</td>\n",
       "      <td>Arvid Öhlin</td>\n",
       "      <td>1899</td>\n",
       "      <td>http://www.wikidata.org/entity/Q6581097</td>\n",
       "      <td>Europe, Europe, Europe, Europe, Europe, Europe</td>\n",
       "      <td>Europe</td>\n",
       "    </tr>\n",
       "    <tr>\n",
       "      <th>116</th>\n",
       "      <td>http://www.wikidata.org/entity/Q125767988</td>\n",
       "      <td>Pierre-Henry Bassouls</td>\n",
       "      <td>1962</td>\n",
       "      <td>http://www.wikidata.org/entity/Q6581097</td>\n",
       "      <td>Europe, Europe, Europe, Europe, Europe, Europe</td>\n",
       "      <td>Europe</td>\n",
       "    </tr>\n",
       "    <tr>\n",
       "      <th>117</th>\n",
       "      <td>http://www.wikidata.org/entity/Q25999290</td>\n",
       "      <td>Fabienne Dulac</td>\n",
       "      <td>1967</td>\n",
       "      <td>http://www.wikidata.org/entity/Q6581072</td>\n",
       "      <td>Europe, Europe, Europe, Europe, Europe, Europe</td>\n",
       "      <td>Europe</td>\n",
       "    </tr>\n",
       "    <tr>\n",
       "      <th>118</th>\n",
       "      <td>http://www.wikidata.org/entity/Q6491554</td>\n",
       "      <td>Lars Idermark</td>\n",
       "      <td>1957</td>\n",
       "      <td>http://www.wikidata.org/entity/Q6581097</td>\n",
       "      <td>Europe, Europe, Europe, Europe, Europe, Europe</td>\n",
       "      <td>Europe</td>\n",
       "    </tr>\n",
       "    <tr>\n",
       "      <th>119</th>\n",
       "      <td>http://www.wikidata.org/entity/Q18745020</td>\n",
       "      <td>Joël Pain</td>\n",
       "      <td>1967</td>\n",
       "      <td>http://www.wikidata.org/entity/Q6581097</td>\n",
       "      <td>Europe, Europe, Europe, Europe, Europe, Europe</td>\n",
       "      <td>Europe</td>\n",
       "    </tr>\n",
       "  </tbody>\n",
       "</table>\n",
       "</div>"
      ],
      "text/plain": [
       "                                     personUri            personLabel  \\\n",
       "115  http://www.wikidata.org/entity/Q125172028            Arvid Öhlin   \n",
       "116  http://www.wikidata.org/entity/Q125767988  Pierre-Henry Bassouls   \n",
       "117   http://www.wikidata.org/entity/Q25999290         Fabienne Dulac   \n",
       "118    http://www.wikidata.org/entity/Q6491554          Lars Idermark   \n",
       "119   http://www.wikidata.org/entity/Q18745020              Joël Pain   \n",
       "\n",
       "    birthYear                                genderUri  \\\n",
       "115      1899  http://www.wikidata.org/entity/Q6581097   \n",
       "116      1962  http://www.wikidata.org/entity/Q6581097   \n",
       "117      1967  http://www.wikidata.org/entity/Q6581072   \n",
       "118      1957  http://www.wikidata.org/entity/Q6581097   \n",
       "119      1967  http://www.wikidata.org/entity/Q6581097   \n",
       "\n",
       "                                         continents contCode  \n",
       "115  Europe, Europe, Europe, Europe, Europe, Europe   Europe  \n",
       "116  Europe, Europe, Europe, Europe, Europe, Europe   Europe  \n",
       "117  Europe, Europe, Europe, Europe, Europe, Europe   Europe  \n",
       "118  Europe, Europe, Europe, Europe, Europe, Europe   Europe  \n",
       "119  Europe, Europe, Europe, Europe, Europe, Europe   Europe  "
      ]
     },
     "execution_count": 16,
     "metadata": {},
     "output_type": "execute_result"
    }
   ],
   "source": [
    "df_p.iloc[ 115:120 :  ]"
   ]
  },
  {
   "cell_type": "code",
   "execution_count": 18,
   "id": "17a17f60",
   "metadata": {},
   "outputs": [
    {
     "name": "stdout",
     "output_type": "stream",
     "text": [
      "              effectif\n",
      "contCode              \n",
      "NorthAmerica         1\n",
      "Oceania             36\n",
      "Europe             369\n"
     ]
    }
   ],
   "source": [
    "### Regrouper et compter\n",
    "df_contCode = df_p.groupby('contCode').size()\n",
    "df_contCode = pd.DataFrame(df_contCode.sort_values(ascending = True))\n",
    "#df_contCode.reset_index(inplace=True)\n",
    "df_contCode.columns=['effectif']\n",
    "print(df_contCode)"
   ]
  },
  {
   "cell_type": "code",
   "execution_count": 20,
   "id": "2656d4b0",
   "metadata": {},
   "outputs": [
    {
     "data": {
      "text/html": [
       "<div>\n",
       "<style scoped>\n",
       "    .dataframe tbody tr th:only-of-type {\n",
       "        vertical-align: middle;\n",
       "    }\n",
       "\n",
       "    .dataframe tbody tr th {\n",
       "        vertical-align: top;\n",
       "    }\n",
       "\n",
       "    .dataframe thead th {\n",
       "        text-align: right;\n",
       "    }\n",
       "</style>\n",
       "<table border=\"1\" class=\"dataframe\">\n",
       "  <thead>\n",
       "    <tr style=\"text-align: right;\">\n",
       "      <th></th>\n",
       "      <th>effectif</th>\n",
       "      <th>frequence</th>\n",
       "    </tr>\n",
       "    <tr>\n",
       "      <th>contCode</th>\n",
       "      <th></th>\n",
       "      <th></th>\n",
       "    </tr>\n",
       "  </thead>\n",
       "  <tbody>\n",
       "    <tr>\n",
       "      <th>NorthAmerica</th>\n",
       "      <td>1</td>\n",
       "      <td>0.25</td>\n",
       "    </tr>\n",
       "    <tr>\n",
       "      <th>Oceania</th>\n",
       "      <td>36</td>\n",
       "      <td>8.87</td>\n",
       "    </tr>\n",
       "    <tr>\n",
       "      <th>Europe</th>\n",
       "      <td>369</td>\n",
       "      <td>90.89</td>\n",
       "    </tr>\n",
       "  </tbody>\n",
       "</table>\n",
       "</div>"
      ],
      "text/plain": [
       "              effectif  frequence\n",
       "contCode                         \n",
       "NorthAmerica         1       0.25\n",
       "Oceania             36       8.87\n",
       "Europe             369      90.89"
      ]
     },
     "execution_count": 20,
     "metadata": {},
     "output_type": "execute_result"
    }
   ],
   "source": [
    "df_contCode['frequence'] = (100 * df_contCode['effectif'] \\\n",
    "                                   / df_contCode['effectif'].sum()).round(2)\n",
    "df_contCode"
   ]
  },
  {
   "cell_type": "code",
   "execution_count": 21,
   "id": "e39f1006",
   "metadata": {},
   "outputs": [
    {
     "data": {
      "text/html": [
       "<div>\n",
       "<style scoped>\n",
       "    .dataframe tbody tr th:only-of-type {\n",
       "        vertical-align: middle;\n",
       "    }\n",
       "\n",
       "    .dataframe tbody tr th {\n",
       "        vertical-align: top;\n",
       "    }\n",
       "\n",
       "    .dataframe thead th {\n",
       "        text-align: right;\n",
       "    }\n",
       "</style>\n",
       "<table border=\"1\" class=\"dataframe\">\n",
       "  <thead>\n",
       "    <tr style=\"text-align: right;\">\n",
       "      <th>contCode</th>\n",
       "      <th>Europe</th>\n",
       "      <th>Oceania</th>\n",
       "      <th>NorthAmerica</th>\n",
       "    </tr>\n",
       "  </thead>\n",
       "  <tbody>\n",
       "    <tr>\n",
       "      <th>frequence</th>\n",
       "      <td>90.89</td>\n",
       "      <td>8.87</td>\n",
       "      <td>0.25</td>\n",
       "    </tr>\n",
       "  </tbody>\n",
       "</table>\n",
       "</div>"
      ],
      "text/plain": [
       "contCode   Europe  Oceania  NorthAmerica\n",
       "frequence   90.89     8.87          0.25"
      ]
     },
     "execution_count": 21,
     "metadata": {},
     "output_type": "execute_result"
    }
   ],
   "source": [
    "\n",
    "ljt = pd.DataFrame(df_contCode['frequence'].sort_values(ascending=False)).T\n",
    "ljt\n",
    "\n"
   ]
  },
  {
   "cell_type": "code",
   "execution_count": 22,
   "id": "05913d25",
   "metadata": {},
   "outputs": [],
   "source": [
    "### Définir les couleurs en fonction des continents\n",
    "# Noter que cette liste des couleurs et continents\n",
    "# doit être adaptée à l'ordre de tri des données \n",
    "# dans le graphique\n",
    "col_palette = [\n",
    "    \"#DCDCDC\",  # Gainsboro : Europe\n",
    "    \"#cd5c5c\",  # Indian Red : NorthAmerica\n",
    "    \"#F4A261\",  # Light Coral: Asia\n",
    "    \"#F6E58D\",  # Light Yellow :SouthAmerica\n",
    "    \"#B2E0B2\",  # Light Green : Oceania\n",
    "    \"#A3C1DA\",  # Light Blue : Africa    \n",
    "\n",
    "]\n"
   ]
  },
  {
   "cell_type": "code",
   "execution_count": 23,
   "id": "30068cc8",
   "metadata": {},
   "outputs": [
    {
     "data": {
      "image/png": "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",
      "text/plain": [
       "<Figure size 1500x300 with 1 Axes>"
      ]
     },
     "metadata": {},
     "output_type": "display_data"
    }
   ],
   "source": [
    "\n",
    "\n",
    "### Pandas plot reference\n",
    "# https://pandas.pydata.org/pandas-docs/stable/reference/api/pandas.DataFrame.plot.html\n",
    "## Barplots\n",
    "# https://www.shanelynn.ie/bar-plots-in-python-using-pandas-dataframes/\n",
    "\n",
    "fig = ljt.plot(kind='barh', stacked=True, figsize=(15,3), color=col_palette, width=0.2, xlim=[0,100])"
   ]
  },
  {
   "cell_type": "markdown",
   "id": "c60b84a9-99a7-46b0-8ae9-11bf26128fe7",
   "metadata": {},
   "source": [
    "### Codage par période de vingt-cinq ans"
   ]
  },
  {
   "cell_type": "code",
   "execution_count": 24,
   "id": "7c29f5c0-bf9f-444d-be57-2d39bf882e23",
   "metadata": {
    "tags": []
   },
   "outputs": [
    {
     "name": "stdout",
     "output_type": "stream",
     "text": [
      "[1751, 1776, 1801, 1826, 1851] [1901, 1926, 1951, 1976, 2001] 10\n"
     ]
    }
   ],
   "source": [
    "### Créer une liste d'années pour séparer en périodes de 25 ans\n",
    "# noter que la dernière année sera exclue, \n",
    "# elle donc doit être supérieure à la valeur maximale \n",
    "l_25 = list(range(1751, 2025, 25))\n",
    "print(l_25[:5],l_25[-5:], len(l_25)-1)"
   ]
  },
  {
   "cell_type": "code",
   "execution_count": 25,
   "id": "e37bca9e",
   "metadata": {},
   "outputs": [],
   "source": [
    "### Transformer les années de naissance en entiers\n",
    "df_p.birthYear = df_p.birthYear.apply(lambda x : int(x))"
   ]
  },
  {
   "cell_type": "code",
   "execution_count": 26,
   "id": "06ab381e-f317-4767-9790-a9fcbfcb1853",
   "metadata": {},
   "outputs": [
    {
     "data": {
      "text/html": [
       "<div>\n",
       "<style scoped>\n",
       "    .dataframe tbody tr th:only-of-type {\n",
       "        vertical-align: middle;\n",
       "    }\n",
       "\n",
       "    .dataframe tbody tr th {\n",
       "        vertical-align: top;\n",
       "    }\n",
       "\n",
       "    .dataframe thead th {\n",
       "        text-align: right;\n",
       "    }\n",
       "</style>\n",
       "<table border=\"1\" class=\"dataframe\">\n",
       "  <thead>\n",
       "    <tr style=\"text-align: right;\">\n",
       "      <th></th>\n",
       "      <th>personUri</th>\n",
       "      <th>personLabel</th>\n",
       "      <th>birthYear</th>\n",
       "      <th>genderUri</th>\n",
       "      <th>continents</th>\n",
       "      <th>contCode</th>\n",
       "      <th>per_25</th>\n",
       "    </tr>\n",
       "  </thead>\n",
       "  <tbody>\n",
       "    <tr>\n",
       "      <th>0</th>\n",
       "      <td>http://www.wikidata.org/entity/Q125501035</td>\n",
       "      <td>Christophe Pinard-Legry</td>\n",
       "      <td>1971</td>\n",
       "      <td>http://www.wikidata.org/entity/Q6581097</td>\n",
       "      <td>Europe, Europe, Europe, Europe, Europe, Europe</td>\n",
       "      <td>Europe</td>\n",
       "      <td>1951-1975</td>\n",
       "    </tr>\n",
       "    <tr>\n",
       "      <th>1</th>\n",
       "      <td>http://www.wikidata.org/entity/Q131461885</td>\n",
       "      <td>Jean-Guillaume Kleis</td>\n",
       "      <td>1988</td>\n",
       "      <td>http://www.wikidata.org/entity/Q6581097</td>\n",
       "      <td>Europe, Europe, Europe, Europe, Europe, Europe</td>\n",
       "      <td>Europe</td>\n",
       "      <td>1976-2000</td>\n",
       "    </tr>\n",
       "    <tr>\n",
       "      <th>2</th>\n",
       "      <td>http://www.wikidata.org/entity/Q2966211</td>\n",
       "      <td>Christophe Ducasse</td>\n",
       "      <td>1956</td>\n",
       "      <td>http://www.wikidata.org/entity/Q6581097</td>\n",
       "      <td>Europe, Europe, Europe, Europe, Europe, Europe</td>\n",
       "      <td>Europe</td>\n",
       "      <td>1951-1975</td>\n",
       "    </tr>\n",
       "  </tbody>\n",
       "</table>\n",
       "</div>"
      ],
      "text/plain": [
       "                                   personUri              personLabel  \\\n",
       "0  http://www.wikidata.org/entity/Q125501035  Christophe Pinard-Legry   \n",
       "1  http://www.wikidata.org/entity/Q131461885     Jean-Guillaume Kleis   \n",
       "2    http://www.wikidata.org/entity/Q2966211       Christophe Ducasse   \n",
       "\n",
       "   birthYear                                genderUri  \\\n",
       "0       1971  http://www.wikidata.org/entity/Q6581097   \n",
       "1       1988  http://www.wikidata.org/entity/Q6581097   \n",
       "2       1956  http://www.wikidata.org/entity/Q6581097   \n",
       "\n",
       "                                       continents contCode     per_25  \n",
       "0  Europe, Europe, Europe, Europe, Europe, Europe   Europe  1951-1975  \n",
       "1  Europe, Europe, Europe, Europe, Europe, Europe   Europe  1976-2000  \n",
       "2  Europe, Europe, Europe, Europe, Europe, Europe   Europe  1951-1975  "
      ]
     },
     "execution_count": 26,
     "metadata": {},
     "output_type": "execute_result"
    }
   ],
   "source": [
    "### fonction pd.cut : https://pandas.pydata.org/pandas-docs/stable/reference/api/pandas.cut.html\n",
    "# On ajoute une nouvelle colonne qui contient la période sur la base de la liste précédente\n",
    "# et de la valeur de l'année\n",
    "\n",
    "df_p['per_25'] = pd.cut(df_p['birthYear'], l_25, right=False)\n",
    "\n",
    "### Transformer le code ajouté pour qu'il soit plus lisible\n",
    "# noter qu'on a arrondi les valeurs\n",
    "df_p['per_25'] = df_p['per_25'].apply(lambda x : str(int(x.left))+'-'+ str(int(x.right)-1))\n",
    "\n",
    "# Inspection\n",
    "df_p.head(3)"
   ]
  },
  {
   "cell_type": "code",
   "execution_count": 27,
   "id": "4e943cfe-40d8-49c0-afa1-a55f964f657a",
   "metadata": {},
   "outputs": [
    {
     "name": "stdout",
     "output_type": "stream",
     "text": [
      "per_25\n",
      "1751-1775      0\n",
      "1776-1800      0\n",
      "1801-1825      2\n",
      "1826-1850      3\n",
      "1851-1875      8\n",
      "1876-1900     17\n",
      "1901-1925     22\n",
      "1926-1950     47\n",
      "1951-1975    220\n",
      "1976-2000     87\n",
      "dtype: int64\n"
     ]
    },
    {
     "name": "stderr",
     "output_type": "stream",
     "text": [
      "C:\\Users\\laila\\AppData\\Local\\Temp\\ipykernel_20540\\173774721.py:2: FutureWarning: The default of observed=False is deprecated and will be changed to True in a future version of pandas. Pass observed=False to retain current behavior or observed=True to adopt the future default and silence this warning.\n",
      "  naissances_per = df_p.groupby(by='per_25').size()\n"
     ]
    }
   ],
   "source": [
    "### distribution des naissances par périodes de 25 ans\n",
    "naissances_per = df_p.groupby(by='per_25').size()\n",
    "print(naissances_per)"
   ]
  },
  {
   "cell_type": "code",
   "execution_count": 28,
   "id": "9a1dd793-210a-42c3-b68b-d0e1756277d1",
   "metadata": {},
   "outputs": [
    {
     "name": "stderr",
     "output_type": "stream",
     "text": [
      "C:\\Users\\laila\\AppData\\Local\\Temp\\ipykernel_20540\\1845055184.py:2: FutureWarning: The default of observed=False is deprecated and will be changed to True in a future version of pandas. Pass observed=False to retain current behavior or observed=True to adopt the future default and silence this warning.\n",
      "  ax = df_p.groupby(by='per_25').size().plot(kind='bar',rot=60, fontsize=8, figsize=(16,8))\n"
     ]
    },
    {
     "data": {
      "image/png": "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",
      "text/plain": [
       "<Figure size 1600x800 with 1 Axes>"
      ]
     },
     "metadata": {},
     "output_type": "display_data"
    }
   ],
   "source": [
    "### Diagramme à barres représentant la distribution par 'génération'\n",
    "ax = df_p.groupby(by='per_25').size().plot(kind='bar',rot=60, fontsize=8, figsize=(16,8))\n",
    "plt.ylabel('Effectif')\n",
    "plt.xlabel('Périodes')\n",
    "plt.title('Naissances par périodes de ving-cinq ans')\n",
    "plt.show()"
   ]
  },
  {
   "cell_type": "markdown",
   "id": "7d3da8ee-300d-4fb8-be6e-384e1e4186ef",
   "metadata": {},
   "source": [
    "## Ajouter la représentation des continents"
   ]
  },
  {
   "cell_type": "code",
   "execution_count": 78,
   "id": "5fe3105a",
   "metadata": {},
   "outputs": [
    {
     "name": "stdout",
     "output_type": "stream",
     "text": [
      "['NorthAmerica', 'Oceania']\n"
     ]
    }
   ],
   "source": [
    "lcont = list(sorted(set(df_p.contCode.to_list())))\n",
    "lcont.remove('Europe')\n",
    "print(lcont)"
   ]
  },
  {
   "cell_type": "code",
   "execution_count": 79,
   "id": "a4371393",
   "metadata": {},
   "outputs": [
    {
     "name": "stderr",
     "output_type": "stream",
     "text": [
      "C:\\Users\\laila\\AppData\\Local\\Temp\\ipykernel_20540\\2162464101.py:2: FutureWarning: The default of observed=False is deprecated and will be changed to True in a future version of pandas. Pass observed=False to retain current behavior or observed=True to adopt the future default and silence this warning.\n",
      "  merged = pd.DataFrame(df_p[df_p.contCode == 'Europe'].groupby('per_25').size())\n"
     ]
    },
    {
     "data": {
      "text/html": [
       "<div>\n",
       "<style scoped>\n",
       "    .dataframe tbody tr th:only-of-type {\n",
       "        vertical-align: middle;\n",
       "    }\n",
       "\n",
       "    .dataframe tbody tr th {\n",
       "        vertical-align: top;\n",
       "    }\n",
       "\n",
       "    .dataframe thead th {\n",
       "        text-align: right;\n",
       "    }\n",
       "</style>\n",
       "<table border=\"1\" class=\"dataframe\">\n",
       "  <thead>\n",
       "    <tr style=\"text-align: right;\">\n",
       "      <th></th>\n",
       "      <th>Europe</th>\n",
       "    </tr>\n",
       "    <tr>\n",
       "      <th>per_25</th>\n",
       "      <th></th>\n",
       "    </tr>\n",
       "  </thead>\n",
       "  <tbody>\n",
       "    <tr>\n",
       "      <th>1876-1900</th>\n",
       "      <td>17</td>\n",
       "    </tr>\n",
       "    <tr>\n",
       "      <th>1901-1925</th>\n",
       "      <td>20</td>\n",
       "    </tr>\n",
       "    <tr>\n",
       "      <th>1926-1950</th>\n",
       "      <td>30</td>\n",
       "    </tr>\n",
       "    <tr>\n",
       "      <th>1951-1975</th>\n",
       "      <td>205</td>\n",
       "    </tr>\n",
       "    <tr>\n",
       "      <th>1976-2000</th>\n",
       "      <td>84</td>\n",
       "    </tr>\n",
       "  </tbody>\n",
       "</table>\n",
       "</div>"
      ],
      "text/plain": [
       "           Europe\n",
       "per_25           \n",
       "1876-1900      17\n",
       "1901-1925      20\n",
       "1926-1950      30\n",
       "1951-1975     205\n",
       "1976-2000      84"
      ]
     },
     "execution_count": 79,
     "metadata": {},
     "output_type": "execute_result"
    }
   ],
   "source": [
    "### Regrouper et compter avec un fitre sur le continent 'Europe'\n",
    "merged = pd.DataFrame(df_p[df_p.contCode == 'Europe'].groupby('per_25').size())\n",
    "merged.columns = ['Europe']\n",
    "merged.tail()\n",
    "\n"
   ]
  },
  {
   "cell_type": "code",
   "execution_count": 80,
   "id": "b03dab9c",
   "metadata": {},
   "outputs": [
    {
     "name": "stderr",
     "output_type": "stream",
     "text": [
      "C:\\Users\\laila\\AppData\\Local\\Temp\\ipykernel_20540\\315752900.py:3: FutureWarning: The default of observed=False is deprecated and will be changed to True in a future version of pandas. Pass observed=False to retain current behavior or observed=True to adopt the future default and silence this warning.\n",
      "  new_df = pd.DataFrame(df_p[df_p.contCode == cont].groupby('per_25').size())\n",
      "C:\\Users\\laila\\AppData\\Local\\Temp\\ipykernel_20540\\315752900.py:3: FutureWarning: The default of observed=False is deprecated and will be changed to True in a future version of pandas. Pass observed=False to retain current behavior or observed=True to adopt the future default and silence this warning.\n",
      "  new_df = pd.DataFrame(df_p[df_p.contCode == cont].groupby('per_25').size())\n"
     ]
    },
    {
     "data": {
      "text/html": [
       "<div>\n",
       "<style scoped>\n",
       "    .dataframe tbody tr th:only-of-type {\n",
       "        vertical-align: middle;\n",
       "    }\n",
       "\n",
       "    .dataframe tbody tr th {\n",
       "        vertical-align: top;\n",
       "    }\n",
       "\n",
       "    .dataframe thead th {\n",
       "        text-align: right;\n",
       "    }\n",
       "</style>\n",
       "<table border=\"1\" class=\"dataframe\">\n",
       "  <thead>\n",
       "    <tr style=\"text-align: right;\">\n",
       "      <th></th>\n",
       "      <th>Europe</th>\n",
       "      <th>NorthAmerica</th>\n",
       "      <th>Oceania</th>\n",
       "    </tr>\n",
       "    <tr>\n",
       "      <th>per_25</th>\n",
       "      <th></th>\n",
       "      <th></th>\n",
       "      <th></th>\n",
       "    </tr>\n",
       "  </thead>\n",
       "  <tbody>\n",
       "    <tr>\n",
       "      <th>1751-1775</th>\n",
       "      <td>0</td>\n",
       "      <td>0</td>\n",
       "      <td>0</td>\n",
       "    </tr>\n",
       "    <tr>\n",
       "      <th>1776-1800</th>\n",
       "      <td>0</td>\n",
       "      <td>0</td>\n",
       "      <td>0</td>\n",
       "    </tr>\n",
       "    <tr>\n",
       "      <th>1801-1825</th>\n",
       "      <td>2</td>\n",
       "      <td>0</td>\n",
       "      <td>0</td>\n",
       "    </tr>\n",
       "    <tr>\n",
       "      <th>1826-1850</th>\n",
       "      <td>3</td>\n",
       "      <td>0</td>\n",
       "      <td>0</td>\n",
       "    </tr>\n",
       "    <tr>\n",
       "      <th>1851-1875</th>\n",
       "      <td>8</td>\n",
       "      <td>0</td>\n",
       "      <td>0</td>\n",
       "    </tr>\n",
       "    <tr>\n",
       "      <th>1876-1900</th>\n",
       "      <td>17</td>\n",
       "      <td>0</td>\n",
       "      <td>0</td>\n",
       "    </tr>\n",
       "    <tr>\n",
       "      <th>1901-1925</th>\n",
       "      <td>20</td>\n",
       "      <td>0</td>\n",
       "      <td>2</td>\n",
       "    </tr>\n",
       "    <tr>\n",
       "      <th>1926-1950</th>\n",
       "      <td>30</td>\n",
       "      <td>0</td>\n",
       "      <td>17</td>\n",
       "    </tr>\n",
       "    <tr>\n",
       "      <th>1951-1975</th>\n",
       "      <td>205</td>\n",
       "      <td>1</td>\n",
       "      <td>14</td>\n",
       "    </tr>\n",
       "    <tr>\n",
       "      <th>1976-2000</th>\n",
       "      <td>84</td>\n",
       "      <td>0</td>\n",
       "      <td>3</td>\n",
       "    </tr>\n",
       "  </tbody>\n",
       "</table>\n",
       "</div>"
      ],
      "text/plain": [
       "           Europe  NorthAmerica  Oceania\n",
       "per_25                                  \n",
       "1751-1775       0             0        0\n",
       "1776-1800       0             0        0\n",
       "1801-1825       2             0        0\n",
       "1826-1850       3             0        0\n",
       "1851-1875       8             0        0\n",
       "1876-1900      17             0        0\n",
       "1901-1925      20             0        2\n",
       "1926-1950      30             0       17\n",
       "1951-1975     205             1       14\n",
       "1976-2000      84             0        3"
      ]
     },
     "execution_count": 80,
     "metadata": {},
     "output_type": "execute_result"
    }
   ],
   "source": [
    "### Ajouter les distributions des autres continents\n",
    "for cont in lcont:\n",
    "    new_df = pd.DataFrame(df_p[df_p.contCode == cont].groupby('per_25').size())\n",
    "    new_df.columns = [cont]\n",
    "    merged = pd.merge(merged, new_df, left_index=True, right_index=True)\n",
    "\n",
    "merged    \n"
   ]
  },
  {
   "cell_type": "code",
   "execution_count": 81,
   "id": "60190e17-c1df-4a22-9ec9-be6b77108c46",
   "metadata": {},
   "outputs": [
    {
     "data": {
      "text/html": [
       "<div>\n",
       "<style scoped>\n",
       "    .dataframe tbody tr th:only-of-type {\n",
       "        vertical-align: middle;\n",
       "    }\n",
       "\n",
       "    .dataframe tbody tr th {\n",
       "        vertical-align: top;\n",
       "    }\n",
       "\n",
       "    .dataframe thead th {\n",
       "        text-align: right;\n",
       "    }\n",
       "</style>\n",
       "<table border=\"1\" class=\"dataframe\">\n",
       "  <thead>\n",
       "    <tr style=\"text-align: right;\">\n",
       "      <th></th>\n",
       "      <th>Europe</th>\n",
       "      <th>NorthAmerica</th>\n",
       "      <th>Oceania</th>\n",
       "    </tr>\n",
       "    <tr>\n",
       "      <th>per_25</th>\n",
       "      <th></th>\n",
       "      <th></th>\n",
       "      <th></th>\n",
       "    </tr>\n",
       "  </thead>\n",
       "  <tbody>\n",
       "    <tr>\n",
       "      <th>1751-1775</th>\n",
       "      <td>0</td>\n",
       "      <td>0</td>\n",
       "      <td>0</td>\n",
       "    </tr>\n",
       "    <tr>\n",
       "      <th>1776-1800</th>\n",
       "      <td>0</td>\n",
       "      <td>0</td>\n",
       "      <td>0</td>\n",
       "    </tr>\n",
       "    <tr>\n",
       "      <th>1801-1825</th>\n",
       "      <td>2</td>\n",
       "      <td>0</td>\n",
       "      <td>0</td>\n",
       "    </tr>\n",
       "    <tr>\n",
       "      <th>1826-1850</th>\n",
       "      <td>3</td>\n",
       "      <td>0</td>\n",
       "      <td>0</td>\n",
       "    </tr>\n",
       "    <tr>\n",
       "      <th>1851-1875</th>\n",
       "      <td>8</td>\n",
       "      <td>0</td>\n",
       "      <td>0</td>\n",
       "    </tr>\n",
       "    <tr>\n",
       "      <th>1876-1900</th>\n",
       "      <td>17</td>\n",
       "      <td>0</td>\n",
       "      <td>0</td>\n",
       "    </tr>\n",
       "    <tr>\n",
       "      <th>1901-1925</th>\n",
       "      <td>20</td>\n",
       "      <td>0</td>\n",
       "      <td>2</td>\n",
       "    </tr>\n",
       "    <tr>\n",
       "      <th>1926-1950</th>\n",
       "      <td>30</td>\n",
       "      <td>0</td>\n",
       "      <td>17</td>\n",
       "    </tr>\n",
       "    <tr>\n",
       "      <th>1951-1975</th>\n",
       "      <td>205</td>\n",
       "      <td>1</td>\n",
       "      <td>14</td>\n",
       "    </tr>\n",
       "    <tr>\n",
       "      <th>1976-2000</th>\n",
       "      <td>84</td>\n",
       "      <td>0</td>\n",
       "      <td>3</td>\n",
       "    </tr>\n",
       "  </tbody>\n",
       "</table>\n",
       "</div>"
      ],
      "text/plain": [
       "           Europe  NorthAmerica  Oceania\n",
       "per_25                                  \n",
       "1751-1775       0             0        0\n",
       "1776-1800       0             0        0\n",
       "1801-1825       2             0        0\n",
       "1826-1850       3             0        0\n",
       "1851-1875       8             0        0\n",
       "1876-1900      17             0        0\n",
       "1901-1925      20             0        2\n",
       "1926-1950      30             0       17\n",
       "1951-1975     205             1       14\n",
       "1976-2000      84             0        3"
      ]
     },
     "execution_count": 81,
     "metadata": {},
     "output_type": "execute_result"
    }
   ],
   "source": [
    "### Transformer l'index en chaîne de caractères\n",
    "# ce qui est indispensable pour l'affichage dans un graphique\n",
    "merged.index = merged.index.map(str)\n",
    "merged"
   ]
  },
  {
   "cell_type": "code",
   "execution_count": 82,
   "id": "9d8aeeb8",
   "metadata": {},
   "outputs": [],
   "source": [
    "### Adapter à l'ordre des colonnes\n",
    "col_palette_1 = [\n",
    "    \"#DCDCDC\",  # Gainsboro : Europe\n",
    "    \"#A3C1DA\",  # Light Blue : Africa\n",
    "    \"#F4A261\",  # Light Coral : Asia\n",
    "    \"#cd5c5c\",  # Indian Red : NorthAmerica\n",
    "    \"#B2E0B2\",  # Light Green : Oceania\n",
    "    \"#F6E58D\",  # Light Yellow : SouthAmerica\n",
    "    \n",
    "]\n"
   ]
  },
  {
   "cell_type": "code",
   "execution_count": null,
   "id": "d188f96f-feca-464b-b338-f87e3c9cb23b",
   "metadata": {},
   "outputs": [
    {
     "data": {
      "image/png": "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",
      "text/plain": [
       "<Figure size 1000x800 with 1 Axes>"
      ]
     },
     "metadata": {},
     "output_type": "display_data"
    }
   ],
   "source": [
    "### Représenter l'évolution de la distribution dans le temps par continent\n",
    "#  Documentation\n",
    "# https://pandas.pydata.org/pandas-docs/stable/reference/api/pandas.DataFrame.plot.bar.html\n",
    "\n",
    "data = merged\n",
    "\n",
    "ax = data.plot.bar(stacked=True, rot=70, fontsize=9, figsize=(10,8), \n",
    "                     color=col_palette_1)\n",
    "plt.title('Distribution des naissances par génération et continent')\n",
    "\n",
    "## https://stackoverflow.com/questions/71320380/add-only-the-total-values-on-top-of-stacked-bars\n",
    "ax.bar_label(ax.containers[-1])\n",
    "\n",
    "plt.show()\n",
    "\n",
    "# Il y a une erreur au niveau de la représentation des naissances.\n",
    "# Pour [1801-1825] c'est ecrit 0 alors qu'il y a des naissances (2)\n",
    "# De meme pour [1826-1850] (3), [1851-1875] (8) et [1876-1900] (17)\n",
    "\n"
   ]
  },
  {
   "cell_type": "markdown",
   "id": "1ea74235",
   "metadata": {},
   "source": [
    "## Représentation des mêmes informations avec une graphique décomposé\n",
    "\n",
    "\n"
   ]
  },
  {
   "cell_type": "code",
   "execution_count": 84,
   "id": "bb96fbac",
   "metadata": {},
   "outputs": [
    {
     "data": {
      "text/html": [
       "<div>\n",
       "<style scoped>\n",
       "    .dataframe tbody tr th:only-of-type {\n",
       "        vertical-align: middle;\n",
       "    }\n",
       "\n",
       "    .dataframe tbody tr th {\n",
       "        vertical-align: top;\n",
       "    }\n",
       "\n",
       "    .dataframe thead th {\n",
       "        text-align: right;\n",
       "    }\n",
       "</style>\n",
       "<table border=\"1\" class=\"dataframe\">\n",
       "  <thead>\n",
       "    <tr style=\"text-align: right;\">\n",
       "      <th></th>\n",
       "      <th>Europe</th>\n",
       "      <th>NorthAmerica</th>\n",
       "      <th>Oceania</th>\n",
       "    </tr>\n",
       "    <tr>\n",
       "      <th>per_25</th>\n",
       "      <th></th>\n",
       "      <th></th>\n",
       "      <th></th>\n",
       "    </tr>\n",
       "  </thead>\n",
       "  <tbody>\n",
       "    <tr>\n",
       "      <th>1751-1775</th>\n",
       "      <td>0</td>\n",
       "      <td>0</td>\n",
       "      <td>0</td>\n",
       "    </tr>\n",
       "    <tr>\n",
       "      <th>1776-1800</th>\n",
       "      <td>0</td>\n",
       "      <td>0</td>\n",
       "      <td>0</td>\n",
       "    </tr>\n",
       "    <tr>\n",
       "      <th>1801-1825</th>\n",
       "      <td>2</td>\n",
       "      <td>0</td>\n",
       "      <td>0</td>\n",
       "    </tr>\n",
       "    <tr>\n",
       "      <th>1826-1850</th>\n",
       "      <td>3</td>\n",
       "      <td>0</td>\n",
       "      <td>0</td>\n",
       "    </tr>\n",
       "    <tr>\n",
       "      <th>1851-1875</th>\n",
       "      <td>8</td>\n",
       "      <td>0</td>\n",
       "      <td>0</td>\n",
       "    </tr>\n",
       "    <tr>\n",
       "      <th>1876-1900</th>\n",
       "      <td>17</td>\n",
       "      <td>0</td>\n",
       "      <td>0</td>\n",
       "    </tr>\n",
       "    <tr>\n",
       "      <th>1901-1925</th>\n",
       "      <td>20</td>\n",
       "      <td>0</td>\n",
       "      <td>2</td>\n",
       "    </tr>\n",
       "    <tr>\n",
       "      <th>1926-1950</th>\n",
       "      <td>30</td>\n",
       "      <td>0</td>\n",
       "      <td>17</td>\n",
       "    </tr>\n",
       "    <tr>\n",
       "      <th>1951-1975</th>\n",
       "      <td>205</td>\n",
       "      <td>1</td>\n",
       "      <td>14</td>\n",
       "    </tr>\n",
       "    <tr>\n",
       "      <th>1976-2000</th>\n",
       "      <td>84</td>\n",
       "      <td>0</td>\n",
       "      <td>3</td>\n",
       "    </tr>\n",
       "  </tbody>\n",
       "</table>\n",
       "</div>"
      ],
      "text/plain": [
       "           Europe  NorthAmerica  Oceania\n",
       "per_25                                  \n",
       "1751-1775       0             0        0\n",
       "1776-1800       0             0        0\n",
       "1801-1825       2             0        0\n",
       "1826-1850       3             0        0\n",
       "1851-1875       8             0        0\n",
       "1876-1900      17             0        0\n",
       "1901-1925      20             0        2\n",
       "1926-1950      30             0       17\n",
       "1951-1975     205             1       14\n",
       "1976-2000      84             0        3"
      ]
     },
     "execution_count": 84,
     "metadata": {},
     "output_type": "execute_result"
    }
   ],
   "source": [
    "## L'information à représenter (la distribution des effectifs)\n",
    "merged"
   ]
  },
  {
   "cell_type": "code",
   "execution_count": 85,
   "id": "d771329e",
   "metadata": {},
   "outputs": [
    {
     "data": {
      "text/html": [
       "<div>\n",
       "<style scoped>\n",
       "    .dataframe tbody tr th:only-of-type {\n",
       "        vertical-align: middle;\n",
       "    }\n",
       "\n",
       "    .dataframe tbody tr th {\n",
       "        vertical-align: top;\n",
       "    }\n",
       "\n",
       "    .dataframe thead th {\n",
       "        text-align: right;\n",
       "    }\n",
       "</style>\n",
       "<table border=\"1\" class=\"dataframe\">\n",
       "  <thead>\n",
       "    <tr style=\"text-align: right;\">\n",
       "      <th></th>\n",
       "      <th>Europe</th>\n",
       "      <th>NorthAmerica</th>\n",
       "      <th>Oceania</th>\n",
       "    </tr>\n",
       "    <tr>\n",
       "      <th>per_25</th>\n",
       "      <th></th>\n",
       "      <th></th>\n",
       "      <th></th>\n",
       "    </tr>\n",
       "  </thead>\n",
       "  <tbody>\n",
       "    <tr>\n",
       "      <th>1751-1775</th>\n",
       "      <td>NaN</td>\n",
       "      <td>NaN</td>\n",
       "      <td>NaN</td>\n",
       "    </tr>\n",
       "    <tr>\n",
       "      <th>1776-1800</th>\n",
       "      <td>NaN</td>\n",
       "      <td>NaN</td>\n",
       "      <td>NaN</td>\n",
       "    </tr>\n",
       "    <tr>\n",
       "      <th>1801-1825</th>\n",
       "      <td>100.0</td>\n",
       "      <td>0.0</td>\n",
       "      <td>0.0</td>\n",
       "    </tr>\n",
       "    <tr>\n",
       "      <th>1826-1850</th>\n",
       "      <td>100.0</td>\n",
       "      <td>0.0</td>\n",
       "      <td>0.0</td>\n",
       "    </tr>\n",
       "    <tr>\n",
       "      <th>1851-1875</th>\n",
       "      <td>100.0</td>\n",
       "      <td>0.0</td>\n",
       "      <td>0.0</td>\n",
       "    </tr>\n",
       "    <tr>\n",
       "      <th>1876-1900</th>\n",
       "      <td>100.0</td>\n",
       "      <td>0.0</td>\n",
       "      <td>0.0</td>\n",
       "    </tr>\n",
       "    <tr>\n",
       "      <th>1901-1925</th>\n",
       "      <td>90.9</td>\n",
       "      <td>0.0</td>\n",
       "      <td>9.1</td>\n",
       "    </tr>\n",
       "    <tr>\n",
       "      <th>1926-1950</th>\n",
       "      <td>63.8</td>\n",
       "      <td>0.0</td>\n",
       "      <td>36.2</td>\n",
       "    </tr>\n",
       "    <tr>\n",
       "      <th>1951-1975</th>\n",
       "      <td>93.2</td>\n",
       "      <td>0.5</td>\n",
       "      <td>6.4</td>\n",
       "    </tr>\n",
       "    <tr>\n",
       "      <th>1976-2000</th>\n",
       "      <td>96.6</td>\n",
       "      <td>0.0</td>\n",
       "      <td>3.4</td>\n",
       "    </tr>\n",
       "  </tbody>\n",
       "</table>\n",
       "</div>"
      ],
      "text/plain": [
       "           Europe  NorthAmerica  Oceania\n",
       "per_25                                  \n",
       "1751-1775     NaN           NaN      NaN\n",
       "1776-1800     NaN           NaN      NaN\n",
       "1801-1825   100.0           0.0      0.0\n",
       "1826-1850   100.0           0.0      0.0\n",
       "1851-1875   100.0           0.0      0.0\n",
       "1876-1900   100.0           0.0      0.0\n",
       "1901-1925    90.9           0.0      9.1\n",
       "1926-1950    63.8           0.0     36.2\n",
       "1951-1975    93.2           0.5      6.4\n",
       "1976-2000    96.6           0.0      3.4"
      ]
     },
     "execution_count": 85,
     "metadata": {},
     "output_type": "execute_result"
    }
   ],
   "source": [
    "### Fréquences par période\n",
    "merged_prop = merged.apply(lambda x: (x / x.sum()) * 100, axis=1).round(1)\n",
    "merged_prop"
   ]
  },
  {
   "cell_type": "code",
   "execution_count": 86,
   "id": "cb4dc457",
   "metadata": {},
   "outputs": [
    {
     "data": {
      "image/png": "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",
      "text/plain": [
       "<Figure size 1000x1600 with 10 Axes>"
      ]
     },
     "metadata": {},
     "output_type": "display_data"
    }
   ],
   "source": [
    "### Graphique multiple\n",
    "#  Pandas plot reference\n",
    "# https://pandas.pydata.org/pandas-docs/stable/reference/api/pandas.DataFrame.plot.html\n",
    "## Barplots\n",
    "# https://www.shanelynn.ie/bar-plots-in-python-using-pandas-dataframes/\n",
    "\n",
    "\n",
    "lm = len(merged)\n",
    "\n",
    "# Initialise the subplot function using number of rows and columns\n",
    "#figure, axis = plt.subplots(lm, 1)\n",
    "\n",
    "fig, axes = plt.subplots(lm, 1, figsize=(10,16))\n",
    "\n",
    "i = 0\n",
    "\n",
    "while i < lm:\n",
    "    df = pd.DataFrame(merged.iloc[i , ])\n",
    "    df['frequence'] = (100 * df / df.sum()).round(2)\n",
    "    ljt = pd.DataFrame(df['frequence']).T\n",
    "    # print(ljt)\n",
    "    fig = ljt.plot(kind='barh', stacked=True, ax=axes[i], label=None, xlabel=None, \n",
    "                   fontsize=10, color=col_palette_1, width=0.3, xlim=[0,100])\n",
    "    fig.set_title(df.columns[0])\n",
    "    if (i+2)%2 != 0:\n",
    "        fig.get_legend().remove()\n",
    "    i += 1\n",
    "    \n",
    "\n",
    "plt.suptitle('Fréquence des naissances par continent: évolution dans le temps',  fontsize=14)\n",
    "             \n",
    "plt.tight_layout()  # rect=[0, 0.03, 1, 0.90]\n",
    "plt.xlabel('')\n",
    "\n",
    "   \n",
    "plt.show()\n",
    "\n",
    "\n"
   ]
  },
  {
   "cell_type": "code",
   "execution_count": 87,
   "id": "ef3915a5",
   "metadata": {},
   "outputs": [
    {
     "data": {
      "image/png": "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",
      "text/plain": [
       "<Figure size 1500x300 with 1 Axes>"
      ]
     },
     "metadata": {},
     "output_type": "display_data"
    }
   ],
   "source": [
    "\n",
    "### Comparer avec l'ensemble de la période !\n",
    "# Noter que la distribution  de la dernière tranche temporelle est quasiment la même pour l'ensemble de la période \n",
    "# du fait des effectifs très importants du 20e siècle, qui définissent la tendance générale\n",
    "\n",
    "fig = ljt.plot(kind='barh', stacked=True, figsize=(15,3), color=col_palette_1, width=0.2, xlim=[0,100])\n",
    "\n"
   ]
  }
 ],
 "metadata": {
  "kernelspec": {
   "display_name": "Python 3",
   "language": "python",
   "name": "python3"
  },
  "language_info": {
   "codemirror_mode": {
    "name": "ipython",
    "version": 3
   },
   "file_extension": ".py",
   "mimetype": "text/x-python",
   "name": "python",
   "nbconvert_exporter": "python",
   "pygments_lexer": "ipython3",
   "version": "3.13.3"
  }
 },
 "nbformat": 4,
 "nbformat_minor": 5
}
