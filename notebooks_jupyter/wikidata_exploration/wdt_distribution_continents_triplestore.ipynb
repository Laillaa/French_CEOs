{
 "cells": [
  {
   "cell_type": "markdown",
   "id": "9150426b-5190-4539-8204-61253a0f1bd4",
   "metadata": {},
   "source": [
    "# Distribution des continents dans le temps \n",
    "\n",
    "Dans ce carnet est proposée une analyse de la distribution dans le temps des continents relatifs aux pays d'appartenance, en relation aux années de naissance de la population retenue.\n"
   ]
  },
  {
   "cell_type": "code",
   "execution_count": 182,
   "id": "231af92f-a7b1-479a-a734-0b8a9c0722e8",
   "metadata": {
    "tags": []
   },
   "outputs": [],
   "source": [
    "### Librairie à installer dans l'environnement conda (si on exécute en local)\n",
    "# qui sera choisi pour exécuter le carnet\n",
    "from SPARQLWrapper import SPARQLWrapper, JSON, TURTLE, XML, RDFXML\n",
    "import pandas as pd\n",
    "\n",
    "import matplotlib.pyplot as plt\n",
    "import numpy as np"
   ]
  },
  {
   "cell_type": "code",
   "execution_count": 183,
   "id": "e6ce0f0e-db36-47cd-8015-a5bf33f0f7fa",
   "metadata": {
    "tags": []
   },
   "outputs": [],
   "source": [
    "### Librairies déjà installées avec Python\n",
    "import pprint\n",
    "import csv\n",
    "import sys\n",
    "from importlib import reload\n",
    "import sqlite3 as sql\n",
    "\n",
    "import time\n",
    "import datetime\n",
    "from dateutil import parser\n",
    "\n",
    "\n",
    "from shutil import copyfile\n"
   ]
  },
  {
   "cell_type": "code",
   "execution_count": 184,
   "id": "9b90838d-2160-49e3-8adb-a67ff2cd112e",
   "metadata": {},
   "outputs": [],
   "source": [
    "### Importer un module de fonctions crées ad hoc\n",
    "##  ATTENTION : le fichier 'sparql_functions.py' doit se trouver \n",
    "#   dans un dossier qui se situe dans le chemin ('path') de recherche\n",
    "#   vu par le présent carnet Jupyter afin que\n",
    "#   l'importation fonctionne correctement\n",
    "\n",
    "# Add parent directory to the path\n",
    "sys.path.insert(0, \"sparql_functions.py\")\n",
    "\n",
    "### If you want to add the parent-parent directory,\n",
    "sys.path.insert(0, '../..')\n",
    "\n",
    "\n",
    "import sparql_functions as spqf"
   ]
  },
  {
   "cell_type": "markdown",
   "id": "3fe8665b-f64c-42bb-8786-4aee3673867c",
   "metadata": {},
   "source": [
    "## SPARQL Query qui récupère les données\n",
    "\n",
    "On exécute la requête grâce à une fonction de la librairie locale qui réalise la mise en forme"
   ]
  },
  {
   "cell_type": "code",
   "execution_count": 185,
   "id": "cf08874b-9ba0-4f5c-8eee-aebd9f0d0d26",
   "metadata": {},
   "outputs": [],
   "source": [
    "## define SPARQL enpoint\n",
    "endpoint = \"https://ag1efpn0ahc5nur8.allegrograph.cloud/repositories/French_CEOs\""
   ]
  },
  {
   "cell_type": "code",
   "execution_count": 186,
   "id": "164e80e8-1834-473a-a605-a3c1a660eff3",
   "metadata": {},
   "outputs": [],
   "source": [
    "query = \"\"\"\n",
    "PREFIX wd: <http://www.wikidata.org/entity/>\n",
    "PREFIX wdt: <http://www.wikidata.org/prop/direct/>\n",
    "PREFIX rdfs: <http://www.w3.org/2000/01/rdf-schema#>\n",
    "\n",
    "\n",
    "SELECT  ?s (MAX(?label) as ?label) (xsd:integer(MAX(?birthDate)) as ?birthDate) \n",
    "            (MAX(?gen) as ?gen) ( GROUP_CONCAT(?continentLabel; separator=\", \") AS ?onctinents )\n",
    "WHERE {\n",
    "    GRAPH <https://github.com/Laillaa/French_CEOs/blob/main/graphs/wikidata-imported-data.md>\n",
    "        {?s wdt:P21 ?gen;\n",
    "            rdfs:label ?label;\n",
    "            wdt:P569 ?birthDate;\n",
    "            wdt:P27 ?country.\n",
    "        ?country wdt:P30 ?continent.\n",
    "        ?continent rdfs:label ?continentLabel.\n",
    "        ## Excluding Eurasia, Australia and Oceania insular\n",
    "        FILTER ( ?continent NOT IN (wd:Q538, wd:Q3960, wd:Q5401))\n",
    "          }\n",
    "}\n",
    "GROUP BY ?s\n",
    "\"\"\""
   ]
  },
  {
   "cell_type": "code",
   "execution_count": 187,
   "id": "70f2370f-e287-404f-ba7b-aaf79021047e",
   "metadata": {},
   "outputs": [],
   "source": [
    "### Executer la requête avec les fonctions de la librairie locale\n",
    "qr = spqf.get_json_sparql_result(endpoint,query)"
   ]
  },
  {
   "cell_type": "code",
   "execution_count": 188,
   "id": "21bfd9f5-4c63-4b8c-af10-f9ddec203db2",
   "metadata": {},
   "outputs": [
    {
     "name": "stdout",
     "output_type": "stream",
     "text": [
      "413\n"
     ]
    },
    {
     "data": {
      "text/plain": [
       "[['http://www.wikidata.org/entity/Q125501035',\n",
       "  'Christophe Pinard-Legry',\n",
       "  '1971',\n",
       "  'http://www.wikidata.org/entity/Q6581097',\n",
       "  'Europe, Europe, Europe, Europe, Europe, Europe'],\n",
       " ['http://www.wikidata.org/entity/Q131461885',\n",
       "  'Jean-Guillaume Kleis',\n",
       "  '1988',\n",
       "  'http://www.wikidata.org/entity/Q6581097',\n",
       "  'Europe, Europe, Europe, Europe, Europe, Europe'],\n",
       " ['http://www.wikidata.org/entity/Q2966211',\n",
       "  'Christophe Ducasse',\n",
       "  '1956',\n",
       "  'http://www.wikidata.org/entity/Q6581097',\n",
       "  'Europe, Europe, Europe, Europe, Europe, Europe']]"
      ]
     },
     "execution_count": 188,
     "metadata": {},
     "output_type": "execute_result"
    }
   ],
   "source": [
    "r = [l for l in spqf.sparql_result_to_list(qr)]\n",
    "print(len(r))\n",
    "r[:3]"
   ]
  },
  {
   "cell_type": "code",
   "execution_count": 189,
   "id": "236bbba5-a4df-4a7b-b215-44c9bc3f355f",
   "metadata": {},
   "outputs": [
    {
     "data": {
      "application/vnd.microsoft.datawrangler.viewer.v0+json": {
       "columns": [
        {
         "name": "index",
         "rawType": "int64",
         "type": "integer"
        },
        {
         "name": "personUri",
         "rawType": "object",
         "type": "string"
        },
        {
         "name": "personLabel",
         "rawType": "object",
         "type": "string"
        },
        {
         "name": "birthYear",
         "rawType": "object",
         "type": "string"
        },
        {
         "name": "genderUri",
         "rawType": "object",
         "type": "string"
        },
        {
         "name": "continents",
         "rawType": "object",
         "type": "string"
        }
       ],
       "ref": "467337d7-d651-4d47-be55-7eef0743b9bf",
       "rows": [
        [
         "0",
         "http://www.wikidata.org/entity/Q125501035",
         "Christophe Pinard-Legry",
         "1971",
         "http://www.wikidata.org/entity/Q6581097",
         "Europe, Europe, Europe, Europe, Europe, Europe"
        ],
        [
         "1",
         "http://www.wikidata.org/entity/Q131461885",
         "Jean-Guillaume Kleis",
         "1988",
         "http://www.wikidata.org/entity/Q6581097",
         "Europe, Europe, Europe, Europe, Europe, Europe"
        ],
        [
         "2",
         "http://www.wikidata.org/entity/Q2966211",
         "Christophe Ducasse",
         "1956",
         "http://www.wikidata.org/entity/Q6581097",
         "Europe, Europe, Europe, Europe, Europe, Europe"
        ],
        [
         "3",
         "http://www.wikidata.org/entity/Q104417656",
         "Emmanuel Levacher",
         "1962",
         "http://www.wikidata.org/entity/Q6581097",
         "Europe, Europe, Europe, Europe, Europe, Europe"
        ],
        [
         "4",
         "http://www.wikidata.org/entity/Q3434635",
         "Robert Bouvard",
         "1901",
         "http://www.wikidata.org/entity/Q6581097",
         "Europe, Europe, Europe, Europe, Europe, Europe"
        ]
       ],
       "shape": {
        "columns": 5,
        "rows": 5
       }
      },
      "text/html": [
       "<div>\n",
       "<style scoped>\n",
       "    .dataframe tbody tr th:only-of-type {\n",
       "        vertical-align: middle;\n",
       "    }\n",
       "\n",
       "    .dataframe tbody tr th {\n",
       "        vertical-align: top;\n",
       "    }\n",
       "\n",
       "    .dataframe thead th {\n",
       "        text-align: right;\n",
       "    }\n",
       "</style>\n",
       "<table border=\"1\" class=\"dataframe\">\n",
       "  <thead>\n",
       "    <tr style=\"text-align: right;\">\n",
       "      <th></th>\n",
       "      <th>personUri</th>\n",
       "      <th>personLabel</th>\n",
       "      <th>birthYear</th>\n",
       "      <th>genderUri</th>\n",
       "      <th>continents</th>\n",
       "    </tr>\n",
       "  </thead>\n",
       "  <tbody>\n",
       "    <tr>\n",
       "      <th>0</th>\n",
       "      <td>http://www.wikidata.org/entity/Q125501035</td>\n",
       "      <td>Christophe Pinard-Legry</td>\n",
       "      <td>1971</td>\n",
       "      <td>http://www.wikidata.org/entity/Q6581097</td>\n",
       "      <td>Europe, Europe, Europe, Europe, Europe, Europe</td>\n",
       "    </tr>\n",
       "    <tr>\n",
       "      <th>1</th>\n",
       "      <td>http://www.wikidata.org/entity/Q131461885</td>\n",
       "      <td>Jean-Guillaume Kleis</td>\n",
       "      <td>1988</td>\n",
       "      <td>http://www.wikidata.org/entity/Q6581097</td>\n",
       "      <td>Europe, Europe, Europe, Europe, Europe, Europe</td>\n",
       "    </tr>\n",
       "    <tr>\n",
       "      <th>2</th>\n",
       "      <td>http://www.wikidata.org/entity/Q2966211</td>\n",
       "      <td>Christophe Ducasse</td>\n",
       "      <td>1956</td>\n",
       "      <td>http://www.wikidata.org/entity/Q6581097</td>\n",
       "      <td>Europe, Europe, Europe, Europe, Europe, Europe</td>\n",
       "    </tr>\n",
       "    <tr>\n",
       "      <th>3</th>\n",
       "      <td>http://www.wikidata.org/entity/Q104417656</td>\n",
       "      <td>Emmanuel Levacher</td>\n",
       "      <td>1962</td>\n",
       "      <td>http://www.wikidata.org/entity/Q6581097</td>\n",
       "      <td>Europe, Europe, Europe, Europe, Europe, Europe</td>\n",
       "    </tr>\n",
       "    <tr>\n",
       "      <th>4</th>\n",
       "      <td>http://www.wikidata.org/entity/Q3434635</td>\n",
       "      <td>Robert Bouvard</td>\n",
       "      <td>1901</td>\n",
       "      <td>http://www.wikidata.org/entity/Q6581097</td>\n",
       "      <td>Europe, Europe, Europe, Europe, Europe, Europe</td>\n",
       "    </tr>\n",
       "  </tbody>\n",
       "</table>\n",
       "</div>"
      ],
      "text/plain": [
       "                                   personUri              personLabel  \\\n",
       "0  http://www.wikidata.org/entity/Q125501035  Christophe Pinard-Legry   \n",
       "1  http://www.wikidata.org/entity/Q131461885     Jean-Guillaume Kleis   \n",
       "2    http://www.wikidata.org/entity/Q2966211       Christophe Ducasse   \n",
       "3  http://www.wikidata.org/entity/Q104417656        Emmanuel Levacher   \n",
       "4    http://www.wikidata.org/entity/Q3434635           Robert Bouvard   \n",
       "\n",
       "  birthYear                                genderUri  \\\n",
       "0      1971  http://www.wikidata.org/entity/Q6581097   \n",
       "1      1988  http://www.wikidata.org/entity/Q6581097   \n",
       "2      1956  http://www.wikidata.org/entity/Q6581097   \n",
       "3      1962  http://www.wikidata.org/entity/Q6581097   \n",
       "4      1901  http://www.wikidata.org/entity/Q6581097   \n",
       "\n",
       "                                       continents  \n",
       "0  Europe, Europe, Europe, Europe, Europe, Europe  \n",
       "1  Europe, Europe, Europe, Europe, Europe, Europe  \n",
       "2  Europe, Europe, Europe, Europe, Europe, Europe  \n",
       "3  Europe, Europe, Europe, Europe, Europe, Europe  \n",
       "4  Europe, Europe, Europe, Europe, Europe, Europe  "
      ]
     },
     "execution_count": 189,
     "metadata": {},
     "output_type": "execute_result"
    }
   ],
   "source": [
    "### Créer un DataFrame à partir du résultat\n",
    "df_p = pd.DataFrame(r)\n",
    "df_p.columns = ['personUri', 'personLabel', 'birthYear', 'genderUri', 'continents']\n",
    "df_p.head()"
   ]
  },
  {
   "cell_type": "code",
   "execution_count": 190,
   "id": "eb664e6b-7fd0-4757-8bff-db79a0d52f97",
   "metadata": {
    "tags": []
   },
   "outputs": [
    {
     "name": "stdout",
     "output_type": "stream",
     "text": [
      "<class 'pandas.core.frame.DataFrame'>\n",
      "RangeIndex: 413 entries, 0 to 412\n",
      "Data columns (total 5 columns):\n",
      " #   Column       Non-Null Count  Dtype \n",
      "---  ------       --------------  ----- \n",
      " 0   personUri    413 non-null    object\n",
      " 1   personLabel  413 non-null    object\n",
      " 2   birthYear    413 non-null    object\n",
      " 3   genderUri    413 non-null    object\n",
      " 4   continents   413 non-null    object\n",
      "dtypes: object(5)\n",
      "memory usage: 16.3+ KB\n"
     ]
    }
   ],
   "source": [
    "df_p.info()"
   ]
  },
  {
   "cell_type": "markdown",
   "id": "9b44e2cd",
   "metadata": {},
   "source": [
    "## Coder les continents et afficher leur distribution"
   ]
  },
  {
   "cell_type": "code",
   "execution_count": 191,
   "id": "460475b8",
   "metadata": {},
   "outputs": [],
   "source": [
    "def codeContinents(continents):\n",
    "    listContinents = sorted(continents.split(','))\n",
    "    if 'Europe' in listContinents:\n",
    "        output = 'Europe'\n",
    "    elif 'Asia' in listContinents:\n",
    "        output = 'Asia'\n",
    "    elif 'Africa' in listContinents:\n",
    "        output = 'Africa'\n",
    "    elif 'Oceania' in listContinents:\n",
    "        output = 'Oceania'   \n",
    "    elif 'North America' in listContinents:\n",
    "        output = 'NorthAmerica'   \n",
    "    elif 'South America' in listContinents:\n",
    "        output = 'SouthAmerica' \n",
    "    else:\n",
    "        output = 'Missing'                 \n",
    "    return output    "
   ]
  },
  {
   "cell_type": "code",
   "execution_count": 192,
   "id": "cc275ffe",
   "metadata": {},
   "outputs": [
    {
     "data": {
      "text/plain": [
       "'Oceania'"
      ]
     },
     "execution_count": 192,
     "metadata": {},
     "output_type": "execute_result"
    }
   ],
   "source": [
    "codeContinents('Oceania, North America, Africa')"
   ]
  },
  {
   "cell_type": "code",
   "execution_count": 193,
   "id": "8b60289c",
   "metadata": {},
   "outputs": [
    {
     "data": {
      "application/vnd.microsoft.datawrangler.viewer.v0+json": {
       "columns": [
        {
         "name": "index",
         "rawType": "int64",
         "type": "integer"
        },
        {
         "name": "personUri",
         "rawType": "object",
         "type": "string"
        },
        {
         "name": "personLabel",
         "rawType": "object",
         "type": "string"
        },
        {
         "name": "birthYear",
         "rawType": "object",
         "type": "string"
        },
        {
         "name": "genderUri",
         "rawType": "object",
         "type": "string"
        },
        {
         "name": "continents",
         "rawType": "object",
         "type": "string"
        },
        {
         "name": "contCode",
         "rawType": "object",
         "type": "string"
        }
       ],
       "ref": "a3c2530f-4f1a-4cfb-8865-c01fc4d5eff0",
       "rows": [
        [
         "0",
         "http://www.wikidata.org/entity/Q125501035",
         "Christophe Pinard-Legry",
         "1971",
         "http://www.wikidata.org/entity/Q6581097",
         "Europe, Europe, Europe, Europe, Europe, Europe",
         "Europe"
        ],
        [
         "1",
         "http://www.wikidata.org/entity/Q131461885",
         "Jean-Guillaume Kleis",
         "1988",
         "http://www.wikidata.org/entity/Q6581097",
         "Europe, Europe, Europe, Europe, Europe, Europe",
         "Europe"
        ],
        [
         "2",
         "http://www.wikidata.org/entity/Q2966211",
         "Christophe Ducasse",
         "1956",
         "http://www.wikidata.org/entity/Q6581097",
         "Europe, Europe, Europe, Europe, Europe, Europe",
         "Europe"
        ]
       ],
       "shape": {
        "columns": 6,
        "rows": 3
       }
      },
      "text/html": [
       "<div>\n",
       "<style scoped>\n",
       "    .dataframe tbody tr th:only-of-type {\n",
       "        vertical-align: middle;\n",
       "    }\n",
       "\n",
       "    .dataframe tbody tr th {\n",
       "        vertical-align: top;\n",
       "    }\n",
       "\n",
       "    .dataframe thead th {\n",
       "        text-align: right;\n",
       "    }\n",
       "</style>\n",
       "<table border=\"1\" class=\"dataframe\">\n",
       "  <thead>\n",
       "    <tr style=\"text-align: right;\">\n",
       "      <th></th>\n",
       "      <th>personUri</th>\n",
       "      <th>personLabel</th>\n",
       "      <th>birthYear</th>\n",
       "      <th>genderUri</th>\n",
       "      <th>continents</th>\n",
       "      <th>contCode</th>\n",
       "    </tr>\n",
       "  </thead>\n",
       "  <tbody>\n",
       "    <tr>\n",
       "      <th>0</th>\n",
       "      <td>http://www.wikidata.org/entity/Q125501035</td>\n",
       "      <td>Christophe Pinard-Legry</td>\n",
       "      <td>1971</td>\n",
       "      <td>http://www.wikidata.org/entity/Q6581097</td>\n",
       "      <td>Europe, Europe, Europe, Europe, Europe, Europe</td>\n",
       "      <td>Europe</td>\n",
       "    </tr>\n",
       "    <tr>\n",
       "      <th>1</th>\n",
       "      <td>http://www.wikidata.org/entity/Q131461885</td>\n",
       "      <td>Jean-Guillaume Kleis</td>\n",
       "      <td>1988</td>\n",
       "      <td>http://www.wikidata.org/entity/Q6581097</td>\n",
       "      <td>Europe, Europe, Europe, Europe, Europe, Europe</td>\n",
       "      <td>Europe</td>\n",
       "    </tr>\n",
       "    <tr>\n",
       "      <th>2</th>\n",
       "      <td>http://www.wikidata.org/entity/Q2966211</td>\n",
       "      <td>Christophe Ducasse</td>\n",
       "      <td>1956</td>\n",
       "      <td>http://www.wikidata.org/entity/Q6581097</td>\n",
       "      <td>Europe, Europe, Europe, Europe, Europe, Europe</td>\n",
       "      <td>Europe</td>\n",
       "    </tr>\n",
       "  </tbody>\n",
       "</table>\n",
       "</div>"
      ],
      "text/plain": [
       "                                   personUri              personLabel  \\\n",
       "0  http://www.wikidata.org/entity/Q125501035  Christophe Pinard-Legry   \n",
       "1  http://www.wikidata.org/entity/Q131461885     Jean-Guillaume Kleis   \n",
       "2    http://www.wikidata.org/entity/Q2966211       Christophe Ducasse   \n",
       "\n",
       "  birthYear                                genderUri  \\\n",
       "0      1971  http://www.wikidata.org/entity/Q6581097   \n",
       "1      1988  http://www.wikidata.org/entity/Q6581097   \n",
       "2      1956  http://www.wikidata.org/entity/Q6581097   \n",
       "\n",
       "                                       continents contCode  \n",
       "0  Europe, Europe, Europe, Europe, Europe, Europe   Europe  \n",
       "1  Europe, Europe, Europe, Europe, Europe, Europe   Europe  \n",
       "2  Europe, Europe, Europe, Europe, Europe, Europe   Europe  "
      ]
     },
     "execution_count": 193,
     "metadata": {},
     "output_type": "execute_result"
    }
   ],
   "source": [
    "### On ajoute une nouvelle colonne et y on met pour chaque ligne le résultat de la fonction\n",
    "df_p['contCode'] = df_p.apply(lambda x: codeContinents(x['continents']), axis=1)\n",
    "df_p.head(3)"
   ]
  },
  {
   "cell_type": "code",
   "execution_count": 194,
   "id": "604fb1ee",
   "metadata": {},
   "outputs": [
    {
     "data": {
      "application/vnd.microsoft.datawrangler.viewer.v0+json": {
       "columns": [
        {
         "name": "index",
         "rawType": "int64",
         "type": "integer"
        },
        {
         "name": "personUri",
         "rawType": "object",
         "type": "string"
        },
        {
         "name": "personLabel",
         "rawType": "object",
         "type": "string"
        },
        {
         "name": "birthYear",
         "rawType": "object",
         "type": "string"
        },
        {
         "name": "genderUri",
         "rawType": "object",
         "type": "string"
        },
        {
         "name": "continents",
         "rawType": "object",
         "type": "string"
        },
        {
         "name": "contCode",
         "rawType": "object",
         "type": "string"
        }
       ],
       "ref": "a6280611-05ee-4d4d-9018-5ed3ec580586",
       "rows": [
        [
         "115",
         "http://www.wikidata.org/entity/Q33109278",
         "Jacques-François Fournols",
         "1963",
         "http://www.wikidata.org/entity/Q6581097",
         "Europe, Europe, Europe, Europe, Europe, Europe",
         "Europe"
        ],
        [
         "116",
         "http://www.wikidata.org/entity/Q113626934",
         "Jonas Sjöström",
         "1954",
         "http://www.wikidata.org/entity/Q6581097",
         "Europe, Europe, Europe, Europe, Europe, Europe",
         "Europe"
        ],
        [
         "117",
         "http://www.wikidata.org/entity/Q125172028",
         "Arvid Öhlin",
         "1899",
         "http://www.wikidata.org/entity/Q6581097",
         "Europe, Europe, Europe, Europe, Europe, Europe",
         "Europe"
        ],
        [
         "118",
         "http://www.wikidata.org/entity/Q125767988",
         "Pierre-Henry Bassouls",
         "1962",
         "http://www.wikidata.org/entity/Q6581097",
         "Europe, Europe, Europe, Europe, Europe, Europe",
         "Europe"
        ],
        [
         "119",
         "http://www.wikidata.org/entity/Q25999290",
         "Fabienne Dulac",
         "1967",
         "http://www.wikidata.org/entity/Q6581072",
         "Europe, Europe, Europe, Europe, Europe, Europe",
         "Europe"
        ]
       ],
       "shape": {
        "columns": 6,
        "rows": 5
       }
      },
      "text/html": [
       "<div>\n",
       "<style scoped>\n",
       "    .dataframe tbody tr th:only-of-type {\n",
       "        vertical-align: middle;\n",
       "    }\n",
       "\n",
       "    .dataframe tbody tr th {\n",
       "        vertical-align: top;\n",
       "    }\n",
       "\n",
       "    .dataframe thead th {\n",
       "        text-align: right;\n",
       "    }\n",
       "</style>\n",
       "<table border=\"1\" class=\"dataframe\">\n",
       "  <thead>\n",
       "    <tr style=\"text-align: right;\">\n",
       "      <th></th>\n",
       "      <th>personUri</th>\n",
       "      <th>personLabel</th>\n",
       "      <th>birthYear</th>\n",
       "      <th>genderUri</th>\n",
       "      <th>continents</th>\n",
       "      <th>contCode</th>\n",
       "    </tr>\n",
       "  </thead>\n",
       "  <tbody>\n",
       "    <tr>\n",
       "      <th>115</th>\n",
       "      <td>http://www.wikidata.org/entity/Q33109278</td>\n",
       "      <td>Jacques-François Fournols</td>\n",
       "      <td>1963</td>\n",
       "      <td>http://www.wikidata.org/entity/Q6581097</td>\n",
       "      <td>Europe, Europe, Europe, Europe, Europe, Europe</td>\n",
       "      <td>Europe</td>\n",
       "    </tr>\n",
       "    <tr>\n",
       "      <th>116</th>\n",
       "      <td>http://www.wikidata.org/entity/Q113626934</td>\n",
       "      <td>Jonas Sjöström</td>\n",
       "      <td>1954</td>\n",
       "      <td>http://www.wikidata.org/entity/Q6581097</td>\n",
       "      <td>Europe, Europe, Europe, Europe, Europe, Europe</td>\n",
       "      <td>Europe</td>\n",
       "    </tr>\n",
       "    <tr>\n",
       "      <th>117</th>\n",
       "      <td>http://www.wikidata.org/entity/Q125172028</td>\n",
       "      <td>Arvid Öhlin</td>\n",
       "      <td>1899</td>\n",
       "      <td>http://www.wikidata.org/entity/Q6581097</td>\n",
       "      <td>Europe, Europe, Europe, Europe, Europe, Europe</td>\n",
       "      <td>Europe</td>\n",
       "    </tr>\n",
       "    <tr>\n",
       "      <th>118</th>\n",
       "      <td>http://www.wikidata.org/entity/Q125767988</td>\n",
       "      <td>Pierre-Henry Bassouls</td>\n",
       "      <td>1962</td>\n",
       "      <td>http://www.wikidata.org/entity/Q6581097</td>\n",
       "      <td>Europe, Europe, Europe, Europe, Europe, Europe</td>\n",
       "      <td>Europe</td>\n",
       "    </tr>\n",
       "    <tr>\n",
       "      <th>119</th>\n",
       "      <td>http://www.wikidata.org/entity/Q25999290</td>\n",
       "      <td>Fabienne Dulac</td>\n",
       "      <td>1967</td>\n",
       "      <td>http://www.wikidata.org/entity/Q6581072</td>\n",
       "      <td>Europe, Europe, Europe, Europe, Europe, Europe</td>\n",
       "      <td>Europe</td>\n",
       "    </tr>\n",
       "  </tbody>\n",
       "</table>\n",
       "</div>"
      ],
      "text/plain": [
       "                                     personUri                personLabel  \\\n",
       "115   http://www.wikidata.org/entity/Q33109278  Jacques-François Fournols   \n",
       "116  http://www.wikidata.org/entity/Q113626934             Jonas Sjöström   \n",
       "117  http://www.wikidata.org/entity/Q125172028                Arvid Öhlin   \n",
       "118  http://www.wikidata.org/entity/Q125767988      Pierre-Henry Bassouls   \n",
       "119   http://www.wikidata.org/entity/Q25999290             Fabienne Dulac   \n",
       "\n",
       "    birthYear                                genderUri  \\\n",
       "115      1963  http://www.wikidata.org/entity/Q6581097   \n",
       "116      1954  http://www.wikidata.org/entity/Q6581097   \n",
       "117      1899  http://www.wikidata.org/entity/Q6581097   \n",
       "118      1962  http://www.wikidata.org/entity/Q6581097   \n",
       "119      1967  http://www.wikidata.org/entity/Q6581072   \n",
       "\n",
       "                                         continents contCode  \n",
       "115  Europe, Europe, Europe, Europe, Europe, Europe   Europe  \n",
       "116  Europe, Europe, Europe, Europe, Europe, Europe   Europe  \n",
       "117  Europe, Europe, Europe, Europe, Europe, Europe   Europe  \n",
       "118  Europe, Europe, Europe, Europe, Europe, Europe   Europe  \n",
       "119  Europe, Europe, Europe, Europe, Europe, Europe   Europe  "
      ]
     },
     "execution_count": 194,
     "metadata": {},
     "output_type": "execute_result"
    }
   ],
   "source": [
    "df_p.iloc[ 115:120 :  ]"
   ]
  },
  {
   "cell_type": "code",
   "execution_count": 195,
   "id": "17a17f60",
   "metadata": {},
   "outputs": [
    {
     "name": "stdout",
     "output_type": "stream",
     "text": [
      "              effectif\n",
      "contCode              \n",
      "NorthAmerica         1\n",
      "Oceania             38\n",
      "Europe             374\n"
     ]
    }
   ],
   "source": [
    "### Regrouper et compter\n",
    "df_contCode = df_p.groupby('contCode').size()\n",
    "df_contCode = pd.DataFrame(df_contCode.sort_values(ascending = True))\n",
    "#df_contCode.reset_index(inplace=True)\n",
    "df_contCode.columns=['effectif']\n",
    "print(df_contCode)"
   ]
  },
  {
   "cell_type": "code",
   "execution_count": 196,
   "id": "2656d4b0",
   "metadata": {},
   "outputs": [
    {
     "data": {
      "application/vnd.microsoft.datawrangler.viewer.v0+json": {
       "columns": [
        {
         "name": "contCode",
         "rawType": "object",
         "type": "string"
        },
        {
         "name": "effectif",
         "rawType": "int64",
         "type": "integer"
        },
        {
         "name": "frequence",
         "rawType": "float64",
         "type": "float"
        }
       ],
       "ref": "05d52ef8-89c6-4297-948c-dfae3f2941c9",
       "rows": [
        [
         "NorthAmerica",
         "1",
         "0.24"
        ],
        [
         "Oceania",
         "38",
         "9.2"
        ],
        [
         "Europe",
         "374",
         "90.56"
        ]
       ],
       "shape": {
        "columns": 2,
        "rows": 3
       }
      },
      "text/html": [
       "<div>\n",
       "<style scoped>\n",
       "    .dataframe tbody tr th:only-of-type {\n",
       "        vertical-align: middle;\n",
       "    }\n",
       "\n",
       "    .dataframe tbody tr th {\n",
       "        vertical-align: top;\n",
       "    }\n",
       "\n",
       "    .dataframe thead th {\n",
       "        text-align: right;\n",
       "    }\n",
       "</style>\n",
       "<table border=\"1\" class=\"dataframe\">\n",
       "  <thead>\n",
       "    <tr style=\"text-align: right;\">\n",
       "      <th></th>\n",
       "      <th>effectif</th>\n",
       "      <th>frequence</th>\n",
       "    </tr>\n",
       "    <tr>\n",
       "      <th>contCode</th>\n",
       "      <th></th>\n",
       "      <th></th>\n",
       "    </tr>\n",
       "  </thead>\n",
       "  <tbody>\n",
       "    <tr>\n",
       "      <th>NorthAmerica</th>\n",
       "      <td>1</td>\n",
       "      <td>0.24</td>\n",
       "    </tr>\n",
       "    <tr>\n",
       "      <th>Oceania</th>\n",
       "      <td>38</td>\n",
       "      <td>9.20</td>\n",
       "    </tr>\n",
       "    <tr>\n",
       "      <th>Europe</th>\n",
       "      <td>374</td>\n",
       "      <td>90.56</td>\n",
       "    </tr>\n",
       "  </tbody>\n",
       "</table>\n",
       "</div>"
      ],
      "text/plain": [
       "              effectif  frequence\n",
       "contCode                         \n",
       "NorthAmerica         1       0.24\n",
       "Oceania             38       9.20\n",
       "Europe             374      90.56"
      ]
     },
     "execution_count": 196,
     "metadata": {},
     "output_type": "execute_result"
    }
   ],
   "source": [
    "df_contCode['frequence'] = (100 * df_contCode['effectif'] \\\n",
    "                                   / df_contCode['effectif'].sum()).round(2)\n",
    "df_contCode"
   ]
  },
  {
   "cell_type": "code",
   "execution_count": 197,
   "id": "e39f1006",
   "metadata": {},
   "outputs": [
    {
     "data": {
      "application/vnd.microsoft.datawrangler.viewer.v0+json": {
       "columns": [
        {
         "name": "index",
         "rawType": "object",
         "type": "string"
        },
        {
         "name": "Europe",
         "rawType": "float64",
         "type": "float"
        },
        {
         "name": "Oceania",
         "rawType": "float64",
         "type": "float"
        },
        {
         "name": "NorthAmerica",
         "rawType": "float64",
         "type": "float"
        }
       ],
       "ref": "78814e6e-0f57-40b6-bf97-986414dd921a",
       "rows": [
        [
         "frequence",
         "90.56",
         "9.2",
         "0.24"
        ]
       ],
       "shape": {
        "columns": 3,
        "rows": 1
       }
      },
      "text/html": [
       "<div>\n",
       "<style scoped>\n",
       "    .dataframe tbody tr th:only-of-type {\n",
       "        vertical-align: middle;\n",
       "    }\n",
       "\n",
       "    .dataframe tbody tr th {\n",
       "        vertical-align: top;\n",
       "    }\n",
       "\n",
       "    .dataframe thead th {\n",
       "        text-align: right;\n",
       "    }\n",
       "</style>\n",
       "<table border=\"1\" class=\"dataframe\">\n",
       "  <thead>\n",
       "    <tr style=\"text-align: right;\">\n",
       "      <th>contCode</th>\n",
       "      <th>Europe</th>\n",
       "      <th>Oceania</th>\n",
       "      <th>NorthAmerica</th>\n",
       "    </tr>\n",
       "  </thead>\n",
       "  <tbody>\n",
       "    <tr>\n",
       "      <th>frequence</th>\n",
       "      <td>90.56</td>\n",
       "      <td>9.2</td>\n",
       "      <td>0.24</td>\n",
       "    </tr>\n",
       "  </tbody>\n",
       "</table>\n",
       "</div>"
      ],
      "text/plain": [
       "contCode   Europe  Oceania  NorthAmerica\n",
       "frequence   90.56      9.2          0.24"
      ]
     },
     "execution_count": 197,
     "metadata": {},
     "output_type": "execute_result"
    }
   ],
   "source": [
    "\n",
    "ljt = pd.DataFrame(df_contCode['frequence'].sort_values(ascending=False)).T\n",
    "ljt\n",
    "\n"
   ]
  },
  {
   "cell_type": "code",
   "execution_count": 198,
   "id": "05913d25",
   "metadata": {},
   "outputs": [],
   "source": [
    "### Définir les couleurs en fonction des continents\n",
    "# Noter que cette liste des couleurs et continents\n",
    "# doit être adaptée à l'ordre de tri des données \n",
    "# dans le graphique\n",
    "col_palette = [\n",
    "    \"#DCDCDC\",  # Gainsboro : Europe\n",
    "    \"#cd5c5c\",  # Indian Red : NorthAmerica\n",
    "    \"#B2E0B2\",  # Light Green : Oceania  \n",
    "\n",
    "]\n"
   ]
  },
  {
   "cell_type": "code",
   "execution_count": 199,
   "id": "30068cc8",
   "metadata": {},
   "outputs": [
    {
     "data": {
      "image/png": "[encoded data removed]",
      "text/plain": [
       "<Figure size 1500x300 with 1 Axes>"
      ]
     },
     "metadata": {},
     "output_type": "display_data"
    }
   ],
   "source": [
    "### Pandas plot reference\n",
    "# https://pandas.pydata.org/pandas-docs/stable/reference/api/pandas.DataFrame.plot.html\n",
    "## Barplots\n",
    "# https://www.shanelynn.ie/bar-plots-in-python-using-pandas-dataframes/\n",
    "\n",
    "fig = ljt.plot(kind='barh', stacked=True, figsize=(15,3), color=col_palette, width=0.2, xlim=[0,100])"
   ]
  },
  {
   "cell_type": "markdown",
   "id": "c60b84a9-99a7-46b0-8ae9-11bf26128fe7",
   "metadata": {},
   "source": [
    "### Codage par période de vingt-cinq ans"
   ]
  },
  {
   "cell_type": "code",
   "execution_count": 200,
   "id": "7c29f5c0-bf9f-444d-be57-2d39bf882e23",
   "metadata": {
    "tags": []
   },
   "outputs": [
    {
     "name": "stdout",
     "output_type": "stream",
     "text": [
      "[1751, 1776, 1801, 1826, 1851] [1901, 1926, 1951, 1976, 2001] 10\n"
     ]
    }
   ],
   "source": [
    "### Créer une liste d'années pour séparer en périodes de 25 ans\n",
    "# noter que la dernière année sera exclue, \n",
    "# elle donc doit être supérieure à la valeur maximale \n",
    "l_25 = list(range(1751, 2025, 25))\n",
    "print(l_25[:5],l_25[-5:], len(l_25)-1)"
   ]
  },
  {
   "cell_type": "code",
   "execution_count": 201,
   "id": "e37bca9e",
   "metadata": {},
   "outputs": [],
   "source": [
    "### Transformer les années de naissance en entiers\n",
    "df_p.birthYear = df_p.birthYear.apply(lambda x : int(x))"
   ]
  },
  {
   "cell_type": "code",
   "execution_count": 202,
   "id": "06ab381e-f317-4767-9790-a9fcbfcb1853",
   "metadata": {},
   "outputs": [
    {
     "data": {
      "application/vnd.microsoft.datawrangler.viewer.v0+json": {
       "columns": [
        {
         "name": "index",
         "rawType": "int64",
         "type": "integer"
        },
        {
         "name": "personUri",
         "rawType": "object",
         "type": "string"
        },
        {
         "name": "personLabel",
         "rawType": "object",
         "type": "string"
        },
        {
         "name": "birthYear",
         "rawType": "int64",
         "type": "integer"
        },
        {
         "name": "genderUri",
         "rawType": "object",
         "type": "string"
        },
        {
         "name": "continents",
         "rawType": "object",
         "type": "string"
        },
        {
         "name": "contCode",
         "rawType": "object",
         "type": "string"
        },
        {
         "name": "per_25",
         "rawType": "category",
         "type": "unknown"
        }
       ],
       "ref": "a3dc985b-7ace-4d90-a935-1d8076b7542c",
       "rows": [
        [
         "0",
         "http://www.wikidata.org/entity/Q125501035",
         "Christophe Pinard-Legry",
         "1971",
         "http://www.wikidata.org/entity/Q6581097",
         "Europe, Europe, Europe, Europe, Europe, Europe",
         "Europe",
         "1951-1975"
        ],
        [
         "1",
         "http://www.wikidata.org/entity/Q131461885",
         "Jean-Guillaume Kleis",
         "1988",
         "http://www.wikidata.org/entity/Q6581097",
         "Europe, Europe, Europe, Europe, Europe, Europe",
         "Europe",
         "1976-2000"
        ],
        [
         "2",
         "http://www.wikidata.org/entity/Q2966211",
         "Christophe Ducasse",
         "1956",
         "http://www.wikidata.org/entity/Q6581097",
         "Europe, Europe, Europe, Europe, Europe, Europe",
         "Europe",
         "1951-1975"
        ]
       ],
       "shape": {
        "columns": 7,
        "rows": 3
       }
      },
      "text/html": [
       "<div>\n",
       "<style scoped>\n",
       "    .dataframe tbody tr th:only-of-type {\n",
       "        vertical-align: middle;\n",
       "    }\n",
       "\n",
       "    .dataframe tbody tr th {\n",
       "        vertical-align: top;\n",
       "    }\n",
       "\n",
       "    .dataframe thead th {\n",
       "        text-align: right;\n",
       "    }\n",
       "</style>\n",
       "<table border=\"1\" class=\"dataframe\">\n",
       "  <thead>\n",
       "    <tr style=\"text-align: right;\">\n",
       "      <th></th>\n",
       "      <th>personUri</th>\n",
       "      <th>personLabel</th>\n",
       "      <th>birthYear</th>\n",
       "      <th>genderUri</th>\n",
       "      <th>continents</th>\n",
       "      <th>contCode</th>\n",
       "      <th>per_25</th>\n",
       "    </tr>\n",
       "  </thead>\n",
       "  <tbody>\n",
       "    <tr>\n",
       "      <th>0</th>\n",
       "      <td>http://www.wikidata.org/entity/Q125501035</td>\n",
       "      <td>Christophe Pinard-Legry</td>\n",
       "      <td>1971</td>\n",
       "      <td>http://www.wikidata.org/entity/Q6581097</td>\n",
       "      <td>Europe, Europe, Europe, Europe, Europe, Europe</td>\n",
       "      <td>Europe</td>\n",
       "      <td>1951-1975</td>\n",
       "    </tr>\n",
       "    <tr>\n",
       "      <th>1</th>\n",
       "      <td>http://www.wikidata.org/entity/Q131461885</td>\n",
       "      <td>Jean-Guillaume Kleis</td>\n",
       "      <td>1988</td>\n",
       "      <td>http://www.wikidata.org/entity/Q6581097</td>\n",
       "      <td>Europe, Europe, Europe, Europe, Europe, Europe</td>\n",
       "      <td>Europe</td>\n",
       "      <td>1976-2000</td>\n",
       "    </tr>\n",
       "    <tr>\n",
       "      <th>2</th>\n",
       "      <td>http://www.wikidata.org/entity/Q2966211</td>\n",
       "      <td>Christophe Ducasse</td>\n",
       "      <td>1956</td>\n",
       "      <td>http://www.wikidata.org/entity/Q6581097</td>\n",
       "      <td>Europe, Europe, Europe, Europe, Europe, Europe</td>\n",
       "      <td>Europe</td>\n",
       "      <td>1951-1975</td>\n",
       "    </tr>\n",
       "  </tbody>\n",
       "</table>\n",
       "</div>"
      ],
      "text/plain": [
       "                                   personUri              personLabel  \\\n",
       "0  http://www.wikidata.org/entity/Q125501035  Christophe Pinard-Legry   \n",
       "1  http://www.wikidata.org/entity/Q131461885     Jean-Guillaume Kleis   \n",
       "2    http://www.wikidata.org/entity/Q2966211       Christophe Ducasse   \n",
       "\n",
       "   birthYear                                genderUri  \\\n",
       "0       1971  http://www.wikidata.org/entity/Q6581097   \n",
       "1       1988  http://www.wikidata.org/entity/Q6581097   \n",
       "2       1956  http://www.wikidata.org/entity/Q6581097   \n",
       "\n",
       "                                       continents contCode     per_25  \n",
       "0  Europe, Europe, Europe, Europe, Europe, Europe   Europe  1951-1975  \n",
       "1  Europe, Europe, Europe, Europe, Europe, Europe   Europe  1976-2000  \n",
       "2  Europe, Europe, Europe, Europe, Europe, Europe   Europe  1951-1975  "
      ]
     },
     "execution_count": 202,
     "metadata": {},
     "output_type": "execute_result"
    }
   ],
   "source": [
    "### fonction pd.cut : https://pandas.pydata.org/pandas-docs/stable/reference/api/pandas.cut.html\n",
    "# On ajoute une nouvelle colonne qui contient la période sur la base de la liste précédente\n",
    "# et de la valeur de l'année\n",
    "\n",
    "df_p['per_25'] = pd.cut(df_p['birthYear'], l_25, right=False)\n",
    "\n",
    "### Transformer le code ajouté pour qu'il soit plus lisible\n",
    "# noter qu'on a arrondi les valeurs\n",
    "df_p['per_25'] = df_p['per_25'].apply(lambda x : str(int(x.left))+'-'+ str(int(x.right)-1))\n",
    "\n",
    "# Inspection\n",
    "df_p.head(3)"
   ]
  },
  {
   "cell_type": "code",
   "execution_count": 203,
   "id": "4e943cfe-40d8-49c0-afa1-a55f964f657a",
   "metadata": {},
   "outputs": [
    {
     "name": "stdout",
     "output_type": "stream",
     "text": [
      "per_25\n",
      "1751-1775      0\n",
      "1776-1800      0\n",
      "1801-1825      2\n",
      "1826-1850      3\n",
      "1851-1875      8\n",
      "1876-1900     18\n",
      "1901-1925     23\n",
      "1926-1950     47\n",
      "1951-1975    223\n",
      "1976-2000     89\n",
      "dtype: int64\n"
     ]
    },
    {
     "name": "stderr",
     "output_type": "stream",
     "text": [
      "C:\\Users\\laila\\AppData\\Local\\Temp\\ipykernel_22768\\173774721.py:2: FutureWarning: The default of observed=False is deprecated and will be changed to True in a future version of pandas. Pass observed=False to retain current behavior or observed=True to adopt the future default and silence this warning.\n",
      "  naissances_per = df_p.groupby(by='per_25').size()\n"
     ]
    }
   ],
   "source": [
    "### distribution des naissances par périodes de 25 ans\n",
    "naissances_per = df_p.groupby(by='per_25').size()\n",
    "print(naissances_per)"
   ]
  },
  {
   "cell_type": "code",
   "execution_count": 204,
   "id": "9a1dd793-210a-42c3-b68b-d0e1756277d1",
   "metadata": {},
   "outputs": [
    {
     "name": "stderr",
     "output_type": "stream",
     "text": [
      "C:\\Users\\laila\\AppData\\Local\\Temp\\ipykernel_22768\\1845055184.py:2: FutureWarning: The default of observed=False is deprecated and will be changed to True in a future version of pandas. Pass observed=False to retain current behavior or observed=True to adopt the future default and silence this warning.\n",
      "  ax = df_p.groupby(by='per_25').size().plot(kind='bar',rot=60, fontsize=8, figsize=(16,8))\n"
     ]
    },
    {
     "data": {
      "image/png": "[encoded data removed]",
      "text/plain": [
       "<Figure size 1600x800 with 1 Axes>"
      ]
     },
     "metadata": {},
     "output_type": "display_data"
    }
   ],
   "source": [
    "### Diagramme à barres représentant la distribution par 'génération'\n",
    "ax = df_p.groupby(by='per_25').size().plot(kind='bar',rot=60, fontsize=8, figsize=(16,8))\n",
    "plt.ylabel('Effectif')\n",
    "plt.xlabel('Périodes')\n",
    "plt.title('Naissances par périodes de ving-cinq ans')\n",
    "plt.show()"
   ]
  },
  {
   "cell_type": "markdown",
   "id": "7d3da8ee-300d-4fb8-be6e-384e1e4186ef",
   "metadata": {},
   "source": [
    "## Ajouter la représentation des continents"
   ]
  },
  {
   "cell_type": "code",
   "execution_count": 205,
   "id": "5fe3105a",
   "metadata": {},
   "outputs": [
    {
     "name": "stdout",
     "output_type": "stream",
     "text": [
      "['NorthAmerica', 'Oceania']\n"
     ]
    }
   ],
   "source": [
    "lcont = list(sorted(set(df_p.contCode.to_list())))\n",
    "lcont.remove('Europe')\n",
    "print(lcont)"
   ]
  },
  {
   "cell_type": "code",
   "execution_count": 206,
   "id": "a4371393",
   "metadata": {},
   "outputs": [
    {
     "name": "stderr",
     "output_type": "stream",
     "text": [
      "C:\\Users\\laila\\AppData\\Local\\Temp\\ipykernel_22768\\2162464101.py:2: FutureWarning: The default of observed=False is deprecated and will be changed to True in a future version of pandas. Pass observed=False to retain current behavior or observed=True to adopt the future default and silence this warning.\n",
      "  merged = pd.DataFrame(df_p[df_p.contCode == 'Europe'].groupby('per_25').size())\n"
     ]
    },
    {
     "data": {
      "application/vnd.microsoft.datawrangler.viewer.v0+json": {
       "columns": [
        {
         "name": "per_25",
         "rawType": "category",
         "type": "unknown"
        },
        {
         "name": "Europe",
         "rawType": "int64",
         "type": "integer"
        }
       ],
       "ref": "bcc8d0e4-a6ef-4768-9dae-405118a6dbdc",
       "rows": [
        [
         "1876-1900",
         "18"
        ],
        [
         "1901-1925",
         "21"
        ],
        [
         "1926-1950",
         "30"
        ],
        [
         "1951-1975",
         "207"
        ],
        [
         "1976-2000",
         "85"
        ]
       ],
       "shape": {
        "columns": 1,
        "rows": 5
       }
      },
      "text/html": [
       "<div>\n",
       "<style scoped>\n",
       "    .dataframe tbody tr th:only-of-type {\n",
       "        vertical-align: middle;\n",
       "    }\n",
       "\n",
       "    .dataframe tbody tr th {\n",
       "        vertical-align: top;\n",
       "    }\n",
       "\n",
       "    .dataframe thead th {\n",
       "        text-align: right;\n",
       "    }\n",
       "</style>\n",
       "<table border=\"1\" class=\"dataframe\">\n",
       "  <thead>\n",
       "    <tr style=\"text-align: right;\">\n",
       "      <th></th>\n",
       "      <th>Europe</th>\n",
       "    </tr>\n",
       "    <tr>\n",
       "      <th>per_25</th>\n",
       "      <th></th>\n",
       "    </tr>\n",
       "  </thead>\n",
       "  <tbody>\n",
       "    <tr>\n",
       "      <th>1876-1900</th>\n",
       "      <td>18</td>\n",
       "    </tr>\n",
       "    <tr>\n",
       "      <th>1901-1925</th>\n",
       "      <td>21</td>\n",
       "    </tr>\n",
       "    <tr>\n",
       "      <th>1926-1950</th>\n",
       "      <td>30</td>\n",
       "    </tr>\n",
       "    <tr>\n",
       "      <th>1951-1975</th>\n",
       "      <td>207</td>\n",
       "    </tr>\n",
       "    <tr>\n",
       "      <th>1976-2000</th>\n",
       "      <td>85</td>\n",
       "    </tr>\n",
       "  </tbody>\n",
       "</table>\n",
       "</div>"
      ],
      "text/plain": [
       "           Europe\n",
       "per_25           \n",
       "1876-1900      18\n",
       "1901-1925      21\n",
       "1926-1950      30\n",
       "1951-1975     207\n",
       "1976-2000      85"
      ]
     },
     "execution_count": 206,
     "metadata": {},
     "output_type": "execute_result"
    }
   ],
   "source": [
    "### Regrouper et compter avec un fitre sur le continent 'Europe'\n",
    "merged = pd.DataFrame(df_p[df_p.contCode == 'Europe'].groupby('per_25').size())\n",
    "merged.columns = ['Europe']\n",
    "merged.tail()\n",
    "\n"
   ]
  },
  {
   "cell_type": "code",
   "execution_count": 207,
   "id": "b03dab9c",
   "metadata": {},
   "outputs": [
    {
     "name": "stderr",
     "output_type": "stream",
     "text": [
      "C:\\Users\\laila\\AppData\\Local\\Temp\\ipykernel_22768\\2553485247.py:3: FutureWarning: The default of observed=False is deprecated and will be changed to True in a future version of pandas. Pass observed=False to retain current behavior or observed=True to adopt the future default and silence this warning.\n",
      "  new_df = pd.DataFrame(df_p[df_p.contCode == cont].groupby('per_25').size())\n",
      "C:\\Users\\laila\\AppData\\Local\\Temp\\ipykernel_22768\\2553485247.py:3: FutureWarning: The default of observed=False is deprecated and will be changed to True in a future version of pandas. Pass observed=False to retain current behavior or observed=True to adopt the future default and silence this warning.\n",
      "  new_df = pd.DataFrame(df_p[df_p.contCode == cont].groupby('per_25').size())\n"
     ]
    },
    {
     "data": {
      "application/vnd.microsoft.datawrangler.viewer.v0+json": {
       "columns": [
        {
         "name": "per_25",
         "rawType": "category",
         "type": "unknown"
        },
        {
         "name": "Europe",
         "rawType": "int64",
         "type": "integer"
        },
        {
         "name": "NorthAmerica",
         "rawType": "int64",
         "type": "integer"
        },
        {
         "name": "Oceania",
         "rawType": "int64",
         "type": "integer"
        }
       ],
       "ref": "65c064f0-b139-4c3c-ae61-d714dabe9230",
       "rows": [
        [
         "1801-1825",
         "2",
         "0",
         "0"
        ],
        [
         "1826-1850",
         "3",
         "0",
         "0"
        ],
        [
         "1851-1875",
         "8",
         "0",
         "0"
        ],
        [
         "1876-1900",
         "18",
         "0",
         "0"
        ],
        [
         "1901-1925",
         "21",
         "0",
         "2"
        ],
        [
         "1926-1950",
         "30",
         "0",
         "17"
        ],
        [
         "1951-1975",
         "207",
         "1",
         "15"
        ],
        [
         "1976-2000",
         "85",
         "0",
         "4"
        ]
       ],
       "shape": {
        "columns": 3,
        "rows": 8
       }
      },
      "text/html": [
       "<div>\n",
       "<style scoped>\n",
       "    .dataframe tbody tr th:only-of-type {\n",
       "        vertical-align: middle;\n",
       "    }\n",
       "\n",
       "    .dataframe tbody tr th {\n",
       "        vertical-align: top;\n",
       "    }\n",
       "\n",
       "    .dataframe thead th {\n",
       "        text-align: right;\n",
       "    }\n",
       "</style>\n",
       "<table border=\"1\" class=\"dataframe\">\n",
       "  <thead>\n",
       "    <tr style=\"text-align: right;\">\n",
       "      <th></th>\n",
       "      <th>Europe</th>\n",
       "      <th>NorthAmerica</th>\n",
       "      <th>Oceania</th>\n",
       "    </tr>\n",
       "    <tr>\n",
       "      <th>per_25</th>\n",
       "      <th></th>\n",
       "      <th></th>\n",
       "      <th></th>\n",
       "    </tr>\n",
       "  </thead>\n",
       "  <tbody>\n",
       "    <tr>\n",
       "      <th>1801-1825</th>\n",
       "      <td>2</td>\n",
       "      <td>0</td>\n",
       "      <td>0</td>\n",
       "    </tr>\n",
       "    <tr>\n",
       "      <th>1826-1850</th>\n",
       "      <td>3</td>\n",
       "      <td>0</td>\n",
       "      <td>0</td>\n",
       "    </tr>\n",
       "    <tr>\n",
       "      <th>1851-1875</th>\n",
       "      <td>8</td>\n",
       "      <td>0</td>\n",
       "      <td>0</td>\n",
       "    </tr>\n",
       "    <tr>\n",
       "      <th>1876-1900</th>\n",
       "      <td>18</td>\n",
       "      <td>0</td>\n",
       "      <td>0</td>\n",
       "    </tr>\n",
       "    <tr>\n",
       "      <th>1901-1925</th>\n",
       "      <td>21</td>\n",
       "      <td>0</td>\n",
       "      <td>2</td>\n",
       "    </tr>\n",
       "    <tr>\n",
       "      <th>1926-1950</th>\n",
       "      <td>30</td>\n",
       "      <td>0</td>\n",
       "      <td>17</td>\n",
       "    </tr>\n",
       "    <tr>\n",
       "      <th>1951-1975</th>\n",
       "      <td>207</td>\n",
       "      <td>1</td>\n",
       "      <td>15</td>\n",
       "    </tr>\n",
       "    <tr>\n",
       "      <th>1976-2000</th>\n",
       "      <td>85</td>\n",
       "      <td>0</td>\n",
       "      <td>4</td>\n",
       "    </tr>\n",
       "  </tbody>\n",
       "</table>\n",
       "</div>"
      ],
      "text/plain": [
       "           Europe  NorthAmerica  Oceania\n",
       "per_25                                  \n",
       "1801-1825       2             0        0\n",
       "1826-1850       3             0        0\n",
       "1851-1875       8             0        0\n",
       "1876-1900      18             0        0\n",
       "1901-1925      21             0        2\n",
       "1926-1950      30             0       17\n",
       "1951-1975     207             1       15\n",
       "1976-2000      85             0        4"
      ]
     },
     "execution_count": 207,
     "metadata": {},
     "output_type": "execute_result"
    }
   ],
   "source": [
    "### Ajouter les distributions des autres continents\n",
    "for cont in lcont:\n",
    "    new_df = pd.DataFrame(df_p[df_p.contCode == cont].groupby('per_25').size())\n",
    "    new_df.columns = [cont]\n",
    "    merged = pd.merge(merged, new_df, left_index=True, right_index=True)\n",
    "\n",
    "### Enlever les 2 premières lignes (1751-1775 et 1776-1800) car les valeurs sont nulles\n",
    "merged = merged.iloc[2: , :]\n",
    "merged    \n"
   ]
  },
  {
   "cell_type": "code",
   "execution_count": 208,
   "id": "60190e17-c1df-4a22-9ec9-be6b77108c46",
   "metadata": {},
   "outputs": [
    {
     "data": {
      "application/vnd.microsoft.datawrangler.viewer.v0+json": {
       "columns": [
        {
         "name": "per_25",
         "rawType": "category",
         "type": "unknown"
        },
        {
         "name": "Europe",
         "rawType": "int64",
         "type": "integer"
        },
        {
         "name": "NorthAmerica",
         "rawType": "int64",
         "type": "integer"
        },
        {
         "name": "Oceania",
         "rawType": "int64",
         "type": "integer"
        }
       ],
       "ref": "808a5e6e-b5a7-49c1-b3a3-eb6848f229d1",
       "rows": [
        [
         "1801-1825",
         "2",
         "0",
         "0"
        ],
        [
         "1826-1850",
         "3",
         "0",
         "0"
        ],
        [
         "1851-1875",
         "8",
         "0",
         "0"
        ],
        [
         "1876-1900",
         "18",
         "0",
         "0"
        ],
        [
         "1901-1925",
         "21",
         "0",
         "2"
        ],
        [
         "1926-1950",
         "30",
         "0",
         "17"
        ],
        [
         "1951-1975",
         "207",
         "1",
         "15"
        ],
        [
         "1976-2000",
         "85",
         "0",
         "4"
        ]
       ],
       "shape": {
        "columns": 3,
        "rows": 8
       }
      },
      "text/html": [
       "<div>\n",
       "<style scoped>\n",
       "    .dataframe tbody tr th:only-of-type {\n",
       "        vertical-align: middle;\n",
       "    }\n",
       "\n",
       "    .dataframe tbody tr th {\n",
       "        vertical-align: top;\n",
       "    }\n",
       "\n",
       "    .dataframe thead th {\n",
       "        text-align: right;\n",
       "    }\n",
       "</style>\n",
       "<table border=\"1\" class=\"dataframe\">\n",
       "  <thead>\n",
       "    <tr style=\"text-align: right;\">\n",
       "      <th></th>\n",
       "      <th>Europe</th>\n",
       "      <th>NorthAmerica</th>\n",
       "      <th>Oceania</th>\n",
       "    </tr>\n",
       "    <tr>\n",
       "      <th>per_25</th>\n",
       "      <th></th>\n",
       "      <th></th>\n",
       "      <th></th>\n",
       "    </tr>\n",
       "  </thead>\n",
       "  <tbody>\n",
       "    <tr>\n",
       "      <th>1801-1825</th>\n",
       "      <td>2</td>\n",
       "      <td>0</td>\n",
       "      <td>0</td>\n",
       "    </tr>\n",
       "    <tr>\n",
       "      <th>1826-1850</th>\n",
       "      <td>3</td>\n",
       "      <td>0</td>\n",
       "      <td>0</td>\n",
       "    </tr>\n",
       "    <tr>\n",
       "      <th>1851-1875</th>\n",
       "      <td>8</td>\n",
       "      <td>0</td>\n",
       "      <td>0</td>\n",
       "    </tr>\n",
       "    <tr>\n",
       "      <th>1876-1900</th>\n",
       "      <td>18</td>\n",
       "      <td>0</td>\n",
       "      <td>0</td>\n",
       "    </tr>\n",
       "    <tr>\n",
       "      <th>1901-1925</th>\n",
       "      <td>21</td>\n",
       "      <td>0</td>\n",
       "      <td>2</td>\n",
       "    </tr>\n",
       "    <tr>\n",
       "      <th>1926-1950</th>\n",
       "      <td>30</td>\n",
       "      <td>0</td>\n",
       "      <td>17</td>\n",
       "    </tr>\n",
       "    <tr>\n",
       "      <th>1951-1975</th>\n",
       "      <td>207</td>\n",
       "      <td>1</td>\n",
       "      <td>15</td>\n",
       "    </tr>\n",
       "    <tr>\n",
       "      <th>1976-2000</th>\n",
       "      <td>85</td>\n",
       "      <td>0</td>\n",
       "      <td>4</td>\n",
       "    </tr>\n",
       "  </tbody>\n",
       "</table>\n",
       "</div>"
      ],
      "text/plain": [
       "           Europe  NorthAmerica  Oceania\n",
       "per_25                                  \n",
       "1801-1825       2             0        0\n",
       "1826-1850       3             0        0\n",
       "1851-1875       8             0        0\n",
       "1876-1900      18             0        0\n",
       "1901-1925      21             0        2\n",
       "1926-1950      30             0       17\n",
       "1951-1975     207             1       15\n",
       "1976-2000      85             0        4"
      ]
     },
     "execution_count": 208,
     "metadata": {},
     "output_type": "execute_result"
    }
   ],
   "source": [
    "### Transformer l'index en chaîne de caractères\n",
    "# ce qui est indispensable pour l'affichage dans un graphique\n",
    "merged.index = merged.index.map(str)\n",
    "merged"
   ]
  },
  {
   "cell_type": "code",
   "execution_count": 209,
   "id": "9d8aeeb8",
   "metadata": {},
   "outputs": [],
   "source": [
    "### Adapter à l'ordre des colonnes\n",
    "col_palette_1 = [\n",
    "    \"#DCDCDC\",  # Gainsboro : Europe\n",
    "    \"#cd5c5c\",  # Indian Red : NorthAmerica\n",
    "    \"#B2E0B2\",  # Light Green : Oceania\n",
    "    \n",
    "]\n"
   ]
  },
  {
   "cell_type": "code",
   "execution_count": 210,
   "id": "d188f96f-feca-464b-b338-f87e3c9cb23b",
   "metadata": {},
   "outputs": [
    {
     "data": {
      "image/png": "[encoded data removed]",
      "text/plain": [
       "<Figure size 1000x800 with 1 Axes>"
      ]
     },
     "metadata": {},
     "output_type": "display_data"
    }
   ],
   "source": [
    "### Représenter l'évolution de la distribution dans le temps par continent\n",
    "#  Documentation\n",
    "# https://pandas.pydata.org/pandas-docs/stable/reference/api/pandas.DataFrame.plot.bar.html\n",
    "\n",
    "data = merged\n",
    "\n",
    "ax = data.plot.bar(stacked=True, rot=70, fontsize=9, figsize=(10,8), \n",
    "                     color=col_palette_1)\n",
    "plt.title('Distribution des naissances par génération et continent')\n",
    "\n",
    "## https://stackoverflow.com/questions/71320380/add-only-the-total-values-on-top-of-stacked-bars\n",
    "ax.bar_label(ax.containers[-1])\n",
    "\n",
    "plt.show()\n",
    "\n",
    "# Il y a une erreur au niveau de la représentation des naissances.\n",
    "# Pour [1801-1825] c'est ecrit 0 alors qu'il y a des naissances (2)\n",
    "# De meme pour [1826-1850] (3), [1851-1875] (8) et [1876-1900] (17)\n",
    "\n"
   ]
  },
  {
   "cell_type": "markdown",
   "id": "1ea74235",
   "metadata": {},
   "source": [
    "## Représentation des mêmes informations avec une graphique décomposé\n",
    "\n",
    "\n"
   ]
  },
  {
   "cell_type": "code",
   "execution_count": 211,
   "id": "bb96fbac",
   "metadata": {},
   "outputs": [
    {
     "data": {
      "application/vnd.microsoft.datawrangler.viewer.v0+json": {
       "columns": [
        {
         "name": "per_25",
         "rawType": "category",
         "type": "unknown"
        },
        {
         "name": "Europe",
         "rawType": "int64",
         "type": "integer"
        },
        {
         "name": "NorthAmerica",
         "rawType": "int64",
         "type": "integer"
        },
        {
         "name": "Oceania",
         "rawType": "int64",
         "type": "integer"
        }
       ],
       "ref": "b164cf56-1b48-4fc1-98b1-8e2aa35e007b",
       "rows": [
        [
         "1801-1825",
         "2",
         "0",
         "0"
        ],
        [
         "1826-1850",
         "3",
         "0",
         "0"
        ],
        [
         "1851-1875",
         "8",
         "0",
         "0"
        ],
        [
         "1876-1900",
         "18",
         "0",
         "0"
        ],
        [
         "1901-1925",
         "21",
         "0",
         "2"
        ],
        [
         "1926-1950",
         "30",
         "0",
         "17"
        ],
        [
         "1951-1975",
         "207",
         "1",
         "15"
        ],
        [
         "1976-2000",
         "85",
         "0",
         "4"
        ]
       ],
       "shape": {
        "columns": 3,
        "rows": 8
       }
      },
      "text/html": [
       "<div>\n",
       "<style scoped>\n",
       "    .dataframe tbody tr th:only-of-type {\n",
       "        vertical-align: middle;\n",
       "    }\n",
       "\n",
       "    .dataframe tbody tr th {\n",
       "        vertical-align: top;\n",
       "    }\n",
       "\n",
       "    .dataframe thead th {\n",
       "        text-align: right;\n",
       "    }\n",
       "</style>\n",
       "<table border=\"1\" class=\"dataframe\">\n",
       "  <thead>\n",
       "    <tr style=\"text-align: right;\">\n",
       "      <th></th>\n",
       "      <th>Europe</th>\n",
       "      <th>NorthAmerica</th>\n",
       "      <th>Oceania</th>\n",
       "    </tr>\n",
       "    <tr>\n",
       "      <th>per_25</th>\n",
       "      <th></th>\n",
       "      <th></th>\n",
       "      <th></th>\n",
       "    </tr>\n",
       "  </thead>\n",
       "  <tbody>\n",
       "    <tr>\n",
       "      <th>1801-1825</th>\n",
       "      <td>2</td>\n",
       "      <td>0</td>\n",
       "      <td>0</td>\n",
       "    </tr>\n",
       "    <tr>\n",
       "      <th>1826-1850</th>\n",
       "      <td>3</td>\n",
       "      <td>0</td>\n",
       "      <td>0</td>\n",
       "    </tr>\n",
       "    <tr>\n",
       "      <th>1851-1875</th>\n",
       "      <td>8</td>\n",
       "      <td>0</td>\n",
       "      <td>0</td>\n",
       "    </tr>\n",
       "    <tr>\n",
       "      <th>1876-1900</th>\n",
       "      <td>18</td>\n",
       "      <td>0</td>\n",
       "      <td>0</td>\n",
       "    </tr>\n",
       "    <tr>\n",
       "      <th>1901-1925</th>\n",
       "      <td>21</td>\n",
       "      <td>0</td>\n",
       "      <td>2</td>\n",
       "    </tr>\n",
       "    <tr>\n",
       "      <th>1926-1950</th>\n",
       "      <td>30</td>\n",
       "      <td>0</td>\n",
       "      <td>17</td>\n",
       "    </tr>\n",
       "    <tr>\n",
       "      <th>1951-1975</th>\n",
       "      <td>207</td>\n",
       "      <td>1</td>\n",
       "      <td>15</td>\n",
       "    </tr>\n",
       "    <tr>\n",
       "      <th>1976-2000</th>\n",
       "      <td>85</td>\n",
       "      <td>0</td>\n",
       "      <td>4</td>\n",
       "    </tr>\n",
       "  </tbody>\n",
       "</table>\n",
       "</div>"
      ],
      "text/plain": [
       "           Europe  NorthAmerica  Oceania\n",
       "per_25                                  \n",
       "1801-1825       2             0        0\n",
       "1826-1850       3             0        0\n",
       "1851-1875       8             0        0\n",
       "1876-1900      18             0        0\n",
       "1901-1925      21             0        2\n",
       "1926-1950      30             0       17\n",
       "1951-1975     207             1       15\n",
       "1976-2000      85             0        4"
      ]
     },
     "execution_count": 211,
     "metadata": {},
     "output_type": "execute_result"
    }
   ],
   "source": [
    "## L'information à représenter (la distribution des effectifs)\n",
    "merged"
   ]
  },
  {
   "cell_type": "code",
   "execution_count": 212,
   "id": "d771329e",
   "metadata": {},
   "outputs": [
    {
     "data": {
      "application/vnd.microsoft.datawrangler.viewer.v0+json": {
       "columns": [
        {
         "name": "per_25",
         "rawType": "category",
         "type": "unknown"
        },
        {
         "name": "Europe",
         "rawType": "float64",
         "type": "float"
        },
        {
         "name": "NorthAmerica",
         "rawType": "float64",
         "type": "float"
        },
        {
         "name": "Oceania",
         "rawType": "float64",
         "type": "float"
        }
       ],
       "ref": "23577b8a-6984-4bf8-9687-33150ba9894b",
       "rows": [
        [
         "1801-1825",
         "100.0",
         "0.0",
         "0.0"
        ],
        [
         "1826-1850",
         "100.0",
         "0.0",
         "0.0"
        ],
        [
         "1851-1875",
         "100.0",
         "0.0",
         "0.0"
        ],
        [
         "1876-1900",
         "100.0",
         "0.0",
         "0.0"
        ],
        [
         "1901-1925",
         "91.3",
         "0.0",
         "8.7"
        ],
        [
         "1926-1950",
         "63.8",
         "0.0",
         "36.2"
        ],
        [
         "1951-1975",
         "92.8",
         "0.4",
         "6.7"
        ],
        [
         "1976-2000",
         "95.5",
         "0.0",
         "4.5"
        ]
       ],
       "shape": {
        "columns": 3,
        "rows": 8
       }
      },
      "text/html": [
       "<div>\n",
       "<style scoped>\n",
       "    .dataframe tbody tr th:only-of-type {\n",
       "        vertical-align: middle;\n",
       "    }\n",
       "\n",
       "    .dataframe tbody tr th {\n",
       "        vertical-align: top;\n",
       "    }\n",
       "\n",
       "    .dataframe thead th {\n",
       "        text-align: right;\n",
       "    }\n",
       "</style>\n",
       "<table border=\"1\" class=\"dataframe\">\n",
       "  <thead>\n",
       "    <tr style=\"text-align: right;\">\n",
       "      <th></th>\n",
       "      <th>Europe</th>\n",
       "      <th>NorthAmerica</th>\n",
       "      <th>Oceania</th>\n",
       "    </tr>\n",
       "    <tr>\n",
       "      <th>per_25</th>\n",
       "      <th></th>\n",
       "      <th></th>\n",
       "      <th></th>\n",
       "    </tr>\n",
       "  </thead>\n",
       "  <tbody>\n",
       "    <tr>\n",
       "      <th>1801-1825</th>\n",
       "      <td>100.0</td>\n",
       "      <td>0.0</td>\n",
       "      <td>0.0</td>\n",
       "    </tr>\n",
       "    <tr>\n",
       "      <th>1826-1850</th>\n",
       "      <td>100.0</td>\n",
       "      <td>0.0</td>\n",
       "      <td>0.0</td>\n",
       "    </tr>\n",
       "    <tr>\n",
       "      <th>1851-1875</th>\n",
       "      <td>100.0</td>\n",
       "      <td>0.0</td>\n",
       "      <td>0.0</td>\n",
       "    </tr>\n",
       "    <tr>\n",
       "      <th>1876-1900</th>\n",
       "      <td>100.0</td>\n",
       "      <td>0.0</td>\n",
       "      <td>0.0</td>\n",
       "    </tr>\n",
       "    <tr>\n",
       "      <th>1901-1925</th>\n",
       "      <td>91.3</td>\n",
       "      <td>0.0</td>\n",
       "      <td>8.7</td>\n",
       "    </tr>\n",
       "    <tr>\n",
       "      <th>1926-1950</th>\n",
       "      <td>63.8</td>\n",
       "      <td>0.0</td>\n",
       "      <td>36.2</td>\n",
       "    </tr>\n",
       "    <tr>\n",
       "      <th>1951-1975</th>\n",
       "      <td>92.8</td>\n",
       "      <td>0.4</td>\n",
       "      <td>6.7</td>\n",
       "    </tr>\n",
       "    <tr>\n",
       "      <th>1976-2000</th>\n",
       "      <td>95.5</td>\n",
       "      <td>0.0</td>\n",
       "      <td>4.5</td>\n",
       "    </tr>\n",
       "  </tbody>\n",
       "</table>\n",
       "</div>"
      ],
      "text/plain": [
       "           Europe  NorthAmerica  Oceania\n",
       "per_25                                  \n",
       "1801-1825   100.0           0.0      0.0\n",
       "1826-1850   100.0           0.0      0.0\n",
       "1851-1875   100.0           0.0      0.0\n",
       "1876-1900   100.0           0.0      0.0\n",
       "1901-1925    91.3           0.0      8.7\n",
       "1926-1950    63.8           0.0     36.2\n",
       "1951-1975    92.8           0.4      6.7\n",
       "1976-2000    95.5           0.0      4.5"
      ]
     },
     "execution_count": 212,
     "metadata": {},
     "output_type": "execute_result"
    }
   ],
   "source": [
    "### Fréquences par période\n",
    "merged_prop = merged.apply(lambda x: (x / x.sum()) * 100, axis=1).round(1)\n",
    "merged_prop"
   ]
  },
  {
   "cell_type": "code",
   "execution_count": 213,
   "id": "cb4dc457",
   "metadata": {},
   "outputs": [
    {
     "data": {
      "image/png": "[encoded data removed]",
      "text/plain": [
       "<Figure size 1000x1600 with 8 Axes>"
      ]
     },
     "metadata": {},
     "output_type": "display_data"
    }
   ],
   "source": [
    "### Graphique multiple\n",
    "#  Pandas plot reference\n",
    "# https://pandas.pydata.org/pandas-docs/stable/reference/api/pandas.DataFrame.plot.html\n",
    "## Barplots\n",
    "# https://www.shanelynn.ie/bar-plots-in-python-using-pandas-dataframes/\n",
    "\n",
    "\n",
    "lm = len(merged)\n",
    "\n",
    "# Initialise the subplot function using number of rows and columns\n",
    "#figure, axis = plt.subplots(lm, 1)\n",
    "\n",
    "fig, axes = plt.subplots(lm, 1, figsize=(10,16))\n",
    "\n",
    "i = 0\n",
    "\n",
    "while i < lm:\n",
    "    df = pd.DataFrame(merged.iloc[i , ])\n",
    "    df['frequence'] = (100 * df / df.sum()).round(2)\n",
    "    ljt = pd.DataFrame(df['frequence']).T\n",
    "    # print(ljt)\n",
    "    fig = ljt.plot(kind='barh', stacked=True, ax=axes[i], label=None, xlabel=None, \n",
    "                   fontsize=10, color=col_palette_1, width=0.3, xlim=[0,100])\n",
    "    fig.set_title(df.columns[0])\n",
    "    if (i+2)%2 != 0:\n",
    "        fig.get_legend().remove()\n",
    "    i += 1\n",
    "    \n",
    "\n",
    "plt.suptitle('Fréquence des naissances par continent: évolution dans le temps',  fontsize=14)\n",
    "             \n",
    "plt.tight_layout()  # rect=[0, 0.03, 1, 0.90]\n",
    "plt.xlabel('')\n",
    "\n",
    "   \n",
    "plt.show()\n",
    "\n",
    "\n"
   ]
  },
  {
   "cell_type": "code",
   "execution_count": 214,
   "id": "ef3915a5",
   "metadata": {},
   "outputs": [
    {
     "data": {
      "image/png": "[encoded data removed]",
      "text/plain": [
       "<Figure size 1500x300 with 1 Axes>"
      ]
     },
     "metadata": {},
     "output_type": "display_data"
    }
   ],
   "source": [
    "\n",
    "### Comparer avec l'ensemble de la période !\n",
    "# Noter que la distribution  de la dernière tranche temporelle est quasiment la même pour l'ensemble de la période \n",
    "# du fait des effectifs très importants du 20e siècle, qui définissent la tendance générale\n",
    "\n",
    "fig = ljt.plot(kind='barh', stacked=True, figsize=(15,3), color=col_palette_1, width=0.2, xlim=[0,100])\n",
    "\n"
   ]
  }
 ],
 "metadata": {
  "kernelspec": {
   "display_name": "Python 3",
   "language": "python",
   "name": "python3"
  },
  "language_info": {
   "codemirror_mode": {
    "name": "ipython",
    "version": 3
   },
   "file_extension": ".py",
   "mimetype": "text/x-python",
   "name": "python",
   "nbconvert_exporter": "python",
   "pygments_lexer": "ipython3",
   "version": "3.13.3"
  }
 },
 "nbformat": 4,
 "nbformat_minor": 5
}
